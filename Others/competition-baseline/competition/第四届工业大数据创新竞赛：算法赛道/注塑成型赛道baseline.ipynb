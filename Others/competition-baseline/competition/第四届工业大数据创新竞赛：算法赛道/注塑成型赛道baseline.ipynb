{
 "cells": [
  {
   "cell_type": "code",
   "execution_count": 1,
   "metadata": {},
   "outputs": [],
   "source": [
    "import pandas as pd\n",
    "import os\n",
    "import gc\n",
    "import lightgbm as lgb\n",
    "import xgboost as xgb\n",
    "from catboost import CatBoostRegressor\n",
    "from sklearn.linear_model import SGDRegressor, LinearRegression, Ridge\n",
    "from sklearn.preprocessing import MinMaxScaler\n",
    "import math         \n",
    "import numpy as np\n",
    "from tqdm import tqdm\n",
    "from sklearn.model_selection import StratifiedKFold, KFold\n",
    "from sklearn.metrics import mean_absolute_error\n",
    "import matplotlib.pyplot as plt\n",
    "import time\n",
    "import warnings\n",
    "warnings.filterwarnings('ignore')"
   ]
  },
  {
   "cell_type": "code",
   "execution_count": 5,
   "metadata": {},
   "outputs": [
    {
     "name": "stdout",
     "output_type": "stream",
     "text": [
      "read csv train_mold_data.csv...\n"
     ]
    }
   ],
   "source": [
    "if not os.path.exists('train_mold_data.csv') & True:\n",
    "    train_file_name = []\n",
    "    for file in tqdm(os.listdir('./Train/')):  \n",
    "        if 'mold_data' in file:\n",
    "            path = './Train/'+file\n",
    "            fr = open(path,'rb').read()\n",
    "            with open('train_mold_data.csv','ab') as f:\n",
    "                f.write(fr) \n",
    "            fr = open(path)\n",
    "            train_file_name += len(fr.readlines()) * [path]\n",
    "\n",
    "    test_file_name = []\n",
    "    for file in tqdm(os.listdir('./Test初赛/')):  \n",
    "        if 'mold_data' in file:\n",
    "            path = './Test初赛/'+file\n",
    "            fr = open(path,'rb').read()\n",
    "            with open('test_mold_data.csv','ab') as f:\n",
    "                f.write(fr) \n",
    "            fr = open(path)\n",
    "            test_file_name += len(fr.readlines()) * [path]\n",
    "\n",
    "    train_mold_data = pd.read_csv('train_mold_data.csv')\n",
    "    train_mold_data['file_name'] = np.array(train_file_name[1:])\n",
    "    train_mold_data = train_mold_data[train_mold_data.SampleTime!='SampleTime']\n",
    "\n",
    "    test_mold_data = pd.read_csv('test_mold_data.csv')\n",
    "    test_mold_data['file_name'] = np.array(test_file_name[1:])\n",
    "    test_mold_data = test_mold_data[test_mold_data.SampleTime!='SampleTime']\n",
    "\n",
    "    train_mold_data.to_csv('train_mold_data.csv', index=False)\n",
    "    test_mold_data.to_csv('test_mold_data.csv', index=False)\n",
    "else:\n",
    "    print('read csv train_mold_data.csv...')\n",
    "    train_mold_data = pd.read_csv('train_mold_data.csv')\n",
    "    test_mold_data = pd.read_csv('test_mold_data.csv')"
   ]
  },
  {
   "cell_type": "code",
   "execution_count": 4,
   "metadata": {},
   "outputs": [],
   "source": [
    "# 机台工艺设定参数（data_set）：文件夹中含有注塑成型的81种工艺设定参数；\n",
    "train_data_set = pd.read_csv('./Train/data_set.csv')\n",
    "# 成型机状态数据（data_spc）：该数据来自成型机机台，均为表征成型过程中的一些状态数据，每一行对应一个模次，数据维度为86维；\n",
    "train_data_spc = pd.read_csv('./Train/data_spc.csv')\n",
    "train_size = pd.read_csv('./Train/Size.csv')\n",
    "\n",
    "test_data_set = pd.read_csv('./Test初赛/data_set.csv')\n",
    "test_data_spc = pd.read_csv('./Test初赛/data_spc.csv')\n",
    "\n",
    "sub_file = pd.read_csv('sub_file.csv')"
   ]
  },
  {
   "cell_type": "markdown",
   "metadata": {},
   "source": [
    "## 数据预处理"
   ]
  },
  {
   "cell_type": "code",
   "execution_count": 5,
   "metadata": {},
   "outputs": [],
   "source": [
    "# 均为空的特征 \n",
    "null_cols = ['EL_IV_END_TIME','EL_VPS_TIME','EL_GET_PART_TIME','ext_mold_temp_flt_4','ext_mold_temp_flt_5','ext_mold_temp_flt_6','ext_mold_temp_flt_7']\n",
    "\n",
    "train_data_spc = train_data_spc[[f for f in train_data_spc.columns if f not in null_cols]]\n",
    "test_data_spc = test_data_spc[[f for f in test_data_spc.columns if f not in null_cols]]"
   ]
  },
  {
   "cell_type": "code",
   "execution_count": 6,
   "metadata": {},
   "outputs": [],
   "source": [
    "# 属性唯一的特征 \n",
    "low_nunique_cols = []\n",
    "for f in test_data_spc.columns:\n",
    "    if test_data_spc[f].nunique() == 1:\n",
    "        low_nunique_cols.append(f)\n",
    "\n",
    "train_data_spc = train_data_spc[[f for f in train_data_spc.columns if f not in low_nunique_cols]]\n",
    "test_data_spc = test_data_spc[[f for f in test_data_spc.columns if f not in low_nunique_cols]]"
   ]
  },
  {
   "cell_type": "code",
   "execution_count": 7,
   "metadata": {},
   "outputs": [],
   "source": [
    "# mold_data  属性唯一的特征\n",
    "del_cols = ['MouldFlow2','MouldFlow3']\n",
    "train_mold_data = train_mold_data[[f for f in train_mold_data.columns if f not in del_cols]]\n",
    "test_mold_data = test_mold_data[[f for f in test_mold_data.columns if f not in del_cols]]"
   ]
  },
  {
   "cell_type": "code",
   "execution_count": 8,
   "metadata": {},
   "outputs": [],
   "source": [
    "train_mold_data['Id'] = train_mold_data['file_name'].apply(lambda x: int(x.split('_')[-1][:-4]))\n",
    "test_mold_data['Id'] = test_mold_data['file_name'].apply(lambda x: int(x.split('_')[-1][:-4]))"
   ]
  },
  {
   "cell_type": "markdown",
   "metadata": {},
   "source": [
    "## 获取所属机台参数"
   ]
  },
  {
   "cell_type": "code",
   "execution_count": 9,
   "metadata": {},
   "outputs": [],
   "source": [
    "# 可用参数\n",
    "set_cols = []\n",
    "for f in train_data_set.columns:\n",
    "    if train_data_set[f].nunique() > 1:\n",
    "        if f != 'Id':\n",
    "            set_cols.append(f)"
   ]
  },
  {
   "cell_type": "code",
   "execution_count": 10,
   "metadata": {},
   "outputs": [],
   "source": [
    "df = pd.concat([train_data_spc, test_data_spc], axis=0, ignore_index=False)\n",
    "min_id = df['Id'].min()\n",
    "max_id = df['Id'].max()+1\n",
    "\n",
    "# 两区间内机台参数一致\n",
    "cup_id_li = [min_id] + train_data_set['Id'].tolist() + [max_id]"
   ]
  },
  {
   "cell_type": "code",
   "execution_count": 11,
   "metadata": {},
   "outputs": [],
   "source": [
    "train_data_spc['true_Id'] = 0\n",
    "test_data_spc['true_Id'] = 0\n",
    "for i in range(len(cup_id_li)-1):\n",
    "    id1 = cup_id_li[i]\n",
    "    id2 = cup_id_li[i+1]\n",
    "    train_data_spc.loc[(train_data_spc['Id']>=id1)&(train_data_spc['Id']<id2), 'true_Id'] = i\n",
    "    test_data_spc.loc[(test_data_spc['Id']>=id1)&(test_data_spc['Id']<id2), 'true_Id'] = i"
   ]
  },
  {
   "cell_type": "code",
   "execution_count": 12,
   "metadata": {},
   "outputs": [],
   "source": [
    "train_data_set = train_data_set.reset_index()\n",
    "train_data_set['index'] = train_data_set['index'] + 1\n",
    "train_data_set = train_data_set.rename(columns={'index':'true_Id'})\n",
    "\n",
    "train_data_spc = train_data_spc.merge(train_data_set[set_cols+['true_Id']], on='true_Id', how='left')\n",
    "test_data_spc = test_data_spc.merge(train_data_set[set_cols+['true_Id']], on='true_Id', how='left')"
   ]
  },
  {
   "cell_type": "markdown",
   "metadata": {},
   "source": [
    "## 特征提取"
   ]
  },
  {
   "cell_type": "markdown",
   "metadata": {},
   "source": [
    "### 依据mold_data数据提取序列相关特征"
   ]
  },
  {
   "cell_type": "code",
   "execution_count": 14,
   "metadata": {},
   "outputs": [],
   "source": [
    "def groupby_feat1(df_, col):\n",
    "    \n",
    "    df = df_.copy()\n",
    "    \n",
    "    agg_df = df.groupby(['Id'])[col].agg(\n",
    "        {'mean',\n",
    "         'median',\n",
    "         'max',\n",
    "         'min',\n",
    "         'nunique',\n",
    "         'std',\n",
    "         lambda x: np.quantile(x, 0.10),\n",
    "         lambda x: np.quantile(x, 0.20),\n",
    "         lambda x: np.quantile(x, 0.30),\n",
    "         lambda x: np.quantile(x, 0.40),\n",
    "         lambda x: np.quantile(x, 0.50),\n",
    "         lambda x: np.quantile(x, 0.60),\n",
    "         lambda x: np.quantile(x, 0.70),\n",
    "         lambda x: np.quantile(x, 0.80),\n",
    "         lambda x: np.quantile(x, 0.90)}\n",
    "        ).reset_index()\n",
    "    \n",
    "    agg_df.columns = ['Id'] + [col + '_' + f for f in agg_df.columns.values if f != 'Id']\n",
    "    \n",
    "    return  agg_df \n",
    "\n",
    "def groupby_feat2(df_):\n",
    "    \n",
    "    df = df_.copy()\n",
    "    \n",
    "    agg_func = {\n",
    "        'SampleTime':      ['count','max','std'],\n",
    "        'Phase':           ['mean','max','nunique','std']\n",
    "        } \n",
    "    \n",
    "    agg_df = df.groupby(['Id']).agg(agg_func).reset_index()\n",
    "    agg_df.columns = ['_'.join(f).strip() for f in agg_df.columns.values]\n",
    "    agg_df = agg_df.rename(columns={'Id_':'Id'})\n",
    "    \n",
    "    return agg_df"
   ]
  },
  {
   "cell_type": "code",
   "execution_count": 18,
   "metadata": {},
   "outputs": [
    {
     "name": "stderr",
     "output_type": "stream",
     "text": [
      "100%|██████████| 20/20 [24:27<00:00, 72.85s/it]\n"
     ]
    }
   ],
   "source": [
    "cols = ['Sensor1','Sensor2','Sensor3','IJ','Sensor5','Sensor6','MouldTemp1','MouldTemp2','MouldTemp3','MouldTemp4','MouldTemp5',\\\n",
    "        'MouldTemp9','MouldTemp10','MouldTemp11','MouldTemp12','MouldTemp13','MouldTemp14','Sensor8','MouldFlow1','SP']\n",
    "agg_df_cols = []\n",
    "for col in tqdm(cols):\n",
    "    \n",
    "    train_mold_data[col] = train_mold_data[col].astype(float).apply(lambda x:round(x, 3))\n",
    "    test_mold_data[col] = test_mold_data[col].astype(float).apply(lambda x:round(x, 3))\n",
    "    \n",
    "    agg_df = groupby_feat1(train_mold_data, col)\n",
    "    train_data_spc = train_data_spc.merge(agg_df, on='Id', how='left')\n",
    "    \n",
    "    agg_df_cols += [f for f in agg_df.columns if f != 'Id']\n",
    "    \n",
    "    agg_df = groupby_feat1(test_mold_data, col)\n",
    "    test_data_spc = test_data_spc.merge(agg_df, on='Id', how='left')"
   ]
  },
  {
   "cell_type": "code",
   "execution_count": 19,
   "metadata": {},
   "outputs": [],
   "source": [
    "# SampleTime Phase Id2 相关特征\n",
    "agg_df = groupby_feat2(train_mold_data)\n",
    "train_data_spc = train_data_spc.merge(agg_df, on='Id', how='left')\n",
    "\n",
    "agg_df = groupby_feat2(test_mold_data)\n",
    "test_data_spc = test_data_spc.merge(agg_df, on='Id', how='left')"
   ]
  },
  {
   "cell_type": "markdown",
   "metadata": {},
   "source": [
    "### train_data_spc相关特征"
   ]
  },
  {
   "cell_type": "code",
   "execution_count": 25,
   "metadata": {},
   "outputs": [],
   "source": [
    "data_spc = pd.concat([train_data_spc, test_data_spc], axis=0, ignore_index=True)\n",
    "data_spc = data_spc.merge(train_size, on='Id', how='left')"
   ]
  },
  {
   "cell_type": "code",
   "execution_count": 28,
   "metadata": {},
   "outputs": [],
   "source": [
    "cols = ['Id','spcTime','EL_CLAMP_PRESS','IJ_<lambda_0>','IJ_nunique','Sensor6_<lambda_6>']\n",
    "# cols = ['Id','spcTime','EL_CLAMP_PRESS'] + agg_df_cols\n",
    "cut_cols = ['true_Id']\n",
    "for col in cols:\n",
    "    data_spc['cut_'+col] = pd.cut(data_spc[col], 100, labels=False)\n",
    "    cut_cols.append('cut_'+col)\n",
    "\n",
    "# data_spc['size12'] = data_spc['size1'] + data_spc['size2']\n",
    "# data_spc['size13'] = data_spc['size1'] + data_spc['size3']\n",
    "# data_spc['size23'] = data_spc['size2'] + data_spc['size3']\n",
    "# data_spc['size123'] = data_spc['size1'] + data_spc['size2'] + data_spc['size3']\n",
    "\n",
    "# data_spc['size1_2'] = data_spc['size1'] / data_spc['size2']\n",
    "# data_spc['size1_3'] = data_spc['size1'] / data_spc['size3']\n",
    "# data_spc['size2_3'] = data_spc['size2'] / data_spc['size3']"
   ]
  },
  {
   "cell_type": "code",
   "execution_count": 29,
   "metadata": {},
   "outputs": [
    {
     "name": "stderr",
     "output_type": "stream",
     "text": [
      "100%|██████████| 7/7 [00:00<00:00, 78.49it/s]\n"
     ]
    }
   ],
   "source": [
    "mean_columns = []\n",
    "for col1 in tqdm(cut_cols):\n",
    "    for col2 in ['size1','size2','size3']:\n",
    "        col_name = col1+'_'+col2+'_median'\n",
    "        mean_columns.append(col_name)\n",
    "        order_label = data_spc.groupby([col1])[col2].median()\n",
    "        data_spc[col_name] = data_spc[col1].map(order_label)\n",
    "        \n",
    "        col_name = col1+'_'+col2+'_mean'\n",
    "        mean_columns.append(col_name)\n",
    "        order_label = data_spc.groupby([col1])[col2].mean()\n",
    "        data_spc[col_name] = data_spc[col1].map(order_label)\n",
    "        \n",
    "for col in ['size1','size2','size3']:\n",
    "    del data_spc[col]"
   ]
  },
  {
   "cell_type": "code",
   "execution_count": 30,
   "metadata": {},
   "outputs": [],
   "source": [
    "train_data_spc = data_spc[:train_data_spc.shape[0]]\n",
    "test_data_spc = data_spc[train_data_spc.shape[0]:]"
   ]
  },
  {
   "cell_type": "markdown",
   "metadata": {},
   "source": [
    "## 训练集&验证集"
   ]
  },
  {
   "cell_type": "code",
   "execution_count": 51,
   "metadata": {},
   "outputs": [],
   "source": [
    "train_size['size1_label'] = train_size['size1']\n",
    "train_size['size2_label'] = train_size['size2']\n",
    "train_size['size3_label'] = train_size['size3']"
   ]
  },
  {
   "cell_type": "code",
   "execution_count": 52,
   "metadata": {},
   "outputs": [],
   "source": [
    "features = [f for f in train_data_spc.columns if f not in ['adjust_reasons','versionTime']]"
   ]
  },
  {
   "cell_type": "markdown",
   "metadata": {},
   "source": [
    "## 模型训练"
   ]
  },
  {
   "cell_type": "code",
   "execution_count": 53,
   "metadata": {},
   "outputs": [],
   "source": [
    "def cv_model(clf, train_x, train_y, test_x, clf_name):\n",
    "    folds = 5\n",
    "    seed = 2020\n",
    "    kf = KFold(n_splits=folds, shuffle=True, random_state=seed)\n",
    "\n",
    "    train = np.zeros(train_x.shape[0])\n",
    "    test = np.zeros(test_x.shape[0])\n",
    "\n",
    "    cv_scores = []\n",
    "\n",
    "    for i, (train_index, valid_index) in enumerate(kf.split(train_x, train_y)):\n",
    "        print('************************************ {} ************************************'.format(str(i+1)))\n",
    "        trn_x, trn_y, val_x, val_y = train_x.iloc[train_index], train_y[train_index], train_x.iloc[valid_index], train_y[valid_index]\n",
    "\n",
    "        if clf_name == \"lgb\":\n",
    "            train_matrix = clf.Dataset(trn_x, label=trn_y)\n",
    "            valid_matrix = clf.Dataset(val_x, label=val_y)\n",
    "\n",
    "            params = {\n",
    "                'boosting_type': 'gbdt',\n",
    "                'objective': 'regression_l2',\n",
    "                'metric': 'mae',\n",
    "                'num_leaves': 2**8-1,\n",
    "                'lambda_l2': 10,\n",
    "                'feature_fraction': 0.8,\n",
    "                'bagging_fraction': 0.8,\n",
    "                'learning_rate': 0.01,\n",
    "                'seed': 2020,\n",
    "                'n_jobs':24,\n",
    "                'silent': True,\n",
    "                'verbose': -1,\n",
    "            }\n",
    "\n",
    "            model = clf.train(params, train_matrix, 50000, valid_sets=[train_matrix, valid_matrix], verbose_eval=500, early_stopping_rounds=200)\n",
    "            val_pred = model.predict(val_x, num_iteration=model.best_iteration)\n",
    "            test_pred = model.predict(test_x, num_iteration=model.best_iteration)\n",
    "            \n",
    "            # print(list(sorted(zip(test_data_spc.columns, model.feature_importance(\"gain\")), key=lambda x: x[1], reverse=True))[:20])\n",
    "                \n",
    "        if clf_name == \"xgb\":\n",
    "            train_matrix = clf.DMatrix(trn_x.values , label=trn_y)\n",
    "            valid_matrix = clf.DMatrix(val_x.values , label=val_y)\n",
    "            test_matrix = clf.DMatrix(test_x.values)\n",
    "            \n",
    "            params = {'booster': 'gbtree',\n",
    "                      'eval_metric': 'mae',\n",
    "                      'gamma': 1,\n",
    "                      'min_child_weight': 1.5,\n",
    "                      'max_depth': 8,\n",
    "                      'lambda': 10,\n",
    "                      'subsample': 0.7,\n",
    "                      'colsample_bytree': 0.7,\n",
    "                      'colsample_bylevel': 0.7,\n",
    "                      'eta': 0.01,\n",
    "                      'tree_method': 'exact',\n",
    "                      'seed': 2020,\n",
    "                      'nthread': 36,\n",
    "                      \"silent\": True,\n",
    "                      }\n",
    "            \n",
    "            watchlist = [(train_matrix, 'train'),(valid_matrix, 'eval')]\n",
    "            \n",
    "            model = clf.train(params, train_matrix, num_boost_round=50000, evals=watchlist, verbose_eval=500, early_stopping_rounds=200)\n",
    "            val_pred  = model.predict(valid_matrix, ntree_limit=model.best_ntree_limit)\n",
    "            test_pred = model.predict(test_matrix , ntree_limit=model.best_ntree_limit)\n",
    "                 \n",
    "            \n",
    "        train[valid_index] = val_pred\n",
    "        test += test_pred / kf.n_splits\n",
    "        cv_scores.append(mean_absolute_error(val_y, val_pred))\n",
    "        \n",
    "        print(cv_scores)\n",
    "       \n",
    "    print(\"%s_scotrainre_list:\" % clf_name, cv_scores)\n",
    "    print(\"%s_score_mean:\" % clf_name, np.mean(cv_scores))\n",
    "    print(\"%s_score_std:\" % clf_name, np.std(cv_scores))\n",
    "    return train, test"
   ]
  },
  {
   "cell_type": "code",
   "execution_count": 54,
   "metadata": {},
   "outputs": [],
   "source": [
    "def lgb_model(x_train, y_train, x_test):\n",
    "    lgb_train, lgb_test = cv_model(lgb, x_train, y_train, x_test, \"lgb\")\n",
    "    return lgb_train, lgb_test\n",
    "\n",
    "def xgb_model(x_train, y_train, x_test):\n",
    "    xgb_train, xgb_test = cv_model(xgb, x_train, y_train, x_test, \"xgb\")\n",
    "    return xgb_train, xgb_test"
   ]
  },
  {
   "cell_type": "code",
   "execution_count": 55,
   "metadata": {},
   "outputs": [
    {
     "name": "stdout",
     "output_type": "stream",
     "text": [
      "************************************ 1 ************************************\n",
      "Training until validation scores don't improve for 200 rounds.\n",
      "[500]\ttraining's l1: 0.00628886\tvalid_1's l1: 0.0132544\n",
      "Early stopping, best iteration is:\n",
      "[633]\ttraining's l1: 0.00512135\tvalid_1's l1: 0.0132469\n",
      "[0.013246479027307018]\n",
      "************************************ 2 ************************************\n",
      "Training until validation scores don't improve for 200 rounds.\n",
      "[500]\ttraining's l1: 0.00622441\tvalid_1's l1: 0.0132671\n",
      "Early stopping, best iteration is:\n",
      "[594]\ttraining's l1: 0.00535957\tvalid_1's l1: 0.0132436\n",
      "[0.013246479027307018, 0.013243713162545665]\n",
      "************************************ 3 ************************************\n",
      "Training until validation scores don't improve for 200 rounds.\n",
      "[500]\ttraining's l1: 0.00620515\tvalid_1's l1: 0.0136527\n",
      "Early stopping, best iteration is:\n",
      "[508]\ttraining's l1: 0.00612545\tvalid_1's l1: 0.0136495\n",
      "[0.013246479027307018, 0.013243713162545665, 0.013649547916273605]\n",
      "************************************ 4 ************************************\n",
      "Training until validation scores don't improve for 200 rounds.\n",
      "[500]\ttraining's l1: 0.00622535\tvalid_1's l1: 0.0131992\n",
      "Early stopping, best iteration is:\n",
      "[552]\ttraining's l1: 0.00573455\tvalid_1's l1: 0.013197\n",
      "[0.013246479027307018, 0.013243713162545665, 0.013649547916273605, 0.013196912451973655]\n",
      "************************************ 5 ************************************\n",
      "Training until validation scores don't improve for 200 rounds.\n",
      "[500]\ttraining's l1: 0.00614903\tvalid_1's l1: 0.0138291\n",
      "[1000]\ttraining's l1: 0.00287933\tvalid_1's l1: 0.0138105\n",
      "Early stopping, best iteration is:\n",
      "[952]\ttraining's l1: 0.00308972\tvalid_1's l1: 0.0138075\n",
      "[0.013246479027307018, 0.013243713162545665, 0.013649547916273605, 0.013196912451973655, 0.013807427900381029]\n",
      "lgb_scotrainre_list: [0.013246479027307018, 0.013243713162545665, 0.013649547916273605, 0.013196912451973655, 0.013807427900381029]\n",
      "lgb_score_mean: 0.013428816091696194\n",
      "lgb_score_std: 0.0002503432194422708\n"
     ]
    }
   ],
   "source": [
    "lgb_train, lgb_test = lgb_model(train_data_spc[features], train_size['size1_label'], test_data_spc[features])\n",
    "# 0.013393978245265305\n",
    "# 0.013323751647949165\n",
    "# 0.01328425039177308"
   ]
  },
  {
   "cell_type": "code",
   "execution_count": 56,
   "metadata": {},
   "outputs": [
    {
     "name": "stdout",
     "output_type": "stream",
     "text": [
      "************************************ 1 ************************************\n",
      "Training until validation scores don't improve for 200 rounds.\n",
      "[500]\ttraining's l1: 0.00670393\tvalid_1's l1: 0.0144163\n",
      "[1000]\ttraining's l1: 0.0031165\tvalid_1's l1: 0.0143976\n",
      "Early stopping, best iteration is:\n",
      "[949]\ttraining's l1: 0.00335957\tvalid_1's l1: 0.0143955\n",
      "[0.014395475852839484]\n",
      "************************************ 2 ************************************\n",
      "Training until validation scores don't improve for 200 rounds.\n",
      "[500]\ttraining's l1: 0.006754\tvalid_1's l1: 0.0140551\n",
      "[1000]\ttraining's l1: 0.00313994\tvalid_1's l1: 0.0140301\n",
      "Early stopping, best iteration is:\n",
      "[972]\ttraining's l1: 0.00327314\tvalid_1's l1: 0.0140288\n",
      "[0.014395475852839484, 0.014028740164860066]\n",
      "************************************ 3 ************************************\n",
      "Training until validation scores don't improve for 200 rounds.\n",
      "[500]\ttraining's l1: 0.00670888\tvalid_1's l1: 0.0141631\n",
      "Early stopping, best iteration is:\n",
      "[437]\ttraining's l1: 0.00742769\tvalid_1's l1: 0.014159\n",
      "[0.014395475852839484, 0.014028740164860066, 0.014158923116753786]\n",
      "************************************ 4 ************************************\n",
      "Training until validation scores don't improve for 200 rounds.\n",
      "[500]\ttraining's l1: 0.00671626\tvalid_1's l1: 0.013953\n",
      "Early stopping, best iteration is:\n",
      "[577]\ttraining's l1: 0.00593857\tvalid_1's l1: 0.0139446\n",
      "[0.014395475852839484, 0.014028740164860066, 0.014158923116753786, 0.013944507035113433]\n",
      "************************************ 5 ************************************\n",
      "Training until validation scores don't improve for 200 rounds.\n",
      "[500]\ttraining's l1: 0.00670171\tvalid_1's l1: 0.0141298\n",
      "Early stopping, best iteration is:\n",
      "[509]\ttraining's l1: 0.00660506\tvalid_1's l1: 0.0141279\n",
      "[0.014395475852839484, 0.014028740164860066, 0.014158923116753786, 0.013944507035113433, 0.014127839843795724]\n",
      "lgb_scotrainre_list: [0.014395475852839484, 0.014028740164860066, 0.014158923116753786, 0.013944507035113433, 0.014127839843795724]\n",
      "lgb_score_mean: 0.014131097202672499\n",
      "lgb_score_std: 0.0001522982707484787\n"
     ]
    }
   ],
   "source": [
    "lgb_train2, lgb_test2 = lgb_model(train_data_spc[features], train_size['size2_label'], test_data_spc[features])\n",
    "# 0.014134515989711507\n",
    "# 0.014042814206327331\n",
    "# 0.014062382321726016"
   ]
  },
  {
   "cell_type": "code",
   "execution_count": 57,
   "metadata": {},
   "outputs": [
    {
     "name": "stdout",
     "output_type": "stream",
     "text": [
      "************************************ 1 ************************************\n",
      "Training until validation scores don't improve for 200 rounds.\n",
      "[500]\ttraining's l1: 0.00583644\tvalid_1's l1: 0.0125424\n",
      "Early stopping, best iteration is:\n",
      "[621]\ttraining's l1: 0.00482721\tvalid_1's l1: 0.0125206\n",
      "[0.01252055399751501]\n",
      "************************************ 2 ************************************\n",
      "Training until validation scores don't improve for 200 rounds.\n",
      "[500]\ttraining's l1: 0.00585627\tvalid_1's l1: 0.012409\n",
      "Early stopping, best iteration is:\n",
      "[723]\ttraining's l1: 0.00413916\tvalid_1's l1: 0.0123842\n",
      "[0.01252055399751501, 0.012384091458755167]\n",
      "************************************ 3 ************************************\n",
      "Training until validation scores don't improve for 200 rounds.\n",
      "[500]\ttraining's l1: 0.00586148\tvalid_1's l1: 0.0124636\n",
      "Early stopping, best iteration is:\n",
      "[650]\ttraining's l1: 0.00463665\tvalid_1's l1: 0.0124585\n",
      "[0.01252055399751501, 0.012384091458755167, 0.012458579215455382]\n",
      "************************************ 4 ************************************\n",
      "Training until validation scores don't improve for 200 rounds.\n",
      "[500]\ttraining's l1: 0.00587291\tvalid_1's l1: 0.0123917\n",
      "Early stopping, best iteration is:\n",
      "[558]\ttraining's l1: 0.00535603\tvalid_1's l1: 0.0123809\n",
      "[0.01252055399751501, 0.012384091458755167, 0.012458579215455382, 0.01238092971777432]\n",
      "************************************ 5 ************************************\n",
      "Training until validation scores don't improve for 200 rounds.\n",
      "[500]\ttraining's l1: 0.00583542\tvalid_1's l1: 0.0126187\n",
      "Early stopping, best iteration is:\n",
      "[576]\ttraining's l1: 0.00517894\tvalid_1's l1: 0.0126077\n",
      "[0.01252055399751501, 0.012384091458755167, 0.012458579215455382, 0.01238092971777432, 0.01260770121274679]\n",
      "lgb_scotrainre_list: [0.01252055399751501, 0.012384091458755167, 0.012458579215455382, 0.01238092971777432, 0.01260770121274679]\n",
      "lgb_score_mean: 0.012470371120449334\n",
      "lgb_score_std: 8.597775172559087e-05\n"
     ]
    }
   ],
   "source": [
    "lgb_train3, lgb_test3 = lgb_model(train_data_spc[features], train_size['size3_label'], test_data_spc[features])\n",
    "# 0.012495826819060672\n",
    "# 0.012430200764916783\n",
    "# 0.012436420627116453"
   ]
  },
  {
   "cell_type": "code",
   "execution_count": 58,
   "metadata": {},
   "outputs": [],
   "source": [
    "# xgb_train, xgb_test = xgb_model(train_data_spc[features], train_size['size1_label'], test_data_spc[features])\n",
    "# xgb_train2, xgb_test2 = xgb_model(train_data_spc[features], train_size['size2_label'], test_data_spc[features])\n",
    "# xgb_train3, xgb_test3 = xgb_model(train_data_spc[features], train_size['size3_label'], test_data_spc[features])"
   ]
  },
  {
   "cell_type": "code",
   "execution_count": 65,
   "metadata": {},
   "outputs": [],
   "source": [
    "sub_file['size1'] = lgb_test\n",
    "sub_file['size2'] = lgb_test2\n",
    "sub_file['size3'] = lgb_test3"
   ]
  },
  {
   "cell_type": "code",
   "execution_count": 66,
   "metadata": {},
   "outputs": [],
   "source": [
    "sub_file.to_csv('sub.csv', index=False)"
   ]
  },
  {
   "cell_type": "code",
   "execution_count": 67,
   "metadata": {},
   "outputs": [
    {
     "name": "stdout",
     "output_type": "stream",
     "text": [
      "299.9929727328714\n",
      "300.12487893181634\n",
      "300.0416077182137\n"
     ]
    }
   ],
   "source": [
    "print(lgb_test.min())\n",
    "print(lgb_test.max())\n",
    "print(lgb_test.mean())"
   ]
  },
  {
   "cell_type": "code",
   "execution_count": 62,
   "metadata": {},
   "outputs": [
    {
     "name": "stdout",
     "output_type": "stream",
     "text": [
      "299.9180458717305\n",
      "300.2928222825374\n",
      "300.06550391759436\n"
     ]
    }
   ],
   "source": [
    "print(lgb_train.min())\n",
    "print(lgb_train.max())\n",
    "print(lgb_train.mean())"
   ]
  },
  {
   "cell_type": "code",
   "execution_count": 63,
   "metadata": {},
   "outputs": [
    {
     "data": {
      "text/html": [
       "<div>\n",
       "<style scoped>\n",
       "    .dataframe tbody tr th:only-of-type {\n",
       "        vertical-align: middle;\n",
       "    }\n",
       "\n",
       "    .dataframe tbody tr th {\n",
       "        vertical-align: top;\n",
       "    }\n",
       "\n",
       "    .dataframe thead th {\n",
       "        text-align: right;\n",
       "    }\n",
       "</style>\n",
       "<table border=\"1\" class=\"dataframe\">\n",
       "  <thead>\n",
       "    <tr style=\"text-align: right;\">\n",
       "      <th></th>\n",
       "      <th>Id</th>\n",
       "      <th>size1</th>\n",
       "      <th>size2</th>\n",
       "      <th>size3</th>\n",
       "    </tr>\n",
       "  </thead>\n",
       "  <tbody>\n",
       "    <tr>\n",
       "      <th>count</th>\n",
       "      <td>3953.000000</td>\n",
       "      <td>3953.000000</td>\n",
       "      <td>3953.000000</td>\n",
       "      <td>3953.000000</td>\n",
       "    </tr>\n",
       "    <tr>\n",
       "      <th>mean</th>\n",
       "      <td>112006.362004</td>\n",
       "      <td>300.041608</td>\n",
       "      <td>200.018514</td>\n",
       "      <td>199.999860</td>\n",
       "    </tr>\n",
       "    <tr>\n",
       "      <th>std</th>\n",
       "      <td>45220.694044</td>\n",
       "      <td>0.027741</td>\n",
       "      <td>0.052422</td>\n",
       "      <td>0.016632</td>\n",
       "    </tr>\n",
       "    <tr>\n",
       "      <th>min</th>\n",
       "      <td>56689.000000</td>\n",
       "      <td>299.992973</td>\n",
       "      <td>199.967867</td>\n",
       "      <td>199.973543</td>\n",
       "    </tr>\n",
       "    <tr>\n",
       "      <th>25%</th>\n",
       "      <td>83514.000000</td>\n",
       "      <td>300.012995</td>\n",
       "      <td>199.981773</td>\n",
       "      <td>199.983474</td>\n",
       "    </tr>\n",
       "    <tr>\n",
       "      <th>50%</th>\n",
       "      <td>89799.000000</td>\n",
       "      <td>300.049118</td>\n",
       "      <td>199.986686</td>\n",
       "      <td>200.002195</td>\n",
       "    </tr>\n",
       "    <tr>\n",
       "      <th>75%</th>\n",
       "      <td>160716.000000</td>\n",
       "      <td>300.057091</td>\n",
       "      <td>200.095970</td>\n",
       "      <td>200.010374</td>\n",
       "    </tr>\n",
       "    <tr>\n",
       "      <th>max</th>\n",
       "      <td>176241.000000</td>\n",
       "      <td>300.124879</td>\n",
       "      <td>200.138697</td>\n",
       "      <td>200.099137</td>\n",
       "    </tr>\n",
       "  </tbody>\n",
       "</table>\n",
       "</div>"
      ],
      "text/plain": [
       "                  Id        size1        size2        size3\n",
       "count    3953.000000  3953.000000  3953.000000  3953.000000\n",
       "mean   112006.362004   300.041608   200.018514   199.999860\n",
       "std     45220.694044     0.027741     0.052422     0.016632\n",
       "min     56689.000000   299.992973   199.967867   199.973543\n",
       "25%     83514.000000   300.012995   199.981773   199.983474\n",
       "50%     89799.000000   300.049118   199.986686   200.002195\n",
       "75%    160716.000000   300.057091   200.095970   200.010374\n",
       "max    176241.000000   300.124879   200.138697   200.099137"
      ]
     },
     "execution_count": 63,
     "metadata": {},
     "output_type": "execute_result"
    }
   ],
   "source": [
    "sub_file.describe()"
   ]
  },
  {
   "cell_type": "code",
   "execution_count": 64,
   "metadata": {},
   "outputs": [
    {
     "data": {
      "text/html": [
       "<div>\n",
       "<style scoped>\n",
       "    .dataframe tbody tr th:only-of-type {\n",
       "        vertical-align: middle;\n",
       "    }\n",
       "\n",
       "    .dataframe tbody tr th {\n",
       "        vertical-align: top;\n",
       "    }\n",
       "\n",
       "    .dataframe thead th {\n",
       "        text-align: right;\n",
       "    }\n",
       "</style>\n",
       "<table border=\"1\" class=\"dataframe\">\n",
       "  <thead>\n",
       "    <tr style=\"text-align: right;\">\n",
       "      <th></th>\n",
       "      <th>size1</th>\n",
       "      <th>size2</th>\n",
       "      <th>size3</th>\n",
       "      <th>Id</th>\n",
       "      <th>size1_label</th>\n",
       "      <th>size2_label</th>\n",
       "      <th>size3_label</th>\n",
       "    </tr>\n",
       "  </thead>\n",
       "  <tbody>\n",
       "    <tr>\n",
       "      <th>count</th>\n",
       "      <td>16600.000000</td>\n",
       "      <td>16600.000000</td>\n",
       "      <td>16600.000000</td>\n",
       "      <td>16600.000000</td>\n",
       "      <td>16600.000000</td>\n",
       "      <td>16600.000000</td>\n",
       "      <td>16600.000000</td>\n",
       "    </tr>\n",
       "    <tr>\n",
       "      <th>mean</th>\n",
       "      <td>300.065520</td>\n",
       "      <td>200.005452</td>\n",
       "      <td>200.017767</td>\n",
       "      <td>62946.797048</td>\n",
       "      <td>300.065520</td>\n",
       "      <td>200.005452</td>\n",
       "      <td>200.017767</td>\n",
       "    </tr>\n",
       "    <tr>\n",
       "      <th>std</th>\n",
       "      <td>0.041601</td>\n",
       "      <td>0.052606</td>\n",
       "      <td>0.035177</td>\n",
       "      <td>33660.419640</td>\n",
       "      <td>0.041601</td>\n",
       "      <td>0.052606</td>\n",
       "      <td>0.035177</td>\n",
       "    </tr>\n",
       "    <tr>\n",
       "      <th>min</th>\n",
       "      <td>299.867000</td>\n",
       "      <td>199.836000</td>\n",
       "      <td>199.872000</td>\n",
       "      <td>33722.000000</td>\n",
       "      <td>299.867000</td>\n",
       "      <td>199.836000</td>\n",
       "      <td>199.872000</td>\n",
       "    </tr>\n",
       "    <tr>\n",
       "      <th>25%</th>\n",
       "      <td>300.041000</td>\n",
       "      <td>199.969000</td>\n",
       "      <td>199.996000</td>\n",
       "      <td>43203.750000</td>\n",
       "      <td>300.041000</td>\n",
       "      <td>199.969000</td>\n",
       "      <td>199.996000</td>\n",
       "    </tr>\n",
       "    <tr>\n",
       "      <th>50%</th>\n",
       "      <td>300.066000</td>\n",
       "      <td>199.998000</td>\n",
       "      <td>200.015000</td>\n",
       "      <td>49144.500000</td>\n",
       "      <td>300.066000</td>\n",
       "      <td>199.998000</td>\n",
       "      <td>200.015000</td>\n",
       "    </tr>\n",
       "    <tr>\n",
       "      <th>75%</th>\n",
       "      <td>300.088000</td>\n",
       "      <td>200.027000</td>\n",
       "      <td>200.035250</td>\n",
       "      <td>56481.500000</td>\n",
       "      <td>300.088000</td>\n",
       "      <td>200.027000</td>\n",
       "      <td>200.035250</td>\n",
       "    </tr>\n",
       "    <tr>\n",
       "      <th>max</th>\n",
       "      <td>300.610000</td>\n",
       "      <td>200.191000</td>\n",
       "      <td>200.225000</td>\n",
       "      <td>150716.000000</td>\n",
       "      <td>300.610000</td>\n",
       "      <td>200.191000</td>\n",
       "      <td>200.225000</td>\n",
       "    </tr>\n",
       "  </tbody>\n",
       "</table>\n",
       "</div>"
      ],
      "text/plain": [
       "              size1         size2         size3             Id   size1_label  \\\n",
       "count  16600.000000  16600.000000  16600.000000   16600.000000  16600.000000   \n",
       "mean     300.065520    200.005452    200.017767   62946.797048    300.065520   \n",
       "std        0.041601      0.052606      0.035177   33660.419640      0.041601   \n",
       "min      299.867000    199.836000    199.872000   33722.000000    299.867000   \n",
       "25%      300.041000    199.969000    199.996000   43203.750000    300.041000   \n",
       "50%      300.066000    199.998000    200.015000   49144.500000    300.066000   \n",
       "75%      300.088000    200.027000    200.035250   56481.500000    300.088000   \n",
       "max      300.610000    200.191000    200.225000  150716.000000    300.610000   \n",
       "\n",
       "        size2_label   size3_label  \n",
       "count  16600.000000  16600.000000  \n",
       "mean     200.005452    200.017767  \n",
       "std        0.052606      0.035177  \n",
       "min      199.836000    199.872000  \n",
       "25%      199.969000    199.996000  \n",
       "50%      199.998000    200.015000  \n",
       "75%      200.027000    200.035250  \n",
       "max      200.191000    200.225000  "
      ]
     },
     "execution_count": 64,
     "metadata": {},
     "output_type": "execute_result"
    }
   ],
   "source": [
    "train_size.describe()"
   ]
  },
  {
   "cell_type": "code",
   "execution_count": null,
   "metadata": {},
   "outputs": [],
   "source": []
  },
  {
   "cell_type": "code",
   "execution_count": null,
   "metadata": {},
   "outputs": [],
   "source": []
  },
  {
   "cell_type": "code",
   "execution_count": null,
   "metadata": {},
   "outputs": [],
   "source": []
  },
  {
   "cell_type": "code",
   "execution_count": null,
   "metadata": {},
   "outputs": [],
   "source": []
  },
  {
   "cell_type": "code",
   "execution_count": null,
   "metadata": {},
   "outputs": [],
   "source": []
  },
  {
   "cell_type": "code",
   "execution_count": null,
   "metadata": {},
   "outputs": [],
   "source": []
  },
  {
   "cell_type": "code",
   "execution_count": null,
   "metadata": {},
   "outputs": [],
   "source": []
  },
  {
   "cell_type": "code",
   "execution_count": null,
   "metadata": {},
   "outputs": [],
   "source": []
  },
  {
   "cell_type": "code",
   "execution_count": null,
   "metadata": {},
   "outputs": [],
   "source": []
  },
  {
   "cell_type": "code",
   "execution_count": null,
   "metadata": {},
   "outputs": [],
   "source": []
  },
  {
   "cell_type": "code",
   "execution_count": null,
   "metadata": {},
   "outputs": [],
   "source": []
  },
  {
   "cell_type": "code",
   "execution_count": null,
   "metadata": {},
   "outputs": [],
   "source": []
  },
  {
   "cell_type": "code",
   "execution_count": null,
   "metadata": {},
   "outputs": [],
   "source": []
  },
  {
   "cell_type": "code",
   "execution_count": null,
   "metadata": {},
   "outputs": [],
   "source": []
  },
  {
   "cell_type": "code",
   "execution_count": null,
   "metadata": {},
   "outputs": [],
   "source": []
  },
  {
   "cell_type": "code",
   "execution_count": null,
   "metadata": {},
   "outputs": [],
   "source": []
  },
  {
   "cell_type": "code",
   "execution_count": null,
   "metadata": {},
   "outputs": [],
   "source": []
  },
  {
   "cell_type": "code",
   "execution_count": null,
   "metadata": {},
   "outputs": [],
   "source": []
  },
  {
   "cell_type": "code",
   "execution_count": null,
   "metadata": {},
   "outputs": [],
   "source": []
  },
  {
   "cell_type": "code",
   "execution_count": null,
   "metadata": {},
   "outputs": [],
   "source": []
  },
  {
   "cell_type": "code",
   "execution_count": null,
   "metadata": {},
   "outputs": [],
   "source": []
  },
  {
   "cell_type": "code",
   "execution_count": null,
   "metadata": {},
   "outputs": [],
   "source": []
  },
  {
   "cell_type": "code",
   "execution_count": null,
   "metadata": {},
   "outputs": [],
   "source": []
  },
  {
   "cell_type": "code",
   "execution_count": null,
   "metadata": {},
   "outputs": [],
   "source": []
  },
  {
   "cell_type": "code",
   "execution_count": null,
   "metadata": {},
   "outputs": [],
   "source": []
  },
  {
   "cell_type": "code",
   "execution_count": null,
   "metadata": {},
   "outputs": [],
   "source": []
  },
  {
   "cell_type": "code",
   "execution_count": null,
   "metadata": {},
   "outputs": [],
   "source": []
  },
  {
   "cell_type": "code",
   "execution_count": null,
   "metadata": {},
   "outputs": [],
   "source": []
  },
  {
   "cell_type": "code",
   "execution_count": null,
   "metadata": {},
   "outputs": [],
   "source": []
  },
  {
   "cell_type": "code",
   "execution_count": null,
   "metadata": {},
   "outputs": [],
   "source": []
  },
  {
   "cell_type": "code",
   "execution_count": null,
   "metadata": {},
   "outputs": [],
   "source": []
  },
  {
   "cell_type": "code",
   "execution_count": null,
   "metadata": {},
   "outputs": [],
   "source": []
  },
  {
   "cell_type": "code",
   "execution_count": null,
   "metadata": {},
   "outputs": [],
   "source": []
  },
  {
   "cell_type": "code",
   "execution_count": null,
   "metadata": {},
   "outputs": [],
   "source": []
  },
  {
   "cell_type": "code",
   "execution_count": null,
   "metadata": {},
   "outputs": [],
   "source": []
  },
  {
   "cell_type": "code",
   "execution_count": null,
   "metadata": {},
   "outputs": [],
   "source": []
  },
  {
   "cell_type": "code",
   "execution_count": null,
   "metadata": {},
   "outputs": [],
   "source": []
  },
  {
   "cell_type": "code",
   "execution_count": null,
   "metadata": {},
   "outputs": [],
   "source": []
  },
  {
   "cell_type": "code",
   "execution_count": null,
   "metadata": {},
   "outputs": [],
   "source": []
  },
  {
   "cell_type": "code",
   "execution_count": null,
   "metadata": {},
   "outputs": [],
   "source": []
  },
  {
   "cell_type": "code",
   "execution_count": null,
   "metadata": {},
   "outputs": [],
   "source": []
  },
  {
   "cell_type": "code",
   "execution_count": null,
   "metadata": {},
   "outputs": [],
   "source": []
  },
  {
   "cell_type": "code",
   "execution_count": null,
   "metadata": {},
   "outputs": [],
   "source": []
  },
  {
   "cell_type": "code",
   "execution_count": null,
   "metadata": {},
   "outputs": [],
   "source": []
  },
  {
   "cell_type": "code",
   "execution_count": null,
   "metadata": {},
   "outputs": [],
   "source": []
  },
  {
   "cell_type": "code",
   "execution_count": null,
   "metadata": {},
   "outputs": [],
   "source": []
  },
  {
   "cell_type": "code",
   "execution_count": null,
   "metadata": {},
   "outputs": [],
   "source": []
  },
  {
   "cell_type": "code",
   "execution_count": null,
   "metadata": {},
   "outputs": [],
   "source": []
  },
  {
   "cell_type": "code",
   "execution_count": null,
   "metadata": {},
   "outputs": [],
   "source": []
  },
  {
   "cell_type": "code",
   "execution_count": null,
   "metadata": {},
   "outputs": [],
   "source": []
  },
  {
   "cell_type": "code",
   "execution_count": null,
   "metadata": {},
   "outputs": [],
   "source": []
  },
  {
   "cell_type": "code",
   "execution_count": null,
   "metadata": {},
   "outputs": [],
   "source": []
  },
  {
   "cell_type": "code",
   "execution_count": null,
   "metadata": {},
   "outputs": [],
   "source": []
  },
  {
   "cell_type": "code",
   "execution_count": null,
   "metadata": {},
   "outputs": [],
   "source": []
  },
  {
   "cell_type": "code",
   "execution_count": null,
   "metadata": {},
   "outputs": [],
   "source": []
  },
  {
   "cell_type": "code",
   "execution_count": null,
   "metadata": {},
   "outputs": [],
   "source": []
  },
  {
   "cell_type": "code",
   "execution_count": null,
   "metadata": {},
   "outputs": [],
   "source": []
  },
  {
   "cell_type": "code",
   "execution_count": null,
   "metadata": {},
   "outputs": [],
   "source": []
  },
  {
   "cell_type": "code",
   "execution_count": null,
   "metadata": {},
   "outputs": [],
   "source": []
  },
  {
   "cell_type": "code",
   "execution_count": null,
   "metadata": {},
   "outputs": [],
   "source": []
  },
  {
   "cell_type": "code",
   "execution_count": null,
   "metadata": {},
   "outputs": [],
   "source": []
  },
  {
   "cell_type": "code",
   "execution_count": null,
   "metadata": {},
   "outputs": [],
   "source": []
  },
  {
   "cell_type": "code",
   "execution_count": null,
   "metadata": {},
   "outputs": [],
   "source": []
  },
  {
   "cell_type": "code",
   "execution_count": null,
   "metadata": {},
   "outputs": [],
   "source": []
  },
  {
   "cell_type": "code",
   "execution_count": null,
   "metadata": {},
   "outputs": [],
   "source": []
  },
  {
   "cell_type": "code",
   "execution_count": null,
   "metadata": {},
   "outputs": [],
   "source": []
  },
  {
   "cell_type": "code",
   "execution_count": null,
   "metadata": {},
   "outputs": [],
   "source": []
  },
  {
   "cell_type": "code",
   "execution_count": null,
   "metadata": {},
   "outputs": [],
   "source": []
  },
  {
   "cell_type": "code",
   "execution_count": null,
   "metadata": {},
   "outputs": [],
   "source": []
  },
  {
   "cell_type": "code",
   "execution_count": null,
   "metadata": {},
   "outputs": [],
   "source": []
  },
  {
   "cell_type": "code",
   "execution_count": null,
   "metadata": {},
   "outputs": [],
   "source": []
  },
  {
   "cell_type": "code",
   "execution_count": null,
   "metadata": {},
   "outputs": [],
   "source": []
  },
  {
   "cell_type": "code",
   "execution_count": null,
   "metadata": {},
   "outputs": [],
   "source": []
  },
  {
   "cell_type": "code",
   "execution_count": null,
   "metadata": {},
   "outputs": [],
   "source": []
  },
  {
   "cell_type": "code",
   "execution_count": null,
   "metadata": {},
   "outputs": [],
   "source": []
  },
  {
   "cell_type": "code",
   "execution_count": null,
   "metadata": {},
   "outputs": [],
   "source": []
  },
  {
   "cell_type": "code",
   "execution_count": null,
   "metadata": {},
   "outputs": [],
   "source": []
  },
  {
   "cell_type": "code",
   "execution_count": null,
   "metadata": {},
   "outputs": [],
   "source": []
  },
  {
   "cell_type": "code",
   "execution_count": null,
   "metadata": {},
   "outputs": [],
   "source": []
  },
  {
   "cell_type": "code",
   "execution_count": null,
   "metadata": {},
   "outputs": [],
   "source": []
  },
  {
   "cell_type": "code",
   "execution_count": null,
   "metadata": {},
   "outputs": [],
   "source": []
  },
  {
   "cell_type": "code",
   "execution_count": null,
   "metadata": {},
   "outputs": [],
   "source": []
  },
  {
   "cell_type": "code",
   "execution_count": null,
   "metadata": {},
   "outputs": [],
   "source": []
  },
  {
   "cell_type": "code",
   "execution_count": null,
   "metadata": {},
   "outputs": [],
   "source": []
  },
  {
   "cell_type": "markdown",
   "metadata": {},
   "source": [
    "## 数据分析"
   ]
  },
  {
   "cell_type": "code",
   "execution_count": 44,
   "metadata": {},
   "outputs": [
    {
     "data": {
      "text/html": [
       "<div>\n",
       "<style scoped>\n",
       "    .dataframe tbody tr th:only-of-type {\n",
       "        vertical-align: middle;\n",
       "    }\n",
       "\n",
       "    .dataframe tbody tr th {\n",
       "        vertical-align: top;\n",
       "    }\n",
       "\n",
       "    .dataframe thead th {\n",
       "        text-align: right;\n",
       "    }\n",
       "</style>\n",
       "<table border=\"1\" class=\"dataframe\">\n",
       "  <thead>\n",
       "    <tr style=\"text-align: right;\">\n",
       "      <th></th>\n",
       "      <th>size1</th>\n",
       "      <th>size2</th>\n",
       "      <th>size3</th>\n",
       "      <th>Id</th>\n",
       "    </tr>\n",
       "  </thead>\n",
       "  <tbody>\n",
       "    <tr>\n",
       "      <th>0</th>\n",
       "      <td>299.998</td>\n",
       "      <td>199.995</td>\n",
       "      <td>199.967</td>\n",
       "      <td>33722</td>\n",
       "    </tr>\n",
       "    <tr>\n",
       "      <th>15472</th>\n",
       "      <td>300.085</td>\n",
       "      <td>200.114</td>\n",
       "      <td>200.034</td>\n",
       "      <td>146291</td>\n",
       "    </tr>\n",
       "  </tbody>\n",
       "</table>\n",
       "</div>"
      ],
      "text/plain": [
       "         size1    size2    size3      Id\n",
       "0      299.998  199.995  199.967   33722\n",
       "15472  300.085  200.114  200.034  146291"
      ]
     },
     "execution_count": 44,
     "metadata": {},
     "output_type": "execute_result"
    }
   ],
   "source": [
    "train_size[train_size.Id.isin(['33722','146291'])]"
   ]
  },
  {
   "cell_type": "code",
   "execution_count": 98,
   "metadata": {},
   "outputs": [
    {
     "data": {
      "text/plain": [
       "<matplotlib.axes._subplots.AxesSubplot at 0x7f94d4e2d198>"
      ]
     },
     "execution_count": 98,
     "metadata": {},
     "output_type": "execute_result"
    },
    {
     "data": {
      "image/png": "[encoded data removed]",
      "text/plain": [
       "<Figure size 432x288 with 1 Axes>"
      ]
     },
     "metadata": {
      "needs_background": "light"
     },
     "output_type": "display_data"
    }
   ],
   "source": [
    "train_mold_data[train_mold_data.file_name=='./Train/mold_data_611173927_37559.csv']['SP'].astype(float).plot()"
   ]
  },
  {
   "cell_type": "code",
   "execution_count": 91,
   "metadata": {},
   "outputs": [
    {
     "data": {
      "text/plain": [
       "<matplotlib.axes._subplots.AxesSubplot at 0x7f78043f1cc0>"
      ]
     },
     "execution_count": 91,
     "metadata": {},
     "output_type": "execute_result"
    },
    {
     "data": {
      "image/png": "[encoded data removed]",
      "text/plain": [
       "<Figure size 432x288 with 1 Axes>"
      ]
     },
     "metadata": {
      "needs_background": "light"
     },
     "output_type": "display_data"
    }
   ],
   "source": [
    "test_mold_data[test_mold_data.file_name=='./Test初赛/mold_data_611924900_56689.csv']['SP'].astype(float).plot()"
   ]
  },
  {
   "cell_type": "code",
   "execution_count": 100,
   "metadata": {},
   "outputs": [
    {
     "data": {
      "text/plain": [
       "<matplotlib.axes._subplots.AxesSubplot at 0x7f94ec19b0f0>"
      ]
     },
     "execution_count": 100,
     "metadata": {},
     "output_type": "execute_result"
    },
    {
     "data": {
      "image/png": "[encoded data removed]",
      "text/plain": [
       "<Figure size 432x288 with 1 Axes>"
      ]
     },
     "metadata": {
      "needs_background": "light"
     },
     "output_type": "display_data"
    }
   ],
   "source": [
    "train_mold_data[train_mold_data.file_name=='./Train/mold_data_617382049_146291.csv']['SP'].astype(float).plot()"
   ]
  },
  {
   "cell_type": "code",
   "execution_count": 47,
   "metadata": {},
   "outputs": [
    {
     "data": {
      "text/plain": [
       "<matplotlib.axes._subplots.AxesSubplot at 0x7f96f49a1c18>"
      ]
     },
     "execution_count": 47,
     "metadata": {},
     "output_type": "execute_result"
    },
    {
     "data": {
      "image/png": "[encoded data removed]",
      "text/plain": [
       "<Figure size 432x288 with 1 Axes>"
      ]
     },
     "metadata": {
      "needs_background": "light"
     },
     "output_type": "display_data"
    }
   ],
   "source": [
    "train_size['size1'].plot()"
   ]
  },
  {
   "cell_type": "code",
   "execution_count": 48,
   "metadata": {},
   "outputs": [
    {
     "data": {
      "text/plain": [
       "<matplotlib.axes._subplots.AxesSubplot at 0x7f944454d2b0>"
      ]
     },
     "execution_count": 48,
     "metadata": {},
     "output_type": "execute_result"
    },
    {
     "data": {
      "image/png": "[encoded data removed]",
      "text/plain": [
       "<Figure size 432x288 with 1 Axes>"
      ]
     },
     "metadata": {
      "needs_background": "light"
     },
     "output_type": "display_data"
    }
   ],
   "source": [
    "train_size['size2'].plot()"
   ]
  },
  {
   "cell_type": "code",
   "execution_count": 49,
   "metadata": {},
   "outputs": [
    {
     "data": {
      "text/plain": [
       "<matplotlib.axes._subplots.AxesSubplot at 0x7f9682fcbb00>"
      ]
     },
     "execution_count": 49,
     "metadata": {},
     "output_type": "execute_result"
    },
    {
     "data": {
      "image/png": "[encoded data removed]",
      "text/plain": [
       "<Figure size 432x288 with 1 Axes>"
      ]
     },
     "metadata": {
      "needs_background": "light"
     },
     "output_type": "display_data"
    }
   ],
   "source": [
    "train_size['size3'].plot()"
   ]
  },
  {
   "cell_type": "code",
   "execution_count": 67,
   "metadata": {},
   "outputs": [
    {
     "data": {
      "text/html": [
       "<div>\n",
       "<style scoped>\n",
       "    .dataframe tbody tr th:only-of-type {\n",
       "        vertical-align: middle;\n",
       "    }\n",
       "\n",
       "    .dataframe tbody tr th {\n",
       "        vertical-align: top;\n",
       "    }\n",
       "\n",
       "    .dataframe thead th {\n",
       "        text-align: right;\n",
       "    }\n",
       "</style>\n",
       "<table border=\"1\" class=\"dataframe\">\n",
       "  <thead>\n",
       "    <tr style=\"text-align: right;\">\n",
       "      <th></th>\n",
       "      <th>Id</th>\n",
       "      <th>size1</th>\n",
       "      <th>size2</th>\n",
       "      <th>size3</th>\n",
       "    </tr>\n",
       "  </thead>\n",
       "  <tbody>\n",
       "    <tr>\n",
       "      <th>0</th>\n",
       "      <td>56689</td>\n",
       "      <td>1</td>\n",
       "      <td>1</td>\n",
       "      <td>1</td>\n",
       "    </tr>\n",
       "    <tr>\n",
       "      <th>1</th>\n",
       "      <td>56691</td>\n",
       "      <td>1</td>\n",
       "      <td>1</td>\n",
       "      <td>1</td>\n",
       "    </tr>\n",
       "    <tr>\n",
       "      <th>2</th>\n",
       "      <td>56697</td>\n",
       "      <td>1</td>\n",
       "      <td>1</td>\n",
       "      <td>1</td>\n",
       "    </tr>\n",
       "    <tr>\n",
       "      <th>3</th>\n",
       "      <td>56698</td>\n",
       "      <td>1</td>\n",
       "      <td>1</td>\n",
       "      <td>1</td>\n",
       "    </tr>\n",
       "    <tr>\n",
       "      <th>4</th>\n",
       "      <td>56701</td>\n",
       "      <td>1</td>\n",
       "      <td>1</td>\n",
       "      <td>1</td>\n",
       "    </tr>\n",
       "    <tr>\n",
       "      <th>...</th>\n",
       "      <td>...</td>\n",
       "      <td>...</td>\n",
       "      <td>...</td>\n",
       "      <td>...</td>\n",
       "    </tr>\n",
       "    <tr>\n",
       "      <th>3948</th>\n",
       "      <td>175911</td>\n",
       "      <td>1</td>\n",
       "      <td>1</td>\n",
       "      <td>1</td>\n",
       "    </tr>\n",
       "    <tr>\n",
       "      <th>3949</th>\n",
       "      <td>175961</td>\n",
       "      <td>1</td>\n",
       "      <td>1</td>\n",
       "      <td>1</td>\n",
       "    </tr>\n",
       "    <tr>\n",
       "      <th>3950</th>\n",
       "      <td>176111</td>\n",
       "      <td>1</td>\n",
       "      <td>1</td>\n",
       "      <td>1</td>\n",
       "    </tr>\n",
       "    <tr>\n",
       "      <th>3951</th>\n",
       "      <td>176131</td>\n",
       "      <td>1</td>\n",
       "      <td>1</td>\n",
       "      <td>1</td>\n",
       "    </tr>\n",
       "    <tr>\n",
       "      <th>3952</th>\n",
       "      <td>176241</td>\n",
       "      <td>1</td>\n",
       "      <td>1</td>\n",
       "      <td>1</td>\n",
       "    </tr>\n",
       "  </tbody>\n",
       "</table>\n",
       "<p>3953 rows × 4 columns</p>\n",
       "</div>"
      ],
      "text/plain": [
       "          Id  size1  size2  size3\n",
       "0      56689      1      1      1\n",
       "1      56691      1      1      1\n",
       "2      56697      1      1      1\n",
       "3      56698      1      1      1\n",
       "4      56701      1      1      1\n",
       "...      ...    ...    ...    ...\n",
       "3948  175911      1      1      1\n",
       "3949  175961      1      1      1\n",
       "3950  176111      1      1      1\n",
       "3951  176131      1      1      1\n",
       "3952  176241      1      1      1\n",
       "\n",
       "[3953 rows x 4 columns]"
      ]
     },
     "execution_count": 67,
     "metadata": {},
     "output_type": "execute_result"
    }
   ],
   "source": [
    "sub_file"
   ]
  },
  {
   "cell_type": "code",
   "execution_count": null,
   "metadata": {},
   "outputs": [],
   "source": []
  }
 ],
 "metadata": {
  "kernelspec": {
   "display_name": "Python3 (PySpark)",
   "language": "python",
   "name": "python3"
  },
  "language_info": {
   "codemirror_mode": {
    "name": "ipython",
    "version": 3
   },
   "file_extension": ".py",
   "mimetype": "text/x-python",
   "name": "python",
   "nbconvert_exporter": "python",
   "pygments_lexer": "ipython3",
   "version": "3.6.7"
  }
 },
 "nbformat": 4,
 "nbformat_minor": 4
}
