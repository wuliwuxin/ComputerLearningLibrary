{
 "cells": [
  {
   "cell_type": "markdown",
   "metadata": {},
   "source": [
    "# **菊安酱与菜菜的Python机器学习可视化**"
   ]
  },
  {
   "cell_type": "markdown",
   "metadata": {},
   "source": [
    "#### <font color='blue'>第六期 时间序列（Time Series）:35时间序列图 & 36带波峰波谷注释的时间序列"
   ]
  },
  {
   "cell_type": "markdown",
   "metadata": {},
   "source": [
    "**注意：无法在matpotlib和seaborn中显示中文或者负号的问题**  \n",
    "如果你遇见了，请参考链接，可永久解决中文和负号问题：https://www.jianshu.com/p/914b5f4ce6bf  \n",
    "或者你也可以在每次需要负号和中文的时候执行下面的代码来避免中文或负号显示不出来："
   ]
  },
  {
   "cell_type": "code",
   "execution_count": 1,
   "metadata": {},
   "outputs": [],
   "source": [
    "# import matplotlib.pyplot as plt\n",
    "\n",
    "# plt.rcParams['font.sans-serif']=['Simhei'] #显示中文\n",
    "# plt.rcParams['axes.unicode_minus']=False   #显示负号"
   ]
  },
  {
   "cell_type": "markdown",
   "metadata": {},
   "source": [
    "## **第六章 时间序列（Time Series）**"
   ]
  },
  {
   "cell_type": "markdown",
   "metadata": {},
   "source": [
    "时间序列是典型的变化图，指的是目标变量随时间变化而呈现出不同的趋势"
   ]
  },
  {
   "cell_type": "markdown",
   "metadata": {},
   "source": [
    "- **时间序列图形**通常使用折线图来绘制，也可以有其他不同的形式  \n",
    "- **时间序列分析**就是分析时间序列数据，提取更多有价值的统计数据和数据的其他特征  \n",
    "- **时间序列预测**即使用模型根据先前数据的值预测未来值\n",
    "\n",
    "时间序列预测衍生出了很多的模型：   \n",
    "> **自回归模型（AR模型）**:英文名称是Autoregressive model，是一种统计上处理时间序列的方法，由线性回归发展而来，只不过不是用x预测y,而是用x预测x自身，所以叫做自回归。\n",
    "\n",
    "> **移动平均模型（MA模型）**:一个常见的对单一变量时间序列进行建模的方法。   \n",
    "\n",
    "> **自回归滑动平均模型（ARMA模型）**:研究时间序列的一种重要方法，以自回归模型和移动平均模型为基础“混合”而成的一种模型。\n",
    "\n",
    "> **ARIMA模型**：Autoregressive Integrated Moving Average model，差分整合移动平均自回归模型，又称整合移动平均自回归模型，是目前比较常用的一种时间序列分析模型。"
   ]
  },
  {
   "cell_type": "markdown",
   "metadata": {},
   "source": [
    "当然，以上的这些时间序列模型仅做了解，今天我们要学习的重点是时间序列图形，将目标变量随时间变化的趋势用图形展示出来   "
   ]
  },
  {
   "cell_type": "markdown",
   "metadata": {},
   "source": [
    "常用的时间序列图有：时间序列图、自相关图、交叉相关图……"
   ]
  },
  {
   "cell_type": "markdown",
   "metadata": {},
   "source": [
    "<img src='http://pictes.oss-cn-beijing.aliyuncs.com/microclass-virtualisation/week6%20time%20series/%E5%85%B8%E5%9E%8B%E7%9A%84%E6%97%B6%E9%97%B4%E5%BA%8F%E5%88%97%E5%9B%BE.png'>"
   ]
  },
  {
   "cell_type": "markdown",
   "metadata": {},
   "source": [
    "### 我们什么时候需要时间序列图呢？  \n",
    "1. 探索性分析：<br>\n",
    ">探索依托于时间进行变化的数据<br>\n",
    "2. 时间序列分析：<br>\n",
    ">利用各种分析方法对时间序列数据进行分析，得出更多的统计数据及更有价值的信息<br>\n",
    ">比如消费模式变迁研究、长期追踪资料的研究等\n",
    "3. 时间序列预测：<br>\n",
    ">运用各种模型对时间序列数据进行预测，比如股票预测、具有季节变动特征的销售量、市场规模的预测等\n"
   ]
  },
  {
   "cell_type": "markdown",
   "metadata": {},
   "source": [
    "### <font color=bule> 35/50 时间序列图（Time Series Plot）"
   ]
  },
  {
   "cell_type": "markdown",
   "metadata": {},
   "source": [
    "时间序列图，可以展示目标变量随时间变化呈现的趋势"
   ]
  },
  {
   "cell_type": "markdown",
   "metadata": {},
   "source": [
    "<img src='http://pictes.oss-cn-beijing.aliyuncs.com/microclass-virtualisation/week6%20time%20series/%E6%97%B6%E9%97%B4%E5%BA%8F%E5%88%97%E6%8A%98%E7%BA%BF%E5%9B%BE.png' width=500>"
   ]
  },
  {
   "cell_type": "markdown",
   "metadata": {},
   "source": [
    "横坐标：年份  \n",
    "纵坐标：数量  "
   ]
  },
  {
   "cell_type": "markdown",
   "metadata": {},
   "source": [
    "### 1. 导入需要的绘图库"
   ]
  },
  {
   "cell_type": "code",
   "execution_count": 1,
   "metadata": {},
   "outputs": [],
   "source": [
    "import pandas as pd\n",
    "import numpy as np\n",
    "import matplotlib as mpl\n",
    "import matplotlib.pyplot as plt\n",
    "%matplotlib inline\n",
    "#如果用jupyter notebook则需要这行代码让你的图像显示，如果是jupyterlab则不需要"
   ]
  },
  {
   "cell_type": "markdown",
   "metadata": {},
   "source": [
    "### 2.认识绘制时间序列的函数（折线图）"
   ]
  },
  {
   "cell_type": "markdown",
   "metadata": {},
   "source": [
    "**plt.plot**\n",
    "\n",
    "重要参数   \n",
    "> x, y：绘制折线图的数据    \n",
    "> fmt：格式字符串由颜色、标记和线组成（fmt ='[color] [marker] [line]'）      \n",
    "> data：带有标记数据的对象   "
   ]
  },
  {
   "cell_type": "code",
   "execution_count": 2,
   "metadata": {},
   "outputs": [],
   "source": [
    "# plt.plot?"
   ]
  },
  {
   "cell_type": "markdown",
   "metadata": {},
   "source": [
    "#### <font color='blue'>绘制简单的折线图"
   ]
  },
  {
   "cell_type": "code",
   "execution_count": 3,
   "metadata": {},
   "outputs": [],
   "source": [
    "#构造数据,满足正态分布的1000个数\n",
    "X = np.random.randn(10)"
   ]
  },
  {
   "cell_type": "code",
   "execution_count": 4,
   "metadata": {},
   "outputs": [
    {
     "data": {
      "text/plain": [
       "array([ 1.44608445, -0.42330622, -0.69287344, -0.05677885, -0.68199035,\n",
       "        0.45403786, -1.50951733, -1.51819073, -0.98366885,  0.92811666])"
      ]
     },
     "execution_count": 4,
     "metadata": {},
     "output_type": "execute_result"
    }
   ],
   "source": [
    "X"
   ]
  },
  {
   "cell_type": "code",
   "execution_count": 5,
   "metadata": {},
   "outputs": [
    {
     "data": {
      "image/png": "[encoded data removed]",
      "text/plain": [
       "<Figure size 432x288 with 1 Axes>"
      ]
     },
     "metadata": {
      "needs_background": "light"
     },
     "output_type": "display_data"
    }
   ],
   "source": [
    "#画一个简单的折线图\n",
    "plt.plot(X);"
   ]
  },
  {
   "cell_type": "markdown",
   "metadata": {},
   "source": [
    "### 3.认识所用数据集"
   ]
  },
  {
   "cell_type": "markdown",
   "metadata": {},
   "source": [
    "该数据集是R中内置数据集之一，数据内容是1949-1960年间某航空公司每月的乘客数量   "
   ]
  },
  {
   "cell_type": "markdown",
   "metadata": {},
   "source": [
    "更多的R内置数据集下载走这里：https://blog.csdn.net/c1z2w3456789/article/details/50983713"
   ]
  },
  {
   "cell_type": "code",
   "execution_count": 6,
   "metadata": {},
   "outputs": [],
   "source": [
    "#导入数据\n",
    "data = pd.read_csv('https://github.com/selva86/datasets/raw/master/AirPassengers.csv')"
   ]
  },
  {
   "cell_type": "code",
   "execution_count": 7,
   "metadata": {},
   "outputs": [
    {
     "data": {
      "text/html": [
       "<div>\n",
       "<style scoped>\n",
       "    .dataframe tbody tr th:only-of-type {\n",
       "        vertical-align: middle;\n",
       "    }\n",
       "\n",
       "    .dataframe tbody tr th {\n",
       "        vertical-align: top;\n",
       "    }\n",
       "\n",
       "    .dataframe thead th {\n",
       "        text-align: right;\n",
       "    }\n",
       "</style>\n",
       "<table border=\"1\" class=\"dataframe\">\n",
       "  <thead>\n",
       "    <tr style=\"text-align: right;\">\n",
       "      <th></th>\n",
       "      <th>date</th>\n",
       "      <th>value</th>\n",
       "    </tr>\n",
       "  </thead>\n",
       "  <tbody>\n",
       "    <tr>\n",
       "      <th>0</th>\n",
       "      <td>1949-01-01</td>\n",
       "      <td>112</td>\n",
       "    </tr>\n",
       "    <tr>\n",
       "      <th>1</th>\n",
       "      <td>1949-02-01</td>\n",
       "      <td>118</td>\n",
       "    </tr>\n",
       "    <tr>\n",
       "      <th>2</th>\n",
       "      <td>1949-03-01</td>\n",
       "      <td>132</td>\n",
       "    </tr>\n",
       "  </tbody>\n",
       "</table>\n",
       "</div>"
      ],
      "text/plain": [
       "         date  value\n",
       "0  1949-01-01    112\n",
       "1  1949-02-01    118\n",
       "2  1949-03-01    132"
      ]
     },
     "execution_count": 7,
     "metadata": {},
     "output_type": "execute_result"
    }
   ],
   "source": [
    "data.head(3)"
   ]
  },
  {
   "cell_type": "code",
   "execution_count": 8,
   "metadata": {},
   "outputs": [
    {
     "data": {
      "text/plain": [
       "(144, 2)"
      ]
     },
     "execution_count": 8,
     "metadata": {},
     "output_type": "execute_result"
    }
   ],
   "source": [
    "data.shape"
   ]
  },
  {
   "cell_type": "code",
   "execution_count": 9,
   "metadata": {},
   "outputs": [
    {
     "name": "stdout",
     "output_type": "stream",
     "text": [
      "<class 'pandas.core.frame.DataFrame'>\n",
      "RangeIndex: 144 entries, 0 to 143\n",
      "Data columns (total 2 columns):\n",
      "date     144 non-null object\n",
      "value    144 non-null int64\n",
      "dtypes: int64(1), object(1)\n",
      "memory usage: 2.3+ KB\n"
     ]
    }
   ],
   "source": [
    "data.info()"
   ]
  },
  {
   "cell_type": "markdown",
   "metadata": {},
   "source": [
    "#### 【注意】遇到日期型数据或者形似日期型数据都需要格外注意   \n",
    "这里的date应该是日期型数据，但是是以文本型数据存储在数据集中，如果要当做日期型数据来使用的话，需要将其类型转换为日期型"
   ]
  },
  {
   "cell_type": "markdown",
   "metadata": {},
   "source": [
    "### 将文本型数据转换为日期型"
   ]
  },
  {
   "cell_type": "markdown",
   "metadata": {},
   "source": [
    "#### 方法一：在导入数据集的时候设置parse_dates参数（注意：此参数必须是列表或者布尔型）"
   ]
  },
  {
   "cell_type": "code",
   "execution_count": 10,
   "metadata": {},
   "outputs": [],
   "source": [
    "df = pd.read_csv('https://github.com/selva86/datasets/raw/master/AirPassengers.csv',parse_dates=['date'])"
   ]
  },
  {
   "cell_type": "code",
   "execution_count": 11,
   "metadata": {},
   "outputs": [
    {
     "name": "stdout",
     "output_type": "stream",
     "text": [
      "<class 'pandas.core.frame.DataFrame'>\n",
      "RangeIndex: 144 entries, 0 to 143\n",
      "Data columns (total 2 columns):\n",
      "date     144 non-null datetime64[ns]\n",
      "value    144 non-null int64\n",
      "dtypes: datetime64[ns](1), int64(1)\n",
      "memory usage: 2.3 KB\n"
     ]
    }
   ],
   "source": [
    "df.info()"
   ]
  },
  {
   "cell_type": "markdown",
   "metadata": {},
   "source": [
    "#### 方法二：数据导入之后更改数据类型——pd.to_datetime()"
   ]
  },
  {
   "cell_type": "code",
   "execution_count": 12,
   "metadata": {},
   "outputs": [],
   "source": [
    "df1 = pd.read_csv('https://github.com/selva86/datasets/raw/master/AirPassengers.csv')"
   ]
  },
  {
   "cell_type": "code",
   "execution_count": 13,
   "metadata": {},
   "outputs": [
    {
     "data": {
      "text/html": [
       "<div>\n",
       "<style scoped>\n",
       "    .dataframe tbody tr th:only-of-type {\n",
       "        vertical-align: middle;\n",
       "    }\n",
       "\n",
       "    .dataframe tbody tr th {\n",
       "        vertical-align: top;\n",
       "    }\n",
       "\n",
       "    .dataframe thead th {\n",
       "        text-align: right;\n",
       "    }\n",
       "</style>\n",
       "<table border=\"1\" class=\"dataframe\">\n",
       "  <thead>\n",
       "    <tr style=\"text-align: right;\">\n",
       "      <th></th>\n",
       "      <th>date</th>\n",
       "      <th>value</th>\n",
       "    </tr>\n",
       "  </thead>\n",
       "  <tbody>\n",
       "    <tr>\n",
       "      <th>0</th>\n",
       "      <td>1949-01-01</td>\n",
       "      <td>112</td>\n",
       "    </tr>\n",
       "    <tr>\n",
       "      <th>1</th>\n",
       "      <td>1949-02-01</td>\n",
       "      <td>118</td>\n",
       "    </tr>\n",
       "    <tr>\n",
       "      <th>2</th>\n",
       "      <td>1949-03-01</td>\n",
       "      <td>132</td>\n",
       "    </tr>\n",
       "  </tbody>\n",
       "</table>\n",
       "</div>"
      ],
      "text/plain": [
       "         date  value\n",
       "0  1949-01-01    112\n",
       "1  1949-02-01    118\n",
       "2  1949-03-01    132"
      ]
     },
     "execution_count": 13,
     "metadata": {},
     "output_type": "execute_result"
    }
   ],
   "source": [
    "df1.head(3)"
   ]
  },
  {
   "cell_type": "code",
   "execution_count": 14,
   "metadata": {},
   "outputs": [
    {
     "name": "stdout",
     "output_type": "stream",
     "text": [
      "<class 'pandas.core.frame.DataFrame'>\n",
      "RangeIndex: 144 entries, 0 to 143\n",
      "Data columns (total 2 columns):\n",
      "date     144 non-null object\n",
      "value    144 non-null int64\n",
      "dtypes: int64(1), object(1)\n",
      "memory usage: 2.3+ KB\n"
     ]
    }
   ],
   "source": [
    "df1.info()"
   ]
  },
  {
   "cell_type": "code",
   "execution_count": 15,
   "metadata": {},
   "outputs": [],
   "source": [
    "df1['date'] = pd.to_datetime(df1.date)"
   ]
  },
  {
   "cell_type": "code",
   "execution_count": 16,
   "metadata": {},
   "outputs": [
    {
     "name": "stdout",
     "output_type": "stream",
     "text": [
      "<class 'pandas.core.frame.DataFrame'>\n",
      "RangeIndex: 144 entries, 0 to 143\n",
      "Data columns (total 2 columns):\n",
      "date     144 non-null datetime64[ns]\n",
      "value    144 non-null int64\n",
      "dtypes: datetime64[ns](1), int64(1)\n",
      "memory usage: 2.3 KB\n"
     ]
    }
   ],
   "source": [
    "df1.info()"
   ]
  },
  {
   "cell_type": "markdown",
   "metadata": {},
   "source": [
    "#### 方法三：数据导入之后转换数据类型——datetime.datetime.strptime()"
   ]
  },
  {
   "cell_type": "code",
   "execution_count": 18,
   "metadata": {},
   "outputs": [],
   "source": [
    "df2 = pd.read_csv('https://github.com/selva86/datasets/raw/master/AirPassengers.csv')"
   ]
  },
  {
   "cell_type": "code",
   "execution_count": 19,
   "metadata": {},
   "outputs": [
    {
     "name": "stdout",
     "output_type": "stream",
     "text": [
      "<class 'pandas.core.frame.DataFrame'>\n",
      "RangeIndex: 144 entries, 0 to 143\n",
      "Data columns (total 2 columns):\n",
      "date     144 non-null object\n",
      "value    144 non-null int64\n",
      "dtypes: int64(1), object(1)\n",
      "memory usage: 2.3+ KB\n"
     ]
    }
   ],
   "source": [
    "df2.info()"
   ]
  },
  {
   "cell_type": "code",
   "execution_count": 20,
   "metadata": {},
   "outputs": [],
   "source": [
    "import datetime as dt"
   ]
  },
  {
   "cell_type": "code",
   "execution_count": 21,
   "metadata": {},
   "outputs": [
    {
     "data": {
      "text/plain": [
       "'1949-01-01'"
      ]
     },
     "execution_count": 21,
     "metadata": {},
     "output_type": "execute_result"
    }
   ],
   "source": [
    "df2.date[0]"
   ]
  },
  {
   "cell_type": "code",
   "execution_count": 22,
   "metadata": {},
   "outputs": [
    {
     "data": {
      "text/plain": [
       "datetime.datetime(1949, 1, 1, 0, 0)"
      ]
     },
     "execution_count": 22,
     "metadata": {},
     "output_type": "execute_result"
    }
   ],
   "source": [
    "dt.datetime.strptime(df2.date[0],'%Y-%m-%d')"
   ]
  },
  {
   "cell_type": "code",
   "execution_count": 23,
   "metadata": {},
   "outputs": [],
   "source": [
    "df2['date'] = df2['date'].apply(lambda x:dt.datetime.strptime(x, \"%Y-%m-%d\"))"
   ]
  },
  {
   "cell_type": "code",
   "execution_count": 24,
   "metadata": {},
   "outputs": [
    {
     "name": "stdout",
     "output_type": "stream",
     "text": [
      "<class 'pandas.core.frame.DataFrame'>\n",
      "RangeIndex: 144 entries, 0 to 143\n",
      "Data columns (total 2 columns):\n",
      "date     144 non-null datetime64[ns]\n",
      "value    144 non-null int64\n",
      "dtypes: datetime64[ns](1), int64(1)\n",
      "memory usage: 2.3 KB\n"
     ]
    }
   ],
   "source": [
    "df2.info()"
   ]
  },
  {
   "cell_type": "markdown",
   "metadata": {},
   "source": [
    "### 4.绘制时间序列图   "
   ]
  },
  {
   "cell_type": "code",
   "execution_count": 25,
   "metadata": {},
   "outputs": [
    {
     "data": {
      "text/html": [
       "<div>\n",
       "<style scoped>\n",
       "    .dataframe tbody tr th:only-of-type {\n",
       "        vertical-align: middle;\n",
       "    }\n",
       "\n",
       "    .dataframe tbody tr th {\n",
       "        vertical-align: top;\n",
       "    }\n",
       "\n",
       "    .dataframe thead th {\n",
       "        text-align: right;\n",
       "    }\n",
       "</style>\n",
       "<table border=\"1\" class=\"dataframe\">\n",
       "  <thead>\n",
       "    <tr style=\"text-align: right;\">\n",
       "      <th></th>\n",
       "      <th>date</th>\n",
       "      <th>value</th>\n",
       "    </tr>\n",
       "  </thead>\n",
       "  <tbody>\n",
       "    <tr>\n",
       "      <th>0</th>\n",
       "      <td>1949-01-01</td>\n",
       "      <td>112</td>\n",
       "    </tr>\n",
       "    <tr>\n",
       "      <th>1</th>\n",
       "      <td>1949-02-01</td>\n",
       "      <td>118</td>\n",
       "    </tr>\n",
       "    <tr>\n",
       "      <th>2</th>\n",
       "      <td>1949-03-01</td>\n",
       "      <td>132</td>\n",
       "    </tr>\n",
       "    <tr>\n",
       "      <th>3</th>\n",
       "      <td>1949-04-01</td>\n",
       "      <td>129</td>\n",
       "    </tr>\n",
       "    <tr>\n",
       "      <th>4</th>\n",
       "      <td>1949-05-01</td>\n",
       "      <td>121</td>\n",
       "    </tr>\n",
       "  </tbody>\n",
       "</table>\n",
       "</div>"
      ],
      "text/plain": [
       "        date  value\n",
       "0 1949-01-01    112\n",
       "1 1949-02-01    118\n",
       "2 1949-03-01    132\n",
       "3 1949-04-01    129\n",
       "4 1949-05-01    121"
      ]
     },
     "execution_count": 25,
     "metadata": {},
     "output_type": "execute_result"
    }
   ],
   "source": [
    "df.head()"
   ]
  },
  {
   "cell_type": "code",
   "execution_count": 26,
   "metadata": {},
   "outputs": [
    {
     "data": {
      "image/png": "[encoded data removed]",
      "text/plain": [
       "<Figure size 432x288 with 1 Axes>"
      ]
     },
     "metadata": {
      "needs_background": "light"
     },
     "output_type": "display_data"
    }
   ],
   "source": [
    "#绘制时间序列折线图\n",
    "plt.plot(df.value,color='r');"
   ]
  },
  {
   "cell_type": "markdown",
   "metadata": {},
   "source": [
    "其实，时间序列图非常的简单，我们一行代码基本上就把图形画出来了……"
   ]
  },
  {
   "cell_type": "markdown",
   "metadata": {},
   "source": [
    "接下来，我们再稍微修饰一下图形"
   ]
  },
  {
   "cell_type": "code",
   "execution_count": 27,
   "metadata": {},
   "outputs": [
    {
     "data": {
      "image/png": "[encoded data removed]",
      "text/plain": [
       "<Figure size 720x360 with 1 Axes>"
      ]
     },
     "metadata": {
      "needs_background": "light"
     },
     "output_type": "display_data"
    }
   ],
   "source": [
    "#创建画布并设定画布大小\n",
    "plt.figure(figsize=(12,6),dpi=60)\n",
    "\n",
    "#绘制折线图\n",
    "plt.plot(df.value,color='r')\n",
    "\n",
    "#添加装饰\n",
    "plt.title('Air Passengers Traffic (1949 - 1969)',fontsize=15)\n",
    "plt.xticks(range(df.shape[0])[::12],df.date.dt.year[::12])\n",
    "plt.grid(alpha=.5);"
   ]
  },
  {
   "cell_type": "markdown",
   "metadata": {},
   "source": [
    "到这里，仅仅用了5行代码，我们就把时间序列图画出来啦~~~~    \n",
    "但是！！！请看下面的源代码……"
   ]
  },
  {
   "cell_type": "code",
   "execution_count": null,
   "metadata": {},
   "outputs": [],
   "source": [
    "# Import Data\n",
    "df = pd.read_csv('https://github.com/selva86/datasets/raw/master/AirPassengers.csv')\n",
    "\n",
    "# Draw Plot\n",
    "plt.figure(figsize=(16,10), dpi= 80)\n",
    "plt.plot('date', 'traffic', data=df, color='tab:red')\n",
    "\n",
    "# Decoration\n",
    "plt.ylim(50, 750)\n",
    "xtick_location = df.index.tolist()[::12]\n",
    "xtick_labels = [x[-4:] for x in df.date.tolist()[::12]]\n",
    "plt.xticks(ticks=xtick_location, labels=xtick_labels, rotation=0, fontsize=12, horizontalalignment='center', alpha=.7)\n",
    "plt.yticks(fontsize=12, alpha=.7)\n",
    "plt.title(\"Air Passengers Traffic (1949 - 1960)\", fontsize=22)\n",
    "plt.grid(axis='both', alpha=.3)\n",
    "\n",
    "# Remove borders\n",
    "plt.gca().spines[\"top\"].set_alpha(0.0)    \n",
    "plt.gca().spines[\"bottom\"].set_alpha(0.3)\n",
    "plt.gca().spines[\"right\"].set_alpha(0.0)    \n",
    "plt.gca().spines[\"left\"].set_alpha(0.3)   \n",
    "plt.show()"
   ]
  },
  {
   "cell_type": "markdown",
   "metadata": {},
   "source": [
    "### <font color='bule'> 源代码竟然有这么长，宝宝表示很震惊…………"
   ]
  },
  {
   "cell_type": "markdown",
   "metadata": {},
   "source": [
    "<img src='http://pictes.oss-cn-beijing.aliyuncs.com/microclass-virtualisation/week6%20time%20series/shock%20dog.jpg'>"
   ]
  },
  {
   "cell_type": "markdown",
   "metadata": {},
   "source": [
    "源代码中有两处错误，这里已经修正：   \n",
    "（1）df数据集中列名分别为date/value,没有traffic    \n",
    "（2）关于x轴刻度，如果想要保留字符串前4位作为年份，应该是x[:4],而不是[-4:]"
   ]
  },
  {
   "cell_type": "markdown",
   "metadata": {},
   "source": [
    "下面我们一起来看一下源代码是如何画时间序列图的~"
   ]
  },
  {
   "cell_type": "code",
   "execution_count": 29,
   "metadata": {},
   "outputs": [],
   "source": [
    "#源代码(修正版)\n",
    "\n",
    "# Import Data\n",
    "df = pd.read_csv('https://github.com/selva86/datasets/raw/master/AirPassengers.csv') #导入数据集"
   ]
  },
  {
   "cell_type": "code",
   "execution_count": 30,
   "metadata": {},
   "outputs": [
    {
     "data": {
      "image/png": "[encoded data removed]",
      "text/plain": [
       "<Figure size 720x360 with 1 Axes>"
      ]
     },
     "metadata": {
      "needs_background": "light"
     },
     "output_type": "display_data"
    }
   ],
   "source": [
    "# Draw Plot\n",
    "plt.figure(figsize=(12,6), dpi= 60) #创建画布并设定画布大小\n",
    "plt.plot('date', 'value', data=df, color='tab:red') #绘制折线图\n",
    "\n",
    "# Decoration\n",
    "plt.ylim(50, 750)   #设定y轴刻度范围\n",
    "xtick_location = df.index.tolist()[::12]  #每12个索引提取一个\n",
    "xtick_labels = [x[:4] for x in df.date.tolist()[::12]] #df日期列每12个提取一个\n",
    "plt.xticks(ticks=xtick_location, labels=xtick_labels #人为将x轴刻度稀疏化，并且设定年份作为刻度标签\n",
    "           ,rotation=0   #rotation指的是刻度标签旋转的角度，默认为 0度\n",
    "           ,fontsize=12  #设定刻度字体大小\n",
    "           ,horizontalalignment='center' #设定水平对齐方式，可选项为left/right/center,默认为center\n",
    "           ,alpha=.7     #设定刻度标签的透明度，默认为1（此参数并不会改变轴的透明度）\n",
    "          )\n",
    "\n",
    "plt.yticks(fontsize=12, alpha=.7) #设定y轴刻度标签大小和透明度\n",
    "plt.title(\"Air Passengers Traffic (1949 - 1969)\", fontsize=22) #添加图标标题\n",
    "plt.grid(axis='both', alpha=.3) #配置网格线，并设定网格线透明度,axis的可选项有x/y/both(默认为both)\n",
    "\n",
    "# Remove borders\n",
    "plt.gca().spines[\"top\"].set_alpha(0.0)    #获取当前子图，并设定上边框透明度为0,相当于去掉了上边框\n",
    "plt.gca().spines[\"bottom\"].set_alpha(0.3) #弱化下边框的颜色\n",
    "plt.gca().spines[\"right\"].set_alpha(0.0)  #去掉右边框  \n",
    "plt.gca().spines[\"left\"].set_alpha(0.3)   #弱化左边框的颜色\n",
    "plt.show()  #本地显示图形，可用分号;代替"
   ]
  },
  {
   "cell_type": "markdown",
   "metadata": {},
   "source": [
    "#### ※绘制折线图的另一种设定方式 "
   ]
  },
  {
   "cell_type": "markdown",
   "metadata": {},
   "source": [
    "将全部数据赋值给data参数，然后从中挑选出绘图所需的数据   "
   ]
  },
  {
   "cell_type": "code",
   "execution_count": 31,
   "metadata": {},
   "outputs": [],
   "source": [
    "m = pd.DataFrame({'m':np.arange(2,21,2),'n':np.random.rand(10),'l':np.random.randn(10)})"
   ]
  },
  {
   "cell_type": "code",
   "execution_count": 32,
   "metadata": {},
   "outputs": [
    {
     "data": {
      "image/png": "[encoded data removed]",
      "text/plain": [
       "<Figure size 432x288 with 1 Axes>"
      ]
     },
     "metadata": {
      "needs_background": "light"
     },
     "output_type": "display_data"
    }
   ],
   "source": [
    "plt.plot('m', 'n', data=m, color='tab:red');\n",
    "\n",
    "#tab:red——是“T10”分类调色板中的Tableau颜色\n",
    "#共10种：{'tab:blue', 'tab:orange', 'tab:green', 'tab:red', 'tab:purple',\n",
    "#'tab:brown', 'tab:pink', 'tab:gray', 'tab:olive', 'tab:cyan'}"
   ]
  },
  {
   "cell_type": "markdown",
   "metadata": {},
   "source": [
    "这里的color设定参考Matplotlib官网说明：https://matplotlib.org/users/colors.html"
   ]
  },
  {
   "cell_type": "markdown",
   "metadata": {},
   "source": [
    "### 5. 图像解读"
   ]
  },
  {
   "cell_type": "markdown",
   "metadata": {},
   "source": [
    "- 从1949年到1960年该航空公司的乘客人数逐年上涨\n",
    "- 每年的乘客人数呈现出了季节性趋势：年中出现高峰"
   ]
  },
  {
   "cell_type": "code",
   "execution_count": null,
   "metadata": {},
   "outputs": [],
   "source": []
  },
  {
   "cell_type": "markdown",
   "metadata": {},
   "source": [
    "### <font color=bule> 36/50 带波峰波谷注释的时间序列图（Time Series with Peaks and Troughs Annotated）  "
   ]
  },
  {
   "cell_type": "markdown",
   "metadata": {},
   "source": [
    "这个图就是在简单的时间序列图上添加了一些注释，能够突出特殊的部分"
   ]
  },
  {
   "cell_type": "markdown",
   "metadata": {},
   "source": [
    "<img src='http://pictes.oss-cn-beijing.aliyuncs.com/microclass-virtualisation/week6%20time%20series/%E5%B8%A6%E6%B3%A2%E5%B3%B0%E6%B3%A2%E8%B0%B7%E6%A0%87%E8%AE%B0%E7%9A%84%E6%97%B6%E9%97%B4%E5%BA%8F%E5%88%97.png' width=600>"
   ]
  },
  {
   "cell_type": "markdown",
   "metadata": {},
   "source": [
    "横坐标：年份和月份   \n",
    "纵坐标：乘客数量    \n",
    "图例：乘客数量、波峰、波谷"
   ]
  },
  {
   "cell_type": "markdown",
   "metadata": {},
   "source": [
    "### 1.导入相应的绘图包"
   ]
  },
  {
   "cell_type": "code",
   "execution_count": 33,
   "metadata": {},
   "outputs": [],
   "source": [
    "import pandas as pd \n",
    "import numpy as np\n",
    "import matplotlib as mpl\n",
    "import matplotlib.pyplot as plt\n",
    "%matplotlib inline"
   ]
  },
  {
   "cell_type": "markdown",
   "metadata": {},
   "source": [
    "### 2.认识绘制带注释的时间序列图函数"
   ]
  },
  {
   "cell_type": "markdown",
   "metadata": {},
   "source": [
    "**plt.plot**   \n",
    "- 函数功能：绘制折线图   \n",
    "> 重要参数:   \n",
    ">> x, y：绘制折线图的数据    \n",
    ">> fmt：格式字符串由颜色、标记和线组成（fmt ='[color] [marker] [line]'）      \n",
    ">> data：带有标记数据的对象  \n",
    "\n",
    "**plt.annotate**\n",
    "- 函数功能：添加注释\n",
    "> 重要参数   \n",
    ">> s：注释的文本内容   \n",
    ">> xy：注释的起始位置   \n",
    ">> xytext：文本的起始位置    \n",
    ">> xycoords：xy坐标系(默认使用被注释对象的坐标轴，即xycoords='data')    \n",
    ">> arrowprops: 用来设置箭头   \n",
    ">> facecolor: 设置箭头的颜色   \n",
    ">> headlength: 箭头的头的长度   \n",
    ">> headwidth: 箭头的宽度   \n",
    ">> width: 箭身的宽度   \n",
    "\n",
    "**plt.text**\n",
    "> 重要参数  \n",
    ">> x,y：文本放置的位置坐标   \n",
    ">> s：文本的内容   \n",
    ">> horizontalalignment：水平对齐控制参数（center/left/right三种可选）   \n",
    ">> verticalalignment：垂直对齐控制参数（'top', 'bottom', 'center', 'baseline', 'center_baseline'五种可选） "
   ]
  },
  {
   "cell_type": "markdown",
   "metadata": {},
   "source": [
    "关于annotate相关参考matplotlib官网资料：https://matplotlib.org/tutorials/text/annotations.html?highlight=boxstyle  \n",
    "之前在12发散型文本图中讲过plt.text   \n",
    "在13棒棒糖图中也讲过plt.annotate\n"
   ]
  },
  {
   "cell_type": "markdown",
   "metadata": {},
   "source": [
    "### 3.导入数据集"
   ]
  },
  {
   "cell_type": "code",
   "execution_count": 34,
   "metadata": {},
   "outputs": [],
   "source": [
    "df = pd.read_csv('https://github.com/selva86/datasets/raw/master/AirPassengers.csv')"
   ]
  },
  {
   "cell_type": "code",
   "execution_count": 35,
   "metadata": {},
   "outputs": [
    {
     "data": {
      "text/html": [
       "<div>\n",
       "<style scoped>\n",
       "    .dataframe tbody tr th:only-of-type {\n",
       "        vertical-align: middle;\n",
       "    }\n",
       "\n",
       "    .dataframe tbody tr th {\n",
       "        vertical-align: top;\n",
       "    }\n",
       "\n",
       "    .dataframe thead th {\n",
       "        text-align: right;\n",
       "    }\n",
       "</style>\n",
       "<table border=\"1\" class=\"dataframe\">\n",
       "  <thead>\n",
       "    <tr style=\"text-align: right;\">\n",
       "      <th></th>\n",
       "      <th>date</th>\n",
       "      <th>value</th>\n",
       "    </tr>\n",
       "  </thead>\n",
       "  <tbody>\n",
       "    <tr>\n",
       "      <th>0</th>\n",
       "      <td>1949-01-01</td>\n",
       "      <td>112</td>\n",
       "    </tr>\n",
       "    <tr>\n",
       "      <th>1</th>\n",
       "      <td>1949-02-01</td>\n",
       "      <td>118</td>\n",
       "    </tr>\n",
       "    <tr>\n",
       "      <th>2</th>\n",
       "      <td>1949-03-01</td>\n",
       "      <td>132</td>\n",
       "    </tr>\n",
       "    <tr>\n",
       "      <th>3</th>\n",
       "      <td>1949-04-01</td>\n",
       "      <td>129</td>\n",
       "    </tr>\n",
       "    <tr>\n",
       "      <th>4</th>\n",
       "      <td>1949-05-01</td>\n",
       "      <td>121</td>\n",
       "    </tr>\n",
       "  </tbody>\n",
       "</table>\n",
       "</div>"
      ],
      "text/plain": [
       "         date  value\n",
       "0  1949-01-01    112\n",
       "1  1949-02-01    118\n",
       "2  1949-03-01    132\n",
       "3  1949-04-01    129\n",
       "4  1949-05-01    121"
      ]
     },
     "execution_count": 35,
     "metadata": {},
     "output_type": "execute_result"
    }
   ],
   "source": [
    "df.head()"
   ]
  },
  {
   "cell_type": "code",
   "execution_count": 36,
   "metadata": {},
   "outputs": [
    {
     "name": "stdout",
     "output_type": "stream",
     "text": [
      "<class 'pandas.core.frame.DataFrame'>\n",
      "RangeIndex: 144 entries, 0 to 143\n",
      "Data columns (total 2 columns):\n",
      "date     144 non-null object\n",
      "value    144 non-null int64\n",
      "dtypes: int64(1), object(1)\n",
      "memory usage: 2.3+ KB\n"
     ]
    }
   ],
   "source": [
    "df.info()"
   ]
  },
  {
   "cell_type": "markdown",
   "metadata": {},
   "source": [
    "### 4.绘制目标图形"
   ]
  },
  {
   "cell_type": "markdown",
   "metadata": {},
   "source": [
    "#### 首先绘制简单的时间序列图"
   ]
  },
  {
   "cell_type": "code",
   "execution_count": 39,
   "metadata": {},
   "outputs": [
    {
     "data": {
      "image/png": "[encoded data removed]",
      "text/plain": [
       "<Figure size 720x360 with 1 Axes>"
      ]
     },
     "metadata": {
      "needs_background": "light"
     },
     "output_type": "display_data"
    }
   ],
   "source": [
    "#创建画布并设定画布大小\n",
    "plt.figure(figsize=(12,6),dpi=60)\n",
    "\n",
    "#绘制时间序列图\n",
    "plt.plot(df.date,df.value)\n",
    "\n",
    "#去掉上边框和右边框，虚化左边框和下边框\n",
    "plt.gca().spines['top'].set_alpha(.0)\n",
    "plt.gca().spines['right'].set_alpha(.0)\n",
    "plt.gca().spines['bottom'].set_alpha(.3)\n",
    "plt.gca().spines['left'].set_alpha(.3)\n",
    "\n",
    "#添加装饰\n",
    "plt.title('Peak and Troughs of Air Passengers Traffic (1949 - 1960)',fontsize=20)\n",
    "plt.ylim(50,750)\n",
    "plt.yticks(fontsize=12, alpha=.7)\n",
    "df['date1'] = pd.to_datetime(df.date)\n",
    "xtlabel = [str(m)[:3]+' '+str(y) for y,m in zip(df.date1.dt.year,df.date1.dt.month_name())][::6]\n",
    "plt.xticks(df.index.tolist()[::6],xtlabel,rotation=90,fontsize=12, alpha=.7)\n",
    "plt.grid(axis='y',alpha=.3);"
   ]
  },
  {
   "cell_type": "markdown",
   "metadata": {},
   "source": [
    "基本的时间序列折线图已经绘制完毕，接下来就可以添加注释了~"
   ]
  },
  {
   "cell_type": "markdown",
   "metadata": {},
   "source": [
    "#### 添加注释"
   ]
  },
  {
   "cell_type": "code",
   "execution_count": 35,
   "metadata": {},
   "outputs": [],
   "source": [
    "#首先我们需要把波峰和波谷分别找出来\n",
    "#当数据不再增加（开始减小）的时候，即出现波峰，也就是与前一个数据相比增长为负的那个点即为波峰\n",
    "#同理，当数据不再减小（开始增大）的时候，出现波谷"
   ]
  },
  {
   "cell_type": "markdown",
   "metadata": {},
   "source": [
    "**np.diff()**   \n",
    "函数功能是计算指定轴的离差值   \n",
    "重要参数：\n",
    "> a:输入数据  \n",
    "> n:值的差异次数，默认n=1  \n",
    "> axis:指定轴，默认-1，最后一个轴"
   ]
  },
  {
   "cell_type": "code",
   "execution_count": 40,
   "metadata": {},
   "outputs": [
    {
     "data": {
      "text/plain": [
       "0    112\n",
       "1    118\n",
       "2    132\n",
       "3    129\n",
       "4    121\n",
       "Name: value, dtype: int64"
      ]
     },
     "execution_count": 40,
     "metadata": {},
     "output_type": "execute_result"
    }
   ],
   "source": [
    "#以数据集中乘客数为例\n",
    "df.value[:5]"
   ]
  },
  {
   "cell_type": "code",
   "execution_count": 41,
   "metadata": {},
   "outputs": [
    {
     "data": {
      "text/plain": [
       "array([   6,   14,   -3,   -8,   14,   13,    0,  -12,  -17,  -15,   14,\n",
       "         -3,   11,   15,   -6,  -10,   24,   21,    0,  -12,  -25,  -19,\n",
       "         26,    5,    5,   28,  -15,    9,    6,   21,    0,  -15,  -22,\n",
       "        -16,   20,    5,    9,   13,  -12,    2,   35,   12,   12,  -33,\n",
       "        -18,  -19,   22,    2,    0,   40,   -1,   -6,   14,   21,    8,\n",
       "        -35,  -26,  -31,   21,    3,  -16,   47,   -8,    7,   30,   38,\n",
       "         -9,  -34,  -30,  -26,   26,   13,   -9,   34,    2,    1,   45,\n",
       "         49,  -17,  -35,  -38,  -37,   41,    6,   -7,   40,   -4,    5,\n",
       "         56,   39,   -8,  -50,  -49,  -35,   35,    9,  -14,   55,   -8,\n",
       "          7,   67,   43,    2,  -63,  -57,  -42,   31,    4,  -22,   44,\n",
       "        -14,   15,   72,   56,   14, -101,  -45,  -49,   27,   23,  -18,\n",
       "         64,  -10,   24,   52,   76,   11,  -96,  -56,  -45,   43,   12,\n",
       "        -26,   28,   42,   11,   63,   87,  -16,  -98,  -47,  -71,   42],\n",
       "      dtype=int64)"
      ]
     },
     "execution_count": 41,
     "metadata": {},
     "output_type": "execute_result"
    }
   ],
   "source": [
    "np.diff(df.value,n=1) #后一个数减去前一个数的差值，并将差值放在前一个数的位置"
   ]
  },
  {
   "cell_type": "code",
   "execution_count": 42,
   "metadata": {},
   "outputs": [
    {
     "data": {
      "text/plain": [
       "array([   8,  -17,   -5,   22,   -1,  -13,  -12,   -5,    2,   29,  -17,\n",
       "         14,    4,  -21,   -4,   34,   -3,  -21,  -12,  -13,    6,   45,\n",
       "        -21,    0,   23,  -43,   24,   -3,   15,  -21,  -15,   -7,    6,\n",
       "         36,  -15,    4,    4,  -25,   14,   33,  -23,    0,  -45,   15,\n",
       "         -1,   41,  -20,   -2,   40,  -41,   -5,   20,    7,  -13,  -43,\n",
       "          9,   -5,   52,  -18,  -19,   63,  -55,   15,   23,    8,  -47,\n",
       "        -25,    4,    4,   52,  -13,  -22,   43,  -32,   -1,   44,    4,\n",
       "        -66,  -18,   -3,    1,   78,  -35,  -13,   47,  -44,    9,   51,\n",
       "        -17,  -47,  -42,    1,   14,   70,  -26,  -23,   69,  -63,   15,\n",
       "         60,  -24,  -41,  -65,    6,   15,   73,  -27,  -26,   66,  -58,\n",
       "         29,   57,  -16,  -42, -115,   56,   -4,   76,   -4,  -41,   82,\n",
       "        -74,   34,   28,   24,  -65, -107,   40,   11,   88,  -31,  -38,\n",
       "         54,   14,  -31,   52,   24, -103,  -82,   51,  -24,  113],\n",
       "      dtype=int64)"
      ]
     },
     "execution_count": 42,
     "metadata": {},
     "output_type": "execute_result"
    }
   ],
   "source": [
    "np.diff(df.value,n=2)"
   ]
  },
  {
   "cell_type": "code",
   "execution_count": 43,
   "metadata": {},
   "outputs": [
    {
     "data": {
      "text/plain": [
       "array([ -25,   12,   27,  -23,  -12,    1,    7,    7,   27,  -46,   31,\n",
       "        -10,  -25,   17,   38,  -37,  -18,    9,   -1,   19,   39,  -66,\n",
       "         21,   23,  -66,   67,  -27,   18,  -36,    6,    8,   13,   30,\n",
       "        -51,   19,    0,  -29,   39,   19,  -56,   23,  -45,   60,  -16,\n",
       "         42,  -61,   18,   42,  -81,   36,   25,  -13,  -20,  -30,   52,\n",
       "        -14,   57,  -70,   -1,   82, -118,   70,    8,  -15,  -55,   22,\n",
       "         29,    0,   48,  -65,   -9,   65,  -75,   31,   45,  -40,  -70,\n",
       "         48,   15,    4,   77, -113,   22,   60,  -91,   53,   42,  -68,\n",
       "        -30,    5,   43,   13,   56,  -96,    3,   92, -132,   78,   45,\n",
       "        -84,  -17,  -24,   71,    9,   58, -100,    1,   92, -124,   87,\n",
       "         28,  -73,  -26,  -73,  171,  -60,   80,  -80,  -37,  123, -156,\n",
       "        108,   -6,   -4,  -89,  -42,  147,  -29,   77, -119,   -7,   92,\n",
       "        -40,  -45,   83,  -28, -127,   21,  133,  -75,  137], dtype=int64)"
      ]
     },
     "execution_count": 43,
     "metadata": {},
     "output_type": "execute_result"
    }
   ],
   "source": [
    "np.diff(df.value,n=3)"
   ]
  },
  {
   "cell_type": "markdown",
   "metadata": {},
   "source": [
    "**np.sign**   \n",
    "函数功能：返回输入数据的符号（-1 if x < 0, 0 if x==0, 1 if x > 0）"
   ]
  },
  {
   "cell_type": "code",
   "execution_count": 44,
   "metadata": {},
   "outputs": [],
   "source": [
    "# np.sign(5)"
   ]
  },
  {
   "cell_type": "code",
   "execution_count": 45,
   "metadata": {},
   "outputs": [],
   "source": [
    "# np.sign(-5)"
   ]
  },
  {
   "cell_type": "code",
   "execution_count": 46,
   "metadata": {},
   "outputs": [],
   "source": [
    "# np.sign(0)"
   ]
  },
  {
   "cell_type": "markdown",
   "metadata": {},
   "source": [
    "寻找波峰和波谷"
   ]
  },
  {
   "cell_type": "code",
   "execution_count": 47,
   "metadata": {},
   "outputs": [
    {
     "data": {
      "text/plain": [
       "array([ 1,  1, -1, -1,  1,  1,  0, -1, -1, -1,  1, -1,  1,  1, -1, -1,  1,\n",
       "        1,  0, -1, -1, -1,  1,  1,  1,  1, -1,  1,  1,  1,  0, -1, -1, -1,\n",
       "        1,  1,  1,  1, -1,  1,  1,  1,  1, -1, -1, -1,  1,  1,  0,  1, -1,\n",
       "       -1,  1,  1,  1, -1, -1, -1,  1,  1, -1,  1, -1,  1,  1,  1, -1, -1,\n",
       "       -1, -1,  1,  1, -1,  1,  1,  1,  1,  1, -1, -1, -1, -1,  1,  1, -1,\n",
       "        1, -1,  1,  1,  1, -1, -1, -1, -1,  1,  1, -1,  1, -1,  1,  1,  1,\n",
       "        1, -1, -1, -1,  1,  1, -1,  1, -1,  1,  1,  1,  1, -1, -1, -1,  1,\n",
       "        1, -1,  1, -1,  1,  1,  1,  1, -1, -1, -1,  1,  1, -1,  1,  1,  1,\n",
       "        1,  1, -1, -1, -1, -1,  1], dtype=int64)"
      ]
     },
     "execution_count": 47,
     "metadata": {},
     "output_type": "execute_result"
    }
   ],
   "source": [
    "#一次求离差\n",
    "np.sign(np.diff(df.value))"
   ]
  },
  {
   "cell_type": "code",
   "execution_count": 48,
   "metadata": {},
   "outputs": [
    {
     "data": {
      "text/plain": [
       "array([ 0, -2,  0,  2,  0, -1, -1,  0,  0,  2, -2,  2,  0, -2,  0,  2,  0,\n",
       "       -1, -1,  0,  0,  2,  0,  0,  0, -2,  2,  0,  0, -1, -1,  0,  0,  2,\n",
       "        0,  0,  0, -2,  2,  0,  0,  0, -2,  0,  0,  2,  0, -1,  1, -2,  0,\n",
       "        2,  0,  0, -2,  0,  0,  2,  0, -2,  2, -2,  2,  0,  0, -2,  0,  0,\n",
       "        0,  2,  0, -2,  2,  0,  0,  0,  0, -2,  0,  0,  0,  2,  0, -2,  2,\n",
       "       -2,  2,  0,  0, -2,  0,  0,  0,  2,  0, -2,  2, -2,  2,  0,  0,  0,\n",
       "       -2,  0,  0,  2,  0, -2,  2, -2,  2,  0,  0,  0, -2,  0,  0,  2,  0,\n",
       "       -2,  2, -2,  2,  0,  0,  0, -2,  0,  0,  2,  0, -2,  2,  0,  0,  0,\n",
       "        0, -2,  0,  0,  0,  2], dtype=int64)"
      ]
     },
     "execution_count": 48,
     "metadata": {},
     "output_type": "execute_result"
    }
   ],
   "source": [
    "#二次求离差\n",
    "np.diff(np.sign(np.diff(df.value)))"
   ]
  },
  {
   "cell_type": "code",
   "execution_count": 49,
   "metadata": {},
   "outputs": [],
   "source": [
    "data = df['value'].values\n",
    "doublediff = np.diff(np.sign(np.diff(data)))"
   ]
  },
  {
   "cell_type": "code",
   "execution_count": 50,
   "metadata": {},
   "outputs": [
    {
     "data": {
      "text/plain": [
       "array([  1,  10,  13,  25,  37,  42,  49,  54,  59,  61,  65,  71,  77,\n",
       "        83,  85,  89,  95,  97, 102, 107, 109, 114, 119, 121, 126, 131,\n",
       "       137], dtype=int64)"
      ]
     },
     "execution_count": 50,
     "metadata": {},
     "output_type": "execute_result"
    }
   ],
   "source": [
    "np.where(doublediff == -2)[0]\n",
    "#-2代表着数据是先增大后减小，所以这里应该是一个波峰，需要注意的是np.diff返回的结果是差值放在前一个数的位置上，那真正的波峰应该是后一个位置"
   ]
  },
  {
   "cell_type": "markdown",
   "metadata": {},
   "source": [
    "##### 以前5个数为例，帮助我们理解"
   ]
  },
  {
   "cell_type": "code",
   "execution_count": 51,
   "metadata": {},
   "outputs": [
    {
     "data": {
      "text/plain": [
       "0    112\n",
       "1    118\n",
       "2    132\n",
       "3    129\n",
       "4    121\n",
       "Name: value, dtype: int64"
      ]
     },
     "execution_count": 51,
     "metadata": {},
     "output_type": "execute_result"
    }
   ],
   "source": [
    "df.value[:5] \n",
    "#前5个数中，波峰应该是132，它的索引是2，而上面我们找到的-2所在的索引是1，所以应该-2所在索引＋1即为真正波峰所在位置"
   ]
  },
  {
   "cell_type": "code",
   "execution_count": 52,
   "metadata": {},
   "outputs": [
    {
     "data": {
      "text/plain": [
       "array([  3,   9,  11,  15,  21,  26,  33,  38,  45,  51,  57,  60,  62,\n",
       "        69,  72,  81,  84,  86,  93,  96,  98, 105, 108, 110, 117, 120,\n",
       "       122, 129, 132, 141], dtype=int64)"
      ]
     },
     "execution_count": 52,
     "metadata": {},
     "output_type": "execute_result"
    }
   ],
   "source": [
    "np.where(doublediff == 2)[0]\n",
    "#同样，2代表着数据是先减少后增加，所以应该是波谷，但真正的波谷应该是2所在索引+1"
   ]
  },
  {
   "cell_type": "markdown",
   "metadata": {},
   "source": [
    "#### 添加波峰波谷"
   ]
  },
  {
   "cell_type": "code",
   "execution_count": 63,
   "metadata": {},
   "outputs": [
    {
     "data": {
      "image/png": "[encoded data removed]",
      "text/plain": [
       "<Figure size 960x480 with 1 Axes>"
      ]
     },
     "metadata": {
      "needs_background": "light"
     },
     "output_type": "display_data"
    }
   ],
   "source": [
    "#创建画布并设定画布大小\n",
    "plt.figure(figsize=(16,8),dpi=60)\n",
    "#生成X轴刻度标签\n",
    "df['date1'] = pd.to_datetime(df.date)\n",
    "xtlabel = [str(m)[:3]+' '+str(y) for y,m in zip(df.date1.dt.year,df.date1.dt.month_name())]\n",
    "\n",
    "#找到波峰波谷的位置\n",
    "data = df['value'].values  #提取数据\n",
    "doublediff = np.diff(np.sign(np.diff(data)))  #计算二次离差\n",
    "peak_locations = np.where(doublediff == -2)[0] + 1  #波峰位置\n",
    "trough_locations = np.where(doublediff == 2)[0] + 1 #波谷位置\n",
    "\n",
    "#绘制时间序列图\n",
    "plt.plot(df.date,df.value)\n",
    "#添加波峰波谷\n",
    "plt.scatter(df.date[peak_locations], df.value[peak_locations], marker=mpl.markers.CARETUPBASE, color='tab:green', s=100, label='Peaks')\n",
    "plt.scatter(df.date[trough_locations],df.value[trough_locations], marker=mpl.markers.CARETDOWNBASE, color='tab:red', s=100, label='Troughs')\n",
    "\n",
    "#添加波峰波谷的注释\n",
    "for t, p in zip(trough_locations[1::5], peak_locations[::3]):\n",
    "    plt.text(df.date[p], df.value[p]+15, xtlabel[p], horizontalalignment='center', color='darkgreen') #波峰的注释\n",
    "    plt.text(df.date[t], df.value[t]-20, xtlabel[t], horizontalalignment='center', color='darkred')   #波谷的注释\n",
    "\n",
    "#去掉上边框和右边框，虚化左边框和下边框\n",
    "plt.gca().spines['top'].set_alpha(.0)\n",
    "plt.gca().spines['right'].set_alpha(.0)\n",
    "plt.gca().spines['bottom'].set_alpha(.3)\n",
    "plt.gca().spines['left'].set_alpha(.3)\n",
    "\n",
    "#添加装饰\n",
    "plt.title('Peak and Troughs of Air Passengers Traffic (1949 - 1960)',fontsize=20)\n",
    "plt.ylim(50,750)\n",
    "plt.yticks(fontsize=12, alpha=.7)\n",
    "plt.xticks(df.index.tolist()[::6],xtlabel[::6],rotation=90,fontsize=12, alpha=.7)\n",
    "plt.legend(loc=2,frameon=False,fontsize=15)\n",
    "plt.grid(axis='y',alpha=.3);"
   ]
  },
  {
   "cell_type": "markdown",
   "metadata": {},
   "source": [
    "关于markers形状可参考：https://matplotlib.org/api/markers_api.html"
   ]
  },
  {
   "cell_type": "code",
   "execution_count": 64,
   "metadata": {},
   "outputs": [
    {
     "data": {
      "image/png": "[encoded data removed]",
      "text/plain": [
       "<Figure size 960x480 with 1 Axes>"
      ]
     },
     "metadata": {
      "needs_background": "light"
     },
     "output_type": "display_data"
    }
   ],
   "source": [
    "# Import Data\n",
    "df = pd.read_csv('https://github.com/selva86/datasets/raw/master/AirPassengers.csv')\n",
    "\n",
    "# Get the Peaks and Troughs\n",
    "data = df['value'].values\n",
    "doublediff = np.diff(np.sign(np.diff(data)))\n",
    "peak_locations = np.where(doublediff == -2)[0] + 1\n",
    "\n",
    "doublediff2 = np.diff(np.sign(np.diff(-1*data)))\n",
    "trough_locations = np.where(doublediff2 == -2)[0] + 1\n",
    "\n",
    "# Draw Plot\n",
    "plt.figure(figsize=(16,8), dpi= 60)\n",
    "plt.plot('date', 'value', data=df, color='tab:blue', label='Air Traffic')\n",
    "plt.scatter(df.date[peak_locations], df.value[peak_locations], marker=mpl.markers.CARETUPBASE, color='tab:green', s=100, label='Peaks')\n",
    "plt.scatter(df.date[trough_locations], df.value[trough_locations], marker=mpl.markers.CARETDOWNBASE, color='tab:red', s=100, label='Troughs')\n",
    "\n",
    "# Annotate\n",
    "for t, p in zip(trough_locations[1::5], peak_locations[::3]):\n",
    "    plt.text(df.date[p], df.value[p]+15, df.date[p], horizontalalignment='center', color='darkgreen')\n",
    "    plt.text(df.date[t], df.value[t]-35, df.date[t], horizontalalignment='center', color='darkred')\n",
    "\n",
    "# Decoration\n",
    "plt.ylim(50,750)\n",
    "xtick_location = df.index.tolist()[::6]\n",
    "xtick_labels = df.date.tolist()[::6]\n",
    "plt.xticks(ticks=xtick_location, labels=xtick_labels, rotation=90, fontsize=12, alpha=.7)\n",
    "plt.title(\"Peak and Troughs of Air Passengers Traffic (1949 - 1960)\", fontsize=22)\n",
    "plt.yticks(fontsize=12, alpha=.7)\n",
    "\n",
    "# Lighten borders\n",
    "plt.gca().spines[\"top\"].set_alpha(.0)\n",
    "plt.gca().spines[\"bottom\"].set_alpha(.3)\n",
    "plt.gca().spines[\"right\"].set_alpha(.0)\n",
    "plt.gca().spines[\"left\"].set_alpha(.3)\n",
    "\n",
    "plt.legend(loc='upper left')\n",
    "plt.grid(axis='y', alpha=.3)\n",
    "plt.show()"
   ]
  },
  {
   "cell_type": "markdown",
   "metadata": {},
   "source": [
    "### 5.图像解读"
   ]
  },
  {
   "cell_type": "code",
   "execution_count": null,
   "metadata": {},
   "outputs": [],
   "source": []
  }
 ],
 "metadata": {
  "kernelspec": {
   "display_name": "Python 3",
   "language": "python",
   "name": "python3"
  },
  "language_info": {
   "codemirror_mode": {
    "name": "ipython",
    "version": 3
   },
   "file_extension": ".py",
   "mimetype": "text/x-python",
   "name": "python",
   "nbconvert_exporter": "python",
   "pygments_lexer": "ipython3",
   "version": "3.7.1"
  }
 },
 "nbformat": 4,
 "nbformat_minor": 2
}
