{
 "cells": [
  {
   "cell_type": "markdown",
   "metadata": {},
   "source": [
    "# **菊安酱与菜菜的Python机器学习可视化**"
   ]
  },
  {
   "cell_type": "markdown",
   "metadata": {},
   "source": [
    "## 第三期 排序图 (1)"
   ]
  },
  {
   "cell_type": "markdown",
   "metadata": {},
   "source": [
    "<img src=\"http://pictes.oss-cn-beijing.aliyuncs.com/microclass-virtualisation/week1correlation/line4.png\" align=\"center\" />"
   ]
  },
  {
   "cell_type": "markdown",
   "metadata": {},
   "source": [
    "## <center>每周三晚上8点直播1小时，完整版2小时周日上线~</center>\n",
    "## <center>单数周菜菜直播，双数周菊安酱直播，哔哩哔哩与peixun.net同步开启</center>"
   ]
  },
  {
   "cell_type": "markdown",
   "metadata": {},
   "source": [
    "<img src=\"http://pictes.oss-cn-beijing.aliyuncs.com/microclass-virtualisation/week1correlation/line4.png\" align=\"center\" />"
   ]
  },
  {
   "cell_type": "markdown",
   "metadata": {},
   "source": [
    "**注意：本篇中可能遇见无法在matpotlib和seaborn中显示中文或者负号的问题**  \n",
    "如果你遇见了，请参考链接，可永久解决中文和负号问题：https://www.jianshu.com/p/914b5f4ce6bf  \n",
    "或者你也可以在每次需要负号和中文的时候执行下面的代码来避免中文或负号显示不出来："
   ]
  },
  {
   "cell_type": "code",
   "execution_count": 3,
   "metadata": {},
   "outputs": [],
   "source": [
    "import matplotlib.pyplot as plt\n",
    "plt.rcParams['font.sans-serif']=['Simhei'] \n",
    "plt.rcParams['axes.unicode_minus']=False"
   ]
  },
  {
   "cell_type": "markdown",
   "metadata": {},
   "source": [
    "<img src=\"http://pictes.oss-cn-beijing.aliyuncs.com/microclass-virtualisation/week1correlation/line4.png\" align=\"center\" />"
   ]
  },
  {
   "cell_type": "markdown",
   "metadata": {},
   "source": [
    "## **第三章 排序图 Ranking**"
   ]
  },
  {
   "cell_type": "markdown",
   "metadata": {},
   "source": [
    "排序图是Python可视化中最简单的图像之一，它的主要作用是帮助我们比较变量的大小<br>\n",
    "典型的排序图有：柱状图，坡度图，哑铃图……"
   ]
  },
  {
   "cell_type": "markdown",
   "metadata": {},
   "source": [
    "<img src=\"http://pictes.oss-cn-beijing.aliyuncs.com/microclass-virtualisation/week3%20Ranking/%E5%85%B8%E5%9E%8B%E7%9A%84%E6%8E%92%E5%BA%8F%E5%9B%BE.PNG\" align=\"center\" />"
   ]
  },
  {
   "cell_type": "markdown",
   "metadata": {},
   "source": [
    "### 我们什么时候会需要排序图呢？\n",
    "1. 数据报告 & 学术研究：<br>\n",
    ">对比大小：不同年龄的客户的成交率，不同生产成本对应的生产员工技能要求<br>\n",
    ">时间进程：表现某个数据在某个时间点之前的样子，和某个时间点之后的样子的对比\n",
    "2. 数据探索 & 数据解读：<br>\n",
    ">探索数据关系，帮助了解事实，推动研究<br>"
   ]
  },
  {
   "cell_type": "markdown",
   "metadata": {},
   "source": [
    "### 15/50 有序的柱状图"
   ]
  },
  {
   "cell_type": "markdown",
   "metadata": {},
   "source": [
    "<img src=\"http://pictes.oss-cn-beijing.aliyuncs.com/microclass-virtualisation/week3%20Ranking/orderedbarchart.PNG\" align=\"center\" />"
   ]
  },
  {
   "cell_type": "markdown",
   "metadata": {},
   "source": [
    "横坐标：车辆品牌<br>\n",
    "纵坐标：城市里程/加仑<br>"
   ]
  },
  {
   "cell_type": "markdown",
   "metadata": {},
   "source": [
    "### 1. 导入需要的绘图库"
   ]
  },
  {
   "cell_type": "code",
   "execution_count": 4,
   "metadata": {},
   "outputs": [],
   "source": [
    "import numpy as np\n",
    "import pandas as pd\n",
    "import matplotlib as mpl\n",
    "import matplotlib.pyplot as plt\n",
    "import seaborn as sns\n",
    "%matplotlib inline\n",
    "#如果你在使用Jupyter Notebook，你会需要这样一句命令来让你的图像显示"
   ]
  },
  {
   "cell_type": "markdown",
   "metadata": {},
   "source": [
    "### 2. 先来认识一下绘制柱状图的函数"
   ]
  },
  {
   "cell_type": "markdown",
   "metadata": {},
   "source": [
    "#### **plt.vlines()**: vertical line，就是绘制竖线的函数"
   ]
  },
  {
   "cell_type": "markdown",
   "metadata": {},
   "source": [
    "> **重要参数**\n",
    ">> x：横坐标  \n",
    ">> ymin：条形图在y轴上的起点，也就是长条的最下边  \n",
    ">> ymax：条形图在y轴上的终点，也就是长条的最上边  "
   ]
  },
  {
   "cell_type": "code",
   "execution_count": 5,
   "metadata": {},
   "outputs": [],
   "source": [
    "X = [1,2,3,4,5]\n",
    "y = [14,13,20,19,7]"
   ]
  },
  {
   "cell_type": "code",
   "execution_count": 6,
   "metadata": {},
   "outputs": [
    {
     "data": {
      "image/png": "[encoded data removed]",
      "text/plain": [
       "<Figure size 432x288 with 1 Axes>"
      ]
     },
     "metadata": {
      "needs_background": "light"
     },
     "output_type": "display_data"
    }
   ],
   "source": [
    "plt.vlines(x=X, ymin=[0,0,0,5,5], ymax=y);"
   ]
  },
  {
   "cell_type": "code",
   "execution_count": 7,
   "metadata": {},
   "outputs": [],
   "source": [
    "#让线条变宽，就成了柱子"
   ]
  },
  {
   "cell_type": "code",
   "execution_count": 8,
   "metadata": {},
   "outputs": [
    {
     "data": {
      "image/png": "[encoded data removed]",
      "text/plain": [
       "<Figure size 432x288 with 1 Axes>"
      ]
     },
     "metadata": {
      "needs_background": "light"
     },
     "output_type": "display_data"
    }
   ],
   "source": [
    "plt.vlines(x=X, ymin=0,ymax=y\n",
    "           ,linewidth = 20 #调节线宽，默认为2\n",
    "           ,colors='red'\n",
    "           ,linestyles = \"solid\" #调节线型\n",
    "          );\n",
    "#{'solid', 'dashed', 'dashdot', 'dotted'}"
   ]
  },
  {
   "cell_type": "code",
   "execution_count": 9,
   "metadata": {},
   "outputs": [],
   "source": [
    "#希望数据有序？那就对数据排个序"
   ]
  },
  {
   "cell_type": "code",
   "execution_count": 10,
   "metadata": {},
   "outputs": [
    {
     "data": {
      "text/plain": [
       "[14, 13, 20, 19, 7]"
      ]
     },
     "execution_count": 10,
     "metadata": {},
     "output_type": "execute_result"
    }
   ],
   "source": [
    "y"
   ]
  },
  {
   "cell_type": "code",
   "execution_count": 11,
   "metadata": {},
   "outputs": [],
   "source": [
    "y.sort() #会改变原有的对象"
   ]
  },
  {
   "cell_type": "code",
   "execution_count": 12,
   "metadata": {},
   "outputs": [
    {
     "data": {
      "text/plain": [
       "[7, 13, 14, 19, 20]"
      ]
     },
     "execution_count": 12,
     "metadata": {},
     "output_type": "execute_result"
    }
   ],
   "source": [
    "y"
   ]
  },
  {
   "cell_type": "code",
   "execution_count": 13,
   "metadata": {},
   "outputs": [
    {
     "data": {
      "image/png": "[encoded data removed]",
      "text/plain": [
       "<Figure size 432x288 with 1 Axes>"
      ]
     },
     "metadata": {
      "needs_background": "light"
     },
     "output_type": "display_data"
    }
   ],
   "source": [
    "plt.vlines(x=X,ymin=0,ymax=y,linewidth=10,colors=\"red\");"
   ]
  },
  {
   "cell_type": "markdown",
   "metadata": {},
   "source": [
    "### 3. 认识数据，准备数据"
   ]
  },
  {
   "cell_type": "code",
   "execution_count": 14,
   "metadata": {},
   "outputs": [],
   "source": [
    "#导入数据\n",
    "df_raw = pd.read_csv(\"https://github.com/selva86/datasets/raw/master/mpg_ggplot2.csv\")"
   ]
  },
  {
   "cell_type": "code",
   "execution_count": 15,
   "metadata": {},
   "outputs": [
    {
     "data": {
      "text/html": [
       "<div>\n",
       "<style scoped>\n",
       "    .dataframe tbody tr th:only-of-type {\n",
       "        vertical-align: middle;\n",
       "    }\n",
       "\n",
       "    .dataframe tbody tr th {\n",
       "        vertical-align: top;\n",
       "    }\n",
       "\n",
       "    .dataframe thead th {\n",
       "        text-align: right;\n",
       "    }\n",
       "</style>\n",
       "<table border=\"1\" class=\"dataframe\">\n",
       "  <thead>\n",
       "    <tr style=\"text-align: right;\">\n",
       "      <th></th>\n",
       "      <th>manufacturer</th>\n",
       "      <th>model</th>\n",
       "      <th>displ</th>\n",
       "      <th>year</th>\n",
       "      <th>cyl</th>\n",
       "      <th>trans</th>\n",
       "      <th>drv</th>\n",
       "      <th>cty</th>\n",
       "      <th>hwy</th>\n",
       "      <th>fl</th>\n",
       "      <th>class</th>\n",
       "    </tr>\n",
       "  </thead>\n",
       "  <tbody>\n",
       "    <tr>\n",
       "      <th>0</th>\n",
       "      <td>audi</td>\n",
       "      <td>a4</td>\n",
       "      <td>1.8</td>\n",
       "      <td>1999</td>\n",
       "      <td>4</td>\n",
       "      <td>auto(l5)</td>\n",
       "      <td>f</td>\n",
       "      <td>18</td>\n",
       "      <td>29</td>\n",
       "      <td>p</td>\n",
       "      <td>compact</td>\n",
       "    </tr>\n",
       "    <tr>\n",
       "      <th>1</th>\n",
       "      <td>audi</td>\n",
       "      <td>a4</td>\n",
       "      <td>1.8</td>\n",
       "      <td>1999</td>\n",
       "      <td>4</td>\n",
       "      <td>manual(m5)</td>\n",
       "      <td>f</td>\n",
       "      <td>21</td>\n",
       "      <td>29</td>\n",
       "      <td>p</td>\n",
       "      <td>compact</td>\n",
       "    </tr>\n",
       "    <tr>\n",
       "      <th>2</th>\n",
       "      <td>audi</td>\n",
       "      <td>a4</td>\n",
       "      <td>2.0</td>\n",
       "      <td>2008</td>\n",
       "      <td>4</td>\n",
       "      <td>manual(m6)</td>\n",
       "      <td>f</td>\n",
       "      <td>20</td>\n",
       "      <td>31</td>\n",
       "      <td>p</td>\n",
       "      <td>compact</td>\n",
       "    </tr>\n",
       "    <tr>\n",
       "      <th>3</th>\n",
       "      <td>audi</td>\n",
       "      <td>a4</td>\n",
       "      <td>2.0</td>\n",
       "      <td>2008</td>\n",
       "      <td>4</td>\n",
       "      <td>auto(av)</td>\n",
       "      <td>f</td>\n",
       "      <td>21</td>\n",
       "      <td>30</td>\n",
       "      <td>p</td>\n",
       "      <td>compact</td>\n",
       "    </tr>\n",
       "    <tr>\n",
       "      <th>4</th>\n",
       "      <td>audi</td>\n",
       "      <td>a4</td>\n",
       "      <td>2.8</td>\n",
       "      <td>1999</td>\n",
       "      <td>6</td>\n",
       "      <td>auto(l5)</td>\n",
       "      <td>f</td>\n",
       "      <td>16</td>\n",
       "      <td>26</td>\n",
       "      <td>p</td>\n",
       "      <td>compact</td>\n",
       "    </tr>\n",
       "    <tr>\n",
       "      <th>5</th>\n",
       "      <td>audi</td>\n",
       "      <td>a4</td>\n",
       "      <td>2.8</td>\n",
       "      <td>1999</td>\n",
       "      <td>6</td>\n",
       "      <td>manual(m5)</td>\n",
       "      <td>f</td>\n",
       "      <td>18</td>\n",
       "      <td>26</td>\n",
       "      <td>p</td>\n",
       "      <td>compact</td>\n",
       "    </tr>\n",
       "    <tr>\n",
       "      <th>6</th>\n",
       "      <td>audi</td>\n",
       "      <td>a4</td>\n",
       "      <td>3.1</td>\n",
       "      <td>2008</td>\n",
       "      <td>6</td>\n",
       "      <td>auto(av)</td>\n",
       "      <td>f</td>\n",
       "      <td>18</td>\n",
       "      <td>27</td>\n",
       "      <td>p</td>\n",
       "      <td>compact</td>\n",
       "    </tr>\n",
       "    <tr>\n",
       "      <th>7</th>\n",
       "      <td>audi</td>\n",
       "      <td>a4 quattro</td>\n",
       "      <td>1.8</td>\n",
       "      <td>1999</td>\n",
       "      <td>4</td>\n",
       "      <td>manual(m5)</td>\n",
       "      <td>4</td>\n",
       "      <td>18</td>\n",
       "      <td>26</td>\n",
       "      <td>p</td>\n",
       "      <td>compact</td>\n",
       "    </tr>\n",
       "    <tr>\n",
       "      <th>8</th>\n",
       "      <td>audi</td>\n",
       "      <td>a4 quattro</td>\n",
       "      <td>1.8</td>\n",
       "      <td>1999</td>\n",
       "      <td>4</td>\n",
       "      <td>auto(l5)</td>\n",
       "      <td>4</td>\n",
       "      <td>16</td>\n",
       "      <td>25</td>\n",
       "      <td>p</td>\n",
       "      <td>compact</td>\n",
       "    </tr>\n",
       "    <tr>\n",
       "      <th>9</th>\n",
       "      <td>audi</td>\n",
       "      <td>a4 quattro</td>\n",
       "      <td>2.0</td>\n",
       "      <td>2008</td>\n",
       "      <td>4</td>\n",
       "      <td>manual(m6)</td>\n",
       "      <td>4</td>\n",
       "      <td>20</td>\n",
       "      <td>28</td>\n",
       "      <td>p</td>\n",
       "      <td>compact</td>\n",
       "    </tr>\n",
       "    <tr>\n",
       "      <th>10</th>\n",
       "      <td>audi</td>\n",
       "      <td>a4 quattro</td>\n",
       "      <td>2.0</td>\n",
       "      <td>2008</td>\n",
       "      <td>4</td>\n",
       "      <td>auto(s6)</td>\n",
       "      <td>4</td>\n",
       "      <td>19</td>\n",
       "      <td>27</td>\n",
       "      <td>p</td>\n",
       "      <td>compact</td>\n",
       "    </tr>\n",
       "    <tr>\n",
       "      <th>11</th>\n",
       "      <td>audi</td>\n",
       "      <td>a4 quattro</td>\n",
       "      <td>2.8</td>\n",
       "      <td>1999</td>\n",
       "      <td>6</td>\n",
       "      <td>auto(l5)</td>\n",
       "      <td>4</td>\n",
       "      <td>15</td>\n",
       "      <td>25</td>\n",
       "      <td>p</td>\n",
       "      <td>compact</td>\n",
       "    </tr>\n",
       "    <tr>\n",
       "      <th>12</th>\n",
       "      <td>audi</td>\n",
       "      <td>a4 quattro</td>\n",
       "      <td>2.8</td>\n",
       "      <td>1999</td>\n",
       "      <td>6</td>\n",
       "      <td>manual(m5)</td>\n",
       "      <td>4</td>\n",
       "      <td>17</td>\n",
       "      <td>25</td>\n",
       "      <td>p</td>\n",
       "      <td>compact</td>\n",
       "    </tr>\n",
       "    <tr>\n",
       "      <th>13</th>\n",
       "      <td>audi</td>\n",
       "      <td>a4 quattro</td>\n",
       "      <td>3.1</td>\n",
       "      <td>2008</td>\n",
       "      <td>6</td>\n",
       "      <td>auto(s6)</td>\n",
       "      <td>4</td>\n",
       "      <td>17</td>\n",
       "      <td>25</td>\n",
       "      <td>p</td>\n",
       "      <td>compact</td>\n",
       "    </tr>\n",
       "    <tr>\n",
       "      <th>14</th>\n",
       "      <td>audi</td>\n",
       "      <td>a4 quattro</td>\n",
       "      <td>3.1</td>\n",
       "      <td>2008</td>\n",
       "      <td>6</td>\n",
       "      <td>manual(m6)</td>\n",
       "      <td>4</td>\n",
       "      <td>15</td>\n",
       "      <td>25</td>\n",
       "      <td>p</td>\n",
       "      <td>compact</td>\n",
       "    </tr>\n",
       "    <tr>\n",
       "      <th>15</th>\n",
       "      <td>audi</td>\n",
       "      <td>a6 quattro</td>\n",
       "      <td>2.8</td>\n",
       "      <td>1999</td>\n",
       "      <td>6</td>\n",
       "      <td>auto(l5)</td>\n",
       "      <td>4</td>\n",
       "      <td>15</td>\n",
       "      <td>24</td>\n",
       "      <td>p</td>\n",
       "      <td>midsize</td>\n",
       "    </tr>\n",
       "    <tr>\n",
       "      <th>16</th>\n",
       "      <td>audi</td>\n",
       "      <td>a6 quattro</td>\n",
       "      <td>3.1</td>\n",
       "      <td>2008</td>\n",
       "      <td>6</td>\n",
       "      <td>auto(s6)</td>\n",
       "      <td>4</td>\n",
       "      <td>17</td>\n",
       "      <td>25</td>\n",
       "      <td>p</td>\n",
       "      <td>midsize</td>\n",
       "    </tr>\n",
       "    <tr>\n",
       "      <th>17</th>\n",
       "      <td>audi</td>\n",
       "      <td>a6 quattro</td>\n",
       "      <td>4.2</td>\n",
       "      <td>2008</td>\n",
       "      <td>8</td>\n",
       "      <td>auto(s6)</td>\n",
       "      <td>4</td>\n",
       "      <td>16</td>\n",
       "      <td>23</td>\n",
       "      <td>p</td>\n",
       "      <td>midsize</td>\n",
       "    </tr>\n",
       "    <tr>\n",
       "      <th>18</th>\n",
       "      <td>chevrolet</td>\n",
       "      <td>c1500 suburban 2wd</td>\n",
       "      <td>5.3</td>\n",
       "      <td>2008</td>\n",
       "      <td>8</td>\n",
       "      <td>auto(l4)</td>\n",
       "      <td>r</td>\n",
       "      <td>14</td>\n",
       "      <td>20</td>\n",
       "      <td>r</td>\n",
       "      <td>suv</td>\n",
       "    </tr>\n",
       "    <tr>\n",
       "      <th>19</th>\n",
       "      <td>chevrolet</td>\n",
       "      <td>c1500 suburban 2wd</td>\n",
       "      <td>5.3</td>\n",
       "      <td>2008</td>\n",
       "      <td>8</td>\n",
       "      <td>auto(l4)</td>\n",
       "      <td>r</td>\n",
       "      <td>11</td>\n",
       "      <td>15</td>\n",
       "      <td>e</td>\n",
       "      <td>suv</td>\n",
       "    </tr>\n",
       "    <tr>\n",
       "      <th>20</th>\n",
       "      <td>chevrolet</td>\n",
       "      <td>c1500 suburban 2wd</td>\n",
       "      <td>5.3</td>\n",
       "      <td>2008</td>\n",
       "      <td>8</td>\n",
       "      <td>auto(l4)</td>\n",
       "      <td>r</td>\n",
       "      <td>14</td>\n",
       "      <td>20</td>\n",
       "      <td>r</td>\n",
       "      <td>suv</td>\n",
       "    </tr>\n",
       "    <tr>\n",
       "      <th>21</th>\n",
       "      <td>chevrolet</td>\n",
       "      <td>c1500 suburban 2wd</td>\n",
       "      <td>5.7</td>\n",
       "      <td>1999</td>\n",
       "      <td>8</td>\n",
       "      <td>auto(l4)</td>\n",
       "      <td>r</td>\n",
       "      <td>13</td>\n",
       "      <td>17</td>\n",
       "      <td>r</td>\n",
       "      <td>suv</td>\n",
       "    </tr>\n",
       "    <tr>\n",
       "      <th>22</th>\n",
       "      <td>chevrolet</td>\n",
       "      <td>c1500 suburban 2wd</td>\n",
       "      <td>6.0</td>\n",
       "      <td>2008</td>\n",
       "      <td>8</td>\n",
       "      <td>auto(l4)</td>\n",
       "      <td>r</td>\n",
       "      <td>12</td>\n",
       "      <td>17</td>\n",
       "      <td>r</td>\n",
       "      <td>suv</td>\n",
       "    </tr>\n",
       "    <tr>\n",
       "      <th>23</th>\n",
       "      <td>chevrolet</td>\n",
       "      <td>corvette</td>\n",
       "      <td>5.7</td>\n",
       "      <td>1999</td>\n",
       "      <td>8</td>\n",
       "      <td>manual(m6)</td>\n",
       "      <td>r</td>\n",
       "      <td>16</td>\n",
       "      <td>26</td>\n",
       "      <td>p</td>\n",
       "      <td>2seater</td>\n",
       "    </tr>\n",
       "    <tr>\n",
       "      <th>24</th>\n",
       "      <td>chevrolet</td>\n",
       "      <td>corvette</td>\n",
       "      <td>5.7</td>\n",
       "      <td>1999</td>\n",
       "      <td>8</td>\n",
       "      <td>auto(l4)</td>\n",
       "      <td>r</td>\n",
       "      <td>15</td>\n",
       "      <td>23</td>\n",
       "      <td>p</td>\n",
       "      <td>2seater</td>\n",
       "    </tr>\n",
       "    <tr>\n",
       "      <th>25</th>\n",
       "      <td>chevrolet</td>\n",
       "      <td>corvette</td>\n",
       "      <td>6.2</td>\n",
       "      <td>2008</td>\n",
       "      <td>8</td>\n",
       "      <td>manual(m6)</td>\n",
       "      <td>r</td>\n",
       "      <td>16</td>\n",
       "      <td>26</td>\n",
       "      <td>p</td>\n",
       "      <td>2seater</td>\n",
       "    </tr>\n",
       "    <tr>\n",
       "      <th>26</th>\n",
       "      <td>chevrolet</td>\n",
       "      <td>corvette</td>\n",
       "      <td>6.2</td>\n",
       "      <td>2008</td>\n",
       "      <td>8</td>\n",
       "      <td>auto(s6)</td>\n",
       "      <td>r</td>\n",
       "      <td>15</td>\n",
       "      <td>25</td>\n",
       "      <td>p</td>\n",
       "      <td>2seater</td>\n",
       "    </tr>\n",
       "    <tr>\n",
       "      <th>27</th>\n",
       "      <td>chevrolet</td>\n",
       "      <td>corvette</td>\n",
       "      <td>7.0</td>\n",
       "      <td>2008</td>\n",
       "      <td>8</td>\n",
       "      <td>manual(m6)</td>\n",
       "      <td>r</td>\n",
       "      <td>15</td>\n",
       "      <td>24</td>\n",
       "      <td>p</td>\n",
       "      <td>2seater</td>\n",
       "    </tr>\n",
       "    <tr>\n",
       "      <th>28</th>\n",
       "      <td>chevrolet</td>\n",
       "      <td>k1500 tahoe 4wd</td>\n",
       "      <td>5.3</td>\n",
       "      <td>2008</td>\n",
       "      <td>8</td>\n",
       "      <td>auto(l4)</td>\n",
       "      <td>4</td>\n",
       "      <td>14</td>\n",
       "      <td>19</td>\n",
       "      <td>r</td>\n",
       "      <td>suv</td>\n",
       "    </tr>\n",
       "    <tr>\n",
       "      <th>29</th>\n",
       "      <td>chevrolet</td>\n",
       "      <td>k1500 tahoe 4wd</td>\n",
       "      <td>5.3</td>\n",
       "      <td>2008</td>\n",
       "      <td>8</td>\n",
       "      <td>auto(l4)</td>\n",
       "      <td>4</td>\n",
       "      <td>11</td>\n",
       "      <td>14</td>\n",
       "      <td>e</td>\n",
       "      <td>suv</td>\n",
       "    </tr>\n",
       "    <tr>\n",
       "      <th>...</th>\n",
       "      <td>...</td>\n",
       "      <td>...</td>\n",
       "      <td>...</td>\n",
       "      <td>...</td>\n",
       "      <td>...</td>\n",
       "      <td>...</td>\n",
       "      <td>...</td>\n",
       "      <td>...</td>\n",
       "      <td>...</td>\n",
       "      <td>...</td>\n",
       "      <td>...</td>\n",
       "    </tr>\n",
       "    <tr>\n",
       "      <th>204</th>\n",
       "      <td>toyota</td>\n",
       "      <td>toyota tacoma 4wd</td>\n",
       "      <td>3.4</td>\n",
       "      <td>1999</td>\n",
       "      <td>6</td>\n",
       "      <td>auto(l4)</td>\n",
       "      <td>4</td>\n",
       "      <td>15</td>\n",
       "      <td>19</td>\n",
       "      <td>r</td>\n",
       "      <td>pickup</td>\n",
       "    </tr>\n",
       "    <tr>\n",
       "      <th>205</th>\n",
       "      <td>toyota</td>\n",
       "      <td>toyota tacoma 4wd</td>\n",
       "      <td>4.0</td>\n",
       "      <td>2008</td>\n",
       "      <td>6</td>\n",
       "      <td>manual(m6)</td>\n",
       "      <td>4</td>\n",
       "      <td>15</td>\n",
       "      <td>18</td>\n",
       "      <td>r</td>\n",
       "      <td>pickup</td>\n",
       "    </tr>\n",
       "    <tr>\n",
       "      <th>206</th>\n",
       "      <td>toyota</td>\n",
       "      <td>toyota tacoma 4wd</td>\n",
       "      <td>4.0</td>\n",
       "      <td>2008</td>\n",
       "      <td>6</td>\n",
       "      <td>auto(l5)</td>\n",
       "      <td>4</td>\n",
       "      <td>16</td>\n",
       "      <td>20</td>\n",
       "      <td>r</td>\n",
       "      <td>pickup</td>\n",
       "    </tr>\n",
       "    <tr>\n",
       "      <th>207</th>\n",
       "      <td>volkswagen</td>\n",
       "      <td>gti</td>\n",
       "      <td>2.0</td>\n",
       "      <td>1999</td>\n",
       "      <td>4</td>\n",
       "      <td>manual(m5)</td>\n",
       "      <td>f</td>\n",
       "      <td>21</td>\n",
       "      <td>29</td>\n",
       "      <td>r</td>\n",
       "      <td>compact</td>\n",
       "    </tr>\n",
       "    <tr>\n",
       "      <th>208</th>\n",
       "      <td>volkswagen</td>\n",
       "      <td>gti</td>\n",
       "      <td>2.0</td>\n",
       "      <td>1999</td>\n",
       "      <td>4</td>\n",
       "      <td>auto(l4)</td>\n",
       "      <td>f</td>\n",
       "      <td>19</td>\n",
       "      <td>26</td>\n",
       "      <td>r</td>\n",
       "      <td>compact</td>\n",
       "    </tr>\n",
       "    <tr>\n",
       "      <th>209</th>\n",
       "      <td>volkswagen</td>\n",
       "      <td>gti</td>\n",
       "      <td>2.0</td>\n",
       "      <td>2008</td>\n",
       "      <td>4</td>\n",
       "      <td>manual(m6)</td>\n",
       "      <td>f</td>\n",
       "      <td>21</td>\n",
       "      <td>29</td>\n",
       "      <td>p</td>\n",
       "      <td>compact</td>\n",
       "    </tr>\n",
       "    <tr>\n",
       "      <th>210</th>\n",
       "      <td>volkswagen</td>\n",
       "      <td>gti</td>\n",
       "      <td>2.0</td>\n",
       "      <td>2008</td>\n",
       "      <td>4</td>\n",
       "      <td>auto(s6)</td>\n",
       "      <td>f</td>\n",
       "      <td>22</td>\n",
       "      <td>29</td>\n",
       "      <td>p</td>\n",
       "      <td>compact</td>\n",
       "    </tr>\n",
       "    <tr>\n",
       "      <th>211</th>\n",
       "      <td>volkswagen</td>\n",
       "      <td>gti</td>\n",
       "      <td>2.8</td>\n",
       "      <td>1999</td>\n",
       "      <td>6</td>\n",
       "      <td>manual(m5)</td>\n",
       "      <td>f</td>\n",
       "      <td>17</td>\n",
       "      <td>24</td>\n",
       "      <td>r</td>\n",
       "      <td>compact</td>\n",
       "    </tr>\n",
       "    <tr>\n",
       "      <th>212</th>\n",
       "      <td>volkswagen</td>\n",
       "      <td>jetta</td>\n",
       "      <td>1.9</td>\n",
       "      <td>1999</td>\n",
       "      <td>4</td>\n",
       "      <td>manual(m5)</td>\n",
       "      <td>f</td>\n",
       "      <td>33</td>\n",
       "      <td>44</td>\n",
       "      <td>d</td>\n",
       "      <td>compact</td>\n",
       "    </tr>\n",
       "    <tr>\n",
       "      <th>213</th>\n",
       "      <td>volkswagen</td>\n",
       "      <td>jetta</td>\n",
       "      <td>2.0</td>\n",
       "      <td>1999</td>\n",
       "      <td>4</td>\n",
       "      <td>manual(m5)</td>\n",
       "      <td>f</td>\n",
       "      <td>21</td>\n",
       "      <td>29</td>\n",
       "      <td>r</td>\n",
       "      <td>compact</td>\n",
       "    </tr>\n",
       "    <tr>\n",
       "      <th>214</th>\n",
       "      <td>volkswagen</td>\n",
       "      <td>jetta</td>\n",
       "      <td>2.0</td>\n",
       "      <td>1999</td>\n",
       "      <td>4</td>\n",
       "      <td>auto(l4)</td>\n",
       "      <td>f</td>\n",
       "      <td>19</td>\n",
       "      <td>26</td>\n",
       "      <td>r</td>\n",
       "      <td>compact</td>\n",
       "    </tr>\n",
       "    <tr>\n",
       "      <th>215</th>\n",
       "      <td>volkswagen</td>\n",
       "      <td>jetta</td>\n",
       "      <td>2.0</td>\n",
       "      <td>2008</td>\n",
       "      <td>4</td>\n",
       "      <td>auto(s6)</td>\n",
       "      <td>f</td>\n",
       "      <td>22</td>\n",
       "      <td>29</td>\n",
       "      <td>p</td>\n",
       "      <td>compact</td>\n",
       "    </tr>\n",
       "    <tr>\n",
       "      <th>216</th>\n",
       "      <td>volkswagen</td>\n",
       "      <td>jetta</td>\n",
       "      <td>2.0</td>\n",
       "      <td>2008</td>\n",
       "      <td>4</td>\n",
       "      <td>manual(m6)</td>\n",
       "      <td>f</td>\n",
       "      <td>21</td>\n",
       "      <td>29</td>\n",
       "      <td>p</td>\n",
       "      <td>compact</td>\n",
       "    </tr>\n",
       "    <tr>\n",
       "      <th>217</th>\n",
       "      <td>volkswagen</td>\n",
       "      <td>jetta</td>\n",
       "      <td>2.5</td>\n",
       "      <td>2008</td>\n",
       "      <td>5</td>\n",
       "      <td>auto(s6)</td>\n",
       "      <td>f</td>\n",
       "      <td>21</td>\n",
       "      <td>29</td>\n",
       "      <td>r</td>\n",
       "      <td>compact</td>\n",
       "    </tr>\n",
       "    <tr>\n",
       "      <th>218</th>\n",
       "      <td>volkswagen</td>\n",
       "      <td>jetta</td>\n",
       "      <td>2.5</td>\n",
       "      <td>2008</td>\n",
       "      <td>5</td>\n",
       "      <td>manual(m5)</td>\n",
       "      <td>f</td>\n",
       "      <td>21</td>\n",
       "      <td>29</td>\n",
       "      <td>r</td>\n",
       "      <td>compact</td>\n",
       "    </tr>\n",
       "    <tr>\n",
       "      <th>219</th>\n",
       "      <td>volkswagen</td>\n",
       "      <td>jetta</td>\n",
       "      <td>2.8</td>\n",
       "      <td>1999</td>\n",
       "      <td>6</td>\n",
       "      <td>auto(l4)</td>\n",
       "      <td>f</td>\n",
       "      <td>16</td>\n",
       "      <td>23</td>\n",
       "      <td>r</td>\n",
       "      <td>compact</td>\n",
       "    </tr>\n",
       "    <tr>\n",
       "      <th>220</th>\n",
       "      <td>volkswagen</td>\n",
       "      <td>jetta</td>\n",
       "      <td>2.8</td>\n",
       "      <td>1999</td>\n",
       "      <td>6</td>\n",
       "      <td>manual(m5)</td>\n",
       "      <td>f</td>\n",
       "      <td>17</td>\n",
       "      <td>24</td>\n",
       "      <td>r</td>\n",
       "      <td>compact</td>\n",
       "    </tr>\n",
       "    <tr>\n",
       "      <th>221</th>\n",
       "      <td>volkswagen</td>\n",
       "      <td>new beetle</td>\n",
       "      <td>1.9</td>\n",
       "      <td>1999</td>\n",
       "      <td>4</td>\n",
       "      <td>manual(m5)</td>\n",
       "      <td>f</td>\n",
       "      <td>35</td>\n",
       "      <td>44</td>\n",
       "      <td>d</td>\n",
       "      <td>subcompact</td>\n",
       "    </tr>\n",
       "    <tr>\n",
       "      <th>222</th>\n",
       "      <td>volkswagen</td>\n",
       "      <td>new beetle</td>\n",
       "      <td>1.9</td>\n",
       "      <td>1999</td>\n",
       "      <td>4</td>\n",
       "      <td>auto(l4)</td>\n",
       "      <td>f</td>\n",
       "      <td>29</td>\n",
       "      <td>41</td>\n",
       "      <td>d</td>\n",
       "      <td>subcompact</td>\n",
       "    </tr>\n",
       "    <tr>\n",
       "      <th>223</th>\n",
       "      <td>volkswagen</td>\n",
       "      <td>new beetle</td>\n",
       "      <td>2.0</td>\n",
       "      <td>1999</td>\n",
       "      <td>4</td>\n",
       "      <td>manual(m5)</td>\n",
       "      <td>f</td>\n",
       "      <td>21</td>\n",
       "      <td>29</td>\n",
       "      <td>r</td>\n",
       "      <td>subcompact</td>\n",
       "    </tr>\n",
       "    <tr>\n",
       "      <th>224</th>\n",
       "      <td>volkswagen</td>\n",
       "      <td>new beetle</td>\n",
       "      <td>2.0</td>\n",
       "      <td>1999</td>\n",
       "      <td>4</td>\n",
       "      <td>auto(l4)</td>\n",
       "      <td>f</td>\n",
       "      <td>19</td>\n",
       "      <td>26</td>\n",
       "      <td>r</td>\n",
       "      <td>subcompact</td>\n",
       "    </tr>\n",
       "    <tr>\n",
       "      <th>225</th>\n",
       "      <td>volkswagen</td>\n",
       "      <td>new beetle</td>\n",
       "      <td>2.5</td>\n",
       "      <td>2008</td>\n",
       "      <td>5</td>\n",
       "      <td>manual(m5)</td>\n",
       "      <td>f</td>\n",
       "      <td>20</td>\n",
       "      <td>28</td>\n",
       "      <td>r</td>\n",
       "      <td>subcompact</td>\n",
       "    </tr>\n",
       "    <tr>\n",
       "      <th>226</th>\n",
       "      <td>volkswagen</td>\n",
       "      <td>new beetle</td>\n",
       "      <td>2.5</td>\n",
       "      <td>2008</td>\n",
       "      <td>5</td>\n",
       "      <td>auto(s6)</td>\n",
       "      <td>f</td>\n",
       "      <td>20</td>\n",
       "      <td>29</td>\n",
       "      <td>r</td>\n",
       "      <td>subcompact</td>\n",
       "    </tr>\n",
       "    <tr>\n",
       "      <th>227</th>\n",
       "      <td>volkswagen</td>\n",
       "      <td>passat</td>\n",
       "      <td>1.8</td>\n",
       "      <td>1999</td>\n",
       "      <td>4</td>\n",
       "      <td>manual(m5)</td>\n",
       "      <td>f</td>\n",
       "      <td>21</td>\n",
       "      <td>29</td>\n",
       "      <td>p</td>\n",
       "      <td>midsize</td>\n",
       "    </tr>\n",
       "    <tr>\n",
       "      <th>228</th>\n",
       "      <td>volkswagen</td>\n",
       "      <td>passat</td>\n",
       "      <td>1.8</td>\n",
       "      <td>1999</td>\n",
       "      <td>4</td>\n",
       "      <td>auto(l5)</td>\n",
       "      <td>f</td>\n",
       "      <td>18</td>\n",
       "      <td>29</td>\n",
       "      <td>p</td>\n",
       "      <td>midsize</td>\n",
       "    </tr>\n",
       "    <tr>\n",
       "      <th>229</th>\n",
       "      <td>volkswagen</td>\n",
       "      <td>passat</td>\n",
       "      <td>2.0</td>\n",
       "      <td>2008</td>\n",
       "      <td>4</td>\n",
       "      <td>auto(s6)</td>\n",
       "      <td>f</td>\n",
       "      <td>19</td>\n",
       "      <td>28</td>\n",
       "      <td>p</td>\n",
       "      <td>midsize</td>\n",
       "    </tr>\n",
       "    <tr>\n",
       "      <th>230</th>\n",
       "      <td>volkswagen</td>\n",
       "      <td>passat</td>\n",
       "      <td>2.0</td>\n",
       "      <td>2008</td>\n",
       "      <td>4</td>\n",
       "      <td>manual(m6)</td>\n",
       "      <td>f</td>\n",
       "      <td>21</td>\n",
       "      <td>29</td>\n",
       "      <td>p</td>\n",
       "      <td>midsize</td>\n",
       "    </tr>\n",
       "    <tr>\n",
       "      <th>231</th>\n",
       "      <td>volkswagen</td>\n",
       "      <td>passat</td>\n",
       "      <td>2.8</td>\n",
       "      <td>1999</td>\n",
       "      <td>6</td>\n",
       "      <td>auto(l5)</td>\n",
       "      <td>f</td>\n",
       "      <td>16</td>\n",
       "      <td>26</td>\n",
       "      <td>p</td>\n",
       "      <td>midsize</td>\n",
       "    </tr>\n",
       "    <tr>\n",
       "      <th>232</th>\n",
       "      <td>volkswagen</td>\n",
       "      <td>passat</td>\n",
       "      <td>2.8</td>\n",
       "      <td>1999</td>\n",
       "      <td>6</td>\n",
       "      <td>manual(m5)</td>\n",
       "      <td>f</td>\n",
       "      <td>18</td>\n",
       "      <td>26</td>\n",
       "      <td>p</td>\n",
       "      <td>midsize</td>\n",
       "    </tr>\n",
       "    <tr>\n",
       "      <th>233</th>\n",
       "      <td>volkswagen</td>\n",
       "      <td>passat</td>\n",
       "      <td>3.6</td>\n",
       "      <td>2008</td>\n",
       "      <td>6</td>\n",
       "      <td>auto(s6)</td>\n",
       "      <td>f</td>\n",
       "      <td>17</td>\n",
       "      <td>26</td>\n",
       "      <td>p</td>\n",
       "      <td>midsize</td>\n",
       "    </tr>\n",
       "  </tbody>\n",
       "</table>\n",
       "<p>234 rows × 11 columns</p>\n",
       "</div>"
      ],
      "text/plain": [
       "    manufacturer               model  displ  year  cyl       trans drv  cty  \\\n",
       "0           audi                  a4    1.8  1999    4    auto(l5)   f   18   \n",
       "1           audi                  a4    1.8  1999    4  manual(m5)   f   21   \n",
       "2           audi                  a4    2.0  2008    4  manual(m6)   f   20   \n",
       "3           audi                  a4    2.0  2008    4    auto(av)   f   21   \n",
       "4           audi                  a4    2.8  1999    6    auto(l5)   f   16   \n",
       "5           audi                  a4    2.8  1999    6  manual(m5)   f   18   \n",
       "6           audi                  a4    3.1  2008    6    auto(av)   f   18   \n",
       "7           audi          a4 quattro    1.8  1999    4  manual(m5)   4   18   \n",
       "8           audi          a4 quattro    1.8  1999    4    auto(l5)   4   16   \n",
       "9           audi          a4 quattro    2.0  2008    4  manual(m6)   4   20   \n",
       "10          audi          a4 quattro    2.0  2008    4    auto(s6)   4   19   \n",
       "11          audi          a4 quattro    2.8  1999    6    auto(l5)   4   15   \n",
       "12          audi          a4 quattro    2.8  1999    6  manual(m5)   4   17   \n",
       "13          audi          a4 quattro    3.1  2008    6    auto(s6)   4   17   \n",
       "14          audi          a4 quattro    3.1  2008    6  manual(m6)   4   15   \n",
       "15          audi          a6 quattro    2.8  1999    6    auto(l5)   4   15   \n",
       "16          audi          a6 quattro    3.1  2008    6    auto(s6)   4   17   \n",
       "17          audi          a6 quattro    4.2  2008    8    auto(s6)   4   16   \n",
       "18     chevrolet  c1500 suburban 2wd    5.3  2008    8    auto(l4)   r   14   \n",
       "19     chevrolet  c1500 suburban 2wd    5.3  2008    8    auto(l4)   r   11   \n",
       "20     chevrolet  c1500 suburban 2wd    5.3  2008    8    auto(l4)   r   14   \n",
       "21     chevrolet  c1500 suburban 2wd    5.7  1999    8    auto(l4)   r   13   \n",
       "22     chevrolet  c1500 suburban 2wd    6.0  2008    8    auto(l4)   r   12   \n",
       "23     chevrolet            corvette    5.7  1999    8  manual(m6)   r   16   \n",
       "24     chevrolet            corvette    5.7  1999    8    auto(l4)   r   15   \n",
       "25     chevrolet            corvette    6.2  2008    8  manual(m6)   r   16   \n",
       "26     chevrolet            corvette    6.2  2008    8    auto(s6)   r   15   \n",
       "27     chevrolet            corvette    7.0  2008    8  manual(m6)   r   15   \n",
       "28     chevrolet     k1500 tahoe 4wd    5.3  2008    8    auto(l4)   4   14   \n",
       "29     chevrolet     k1500 tahoe 4wd    5.3  2008    8    auto(l4)   4   11   \n",
       "..           ...                 ...    ...   ...  ...         ...  ..  ...   \n",
       "204       toyota   toyota tacoma 4wd    3.4  1999    6    auto(l4)   4   15   \n",
       "205       toyota   toyota tacoma 4wd    4.0  2008    6  manual(m6)   4   15   \n",
       "206       toyota   toyota tacoma 4wd    4.0  2008    6    auto(l5)   4   16   \n",
       "207   volkswagen                 gti    2.0  1999    4  manual(m5)   f   21   \n",
       "208   volkswagen                 gti    2.0  1999    4    auto(l4)   f   19   \n",
       "209   volkswagen                 gti    2.0  2008    4  manual(m6)   f   21   \n",
       "210   volkswagen                 gti    2.0  2008    4    auto(s6)   f   22   \n",
       "211   volkswagen                 gti    2.8  1999    6  manual(m5)   f   17   \n",
       "212   volkswagen               jetta    1.9  1999    4  manual(m5)   f   33   \n",
       "213   volkswagen               jetta    2.0  1999    4  manual(m5)   f   21   \n",
       "214   volkswagen               jetta    2.0  1999    4    auto(l4)   f   19   \n",
       "215   volkswagen               jetta    2.0  2008    4    auto(s6)   f   22   \n",
       "216   volkswagen               jetta    2.0  2008    4  manual(m6)   f   21   \n",
       "217   volkswagen               jetta    2.5  2008    5    auto(s6)   f   21   \n",
       "218   volkswagen               jetta    2.5  2008    5  manual(m5)   f   21   \n",
       "219   volkswagen               jetta    2.8  1999    6    auto(l4)   f   16   \n",
       "220   volkswagen               jetta    2.8  1999    6  manual(m5)   f   17   \n",
       "221   volkswagen          new beetle    1.9  1999    4  manual(m5)   f   35   \n",
       "222   volkswagen          new beetle    1.9  1999    4    auto(l4)   f   29   \n",
       "223   volkswagen          new beetle    2.0  1999    4  manual(m5)   f   21   \n",
       "224   volkswagen          new beetle    2.0  1999    4    auto(l4)   f   19   \n",
       "225   volkswagen          new beetle    2.5  2008    5  manual(m5)   f   20   \n",
       "226   volkswagen          new beetle    2.5  2008    5    auto(s6)   f   20   \n",
       "227   volkswagen              passat    1.8  1999    4  manual(m5)   f   21   \n",
       "228   volkswagen              passat    1.8  1999    4    auto(l5)   f   18   \n",
       "229   volkswagen              passat    2.0  2008    4    auto(s6)   f   19   \n",
       "230   volkswagen              passat    2.0  2008    4  manual(m6)   f   21   \n",
       "231   volkswagen              passat    2.8  1999    6    auto(l5)   f   16   \n",
       "232   volkswagen              passat    2.8  1999    6  manual(m5)   f   18   \n",
       "233   volkswagen              passat    3.6  2008    6    auto(s6)   f   17   \n",
       "\n",
       "     hwy fl       class  \n",
       "0     29  p     compact  \n",
       "1     29  p     compact  \n",
       "2     31  p     compact  \n",
       "3     30  p     compact  \n",
       "4     26  p     compact  \n",
       "5     26  p     compact  \n",
       "6     27  p     compact  \n",
       "7     26  p     compact  \n",
       "8     25  p     compact  \n",
       "9     28  p     compact  \n",
       "10    27  p     compact  \n",
       "11    25  p     compact  \n",
       "12    25  p     compact  \n",
       "13    25  p     compact  \n",
       "14    25  p     compact  \n",
       "15    24  p     midsize  \n",
       "16    25  p     midsize  \n",
       "17    23  p     midsize  \n",
       "18    20  r         suv  \n",
       "19    15  e         suv  \n",
       "20    20  r         suv  \n",
       "21    17  r         suv  \n",
       "22    17  r         suv  \n",
       "23    26  p     2seater  \n",
       "24    23  p     2seater  \n",
       "25    26  p     2seater  \n",
       "26    25  p     2seater  \n",
       "27    24  p     2seater  \n",
       "28    19  r         suv  \n",
       "29    14  e         suv  \n",
       "..   ... ..         ...  \n",
       "204   19  r      pickup  \n",
       "205   18  r      pickup  \n",
       "206   20  r      pickup  \n",
       "207   29  r     compact  \n",
       "208   26  r     compact  \n",
       "209   29  p     compact  \n",
       "210   29  p     compact  \n",
       "211   24  r     compact  \n",
       "212   44  d     compact  \n",
       "213   29  r     compact  \n",
       "214   26  r     compact  \n",
       "215   29  p     compact  \n",
       "216   29  p     compact  \n",
       "217   29  r     compact  \n",
       "218   29  r     compact  \n",
       "219   23  r     compact  \n",
       "220   24  r     compact  \n",
       "221   44  d  subcompact  \n",
       "222   41  d  subcompact  \n",
       "223   29  r  subcompact  \n",
       "224   26  r  subcompact  \n",
       "225   28  r  subcompact  \n",
       "226   29  r  subcompact  \n",
       "227   29  p     midsize  \n",
       "228   29  p     midsize  \n",
       "229   28  p     midsize  \n",
       "230   29  p     midsize  \n",
       "231   26  p     midsize  \n",
       "232   26  p     midsize  \n",
       "233   26  p     midsize  \n",
       "\n",
       "[234 rows x 11 columns]"
      ]
     },
     "execution_count": 15,
     "metadata": {},
     "output_type": "execute_result"
    }
   ],
   "source": [
    "df_raw"
   ]
  },
  {
   "cell_type": "code",
   "execution_count": 16,
   "metadata": {},
   "outputs": [],
   "source": [
    "name = [\"汽车制造商\",\"型号名称\",\"发动机排量(L)\",\"制造年份\",\"气缸数量\",\"手动/自动\"\n",
    "        ,\"驱动类型\",\"城市里程/加仑\",\"公路里程/加仑\",\"汽油种类\",\"车辆种类\"]\n",
    "\n",
    "#驱动类型：四轮，前轮，后轮\n",
    "#能源种类：汽油，柴油，用电等等\n",
    "#车辆种类：皮卡，SUV，小型，中型等等\n",
    "#城市里程/加仑，公路里程/加仑：表示使用每加仑汽油能够跑的英里数，所以这个数值越大代表汽车越节能"
   ]
  },
  {
   "cell_type": "code",
   "execution_count": 17,
   "metadata": {},
   "outputs": [],
   "source": [
    "#你是否注意到，一个车辆品牌下有不同的车型，每个车型都有自己的城市里程/加仑，所以不同的车辆品牌对应着许多个不同的城市里程\n",
    "#而我们的图像中却是一个品牌一个柱子：这其实是每一个车辆品牌下所有车型的城市里程/加仑的均值"
   ]
  },
  {
   "cell_type": "code",
   "execution_count": 18,
   "metadata": {},
   "outputs": [],
   "source": [
    "#提取出我们需要的数据：使用groupby聚合每个品牌的车辆，求每个品牌下的城市里程/加仑的均值\n",
    "\n",
    "df = df_raw[[\"cty\",\"manufacturer\"]].groupby(\"manufacturer\").mean() "
   ]
  },
  {
   "cell_type": "code",
   "execution_count": 19,
   "metadata": {},
   "outputs": [
    {
     "data": {
      "text/html": [
       "<div>\n",
       "<style scoped>\n",
       "    .dataframe tbody tr th:only-of-type {\n",
       "        vertical-align: middle;\n",
       "    }\n",
       "\n",
       "    .dataframe tbody tr th {\n",
       "        vertical-align: top;\n",
       "    }\n",
       "\n",
       "    .dataframe thead th {\n",
       "        text-align: right;\n",
       "    }\n",
       "</style>\n",
       "<table border=\"1\" class=\"dataframe\">\n",
       "  <thead>\n",
       "    <tr style=\"text-align: right;\">\n",
       "      <th></th>\n",
       "      <th>cty</th>\n",
       "    </tr>\n",
       "    <tr>\n",
       "      <th>manufacturer</th>\n",
       "      <th></th>\n",
       "    </tr>\n",
       "  </thead>\n",
       "  <tbody>\n",
       "    <tr>\n",
       "      <th>audi</th>\n",
       "      <td>17.611111</td>\n",
       "    </tr>\n",
       "    <tr>\n",
       "      <th>chevrolet</th>\n",
       "      <td>15.000000</td>\n",
       "    </tr>\n",
       "    <tr>\n",
       "      <th>dodge</th>\n",
       "      <td>13.135135</td>\n",
       "    </tr>\n",
       "    <tr>\n",
       "      <th>ford</th>\n",
       "      <td>14.000000</td>\n",
       "    </tr>\n",
       "    <tr>\n",
       "      <th>honda</th>\n",
       "      <td>24.444444</td>\n",
       "    </tr>\n",
       "    <tr>\n",
       "      <th>hyundai</th>\n",
       "      <td>18.642857</td>\n",
       "    </tr>\n",
       "    <tr>\n",
       "      <th>jeep</th>\n",
       "      <td>13.500000</td>\n",
       "    </tr>\n",
       "    <tr>\n",
       "      <th>land rover</th>\n",
       "      <td>11.500000</td>\n",
       "    </tr>\n",
       "    <tr>\n",
       "      <th>lincoln</th>\n",
       "      <td>11.333333</td>\n",
       "    </tr>\n",
       "    <tr>\n",
       "      <th>mercury</th>\n",
       "      <td>13.250000</td>\n",
       "    </tr>\n",
       "    <tr>\n",
       "      <th>nissan</th>\n",
       "      <td>18.076923</td>\n",
       "    </tr>\n",
       "    <tr>\n",
       "      <th>pontiac</th>\n",
       "      <td>17.000000</td>\n",
       "    </tr>\n",
       "    <tr>\n",
       "      <th>subaru</th>\n",
       "      <td>19.285714</td>\n",
       "    </tr>\n",
       "    <tr>\n",
       "      <th>toyota</th>\n",
       "      <td>18.529412</td>\n",
       "    </tr>\n",
       "    <tr>\n",
       "      <th>volkswagen</th>\n",
       "      <td>20.925926</td>\n",
       "    </tr>\n",
       "  </tbody>\n",
       "</table>\n",
       "</div>"
      ],
      "text/plain": [
       "                    cty\n",
       "manufacturer           \n",
       "audi          17.611111\n",
       "chevrolet     15.000000\n",
       "dodge         13.135135\n",
       "ford          14.000000\n",
       "honda         24.444444\n",
       "hyundai       18.642857\n",
       "jeep          13.500000\n",
       "land rover    11.500000\n",
       "lincoln       11.333333\n",
       "mercury       13.250000\n",
       "nissan        18.076923\n",
       "pontiac       17.000000\n",
       "subaru        19.285714\n",
       "toyota        18.529412\n",
       "volkswagen    20.925926"
      ]
     },
     "execution_count": 19,
     "metadata": {},
     "output_type": "execute_result"
    }
   ],
   "source": [
    "df_raw[[\"cty\",\"manufacturer\"]].groupby(\"manufacturer\").mean()"
   ]
  },
  {
   "cell_type": "code",
   "execution_count": 20,
   "metadata": {},
   "outputs": [
    {
     "data": {
      "text/html": [
       "<div>\n",
       "<style scoped>\n",
       "    .dataframe tbody tr th:only-of-type {\n",
       "        vertical-align: middle;\n",
       "    }\n",
       "\n",
       "    .dataframe tbody tr th {\n",
       "        vertical-align: top;\n",
       "    }\n",
       "\n",
       "    .dataframe thead th {\n",
       "        text-align: right;\n",
       "    }\n",
       "</style>\n",
       "<table border=\"1\" class=\"dataframe\">\n",
       "  <thead>\n",
       "    <tr style=\"text-align: right;\">\n",
       "      <th></th>\n",
       "      <th>cty</th>\n",
       "    </tr>\n",
       "    <tr>\n",
       "      <th>manufacturer</th>\n",
       "      <th></th>\n",
       "    </tr>\n",
       "  </thead>\n",
       "  <tbody>\n",
       "    <tr>\n",
       "      <th>audi</th>\n",
       "      <td>17.611111</td>\n",
       "    </tr>\n",
       "    <tr>\n",
       "      <th>chevrolet</th>\n",
       "      <td>15.000000</td>\n",
       "    </tr>\n",
       "    <tr>\n",
       "      <th>dodge</th>\n",
       "      <td>13.135135</td>\n",
       "    </tr>\n",
       "    <tr>\n",
       "      <th>ford</th>\n",
       "      <td>14.000000</td>\n",
       "    </tr>\n",
       "    <tr>\n",
       "      <th>honda</th>\n",
       "      <td>24.444444</td>\n",
       "    </tr>\n",
       "    <tr>\n",
       "      <th>hyundai</th>\n",
       "      <td>18.642857</td>\n",
       "    </tr>\n",
       "    <tr>\n",
       "      <th>jeep</th>\n",
       "      <td>13.500000</td>\n",
       "    </tr>\n",
       "    <tr>\n",
       "      <th>land rover</th>\n",
       "      <td>11.500000</td>\n",
       "    </tr>\n",
       "    <tr>\n",
       "      <th>lincoln</th>\n",
       "      <td>11.333333</td>\n",
       "    </tr>\n",
       "    <tr>\n",
       "      <th>mercury</th>\n",
       "      <td>13.250000</td>\n",
       "    </tr>\n",
       "    <tr>\n",
       "      <th>nissan</th>\n",
       "      <td>18.076923</td>\n",
       "    </tr>\n",
       "    <tr>\n",
       "      <th>pontiac</th>\n",
       "      <td>17.000000</td>\n",
       "    </tr>\n",
       "    <tr>\n",
       "      <th>subaru</th>\n",
       "      <td>19.285714</td>\n",
       "    </tr>\n",
       "    <tr>\n",
       "      <th>toyota</th>\n",
       "      <td>18.529412</td>\n",
       "    </tr>\n",
       "    <tr>\n",
       "      <th>volkswagen</th>\n",
       "      <td>20.925926</td>\n",
       "    </tr>\n",
       "  </tbody>\n",
       "</table>\n",
       "</div>"
      ],
      "text/plain": [
       "                    cty\n",
       "manufacturer           \n",
       "audi          17.611111\n",
       "chevrolet     15.000000\n",
       "dodge         13.135135\n",
       "ford          14.000000\n",
       "honda         24.444444\n",
       "hyundai       18.642857\n",
       "jeep          13.500000\n",
       "land rover    11.500000\n",
       "lincoln       11.333333\n",
       "mercury       13.250000\n",
       "nissan        18.076923\n",
       "pontiac       17.000000\n",
       "subaru        19.285714\n",
       "toyota        18.529412\n",
       "volkswagen    20.925926"
      ]
     },
     "execution_count": 20,
     "metadata": {},
     "output_type": "execute_result"
    }
   ],
   "source": [
    "df"
   ]
  },
  {
   "cell_type": "code",
   "execution_count": 21,
   "metadata": {},
   "outputs": [],
   "source": [
    "#对数据进行排序\n",
    "df.sort_values('cty', inplace=True)"
   ]
  },
  {
   "cell_type": "code",
   "execution_count": 22,
   "metadata": {},
   "outputs": [
    {
     "data": {
      "text/html": [
       "<div>\n",
       "<style scoped>\n",
       "    .dataframe tbody tr th:only-of-type {\n",
       "        vertical-align: middle;\n",
       "    }\n",
       "\n",
       "    .dataframe tbody tr th {\n",
       "        vertical-align: top;\n",
       "    }\n",
       "\n",
       "    .dataframe thead th {\n",
       "        text-align: right;\n",
       "    }\n",
       "</style>\n",
       "<table border=\"1\" class=\"dataframe\">\n",
       "  <thead>\n",
       "    <tr style=\"text-align: right;\">\n",
       "      <th></th>\n",
       "      <th>cty</th>\n",
       "    </tr>\n",
       "    <tr>\n",
       "      <th>manufacturer</th>\n",
       "      <th></th>\n",
       "    </tr>\n",
       "  </thead>\n",
       "  <tbody>\n",
       "    <tr>\n",
       "      <th>lincoln</th>\n",
       "      <td>11.333333</td>\n",
       "    </tr>\n",
       "    <tr>\n",
       "      <th>land rover</th>\n",
       "      <td>11.500000</td>\n",
       "    </tr>\n",
       "    <tr>\n",
       "      <th>dodge</th>\n",
       "      <td>13.135135</td>\n",
       "    </tr>\n",
       "    <tr>\n",
       "      <th>mercury</th>\n",
       "      <td>13.250000</td>\n",
       "    </tr>\n",
       "    <tr>\n",
       "      <th>jeep</th>\n",
       "      <td>13.500000</td>\n",
       "    </tr>\n",
       "    <tr>\n",
       "      <th>ford</th>\n",
       "      <td>14.000000</td>\n",
       "    </tr>\n",
       "    <tr>\n",
       "      <th>chevrolet</th>\n",
       "      <td>15.000000</td>\n",
       "    </tr>\n",
       "    <tr>\n",
       "      <th>pontiac</th>\n",
       "      <td>17.000000</td>\n",
       "    </tr>\n",
       "    <tr>\n",
       "      <th>audi</th>\n",
       "      <td>17.611111</td>\n",
       "    </tr>\n",
       "    <tr>\n",
       "      <th>nissan</th>\n",
       "      <td>18.076923</td>\n",
       "    </tr>\n",
       "    <tr>\n",
       "      <th>toyota</th>\n",
       "      <td>18.529412</td>\n",
       "    </tr>\n",
       "    <tr>\n",
       "      <th>hyundai</th>\n",
       "      <td>18.642857</td>\n",
       "    </tr>\n",
       "    <tr>\n",
       "      <th>subaru</th>\n",
       "      <td>19.285714</td>\n",
       "    </tr>\n",
       "    <tr>\n",
       "      <th>volkswagen</th>\n",
       "      <td>20.925926</td>\n",
       "    </tr>\n",
       "    <tr>\n",
       "      <th>honda</th>\n",
       "      <td>24.444444</td>\n",
       "    </tr>\n",
       "  </tbody>\n",
       "</table>\n",
       "</div>"
      ],
      "text/plain": [
       "                    cty\n",
       "manufacturer           \n",
       "lincoln       11.333333\n",
       "land rover    11.500000\n",
       "dodge         13.135135\n",
       "mercury       13.250000\n",
       "jeep          13.500000\n",
       "ford          14.000000\n",
       "chevrolet     15.000000\n",
       "pontiac       17.000000\n",
       "audi          17.611111\n",
       "nissan        18.076923\n",
       "toyota        18.529412\n",
       "hyundai       18.642857\n",
       "subaru        19.285714\n",
       "volkswagen    20.925926\n",
       "honda         24.444444"
      ]
     },
     "execution_count": 22,
     "metadata": {},
     "output_type": "execute_result"
    }
   ],
   "source": [
    "df"
   ]
  },
  {
   "cell_type": "code",
   "execution_count": 23,
   "metadata": {},
   "outputs": [],
   "source": [
    "df.reset_index(inplace=True) #reset_index，将DataFrame的索引恢复到原有的0~n，将原本左右索引的特征恢复成普通的特征"
   ]
  },
  {
   "cell_type": "code",
   "execution_count": 24,
   "metadata": {},
   "outputs": [
    {
     "data": {
      "text/html": [
       "<div>\n",
       "<style scoped>\n",
       "    .dataframe tbody tr th:only-of-type {\n",
       "        vertical-align: middle;\n",
       "    }\n",
       "\n",
       "    .dataframe tbody tr th {\n",
       "        vertical-align: top;\n",
       "    }\n",
       "\n",
       "    .dataframe thead th {\n",
       "        text-align: right;\n",
       "    }\n",
       "</style>\n",
       "<table border=\"1\" class=\"dataframe\">\n",
       "  <thead>\n",
       "    <tr style=\"text-align: right;\">\n",
       "      <th></th>\n",
       "      <th>manufacturer</th>\n",
       "      <th>cty</th>\n",
       "    </tr>\n",
       "  </thead>\n",
       "  <tbody>\n",
       "    <tr>\n",
       "      <th>0</th>\n",
       "      <td>lincoln</td>\n",
       "      <td>11.333333</td>\n",
       "    </tr>\n",
       "    <tr>\n",
       "      <th>1</th>\n",
       "      <td>land rover</td>\n",
       "      <td>11.500000</td>\n",
       "    </tr>\n",
       "    <tr>\n",
       "      <th>2</th>\n",
       "      <td>dodge</td>\n",
       "      <td>13.135135</td>\n",
       "    </tr>\n",
       "    <tr>\n",
       "      <th>3</th>\n",
       "      <td>mercury</td>\n",
       "      <td>13.250000</td>\n",
       "    </tr>\n",
       "    <tr>\n",
       "      <th>4</th>\n",
       "      <td>jeep</td>\n",
       "      <td>13.500000</td>\n",
       "    </tr>\n",
       "    <tr>\n",
       "      <th>5</th>\n",
       "      <td>ford</td>\n",
       "      <td>14.000000</td>\n",
       "    </tr>\n",
       "    <tr>\n",
       "      <th>6</th>\n",
       "      <td>chevrolet</td>\n",
       "      <td>15.000000</td>\n",
       "    </tr>\n",
       "    <tr>\n",
       "      <th>7</th>\n",
       "      <td>pontiac</td>\n",
       "      <td>17.000000</td>\n",
       "    </tr>\n",
       "    <tr>\n",
       "      <th>8</th>\n",
       "      <td>audi</td>\n",
       "      <td>17.611111</td>\n",
       "    </tr>\n",
       "    <tr>\n",
       "      <th>9</th>\n",
       "      <td>nissan</td>\n",
       "      <td>18.076923</td>\n",
       "    </tr>\n",
       "    <tr>\n",
       "      <th>10</th>\n",
       "      <td>toyota</td>\n",
       "      <td>18.529412</td>\n",
       "    </tr>\n",
       "    <tr>\n",
       "      <th>11</th>\n",
       "      <td>hyundai</td>\n",
       "      <td>18.642857</td>\n",
       "    </tr>\n",
       "    <tr>\n",
       "      <th>12</th>\n",
       "      <td>subaru</td>\n",
       "      <td>19.285714</td>\n",
       "    </tr>\n",
       "    <tr>\n",
       "      <th>13</th>\n",
       "      <td>volkswagen</td>\n",
       "      <td>20.925926</td>\n",
       "    </tr>\n",
       "    <tr>\n",
       "      <th>14</th>\n",
       "      <td>honda</td>\n",
       "      <td>24.444444</td>\n",
       "    </tr>\n",
       "  </tbody>\n",
       "</table>\n",
       "</div>"
      ],
      "text/plain": [
       "   manufacturer        cty\n",
       "0       lincoln  11.333333\n",
       "1    land rover  11.500000\n",
       "2         dodge  13.135135\n",
       "3       mercury  13.250000\n",
       "4          jeep  13.500000\n",
       "5          ford  14.000000\n",
       "6     chevrolet  15.000000\n",
       "7       pontiac  17.000000\n",
       "8          audi  17.611111\n",
       "9        nissan  18.076923\n",
       "10       toyota  18.529412\n",
       "11      hyundai  18.642857\n",
       "12       subaru  19.285714\n",
       "13   volkswagen  20.925926\n",
       "14        honda  24.444444"
      ]
     },
     "execution_count": 24,
     "metadata": {},
     "output_type": "execute_result"
    }
   ],
   "source": [
    "df"
   ]
  },
  {
   "cell_type": "code",
   "execution_count": 25,
   "metadata": {},
   "outputs": [
    {
     "data": {
      "image/png": "[encoded data removed]",
      "text/plain": [
       "<Figure size 1152x720 with 1 Axes>"
      ]
     },
     "metadata": {
      "needs_background": "light"
     },
     "output_type": "display_data"
    }
   ],
   "source": [
    "#使用数据绘制出图像\n",
    "plt.figure(figsize=(16,10)) #建立画布\n",
    "plt.vlines(x=df.index, ymin=0, ymax=df.cty, color='firebrick', alpha=0.7, linewidth=20);"
   ]
  },
  {
   "cell_type": "markdown",
   "metadata": {},
   "source": [
    "以下是源代码……"
   ]
  },
  {
   "cell_type": "code",
   "execution_count": 26,
   "metadata": {},
   "outputs": [
    {
     "data": {
      "image/png": "[encoded data removed]",
      "text/plain": [
       "<Figure size 1280x800 with 1 Axes>"
      ]
     },
     "metadata": {},
     "output_type": "display_data"
    }
   ],
   "source": [
    "# Prepare Data\n",
    "df_raw = pd.read_csv(\"https://github.com/selva86/datasets/raw/master/mpg_ggplot2.csv\")\n",
    "df = df_raw[['cty', 'manufacturer']].groupby('manufacturer').apply(lambda x: x.mean())\n",
    "df.sort_values('cty', inplace=True)\n",
    "df.reset_index(inplace=True)\n",
    "\n",
    "# Draw plot\n",
    "import matplotlib.patches as patches\n",
    "\n",
    "fig, ax = plt.subplots(figsize=(16,10), facecolor='white', dpi= 80)\n",
    "ax.vlines(x=df.index, ymin=0, ymax=df.cty, color='firebrick', alpha=0.7, linewidth=20)\n",
    "\n",
    "# Annotate Text\n",
    "for i, cty in enumerate(df.cty):\n",
    "    ax.text(i, cty+0.5, round(cty, 1), horizontalalignment='center')\n",
    "\n",
    "# Title, Label, Ticks and Ylim\n",
    "ax.set_title('Bar Chart for Highway Mileage', fontdict={'size':22})\n",
    "ax.set(ylabel='Miles Per Gallon', ylim=(0, 30))\n",
    "plt.xticks(df.index, df.manufacturer.str.upper(), rotation=60, horizontalalignment='right', fontsize=12)\n",
    "\n",
    "# Add patches to color the X axis labels\n",
    "p1 = patches.Rectangle((.57, -0.005), width=.33, height=.13, alpha=.1, facecolor='green', transform=fig.transFigure)\n",
    "p2 = patches.Rectangle((.124, -0.005), width=.446, height=.13, alpha=.1, facecolor='red', transform=fig.transFigure)\n",
    "fig.add_artist(p1)\n",
    "fig.add_artist(p2)\n",
    "plt.show()"
   ]
  },
  {
   "cell_type": "code",
   "execution_count": 27,
   "metadata": {},
   "outputs": [],
   "source": [
    "#来一步步看看原有的代码都是在做什么吧"
   ]
  },
  {
   "cell_type": "markdown",
   "metadata": {},
   "source": [
    "### 4. 构建画布和子图"
   ]
  },
  {
   "cell_type": "code",
   "execution_count": 34,
   "metadata": {},
   "outputs": [
    {
     "data": {
      "image/png": "[encoded data removed]",
      "text/plain": [
       "<Figure size 480x320 with 1 Axes>"
      ]
     },
     "metadata": {},
     "output_type": "display_data"
    }
   ],
   "source": [
    "#构建子图和画布\n",
    "fig, ax = plt.subplots(figsize=(6,4) #图像的尺寸\n",
    "                       ,facecolor=\"white\" #画布的颜色\n",
    "                       #, facecolor='black' #画布的填充色\n",
    "                       , dpi = 80\n",
    "                      )\n",
    "\n",
    "ax.vlines(x=df.index, ymin=0, ymax=df.cty\n",
    "          , color='firebrick', alpha=0.7, linewidth=10);"
   ]
  },
  {
   "cell_type": "markdown",
   "metadata": {},
   "source": [
    "#### **plt.subplots**"
   ]
  },
  {
   "cell_type": "markdown",
   "metadata": {},
   "source": [
    "> 生成两个对象：\n",
    ">> fig：画布，类似于绘画中的一张白纸，可以包括多个子图，没有画布的画图像无法显示  \n",
    ">> ax：子图对象，呈现在画布fig上的绘图对象，所有的绘图函数都需要在子图ax上来进行"
   ]
  },
  {
   "cell_type": "markdown",
   "metadata": {},
   "source": [
    "这和我们传统的plt.vlines有什么区别呢？"
   ]
  },
  {
   "cell_type": "markdown",
   "metadata": {},
   "source": [
    "<img src=\"http://pictes.oss-cn-beijing.aliyuncs.com/microclass-virtualisation/week3%20Ranking/%E9%9D%A2%E5%90%91%E5%AF%B9%E8%B1%A1.PNG\" align=\"center\" />"
   ]
  },
  {
   "cell_type": "markdown",
   "metadata": {},
   "source": [
    "plt是命令式绘图，绘制出的是一张完整的图像，我们无法单独从plt生成的图像中调用背景或者坐标轴这些存在作为对象来进行编辑<br>\n",
    "而fig和ax是面向对象的绘图，绘制出的是一个个类似于图层的对象<br>\n",
    "这些对象包括画布（fig），画布上一个或多个子图（Axes），子图上的坐标轴（axis），图例（legend）等等，统称为Artist  \n",
    "我们看到的二维图像是所有这些对象叠加在一起的效果，我们可以单独调用任意对象来进行编辑<br>\n",
    "<br>\n",
    "对一张图来说，ax画在fig上，ax是一张图中包括坐标轴内的部分和图像的标题等等的这些部分<br>\n",
    "fig是背景，但由于被子图ax挡住了，所以显示出的是坐标轴外的部分<br>\n",
    "plt中的函数都可以用于子图对象ax，比如plt.vlines放到子图上之后，就是ax.vlines，表示在ax这个子图上画竖线（柱状图）"
   ]
  },
  {
   "cell_type": "markdown",
   "metadata": {},
   "source": [
    "#### <font color=red>**如果我们希望单独调用图像的某一部分，则必须使用fig+ax的方法。但事实上，在工作中可视化的时候这种需求其实不多，用哪一种方式，或者混用两种方式不会有太大影响（可能会逼疯你身边科班出生的严谨程序员，然而对数据分析师来说，fine）。**</font><br>"
   ]
  },
  {
   "cell_type": "markdown",
   "metadata": {},
   "source": [
    "### 5. 为条形图添加注解"
   ]
  },
  {
   "cell_type": "code",
   "execution_count": 36,
   "metadata": {},
   "outputs": [
    {
     "data": {
      "text/html": [
       "<div>\n",
       "<style scoped>\n",
       "    .dataframe tbody tr th:only-of-type {\n",
       "        vertical-align: middle;\n",
       "    }\n",
       "\n",
       "    .dataframe tbody tr th {\n",
       "        vertical-align: top;\n",
       "    }\n",
       "\n",
       "    .dataframe thead th {\n",
       "        text-align: right;\n",
       "    }\n",
       "</style>\n",
       "<table border=\"1\" class=\"dataframe\">\n",
       "  <thead>\n",
       "    <tr style=\"text-align: right;\">\n",
       "      <th></th>\n",
       "      <th>manufacturer</th>\n",
       "      <th>cty</th>\n",
       "    </tr>\n",
       "  </thead>\n",
       "  <tbody>\n",
       "    <tr>\n",
       "      <th>0</th>\n",
       "      <td>lincoln</td>\n",
       "      <td>11.333333</td>\n",
       "    </tr>\n",
       "    <tr>\n",
       "      <th>1</th>\n",
       "      <td>land rover</td>\n",
       "      <td>11.500000</td>\n",
       "    </tr>\n",
       "    <tr>\n",
       "      <th>2</th>\n",
       "      <td>dodge</td>\n",
       "      <td>13.135135</td>\n",
       "    </tr>\n",
       "    <tr>\n",
       "      <th>3</th>\n",
       "      <td>mercury</td>\n",
       "      <td>13.250000</td>\n",
       "    </tr>\n",
       "    <tr>\n",
       "      <th>4</th>\n",
       "      <td>jeep</td>\n",
       "      <td>13.500000</td>\n",
       "    </tr>\n",
       "    <tr>\n",
       "      <th>5</th>\n",
       "      <td>ford</td>\n",
       "      <td>14.000000</td>\n",
       "    </tr>\n",
       "    <tr>\n",
       "      <th>6</th>\n",
       "      <td>chevrolet</td>\n",
       "      <td>15.000000</td>\n",
       "    </tr>\n",
       "    <tr>\n",
       "      <th>7</th>\n",
       "      <td>pontiac</td>\n",
       "      <td>17.000000</td>\n",
       "    </tr>\n",
       "    <tr>\n",
       "      <th>8</th>\n",
       "      <td>audi</td>\n",
       "      <td>17.611111</td>\n",
       "    </tr>\n",
       "    <tr>\n",
       "      <th>9</th>\n",
       "      <td>nissan</td>\n",
       "      <td>18.076923</td>\n",
       "    </tr>\n",
       "    <tr>\n",
       "      <th>10</th>\n",
       "      <td>toyota</td>\n",
       "      <td>18.529412</td>\n",
       "    </tr>\n",
       "    <tr>\n",
       "      <th>11</th>\n",
       "      <td>hyundai</td>\n",
       "      <td>18.642857</td>\n",
       "    </tr>\n",
       "    <tr>\n",
       "      <th>12</th>\n",
       "      <td>subaru</td>\n",
       "      <td>19.285714</td>\n",
       "    </tr>\n",
       "    <tr>\n",
       "      <th>13</th>\n",
       "      <td>volkswagen</td>\n",
       "      <td>20.925926</td>\n",
       "    </tr>\n",
       "    <tr>\n",
       "      <th>14</th>\n",
       "      <td>honda</td>\n",
       "      <td>24.444444</td>\n",
       "    </tr>\n",
       "  </tbody>\n",
       "</table>\n",
       "</div>"
      ],
      "text/plain": [
       "   manufacturer        cty\n",
       "0       lincoln  11.333333\n",
       "1    land rover  11.500000\n",
       "2         dodge  13.135135\n",
       "3       mercury  13.250000\n",
       "4          jeep  13.500000\n",
       "5          ford  14.000000\n",
       "6     chevrolet  15.000000\n",
       "7       pontiac  17.000000\n",
       "8          audi  17.611111\n",
       "9        nissan  18.076923\n",
       "10       toyota  18.529412\n",
       "11      hyundai  18.642857\n",
       "12       subaru  19.285714\n",
       "13   volkswagen  20.925926\n",
       "14        honda  24.444444"
      ]
     },
     "execution_count": 36,
     "metadata": {},
     "output_type": "execute_result"
    }
   ],
   "source": [
    "df"
   ]
  },
  {
   "cell_type": "code",
   "execution_count": 42,
   "metadata": {},
   "outputs": [
    {
     "data": {
      "image/png": "[encoded data removed]",
      "text/plain": [
       "<Figure size 800x480 with 1 Axes>"
      ]
     },
     "metadata": {},
     "output_type": "display_data"
    }
   ],
   "source": [
    "fig, ax = plt.subplots(figsize=(10,6),facecolor=\"white\",dpi = 80)\n",
    "ax.vlines(x=df.index, ymin=0, ymax=df.cty, color='firebrick', alpha=0.7, linewidth=10);\n",
    "#没有画布和子图后续的图像都无法显示\n",
    "\n",
    "#=========================\n",
    "\n",
    "#使用text函数给每一个柱子添加注解\n",
    "#text函数一次只能为一个柱子添加注解，因此需要循环\n",
    "for i, cty in enumerate(df.cty):\n",
    "    ax.text(i, cty+0.5 #注释所在的横纵坐标\n",
    "            , round(cty, 1) #这第三个参数是什么呢？函数round是用来四舍五入的函数，可以选择保留小数的位数\n",
    "            , horizontalalignment='center' #相对于我们规定的x和y坐标，文字显示在哪里\n",
    "           )"
   ]
  },
  {
   "cell_type": "code",
   "execution_count": 37,
   "metadata": {},
   "outputs": [
    {
     "data": {
      "text/plain": [
       "0     11.333333\n",
       "1     11.500000\n",
       "2     13.135135\n",
       "3     13.250000\n",
       "4     13.500000\n",
       "5     14.000000\n",
       "6     15.000000\n",
       "7     17.000000\n",
       "8     17.611111\n",
       "9     18.076923\n",
       "10    18.529412\n",
       "11    18.642857\n",
       "12    19.285714\n",
       "13    20.925926\n",
       "14    24.444444\n",
       "Name: cty, dtype: float64"
      ]
     },
     "execution_count": 37,
     "metadata": {},
     "output_type": "execute_result"
    }
   ],
   "source": [
    "df.cty"
   ]
  },
  {
   "cell_type": "code",
   "execution_count": 38,
   "metadata": {},
   "outputs": [
    {
     "data": {
      "text/plain": [
       "5.3"
      ]
     },
     "execution_count": 38,
     "metadata": {},
     "output_type": "execute_result"
    }
   ],
   "source": [
    "round(5.33333,1) #保留小数位数"
   ]
  },
  {
   "cell_type": "code",
   "execution_count": 61,
   "metadata": {},
   "outputs": [
    {
     "data": {
      "text/plain": [
       "[(0, 11.333333333333334),\n",
       " (1, 11.5),\n",
       " (2, 13.135135135135135),\n",
       " (3, 13.25),\n",
       " (4, 13.5),\n",
       " (5, 14.0),\n",
       " (6, 15.0),\n",
       " (7, 17.0),\n",
       " (8, 17.61111111111111),\n",
       " (9, 18.076923076923077),\n",
       " (10, 18.529411764705884),\n",
       " (11, 18.642857142857142),\n",
       " (12, 19.285714285714285),\n",
       " (13, 20.925925925925927),\n",
       " (14, 24.444444444444443)]"
      ]
     },
     "execution_count": 61,
     "metadata": {},
     "output_type": "execute_result"
    }
   ],
   "source": [
    "[*enumerate(df.cty)]"
   ]
  },
  {
   "cell_type": "markdown",
   "metadata": {},
   "source": [
    "### 6. 装饰图像"
   ]
  },
  {
   "cell_type": "code",
   "execution_count": 71,
   "metadata": {},
   "outputs": [
    {
     "data": {
      "image/png": "[encoded data removed]",
      "text/plain": [
       "<Figure size 800x480 with 1 Axes>"
      ]
     },
     "metadata": {},
     "output_type": "display_data"
    }
   ],
   "source": [
    "fig, ax = plt.subplots(figsize=(10,6),facecolor=\"white\",dpi = 80)\n",
    "ax.vlines(x=df.index, ymin=0, ymax=df.cty, color='firebrick', alpha=0.7, linewidth=15);\n",
    "\n",
    "plt.rcParams['font.sans-serif']=['Simhei']\n",
    "for i, cty in enumerate(df.cty):\n",
    "    ax.text(i, cty+0.5, round(cty, 1), horizontalalignment='center')\n",
    "\n",
    "#========================\n",
    "\n",
    "#装饰图像：标题，标尺的大小，y轴的名字\n",
    "ax.set_title('城市里程柱状图', fontdict={'size':22}) #font字体\n",
    "ax.set(ylabel='城市公里/加仑', ylim=(0, 30))\n",
    "ax.set_ylabel(\"城市公里/加仑\",fontdict={\"size\":16})\n",
    "\n",
    "#函数xticks所带有的功能就比ax.set_xticks要多，因此我们在这里使用plt\n",
    "plt.xticks(df.index #显示在横坐标上的位置\n",
    "           , df.manufacturer.str.upper() #要显示的标尺的内容\n",
    "           , rotation=60 #是否进行旋转\n",
    "           , horizontalalignment='right' #你设置的这个xy的位置相对于你输入的文字所在的位置\n",
    "           , fontsize=12);"
   ]
  },
  {
   "cell_type": "code",
   "execution_count": 58,
   "metadata": {},
   "outputs": [
    {
     "data": {
      "text/plain": [
       "0        LINCOLN\n",
       "1     LAND ROVER\n",
       "2          DODGE\n",
       "3        MERCURY\n",
       "4           JEEP\n",
       "5           FORD\n",
       "6      CHEVROLET\n",
       "7        PONTIAC\n",
       "8           AUDI\n",
       "9         NISSAN\n",
       "10        TOYOTA\n",
       "11       HYUNDAI\n",
       "12        SUBARU\n",
       "13    VOLKSWAGEN\n",
       "14         HONDA\n",
       "Name: manufacturer, dtype: object"
      ]
     },
     "execution_count": 58,
     "metadata": {},
     "output_type": "execute_result"
    }
   ],
   "source": [
    "df.manufacturer.str.upper()"
   ]
  },
  {
   "cell_type": "markdown",
   "metadata": {},
   "source": [
    "### 7. 其他面向对象进行的操作"
   ]
  },
  {
   "cell_type": "markdown",
   "metadata": {},
   "source": [
    "与我们的最终目标相比，我们还差两个横坐标下方的矩形  \n",
    "我们的思路是：**首先绘制出一个矩形对象，然后将这个矩形对象添加到我们的画布上去**  \n",
    "绘制矩形对象所使用的模块是patches，这个模块是“补丁”的意思，我们可以使用这个模块中的函数创造各种几何对象  \n",
    "比如说，用patches.Rectangle来绘制长方形"
   ]
  },
  {
   "cell_type": "markdown",
   "metadata": {},
   "source": [
    "当有了长方形对象之后，我们再使用对画布添加对象的命令add_artist，将矩形添加到我们的图像中\n",
    "#### add_artist()"
   ]
  },
  {
   "cell_type": "code",
   "execution_count": 77,
   "metadata": {},
   "outputs": [
    {
     "data": {
      "image/png": "[encoded data removed]",
      "text/plain": [
       "<Figure size 800x480 with 1 Axes>"
      ]
     },
     "metadata": {},
     "output_type": "display_data"
    }
   ],
   "source": [
    "fig, ax = plt.subplots(figsize=(10,6)\n",
    "                       ,facecolor=\"white\"\n",
    "                       #,facecolor=\"lightblue\"\n",
    "                       ,dpi = 80)\n",
    "ax.vlines(x=df.index, ymin=0, ymax=df.cty, color='firebrick', alpha=0.7, linewidth=10);\n",
    "\n",
    "for i, cty in enumerate(df.cty):\n",
    "    ax.text(i, cty+0.5, round(cty, 1), horizontalalignment='center')\n",
    "\n",
    "plt.rcParams['font.sans-serif']=['Simhei']\n",
    "ax.set_title('城市里程柱状图', fontdict={'size':22})\n",
    "ax.set(ylabel='城市公里/加仑', ylim=(0, 30))\n",
    "\n",
    "plt.xticks(df.index\n",
    "           , df.manufacturer.str.upper()\n",
    "           , rotation=60\n",
    "           , horizontalalignment='right'\n",
    "           , fontsize=10);\n",
    "\n",
    "#========================\n",
    "import matplotlib.patches as patches\n",
    "#对x轴加上颜色\n",
    "\n",
    "#构建长方形\n",
    "p1 = patches.Rectangle((0.57, -0.005) #长方形所在的左下角的坐标x,y，长方形在哪个位置\n",
    "                       , width=.33 #长方形的宽（与x轴平行的那一段）\n",
    "                       , height=.13 #长方形的高（与y轴平行的那一段）\n",
    "                       , alpha=0.1 #透明度\n",
    "                       , facecolor='green' #矩形的颜色\n",
    "                       , transform=fig.transFigure #确保矩形显示在图像最上方，如果我们对fig作画，不会被ax挡住\n",
    "                      )\n",
    "p2 = patches.Rectangle((.124, -0.005), width=.446, height=.13, alpha=.1, facecolor='red', transform=fig.transFigure)\n",
    "fig.add_artist(p1) #将多边形添加到对象fig(画布)\n",
    "fig.add_artist(p2)\n",
    "plt.show()"
   ]
  },
  {
   "cell_type": "markdown",
   "metadata": {},
   "source": [
    "#### 问题1：矩形的位置和长宽是怎样确定的？"
   ]
  },
  {
   "cell_type": "markdown",
   "metadata": {},
   "source": [
    "如果我们现在，希望在Nissan和Toyota的柱子之间画一个矩形，你会怎么画呢？  \n",
    "仔细研究patches.Rectangle()函数的参数x和y，会发现x和y中填写的坐标所依赖的坐标轴与我们眼睛看到的图像坐标轴并不一致  \n",
    "这给我们确定矩形具体添加的位置增加了难度——眼睛能够看见的参照系不管用  \n",
    "同样的，我们输入的宽和高也不是按照图像坐标轴的长度来的，不过我们可以发现，他们都是小于1的某一个数  \n",
    "我们可以通过找0,0和1,1两个点，来确认Rectangle参照的坐标轴究竟在哪里"
   ]
  },
  {
   "cell_type": "code",
   "execution_count": 83,
   "metadata": {},
   "outputs": [
    {
     "data": {
      "image/png": "[encoded data removed]",
      "text/plain": [
       "<Figure size 800x480 with 1 Axes>"
      ]
     },
     "metadata": {},
     "output_type": "display_data"
    }
   ],
   "source": [
    "fig, ax = plt.subplots(figsize=(10,6)\n",
    "                       ,facecolor=\"white\"\n",
    "                       #,facecolor=\"lightblue\"\n",
    "                       ,dpi = 80)\n",
    "ax.vlines(x=df.index, ymin=0, ymax=df.cty, color='firebrick', alpha=0.7, linewidth=10);\n",
    "\n",
    "for i, cty in enumerate(df.cty):\n",
    "    ax.text(i, cty+0.5, round(cty, 1), horizontalalignment='center')\n",
    "\n",
    "plt.rcParams['font.sans-serif']=['Simhei']\n",
    "ax.set_title('城市里程柱状图', fontdict={'size':22})\n",
    "ax.set(ylabel='城市公里/加仑', ylim=(0, 30))\n",
    "\n",
    "plt.xticks(df.index\n",
    "           , df.manufacturer.str.upper()\n",
    "           , rotation=60\n",
    "           , horizontalalignment='right'\n",
    "           , fontsize=12);\n",
    "\n",
    "#========================\n",
    "import matplotlib.patches as patches\n",
    "#对x轴加上颜色\n",
    "\n",
    "p1 = patches.Rectangle((0, 0) #长方形所在的左下角的坐标x,y\n",
    "                       , width=1 #长方形的宽（与x轴平行的那一段）\n",
    "                       , height=1 #长方形的高（与y轴平行的那一段）\n",
    "                       , alpha=.1 #透明度\n",
    "                       , facecolor='green' #矩形的颜色\n",
    "                       , transform=fig.transFigure #进行对象的转换，fig.transFigure表示根据矩形所在的位置进行对象转换，以确保矩形显示在图像最上方\n",
    "                      )\n",
    "#调整成这样，看到画长方体时参照的坐标轴在哪里了吗？试试看把fig的填充色修改一下，观察一下这个坐标系和画布的范围有多少重叠\n",
    "\n",
    "p2 = patches.Rectangle((0.12, -0.005), width=.49, height=.13, alpha=.1, facecolor='red', transform=fig.transFigure)\n",
    "fig.add_artist(p1)\n",
    "fig.add_artist(p2)\n",
    "plt.show()"
   ]
  },
  {
   "cell_type": "markdown",
   "metadata": {},
   "source": [
    "绘制图像的Rectangle参照的位置几乎是fig的大小，fig的左下角为(0,0)，宽和高都是依赖于画布的大小设置的比例，画布最宽的地方和最高的地方分别为1  \n",
    "我们可以通过绘制从(0,0)开始，长宽都为1的长方体来探索画布究竟有多大  \n",
    "然后再依赖于画布来估计长方形应该在的位置"
   ]
  },
  {
   "cell_type": "markdown",
   "metadata": {},
   "source": [
    "<img src=\"http://pictes.oss-cn-beijing.aliyuncs.com/microclass-virtualisation/week1correlation/line4.png\" align=\"center\" />"
   ]
  },
  {
   "cell_type": "markdown",
   "metadata": {},
   "source": [
    "#### 小题目掉落：请使用Rectangle和add_artist，画出Nissan和Toyota柱子之间，和Nissan的柱形图一样高的长方体"
   ]
  },
  {
   "cell_type": "markdown",
   "metadata": {},
   "source": [
    "<img src=\"http://pictes.oss-cn-beijing.aliyuncs.com/microclass-virtualisation/week3%20Ranking/%E5%B0%8F%E9%A2%98%E7%9B%AE.PNG\" align=\"center\" />"
   ]
  },
  {
   "cell_type": "markdown",
   "metadata": {},
   "source": [
    "<img src=\"http://pictes.oss-cn-beijing.aliyuncs.com/microclass-virtualisation/week1correlation/line4.png\" align=\"center\" />"
   ]
  },
  {
   "cell_type": "markdown",
   "metadata": {},
   "source": [
    "#### 问题2：之前学过add_patch，那add_patch是否能用呢？"
   ]
  },
  {
   "cell_type": "markdown",
   "metadata": {},
   "source": [
    "<img src=\"http://pictes.oss-cn-beijing.aliyuncs.com/microclass-virtualisation/week1correlation/02%20%E6%B0%94%E6%B3%A1%E5%9B%BE3.PNG\" align=\"center\" />"
   ]
  },
  {
   "cell_type": "markdown",
   "metadata": {},
   "source": [
    "在完整版课程中讲解这张图像中如何绘制凸包的时候，我们曾经用到功能patches  \n",
    "我们使用patches绘制了多边形，并且用ax.add_patch功能将多边形添加到图像上  \n",
    "那我们现在，是否也可以使用add_patch呢？"
   ]
  },
  {
   "cell_type": "code",
   "execution_count": 101,
   "metadata": {},
   "outputs": [
    {
     "data": {
      "image/png": "[encoded data removed]",
      "text/plain": [
       "<Figure size 800x480 with 1 Axes>"
      ]
     },
     "metadata": {},
     "output_type": "display_data"
    }
   ],
   "source": [
    "fig, ax = plt.subplots(figsize=(10,6)\n",
    "                       ,facecolor=\"white\"\n",
    "                       #,facecolor=\"lightblue\"\n",
    "                       ,dpi = 80)\n",
    "\n",
    "ax.vlines(x=df.index, ymin=0, ymax=df.cty, color='firebrick', alpha=0.7, linewidth=10);\n",
    "\n",
    "for i, cty in enumerate(df.cty):\n",
    "    ax.text(i, cty+0.5, round(cty, 1), horizontalalignment='center')\n",
    "\n",
    "plt.rcParams['font.sans-serif']=['Simhei']\n",
    "ax.set_title('城市里程柱状图', fontdict={'size':22})\n",
    "ax.set(ylabel='城市公里/加仑', ylim=(0, 30))\n",
    "\n",
    "plt.xticks(df.index\n",
    "           , df.manufacturer.str.upper()\n",
    "           , rotation=60\n",
    "           , horizontalalignment='right'\n",
    "           , fontsize=12);\n",
    "\n",
    "import matplotlib.patches as patches\n",
    "p1 = patches.Rectangle((0.57, -0.005), width=0.33, height=0.13, alpha=.1, facecolor='green', transform=fig.transFigure)\n",
    "p2 = patches.Rectangle((.124, -0.005), width=.446, height=.13, alpha=.1, facecolor='red', transform=fig.transFigure)\n",
    "\n",
    "#fig.add_artist(p1)\n",
    "#fig.add_artist(p2)\n",
    "#========================\n",
    "\n",
    "#ax.add_patch(p1)\n",
    "#ax.add_patch(p2)\n",
    "\n",
    "#你会发现p1和p2都显示不出来，为什么？试试看P0\n",
    "\n",
    "p0 = patches.Rectangle((0.5,0.5), width=0.5, height=0.5, alpha=0.3, facecolor='lightblue', transform=fig.transFigure)\n",
    "\n",
    "#ax.add_patch(p0) #能够添加，但只对子图有效\n",
    "#fig.add_patch(p0) #会报错，不能使用\n",
    "#fig.add_artist(p0) #能够添加，对整个图像都有效\n",
    "#ax.add_artist(p0) #能够添加，但只对子图有效\n",
    "\n",
    "plt.show()"
   ]
  },
  {
   "cell_type": "markdown",
   "metadata": {},
   "source": [
    "ax.add_patch作用的对象是ax，也就是坐标轴内的范围和标题/坐标轴的名称这些字，但不包括这些名称后面的画布  \n",
    "因此ax.add_patch只能对坐标轴内的范围有效，因此当我们想对轴外的范围（画布的领域）进行操作的时候，我们需要对fig进行操作  \n",
    "但很遗憾的是，fig上没有add_patch功能，因此我们只能够add_artist了  \n",
    "\n",
    "相对的，ax上却可以使用add_artist，其功能和add_patch一模一样，只在轴内显示图像"
   ]
  },
  {
   "cell_type": "markdown",
   "metadata": {},
   "source": [
    "### 8. 解读图像"
   ]
  },
  {
   "cell_type": "markdown",
   "metadata": {},
   "source": [
    "<img src=\"http://pictes.oss-cn-beijing.aliyuncs.com/microclass-virtualisation/week1correlation/line4.png\" align=\"center\" />"
   ]
  },
  {
   "cell_type": "markdown",
   "metadata": {},
   "source": [
    "*小题目答案* ：p3 = patches.Rectangle((.62, 0.12), width=.05, height=0.46, alpha=.1, facecolor='red', transform=fig.transFigure)"
   ]
  },
  {
   "cell_type": "markdown",
   "metadata": {},
   "source": [
    "<img src=\"http://pictes.oss-cn-beijing.aliyuncs.com/microclass-virtualisation/week1correlation/line4.png\" align=\"center\" />"
   ]
  },
  {
   "cell_type": "markdown",
   "metadata": {},
   "source": [
    "### 16 & 17/50 棒棒糖图与包点图"
   ]
  },
  {
   "cell_type": "markdown",
   "metadata": {},
   "source": [
    "除了长相不一样，本质和排序的条形图一模一样的图像……"
   ]
  },
  {
   "cell_type": "markdown",
   "metadata": {},
   "source": [
    "<img src=\"http://pictes.oss-cn-beijing.aliyuncs.com/microclass-virtualisation/week3%20Ranking/16%2617.PNG\" align=\"center\" />"
   ]
  },
  {
   "cell_type": "markdown",
   "metadata": {},
   "source": [
    "棒棒糖图：\n",
    "> 横坐标：车辆品牌  \n",
    "> 纵坐标：城市里程/加仑\n",
    "\n",
    "包点图：\n",
    "> 横坐标：城市里程/加仑  \n",
    "> 纵坐标：车辆品牌"
   ]
  },
  {
   "cell_type": "code",
   "execution_count": 110,
   "metadata": {},
   "outputs": [],
   "source": [
    "import numpy as np\n",
    "import pandas as pd\n",
    "import matplotlib as mpl\n",
    "import matplotlib.pyplot as plt\n",
    "import seaborn as sns\n",
    "%matplotlib inline"
   ]
  },
  {
   "cell_type": "code",
   "execution_count": 107,
   "metadata": {},
   "outputs": [],
   "source": [
    "#准备数据\n",
    "df_raw = pd.read_csv(\"https://github.com/selva86/datasets/raw/master/mpg_ggplot2.csv\")\n",
    "df = df_raw[['cty', 'manufacturer']].groupby('manufacturer').apply(lambda x: x.mean())\n",
    "df.sort_values('cty', inplace=True)\n",
    "df.reset_index(inplace=True)"
   ]
  },
  {
   "cell_type": "code",
   "execution_count": 119,
   "metadata": {},
   "outputs": [
    {
     "data": {
      "image/png": "[encoded data removed]",
      "text/plain": [
       "<Figure size 1280x800 with 1 Axes>"
      ]
     },
     "metadata": {
      "needs_background": "light"
     },
     "output_type": "display_data"
    }
   ],
   "source": [
    "#画棒棒糖\n",
    "fig, ax = plt.subplots(figsize=(16,10), dpi= 80)\n",
    "\n",
    "#先画竖线作为柱子\n",
    "ax.vlines(x=df.index, ymin=0, ymax=df.cty\n",
    "          , color='firebrick', alpha=0.7, linewidth=2)\n",
    "\n",
    "#在竖线顶端画上散点作为糖\n",
    "ax.scatter(x=df.index, y=df.cty, s=75, color='firebrick', alpha=0.7)\n",
    "\n",
    "#设置标题，横纵坐标的范围，横纵坐标的标题等等\n",
    "plt.rcParams['font.sans-serif']=['Simhei']\n",
    "ax.set_title('城市里程数的棒棒糖图', fontdict={'size':22})\n",
    "ax.set_ylabel('城市里程/加仑',fontsize=20)\n",
    "ax.set_xticks(df.index)\n",
    "ax.set_xticklabels(df.manufacturer.str.upper(), rotation=60, fontdict={'horizontalalignment': 'right', 'size':20})\n",
    "#plt.xticks\n",
    "ax.set_ylim(0, 30)\n",
    "\n",
    "#为每颗棒棒糖放上注释\n",
    "for row in df.itertuples():\n",
    "    ax.text(row.Index, row.cty+.5, s=round(row.cty, 2), horizontalalignment= 'center', verticalalignment='bottom', fontsize=14)\n",
    "\n",
    "plt.show()"
   ]
  },
  {
   "cell_type": "code",
   "execution_count": 125,
   "metadata": {},
   "outputs": [
    {
     "data": {
      "image/png": "[encoded data removed]",
      "text/plain": [
       "<Figure size 1280x800 with 1 Axes>"
      ]
     },
     "metadata": {
      "needs_background": "light"
     },
     "output_type": "display_data"
    }
   ],
   "source": [
    "#画包点图\n",
    "fig, ax = plt.subplots(figsize=(16,10), dpi= 80)\n",
    "\n",
    "#用绘制横线（而不是竖线）的函数hlines画出虚线\n",
    "ax.hlines(y=df.index #纵坐标上显示的位置\n",
    "          , xmin=11 #为了要让虚线布满屏幕，所以是从比城市里程/加仑的最小值低一些的地方开始\n",
    "          , xmax=26 #到比城市里程/加仑的最大值高一些的地方结束\n",
    "          , color='gray', alpha=0.7, linewidth=1, linestyles='dashdot')\n",
    "#在虚线上绘制出散点\n",
    "ax.scatter(y=df.index, x=df.cty, s=75, color='firebrick', alpha=0.7) \n",
    "\n",
    "#装饰图像\n",
    "ax.set_title('城市里程数的包点图', fontdict={'size':22})\n",
    "ax.set_xlabel('城市里程/加仑',fontsize=20)\n",
    "ax.set_yticks(df.index)\n",
    "ax.set_yticklabels(df.manufacturer.str.title(), fontdict={'horizontalalignment': 'right',\"size\":20})\n",
    "ax.set_xlim(10, 27) #X轴现在才是城市里程/加仑，取值范围要在城市里程的最大值和最小值之间\n",
    "plt.show()"
   ]
  },
  {
   "cell_type": "code",
   "execution_count": 123,
   "metadata": {},
   "outputs": [
    {
     "data": {
      "text/plain": [
       "0     11.333333\n",
       "1     11.500000\n",
       "2     13.135135\n",
       "3     13.250000\n",
       "4     13.500000\n",
       "5     14.000000\n",
       "6     15.000000\n",
       "7     17.000000\n",
       "8     17.611111\n",
       "9     18.076923\n",
       "10    18.529412\n",
       "11    18.642857\n",
       "12    19.285714\n",
       "13    20.925926\n",
       "14    24.444444\n",
       "Name: cty, dtype: float64"
      ]
     },
     "execution_count": 123,
     "metadata": {},
     "output_type": "execute_result"
    }
   ],
   "source": [
    "df[\"cty\"]"
   ]
  },
  {
   "cell_type": "markdown",
   "metadata": {},
   "source": [
    "<img src=\"http://pictes.oss-cn-beijing.aliyuncs.com/microclass-virtualisation/week1correlation/line4.png\" align=\"center\" />"
   ]
  },
  {
   "cell_type": "code",
   "execution_count": null,
   "metadata": {},
   "outputs": [],
   "source": []
  }
 ],
 "metadata": {
  "kernelspec": {
   "display_name": "Python 3",
   "language": "python",
   "name": "python3"
  },
  "language_info": {
   "codemirror_mode": {
    "name": "ipython",
    "version": 3
   },
   "file_extension": ".py",
   "mimetype": "text/x-python",
   "name": "python",
   "nbconvert_exporter": "python",
   "pygments_lexer": "ipython3",
   "version": "3.7.2"
  }
 },
 "nbformat": 4,
 "nbformat_minor": 2
}
