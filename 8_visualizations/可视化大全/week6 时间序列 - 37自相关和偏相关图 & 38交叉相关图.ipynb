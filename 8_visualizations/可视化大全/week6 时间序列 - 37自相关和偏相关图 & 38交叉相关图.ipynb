{
 "cells": [
  {
   "cell_type": "markdown",
   "metadata": {},
   "source": [
    "# **菊安酱与菜菜的Python机器学习可视化**"
   ]
  },
  {
   "cell_type": "markdown",
   "metadata": {},
   "source": [
    "#### <font color='blue'>第六期 时间序列（Time Series）： 37自相关和偏自相关图 & 38交叉相关图"
   ]
  },
  {
   "cell_type": "markdown",
   "metadata": {},
   "source": [
    "**注意：无法在matpotlib和seaborn中显示中文或者负号的问题**  \n",
    "如果你遇见了，请参考链接，可永久解决中文和负号问题：https://www.jianshu.com/p/914b5f4ce6bf  \n",
    "或者你也可以在每次需要负号和中文的时候执行下面的代码来避免中文或负号显示不出来："
   ]
  },
  {
   "cell_type": "code",
   "execution_count": 1,
   "metadata": {},
   "outputs": [],
   "source": [
    "# import matplotlib.pyplot as plt\n",
    "\n",
    "# plt.rcParams['font.sans-serif']=['Simhei'] #显示中文\n",
    "# plt.rcParams['axes.unicode_minus']=False   #显示负号"
   ]
  },
  {
   "cell_type": "markdown",
   "metadata": {},
   "source": [
    "### <font color=bule> 37/50 自相关和偏自相关图（ACF & PACF Plot）"
   ]
  },
  {
   "cell_type": "markdown",
   "metadata": {},
   "source": [
    "**相关、自相关、偏相关**   \n",
    "统计中的相关性说的是两个变量间的相关程度。假设变量都符合正态分布，可以使用皮尔逊相关系数来统计变量间的相关性。皮尔逊相关系数的取值范围是[-1,1],越接近-1表示负相关性越强，越接近1表示正相关性越强，0表示无相关。 \n",
    "\n",
    "**自相关**和**偏自相关**用于测量当前序列值和过去序列值之间的相关性，并指示预测将来值时最有用的过去序列值。更具体来说，\n",
    "- 自相关函数 (ACF)：衡量$y_t$与$y_{t-k}$之间的相关性   \n",
    "- 偏自相关函数 (PACF)：在去除$y_{t-1},y_{t-2},…,y_{t-k+1}$等的影响之后，衡量$y_t$与$y_{t-k}$之间的相关性   "
   ]
  },
  {
   "cell_type": "markdown",
   "metadata": {},
   "source": [
    "更直白来说   \n",
    "- ACF是自相关函数，它给出了任何序列与其滞后值的自相关值。简单来说，它描述了该系列的现值与其过去的价值有多相关。时间序列可以包含趋势，季节性，循环和残差等组件。ACF在查找相关性时会考虑所有这些组件，因此它是一个“完整的自相关图”。\n",
    "- PACF是偏自相关函数。基本上不是找到像ACF这样的滞后现象的相关性，而是找到残差与下一个滞后值的相关性，因此是“部分”而不是“完全” ,因为我们在找到下一个相关性之前删除已找到的变体。因此，如果残差中有任何可以通过下一个滞后建模的隐藏信息，我们可能会获得良好的相关性，并且我们将在建模时将下一个滞后作为特征保留。请记住，在建模时，我们不希望保留过多的相关特征，因为这可能会产生多重共线性问题。因此，我们只需保留相关功能。"
   ]
  },
  {
   "cell_type": "markdown",
   "metadata": {},
   "source": [
    "<img src='http://pictes.oss-cn-beijing.aliyuncs.com/microclass-virtualisation/week6%20time%20series/%E8%87%AA%E7%9B%B8%E5%85%B3%E5%92%8C%E9%83%A8%E5%88%86%E8%87%AA%E7%9B%B8%E5%85%B3%E5%9B%BE.png' width=700>"
   ]
  },
  {
   "cell_type": "markdown",
   "metadata": {},
   "source": [
    "### 1. 导入需要的绘图库"
   ]
  },
  {
   "cell_type": "code",
   "execution_count": 33,
   "metadata": {},
   "outputs": [],
   "source": [
    "import pandas as pd\n",
    "import numpy as np\n",
    "import matplotlib as mpl\n",
    "import matplotlib.pyplot as plt\n",
    "%matplotlib inline\n",
    "#如果用jupyter notebook则需要这行代码让你的图像显示，如果是jupyterlab则不需要\n",
    "\n",
    "from statsmodels.graphics.tsaplots import plot_acf, plot_pacf"
   ]
  },
  {
   "cell_type": "markdown",
   "metadata": {},
   "source": [
    "首先，我们来介绍一下statsmodels这个包：   \n",
    "- statsmodels是一个Python模块，它提供了很多用于不同统计模型、统计测试、统计数据探索的类和函数。\n",
    "\n",
    "**statsmodels的安装：**   \n",
    "1.pip install --upgrade --no-deps statsmodels    \n",
    "2.conda install statsmodels    \n",
    "3.anaconda自带   "
   ]
  },
  {
   "cell_type": "markdown",
   "metadata": {},
   "source": [
    "自相关函数（ACF）：http://www.statsmodels.org/stable/generated/statsmodels.graphics.tsaplots.plot_acf.html   \n",
    "偏自相关函数（PACF）：http://www.statsmodels.org/stable/generated/statsmodels.graphics.tsaplots.plot_pacf.html"
   ]
  },
  {
   "cell_type": "markdown",
   "metadata": {},
   "source": [
    "### 2.导入数据集"
   ]
  },
  {
   "cell_type": "code",
   "execution_count": 34,
   "metadata": {},
   "outputs": [],
   "source": [
    "#导入数据集\n",
    "df = pd.read_csv('https://github.com/selva86/datasets/raw/master/AirPassengers.csv')"
   ]
  },
  {
   "cell_type": "code",
   "execution_count": 35,
   "metadata": {},
   "outputs": [
    {
     "data": {
      "text/html": [
       "<div>\n",
       "<style scoped>\n",
       "    .dataframe tbody tr th:only-of-type {\n",
       "        vertical-align: middle;\n",
       "    }\n",
       "\n",
       "    .dataframe tbody tr th {\n",
       "        vertical-align: top;\n",
       "    }\n",
       "\n",
       "    .dataframe thead th {\n",
       "        text-align: right;\n",
       "    }\n",
       "</style>\n",
       "<table border=\"1\" class=\"dataframe\">\n",
       "  <thead>\n",
       "    <tr style=\"text-align: right;\">\n",
       "      <th></th>\n",
       "      <th>date</th>\n",
       "      <th>value</th>\n",
       "    </tr>\n",
       "  </thead>\n",
       "  <tbody>\n",
       "    <tr>\n",
       "      <th>0</th>\n",
       "      <td>1949-01-01</td>\n",
       "      <td>112</td>\n",
       "    </tr>\n",
       "    <tr>\n",
       "      <th>1</th>\n",
       "      <td>1949-02-01</td>\n",
       "      <td>118</td>\n",
       "    </tr>\n",
       "    <tr>\n",
       "      <th>2</th>\n",
       "      <td>1949-03-01</td>\n",
       "      <td>132</td>\n",
       "    </tr>\n",
       "    <tr>\n",
       "      <th>3</th>\n",
       "      <td>1949-04-01</td>\n",
       "      <td>129</td>\n",
       "    </tr>\n",
       "    <tr>\n",
       "      <th>4</th>\n",
       "      <td>1949-05-01</td>\n",
       "      <td>121</td>\n",
       "    </tr>\n",
       "  </tbody>\n",
       "</table>\n",
       "</div>"
      ],
      "text/plain": [
       "         date  value\n",
       "0  1949-01-01    112\n",
       "1  1949-02-01    118\n",
       "2  1949-03-01    132\n",
       "3  1949-04-01    129\n",
       "4  1949-05-01    121"
      ]
     },
     "execution_count": 35,
     "metadata": {},
     "output_type": "execute_result"
    }
   ],
   "source": [
    "df.head()"
   ]
  },
  {
   "cell_type": "code",
   "execution_count": 36,
   "metadata": {},
   "outputs": [
    {
     "data": {
      "text/plain": [
       "(144, 2)"
      ]
     },
     "execution_count": 36,
     "metadata": {},
     "output_type": "execute_result"
    }
   ],
   "source": [
    "df.shape"
   ]
  },
  {
   "cell_type": "code",
   "execution_count": 39,
   "metadata": {},
   "outputs": [
    {
     "data": {
      "image/png": "[encoded data removed]",
      "text/plain": [
       "<Figure size 432x288 with 1 Axes>"
      ]
     },
     "metadata": {
      "needs_background": "light"
     },
     "output_type": "display_data"
    }
   ],
   "source": [
    "plt.plot(df.value);"
   ]
  },
  {
   "cell_type": "markdown",
   "metadata": {},
   "source": [
    "### 3.绘制自相关图和偏自相关图"
   ]
  },
  {
   "cell_type": "markdown",
   "metadata": {},
   "source": [
    "**绘制自相关图的函数：plot_acf**    \n",
    "\n",
    "重要参数：    \n",
    "> x：时间序列数据    \n",
    "> ax：子图\n",
    "> lags：限制横坐标显示的数量   \n",
    "> alpha：置信区间（alpha=.05表示置信区间为95%，若alpha=None则不绘制置信区间）  \n",
    "> title：图标标题，默认为'Autocorrelation'   \n",
    "> zero：是否计算包含第一个数的自相关   \n",
    "> vlines_kwargs：垂直线相关参数   \n",
    "\n",
    "> 'unbiased=False'：布尔值，若为True，则自协方差的分母为n-k，否则为n    \n",
    "> 'fft=False'：布尔值，若为True，则通过FFT计算ACF（FFT：快速傅立叶变换fast Fourier transform）"
   ]
  },
  {
   "cell_type": "code",
   "execution_count": 5,
   "metadata": {},
   "outputs": [
    {
     "data": {
      "image/png": "[encoded data removed]",
      "text/plain": [
       "<Figure size 432x288 with 1 Axes>"
      ]
     },
     "metadata": {
      "needs_background": "light"
     },
     "output_type": "display_data"
    }
   ],
   "source": [
    "plot_acf(df.value\n",
    "         ,lags=20\n",
    "#          ,alpha=.05\n",
    "#          ,use_vlines=False\n",
    "#          ,zero=False\n",
    "#          ,vlines_kwargs={'color':'b','linestyle':'dashdot','linewidth':1,'alpha':.6}\n",
    "#          ,color='darkorange'\n",
    "#          ,marker='*'\n",
    "        );"
   ]
  },
  {
   "cell_type": "markdown",
   "metadata": {},
   "source": [
    "**绘制偏自相关图的函数：plot_pacf**    \n",
    "\n",
    "重要参数：    \n",
    "> x：时间序列数据    \n",
    "> ax：子图\n",
    "> lags：限制横坐标显示的数量   \n",
    "> alpha：置信区间（alpha=.05表示置信区间为95%，若alpha=None则不绘制置信区间）\n",
    "> title：图标标题，默认为''Partial Autocorrelation'   \n",
    "> zero：是否计算包含第一个数的自相关   \n",
    "> vlines_kwargs：垂直线相关参数   \n",
    "\n",
    "> method：'ywunbiased'（默认）   \n",
    ">> yw/ywunbiased：具有偏差校正的yule walker，用于acovf的分母   \n",
    ">> ywm/ywmle：没有偏差校正的yule walker   \n",
    ">> ols：在滞后和常数上进行时间序列的回归   \n",
    ">> ld/ldunbiased：带偏差校正的Levinson-Durbin递归   \n",
    ">> ldb/ldbiased：不带偏差校正的Levinson-Durbin递归 "
   ]
  },
  {
   "cell_type": "markdown",
   "metadata": {},
   "source": [
    "**尤尔一沃克方程(Yule-Walker equation)**是描述自回归序列参数与其协方差函数之间关系的方程。在统计和信号处理中，尤尔一沃克方程与自回归模型关系密切，是一种随机过程的表示，它用于描述自然界，经济学等中的某些时变过程。"
   ]
  },
  {
   "cell_type": "markdown",
   "metadata": {},
   "source": [
    "Levinson-Durbin递归参考说明：https://ww2.mathworks.cn/help/signal/ref/levinson.html"
   ]
  },
  {
   "cell_type": "code",
   "execution_count": 6,
   "metadata": {},
   "outputs": [
    {
     "data": {
      "image/png": "[encoded data removed]",
      "text/plain": [
       "<Figure size 432x288 with 1 Axes>"
      ]
     },
     "metadata": {
      "needs_background": "light"
     },
     "output_type": "display_data"
    }
   ],
   "source": [
    "plot_pacf(df.value\n",
    "         ,lags=30\n",
    "#          ,alpha=.05\n",
    "#          ,use_vlines=False\n",
    "#          ,zero=False\n",
    "        );"
   ]
  },
  {
   "cell_type": "markdown",
   "metadata": {},
   "source": [
    "#### 绘制目标图形   "
   ]
  },
  {
   "cell_type": "code",
   "execution_count": 17,
   "metadata": {},
   "outputs": [
    {
     "data": {
      "image/png": "[encoded data removed]",
      "text/plain": [
       "<Figure size 960x360 with 2 Axes>"
      ]
     },
     "metadata": {
      "needs_background": "light"
     },
     "output_type": "display_data"
    }
   ],
   "source": [
    "#创建画布\n",
    "fig,(ax1,ax2) = plt.subplots(1,2,figsize=(16,6),dpi=60)   \n",
    "\n",
    "#绘制图形\n",
    "plot_acf(df.value,ax=ax1,lags=50) #自相关图\n",
    "plot_pacf(df.value,ax=ax2,lags=20) #偏自相关图 \n",
    "\n",
    "#弱化边框\n",
    "sp = ['top','bottom','left','right']\n",
    "for i in sp:\n",
    "    ax1.spines[i].set_alpha(.3) #弱化子图1的边框\n",
    "    ax2.spines[i].set_alpha(.3) #弱化子图2的边框  \n",
    "    \n",
    "#添加装饰    \n",
    "ax1.tick_params(axis='both', labelsize=12) #设定子图1的刻度\n",
    "ax2.tick_params(axis='both', labelsize=12) #设定子图2的刻度\n",
    "plt.show()"
   ]
  },
  {
   "cell_type": "markdown",
   "metadata": {},
   "source": [
    "#### 源码解读"
   ]
  },
  {
   "cell_type": "code",
   "execution_count": 7,
   "metadata": {},
   "outputs": [
    {
     "data": {
      "image/png": "[encoded data removed]",
      "text/plain": [
       "<Figure size 960x360 with 2 Axes>"
      ]
     },
     "metadata": {
      "needs_background": "light"
     },
     "output_type": "display_data"
    }
   ],
   "source": [
    "# Import Data\n",
    "# df = pd.read_csv('https://github.com/selva86/datasets/raw/master/AirPassengers.csv') #导入数据集\n",
    "\n",
    "# Draw Plot\n",
    "fig, (ax1, ax2) = plt.subplots(1, 2,figsize=(16,6), dpi= 60) #创建一张画布和两个子图\n",
    "plot_acf(df.value.tolist(), ax=ax1, lags=50) #绘制自相关图\n",
    "plot_pacf(df.value.tolist(), ax=ax2, lags=20)#绘制偏自相关图\n",
    "\n",
    "# Decorate\n",
    "# lighten the borders\n",
    "ax1.spines[\"top\"].set_alpha(.3); ax2.spines[\"top\"].set_alpha(.3)       #弱化子图1和子图2的上边框\n",
    "ax1.spines[\"bottom\"].set_alpha(.3); ax2.spines[\"bottom\"].set_alpha(.3) #弱化子图1和子图2的下边框\n",
    "ax1.spines[\"right\"].set_alpha(.3); ax2.spines[\"right\"].set_alpha(.3)   #弱化子图1和子图2的右边框\n",
    "ax1.spines[\"left\"].set_alpha(.3); ax2.spines[\"left\"].set_alpha(.3)     #弱化子图1和子图2的左边框\n",
    "\n",
    "# font size of tick labels\n",
    "ax1.tick_params(axis='both', labelsize=12) #设定子图1的刻度\n",
    "ax2.tick_params(axis='both', labelsize=12) #设定子图2的刻度\n",
    "plt.show() #本地显示图形"
   ]
  },
  {
   "cell_type": "markdown",
   "metadata": {},
   "source": [
    "### 4.图像解读"
   ]
  },
  {
   "cell_type": "markdown",
   "metadata": {},
   "source": [
    "自相关图（ACF图）显示时间序列与其自身滞后的相关性。   \n",
    "在自相关图上，每条垂直线表示系列与滞后0之间的相关性。    \n",
    "图中的蓝色阴影区域是显著性水平，那些位于蓝线之上的滞后是显著的滞后。   \n",
    "\n",
    "那么如何解读呢？\n",
    "对于空乘旅客，我们看到多达14个滞后跨越蓝线，因此非常重要。 这意味着，14年前的航空旅客交通量对今天的交通状况有影响。   \n",
    "PACF在另一方面显示了任何给定滞后序列与当前序列的自相关，但是去掉了滞后的贡献。"
   ]
  },
  {
   "cell_type": "code",
   "execution_count": null,
   "metadata": {},
   "outputs": [],
   "source": []
  },
  {
   "cell_type": "markdown",
   "metadata": {},
   "source": [
    "### <font color=bule> 38/50 交叉相关图（Cross Correlation plot）  "
   ]
  },
  {
   "cell_type": "markdown",
   "metadata": {},
   "source": [
    "交叉相关图显示了两个时间序列之间的相关关系。"
   ]
  },
  {
   "cell_type": "markdown",
   "metadata": {},
   "source": [
    "<img src='http://pictes.oss-cn-beijing.aliyuncs.com/microclass-virtualisation/week6%20time%20series/%E4%BA%A4%E5%8F%89%E7%9B%B8%E5%85%B3%E5%9B%BE.png' width=600>"
   ]
  },
  {
   "cell_type": "markdown",
   "metadata": {},
   "source": [
    "### 1.导入相应的绘图包"
   ]
  },
  {
   "cell_type": "code",
   "execution_count": 19,
   "metadata": {},
   "outputs": [],
   "source": [
    "import pandas as pd \n",
    "import numpy as np\n",
    "import matplotlib.pyplot as plt \n",
    "%matplotlib inline\n",
    "import statsmodels.tsa.stattools as stattools  "
   ]
  },
  {
   "cell_type": "markdown",
   "metadata": {},
   "source": [
    "### 2.导入数据集"
   ]
  },
  {
   "cell_type": "markdown",
   "metadata": {},
   "source": [
    "此数据集统计的是从1974年到1979年期间，英国每月因支气管炎，肺气肿和哮喘而死亡的人数   \n",
    "特征为日期、男性死亡人数、女性死亡人数   "
   ]
  },
  {
   "cell_type": "code",
   "execution_count": 40,
   "metadata": {},
   "outputs": [],
   "source": [
    "df = pd.read_csv('https://github.com/selva86/datasets/raw/master/mortality.csv')"
   ]
  },
  {
   "cell_type": "code",
   "execution_count": 41,
   "metadata": {},
   "outputs": [
    {
     "data": {
      "text/html": [
       "<div>\n",
       "<style scoped>\n",
       "    .dataframe tbody tr th:only-of-type {\n",
       "        vertical-align: middle;\n",
       "    }\n",
       "\n",
       "    .dataframe tbody tr th {\n",
       "        vertical-align: top;\n",
       "    }\n",
       "\n",
       "    .dataframe thead th {\n",
       "        text-align: right;\n",
       "    }\n",
       "</style>\n",
       "<table border=\"1\" class=\"dataframe\">\n",
       "  <thead>\n",
       "    <tr style=\"text-align: right;\">\n",
       "      <th></th>\n",
       "      <th>date</th>\n",
       "      <th>mdeaths</th>\n",
       "      <th>fdeaths</th>\n",
       "    </tr>\n",
       "  </thead>\n",
       "  <tbody>\n",
       "    <tr>\n",
       "      <th>0</th>\n",
       "      <td>Jan 1974</td>\n",
       "      <td>2134</td>\n",
       "      <td>901</td>\n",
       "    </tr>\n",
       "    <tr>\n",
       "      <th>1</th>\n",
       "      <td>Feb 1974</td>\n",
       "      <td>1863</td>\n",
       "      <td>689</td>\n",
       "    </tr>\n",
       "    <tr>\n",
       "      <th>2</th>\n",
       "      <td>Mar 1974</td>\n",
       "      <td>1877</td>\n",
       "      <td>827</td>\n",
       "    </tr>\n",
       "    <tr>\n",
       "      <th>3</th>\n",
       "      <td>Apr 1974</td>\n",
       "      <td>1877</td>\n",
       "      <td>677</td>\n",
       "    </tr>\n",
       "    <tr>\n",
       "      <th>4</th>\n",
       "      <td>May 1974</td>\n",
       "      <td>1492</td>\n",
       "      <td>522</td>\n",
       "    </tr>\n",
       "  </tbody>\n",
       "</table>\n",
       "</div>"
      ],
      "text/plain": [
       "       date  mdeaths  fdeaths\n",
       "0  Jan 1974     2134      901\n",
       "1  Feb 1974     1863      689\n",
       "2  Mar 1974     1877      827\n",
       "3  Apr 1974     1877      677\n",
       "4  May 1974     1492      522"
      ]
     },
     "execution_count": 41,
     "metadata": {},
     "output_type": "execute_result"
    }
   ],
   "source": [
    "df.head()"
   ]
  },
  {
   "cell_type": "code",
   "execution_count": 42,
   "metadata": {},
   "outputs": [
    {
     "data": {
      "text/plain": [
       "(72, 3)"
      ]
     },
     "execution_count": 42,
     "metadata": {},
     "output_type": "execute_result"
    }
   ],
   "source": [
    "df.shape"
   ]
  },
  {
   "cell_type": "code",
   "execution_count": 44,
   "metadata": {},
   "outputs": [
    {
     "data": {
      "image/png": "[encoded data removed]",
      "text/plain": [
       "<Figure size 432x288 with 1 Axes>"
      ]
     },
     "metadata": {
      "needs_background": "light"
     },
     "output_type": "display_data"
    }
   ],
   "source": [
    "#探索原数据\n",
    "plt.plot(df.mdeaths,label='man')\n",
    "plt.plot(df.fdeaths,label='female')\n",
    "plt.legend(frameon=False);"
   ]
  },
  {
   "cell_type": "markdown",
   "metadata": {},
   "source": [
    "### 3.绘制交叉相关图"
   ]
  },
  {
   "cell_type": "code",
   "execution_count": 46,
   "metadata": {},
   "outputs": [
    {
     "data": {
      "text/plain": [
       "array([ 0.97624125,  0.74603006,  0.37464875, -0.01113989, -0.40544536,\n",
       "       -0.66883377, -0.75113293, -0.67633918, -0.43125559, -0.02069951,\n",
       "        0.45520617,  0.77499397,  0.86567668,  0.77992398,  0.44857567,\n",
       "       -0.00427632, -0.37851576, -0.65935527, -0.7983207 , -0.73099575,\n",
       "       -0.46666178, -0.05366402,  0.37389739,  0.79257813,  0.95522608,\n",
       "        0.80760227,  0.45887346,  0.042412  , -0.38446007, -0.64856949,\n",
       "       -0.76551299, -0.75223759, -0.54038568, -0.13669633,  0.36233231,\n",
       "        0.7150268 ,  0.84863502,  0.72924617,  0.4238075 ,  0.05216286,\n",
       "       -0.35928919, -0.64150057, -0.82579344, -0.81586446, -0.6188645 ,\n",
       "       -0.18803659,  0.21050648,  0.60212996,  0.75763278,  0.6510551 ,\n",
       "        0.41560064,  0.05754465, -0.29854881, -0.5524216 , -0.73614681,\n",
       "       -0.77758294, -0.59543994, -0.18239377,  0.15294809,  0.50874631,\n",
       "        0.74232138,  0.51732832,  0.34563495,  0.04223246, -0.31191072,\n",
       "       -0.62767461, -0.82745419, -0.98125958, -1.02341607, -0.90489408,\n",
       "       -0.57714028, -0.68691214])"
      ]
     },
     "execution_count": 46,
     "metadata": {},
     "output_type": "execute_result"
    }
   ],
   "source": [
    "stattools.ccf(df.mdeaths, df.fdeaths) #计算两个时间序列之间的交叉相关系数"
   ]
  },
  {
   "cell_type": "markdown",
   "metadata": {},
   "source": [
    "- 在零相关的零假设下，交叉相关系数的方差大约为1/n\n",
    "- 如果置信水平为5%，则近似临近值±$2/\\sqrt n$   \n",
    "ref: https://stats.stackexchange.com/questions/3115/cross-correlation-significance-in-r/3128#3128"
   ]
  },
  {
   "cell_type": "code",
   "execution_count": 60,
   "metadata": {},
   "outputs": [
    {
     "data": {
      "image/png": "[encoded data removed]",
      "text/plain": [
       "<Figure size 720x420 with 1 Axes>"
      ]
     },
     "metadata": {
      "needs_background": "light"
     },
     "output_type": "display_data"
    }
   ],
   "source": [
    "#绘制交叉相关图\n",
    "\n",
    "#数据处理\n",
    "ccs = stattools.ccf(df.mdeaths, df.fdeaths) #计算两个时间序列之间的交叉相关系数\n",
    "conf_level = 2/np.sqrt(len(ccs))  #计算置信水平\n",
    "\n",
    "#绘制图形\n",
    "plt.figure(figsize=(12,7),dpi=60) #创建画布\n",
    "plt.bar(x=range(len(ccs)),height=ccs,width=.3) #绘制交叉相关系数的条形图\n",
    "plt.hlines(0,xmin=0,xmax=len(ccs),color='gray')#绘制中心线\n",
    "plt.hlines(conf_level,xmin=0,xmax=len(ccs),color='gray') #绘制置信水平上界\n",
    "plt.hlines(-conf_level,xmin=0,xmax=len(ccs),color='gray') #绘制置信水平下界\n",
    "\n",
    "#添加装饰\n",
    "plt.title('$Cross\\ Correlation\\ Plot:\\ mdeaths\\ vs\\ fdeaths$',fontsize=22)\n",
    "plt.xlim(0,len(ccs));"
   ]
  },
  {
   "cell_type": "markdown",
   "metadata": {},
   "source": [
    "#### 源码解读"
   ]
  },
  {
   "cell_type": "code",
   "execution_count": 48,
   "metadata": {},
   "outputs": [
    {
     "data": {
      "image/png": "[encoded data removed]",
      "text/plain": [
       "<Figure size 720x420 with 1 Axes>"
      ]
     },
     "metadata": {
      "needs_background": "light"
     },
     "output_type": "display_data"
    }
   ],
   "source": [
    "# Import Data\n",
    "# df = pd.read_csv('https://github.com/selva86/datasets/raw/master/mortality.csv') #导入数据集\n",
    "x = df['mdeaths'] #提取男性死亡数时间序列\n",
    "y = df['fdeaths'] #提取女性死亡数时间序列\n",
    "\n",
    "# Compute Cross Correlations\n",
    "ccs = stattools.ccf(x, y)[:100] #计算两个序列之间的交叉相关系数（这里的[:100]截取前100个数并没起到什么作用，源数据总共就72条数据）\n",
    "nlags = len(ccs) #计算交叉相关系数的长度\n",
    "\n",
    "# Compute the Significance level\n",
    "# ref: https://stats.stackexchange.com/questions/3115/cross-correlation-significance-in-r/3128#3128\n",
    "conf_level = 2 / np.sqrt(nlags) #计算置信水平\n",
    "\n",
    "# Draw Plot\n",
    "plt.figure(figsize=(12,7), dpi= 60) #创建画布\n",
    "\n",
    "plt.hlines(0, xmin=0, xmax=100, color='gray')  #绘制中心线\n",
    "plt.hlines(conf_level, xmin=0, xmax=100, color='gray') #绘制置信水平上界\n",
    "plt.hlines(-conf_level, xmin=0, xmax=100, color='gray')#绘制置信水平下界\n",
    "\n",
    "plt.bar(x=np.arange(len(ccs)), height=ccs, width=.3) #绘制交叉相关系数条形图\n",
    "\n",
    "# Decoration\n",
    "plt.title('$Cross\\; Correlation\\; Plot:\\; mdeaths\\; vs\\; fdeaths$', fontsize=22) #添加标题并设定字体大小\n",
    "plt.xlim(0,len(ccs)) #设定X轴刻度范围\n",
    "plt.show() #本地显示图形"
   ]
  },
  {
   "cell_type": "markdown",
   "metadata": {},
   "source": [
    "### 4.图像解读"
   ]
  },
  {
   "cell_type": "code",
   "execution_count": null,
   "metadata": {},
   "outputs": [],
   "source": []
  }
 ],
 "metadata": {
  "kernelspec": {
   "display_name": "Python 3",
   "language": "python",
   "name": "python3"
  },
  "language_info": {
   "codemirror_mode": {
    "name": "ipython",
    "version": 3
   },
   "file_extension": ".py",
   "mimetype": "text/x-python",
   "name": "python",
   "nbconvert_exporter": "python",
   "pygments_lexer": "ipython3",
   "version": "3.7.1"
  }
 },
 "nbformat": 4,
 "nbformat_minor": 2
}
