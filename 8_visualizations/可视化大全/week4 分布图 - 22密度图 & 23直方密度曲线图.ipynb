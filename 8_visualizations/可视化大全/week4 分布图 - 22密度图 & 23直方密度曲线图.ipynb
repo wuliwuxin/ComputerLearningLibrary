{
 "cells": [
  {
   "cell_type": "markdown",
   "metadata": {},
   "source": [
    "# **菊安酱与菜菜的Python机器学习可视化**"
   ]
  },
  {
   "cell_type": "markdown",
   "metadata": {},
   "source": [
    "### <font color='bule'>第四期  分布图：22密度图 & 23直方密度曲线图"
   ]
  },
  {
   "cell_type": "markdown",
   "metadata": {},
   "source": [
    "**注意：本篇中可能遇见无法在matpotlib和seaborn中显示中文或者负号的问题**  \n",
    "如果你遇见了，请参考链接，可永久解决中文和负号问题：https://www.jianshu.com/p/914b5f4ce6bf  \n",
    "或者你也可以在每次需要负号和中文的时候执行下面的代码来避免中文或负号显示不出来："
   ]
  },
  {
   "cell_type": "code",
   "execution_count": 1,
   "metadata": {},
   "outputs": [],
   "source": [
    "# import matplotlib.pyplot as plt\n",
    "\n",
    "# plt.rcParams['font.sans-serif']=['Simhei'] #显示中文\n",
    "# plt.rcParams['axes.unicode_minus']=False   #显示负号"
   ]
  },
  {
   "cell_type": "markdown",
   "metadata": {},
   "source": [
    "### <font color=bule> 22/50 密度图（Density Plot）"
   ]
  },
  {
   "cell_type": "markdown",
   "metadata": {},
   "source": [
    "密度图，又称为密度曲线图。在分布图中，密度图是一种常用的工具。对于连续变量来说，如果想要把它的分布状况进行可视化，那密度图就是一个很好的选择。"
   ]
  },
  {
   "cell_type": "markdown",
   "metadata": {},
   "source": [
    "<img src='http://pictes.oss-cn-beijing.aliyuncs.com/microclass-virtualisation/week4%20Distribution/%E5%AF%86%E5%BA%A6%E5%9B%BE.png' width=500>"
   ]
  },
  {
   "cell_type": "markdown",
   "metadata": {},
   "source": [
    "这幅图的主要目的就是反映城市里程如何随着气缸数量的变化而变化"
   ]
  },
  {
   "cell_type": "markdown",
   "metadata": {},
   "source": [
    "横坐标：城市里程   \n",
    "纵坐标：概率密度   \n",
    "图例：不同种类气缸数量   "
   ]
  },
  {
   "cell_type": "markdown",
   "metadata": {},
   "source": [
    "### 1. 导入需要的绘图库"
   ]
  },
  {
   "cell_type": "code",
   "execution_count": 2,
   "metadata": {},
   "outputs": [],
   "source": [
    "import pandas as pd\n",
    "import numpy as np\n",
    "import seaborn as sns\n",
    "import matplotlib.pyplot as plt\n",
    "%matplotlib inline\n",
    "#如果用jupyter notebook则需要这行代码让你的图像显示，如果是jupyterlab则不需要\n",
    "\n",
    "plt.rcParams['font.sans-serif']=['Simhei'] #显示中文\n",
    "plt.rcParams['axes.unicode_minus']=False   #显示负号"
   ]
  },
  {
   "cell_type": "markdown",
   "metadata": {},
   "source": [
    "### 2.认识绘制密度图的函数"
   ]
  },
  {
   "cell_type": "markdown",
   "metadata": {},
   "source": [
    "#### <font color='blue'>密度图是直方图的一种变形\n",
    "下面我们一起来看一下直方图和密度图的对比。    \n",
    "（下面这两个图，用的是同一个数据）"
   ]
  },
  {
   "cell_type": "markdown",
   "metadata": {},
   "source": [
    "<img src = 'http://pictes.oss-cn-beijing.aliyuncs.com/microclass-virtualisation/week4%20Distribution/%E7%9B%B4%E6%96%B9%E5%9B%BEvs%E5%AF%86%E5%BA%A6%E5%9B%BE.png'>"
   ]
  },
  {
   "cell_type": "markdown",
   "metadata": {},
   "source": [
    "#### 直方图 vs 密度图\n",
    "> 1. 直方图表示的是在不同取值区间里分别有多少个值，而密度图表示的是在不同取值区间里的概率密度\n",
    "> 2. 密度图曲线下的总面积为1（可以用积分证明）\n",
    "> 3. 大多数密度图使用的是核密度估计，核密度的计算就是一个比较复杂的数学过程了\n",
    "> 4. 通俗理解：密度图中的纵坐标用于不同类别之间的相对比较的值"
   ]
  },
  {
   "cell_type": "markdown",
   "metadata": {},
   "source": [
    "如果你还是比较困惑的话，可以看下面的例子:   \n",
    "假设我们有6个样本,每个样本点在下图中显示为X轴上的小黑色垂直线    \n",
    "各个内核（这里用的是高斯核）显示在每个点上方，用红色虚线绘制    \n",
    "通过对各个点的高斯核求和，形成了蓝色曲线，这一条曲线就是我们需要的密度曲线了。   "
   ]
  },
  {
   "cell_type": "markdown",
   "metadata": {},
   "source": [
    "<img src='http://pictes.oss-cn-beijing.aliyuncs.com/microclass-virtualisation/week4%20Distribution/%E5%AF%86%E5%BA%A6%E8%AE%B2%E8%A7%A3%E5%AE%9E%E4%BE%8B.png' width=300>"
   ]
  },
  {
   "cell_type": "markdown",
   "metadata": {},
   "source": [
    "<img src='http://pictes.oss-cn-beijing.aliyuncs.com/microclass-virtualisation/week4%20Distribution/%E5%AF%86%E5%BA%A6%E8%AE%B2%E8%A7%A3%E5%9B%BE%E5%BD%A2.png' width=300>"
   ]
  },
  {
   "cell_type": "markdown",
   "metadata": {},
   "source": [
    ">在密度图中，x轴是变量的值，就像在直方图中一样，但是y轴的值表示的是什么呢？密度图中的y轴表示的核密度估计的概率密度函数。但是我们需要注意的是这里是**概率密度**而不是概率。\n",
    "\n",
    ">概率密度与概率的差异就是，概率密度指的是x轴上每单位的概率。如果想要转换为实际概率的话，需要在x轴上找到特定区间的曲线下面积。这些听起来可能会非常的困惑，尤其是遇到y轴的取值大于1的时候，所以我们需要明白概率密度不是概率，而我们的**y轴是可以取到大于1**的值。    \n",
    "\n",
    ">所以通常情况下，我会将密度图上的y轴当做仅仅是用于比较不同类别之间的相对值。"
   ]
  },
  {
   "cell_type": "markdown",
   "metadata": {},
   "source": [
    "**sns.kdeplot()**\n",
    "> 函数功能\n",
    ">> 拟合并绘制单变量或双变量核密度估计值  \n",
    "\n",
    "> 重要参数   \n",
    ">> data：数据集，可以只输入一个，也可以输入两个   \n",
    ">> shade：在密度曲线下方加阴影（如果数据是双变量时，填充轮廓）   \n",
    ">> vertical：控制密度轴向   \n",
    ">> bw：类似于直方图中的binwidth，用于确定核大小    \n",
    ">> kernel：核函数(双变量KDE只能使用高斯核)\n",
    "\n",
    ">>> 核函数种类说明：   \n",
    ">>> gau:gaussian高斯核（常用）   \n",
    ">>> cos:cosine余弦     \n",
    ">>> biw:biweight 四次   \n",
    ">>> epa:Epanechnikov 抛物线   \n",
    ">>> tri:triangle三角   \n",
    ">>> triw:triweight 三次   "
   ]
  },
  {
   "cell_type": "markdown",
   "metadata": {},
   "source": [
    "参数说明：https://seaborn.pydata.org/generated/seaborn.kdeplot.html"
   ]
  },
  {
   "cell_type": "markdown",
   "metadata": {},
   "source": [
    "关于核种类：https://en.wikipedia.org/wiki/Kernel_%28statistics%29"
   ]
  },
  {
   "cell_type": "markdown",
   "metadata": {},
   "source": [
    "#### <font color='blue'>绘制简单的密度图"
   ]
  },
  {
   "cell_type": "code",
   "execution_count": 20,
   "metadata": {},
   "outputs": [],
   "source": [
    "#构造数据,满足正态分布的1000个数\n",
    "data = np.random.randn(1000)"
   ]
  },
  {
   "cell_type": "code",
   "execution_count": 21,
   "metadata": {},
   "outputs": [
    {
     "data": {
      "text/plain": [
       "array([-2.99079987e-02,  1.06030196e+00,  9.45974102e-01,  6.57642777e-01,\n",
       "        1.10314161e+00, -1.05670072e+00,  4.86126288e-01,  8.87394095e-01,\n",
       "        1.93541560e-01, -1.26196452e+00,  9.09474259e-01,  2.45325100e+00,\n",
       "       -8.27987356e-02,  4.84881784e-01, -2.55287482e+00,  8.44475416e-01,\n",
       "       -2.80826359e+00,  5.34388422e-01, -1.40801785e+00, -1.12330156e+00,\n",
       "        1.73085499e+00, -3.15412991e-01, -8.88426943e-01,  5.65018525e-01,\n",
       "        3.85143647e-01, -1.35748509e+00, -4.65423558e-01,  1.49713134e+00,\n",
       "        1.65434235e-01,  1.45066808e+00,  1.13635725e+00,  2.69907303e+00,\n",
       "       -5.79500206e-01, -7.33270637e-01, -1.81533547e+00, -3.94215618e-01,\n",
       "       -2.64908387e-01, -4.86252319e-01, -2.52882508e-01,  2.18386518e+00,\n",
       "        6.32917018e-02, -6.71892644e-01, -9.87813688e-01,  1.62229649e+00,\n",
       "        2.15879157e+00,  7.70493366e-01,  4.20555122e-01, -1.62503957e+00,\n",
       "        6.16942055e-01, -1.80885035e-01,  1.75983074e+00,  1.22411290e+00,\n",
       "       -2.06184231e-01, -6.52439139e-02, -1.29805567e+00,  1.16570271e+00,\n",
       "        1.71422972e+00, -3.19455929e-01,  1.60333760e+00, -6.01100073e-01,\n",
       "        1.54436028e-01,  2.31718610e-01,  3.79772163e-01,  4.91134887e-01,\n",
       "        8.97720393e-01, -2.66816191e-01,  1.35484132e+00, -1.46409950e+00,\n",
       "        1.87980311e-01,  5.72992963e-01, -3.52872153e-03, -1.17497147e+00,\n",
       "        7.68509757e-01, -2.34335046e-01,  4.07267561e-01, -3.23664018e-01,\n",
       "       -5.42622968e-01, -9.48608844e-01, -4.34682254e-01, -1.55636930e+00,\n",
       "       -7.64083704e-02, -5.72562983e-02, -5.67779925e-01, -4.01300209e-01,\n",
       "       -5.01451523e-01,  9.81975595e-01,  4.60009706e-01,  1.68901952e-01,\n",
       "       -4.44119362e-01,  8.48743693e-01, -1.12566037e-01, -3.17452717e-01,\n",
       "       -8.05435304e-01, -1.73278361e+00, -3.04932119e-01,  3.06656308e+00,\n",
       "        6.19096118e-01,  9.45923515e-01, -9.18718137e-02, -7.86590647e-01,\n",
       "       -1.19296517e+00, -1.67194904e+00,  6.40836883e-02,  6.36421416e-01,\n",
       "       -1.02332244e-01, -3.57928040e-01, -6.29942943e-01,  2.14753453e-01,\n",
       "       -8.11184007e-01, -3.63315785e-01,  4.29246410e-01,  1.85476023e-01,\n",
       "       -4.14214574e-01, -1.97270842e+00,  3.23497541e-01, -9.59070296e-02,\n",
       "       -8.16470200e-01, -1.26010759e+00, -3.95536812e-01, -5.50665007e-02,\n",
       "       -5.05564419e-01,  2.40490079e+00,  1.37702859e-01,  2.39599503e-01,\n",
       "       -7.84397832e-01,  4.97388272e-01,  2.55589842e-01, -8.79326587e-01,\n",
       "        4.76189033e-01,  8.54628139e-02, -1.23740164e+00, -2.51503266e-01,\n",
       "       -4.31902607e-01, -1.03005752e+00,  5.21364528e-01, -1.05167305e+00,\n",
       "        9.07817601e-02,  9.89405490e-01,  1.01719092e+00, -1.05434360e+00,\n",
       "       -2.30528379e+00,  1.22797588e+00, -2.05260306e-01, -6.98529535e-01,\n",
       "       -1.19956684e+00, -1.13966209e+00,  1.72101724e+00, -1.22122424e+00,\n",
       "        1.35765242e-01,  7.11523084e-01,  1.19528778e+00, -1.82975666e-01,\n",
       "       -1.58880251e-01,  3.26855745e-01,  8.02566463e-01,  6.94094264e-01,\n",
       "        9.86247930e-01,  1.32004635e+00, -2.08930191e+00, -1.36096294e+00,\n",
       "        9.47199696e-01,  2.65202934e-01, -5.58284877e-01, -2.87948710e-01,\n",
       "       -8.33192148e-01, -1.82869687e-01,  1.01753398e+00, -9.76885142e-01,\n",
       "       -2.67574422e-01,  1.32071013e+00,  6.90167434e-01,  6.05304555e-01,\n",
       "       -5.96892637e-01,  6.62063362e-01, -3.88506762e-01,  1.40381582e+00,\n",
       "        1.47127014e+00, -1.07293813e+00, -1.18227419e-01, -6.66416647e-01,\n",
       "       -8.11863961e-01,  1.75208477e-01,  7.20779598e-01,  9.29341230e-01,\n",
       "       -1.99004703e+00,  2.36404869e-01,  2.12505841e-01,  3.25150347e-01,\n",
       "       -7.86798936e-01,  1.28995505e-01,  9.86015306e-01,  8.43343900e-01,\n",
       "        1.05255769e+00,  1.12413972e+00, -5.08050642e-01, -1.85520754e-01,\n",
       "       -9.32100289e-01, -8.08822427e-01,  2.38669601e-01, -5.63281396e-02,\n",
       "       -1.28461677e+00,  1.23298139e+00, -3.29031778e-01,  1.84030290e+00,\n",
       "       -9.46870138e-02,  6.88965138e-01, -8.86156789e-01, -4.11742821e-02,\n",
       "        1.48684194e+00, -9.67882971e-01,  1.53917159e+00,  5.49999164e-01,\n",
       "       -3.35571075e-01, -1.01818404e+00,  6.20304493e-01, -6.66650950e-02,\n",
       "        1.90965927e-01, -4.59193315e-01, -1.17757449e+00, -9.90175273e-02,\n",
       "       -7.59850152e-01, -2.00820205e+00, -6.86325059e-01, -1.15937427e+00,\n",
       "        4.64702761e-03,  1.80537669e+00,  1.11163822e+00,  1.41380367e+00,\n",
       "       -9.49953215e-02, -7.26249051e-01, -7.54253705e-01, -5.21382985e-01,\n",
       "        8.51131353e-02, -6.33819359e-01, -6.19520826e-01,  4.22418497e-01,\n",
       "        6.27873677e-01, -1.13197358e+00, -4.21502714e-01,  1.39088708e+00,\n",
       "        1.38766049e+00, -4.40930405e-01,  1.31948949e+00, -2.73406528e+00,\n",
       "       -1.44003372e+00, -1.29413080e+00, -7.77965164e-04,  2.00913007e+00,\n",
       "       -3.29487715e-01, -5.46273903e-01,  1.23953517e+00,  7.33066623e-01,\n",
       "       -1.02466044e+00, -4.83340738e-01,  1.18035510e-01, -1.62432046e-02,\n",
       "        1.19111120e+00,  8.55560085e-02,  9.74914370e-01,  4.83076100e-01,\n",
       "       -2.13599710e+00, -6.14071397e-01, -6.03719094e-01,  7.00525962e-01,\n",
       "        6.22370122e-01,  1.46526567e+00,  1.06601439e+00,  1.53044529e+00,\n",
       "        2.56943681e-01, -2.74928617e-02,  8.36578189e-01, -1.33567275e+00,\n",
       "        1.49114630e-01, -1.61401956e-01,  2.55869297e+00,  1.24292907e+00,\n",
       "       -7.18184976e-01,  4.91463269e-01, -3.50017972e-01,  1.56681280e+00,\n",
       "        7.41062460e-01,  1.90230465e+00, -1.68105254e+00, -6.87709776e-01,\n",
       "       -2.83215575e-01, -1.28077456e+00,  5.45453468e-01,  2.63972773e-01,\n",
       "       -1.02725313e+00, -2.09654400e-01, -1.01214500e+00, -1.27811587e+00,\n",
       "        6.16550501e-01,  1.62307241e-01, -1.01090630e+00,  1.23990469e-01,\n",
       "        1.60302783e-01, -1.38644945e+00, -1.64059743e+00,  1.88084558e+00,\n",
       "       -1.83015339e+00,  5.20235818e-01, -1.47227953e+00, -1.24565788e+00,\n",
       "        1.73205831e+00, -4.13680574e-01, -1.01544791e+00, -2.14190914e-01,\n",
       "       -2.83679933e-01,  3.48298609e-01, -1.44293936e+00,  1.92630667e+00,\n",
       "       -3.05280346e-01, -4.70224974e-01, -7.27685254e-01, -1.04932609e+00,\n",
       "        5.25152862e-01,  4.59333519e-01, -9.10164721e-02,  2.70027760e+00,\n",
       "       -7.50084196e-01,  7.19149485e-01,  2.62274120e+00,  8.09388514e-01,\n",
       "        5.22187632e-01, -7.63837702e-02, -9.94367360e-01, -2.33107775e+00,\n",
       "        4.27191709e-02, -2.48876796e+00,  6.04627723e-01,  2.96863698e-01,\n",
       "       -4.19939551e-01,  1.08806265e-02, -8.57242729e-01, -6.39645396e-01,\n",
       "        4.78922821e-01,  1.13457925e+00,  3.06063071e-01,  4.72108435e-01,\n",
       "        3.37088435e-01, -1.52488522e+00, -5.41145498e-01, -5.82682912e-01,\n",
       "        1.04912864e-02,  2.32142999e-01,  5.33112095e-01,  1.73805283e-01,\n",
       "       -9.96524443e-01, -6.22152678e-01, -1.67135233e+00, -1.15050682e-01,\n",
       "        4.01802859e-01,  9.52041538e-01,  3.73007802e-01,  1.11450230e+00,\n",
       "       -1.06422450e-01,  1.48974898e+00,  1.48927366e-01, -5.23237843e-01,\n",
       "        8.83059235e-01, -4.18264897e-01,  1.12307271e+00, -1.93336610e-01,\n",
       "       -1.10371143e+00, -7.87449916e-01, -6.15072068e-01, -8.45077592e-01,\n",
       "        4.84668689e-01,  2.33240608e-01,  2.37670090e-01,  6.51093468e-01,\n",
       "        2.29894347e-01,  8.06245470e-02, -1.91378036e-02,  1.05122073e+00,\n",
       "        1.47173106e+00, -5.15227224e-01,  1.74486792e+00, -1.08809346e+00,\n",
       "       -1.20985797e+00,  3.91181902e-01,  1.72537689e-01, -1.66922175e+00,\n",
       "        2.34891188e-01,  5.45878569e-01, -1.01982019e+00,  1.95484221e+00,\n",
       "       -9.37091468e-01,  9.71125939e-01, -3.08947645e-02,  1.15389046e+00,\n",
       "       -1.15726175e-02, -3.79764908e-01, -1.11004560e+00, -3.88819067e-01,\n",
       "        5.05259056e-01,  2.04417160e+00,  6.11817892e-02, -2.40589154e+00,\n",
       "       -5.28664071e-01,  1.92116691e+00,  1.44467948e-01,  6.96014846e-01,\n",
       "       -4.18790915e-01,  1.52205186e+00,  9.62980833e-01, -5.26670974e-01,\n",
       "       -1.10131523e-01, -9.25112513e-01, -1.08771155e+00,  2.40935885e+00,\n",
       "        5.92269211e-01,  5.86272332e-02,  2.65862513e-02,  1.60139651e+00,\n",
       "        1.08483244e+00,  1.65455276e+00, -9.40511447e-01,  6.86598892e-01,\n",
       "        4.34547436e-01, -7.95798935e-01, -9.32731947e-02,  4.55068752e-02,\n",
       "        1.89389783e+00,  1.97403764e-01,  9.35370519e-01, -2.68000697e-01,\n",
       "        7.90740983e-01,  8.39159378e-01, -9.29735870e-02, -5.51069653e-01,\n",
       "       -2.28054591e-01, -2.39520685e-01, -6.52210158e-01,  5.07351387e-01,\n",
       "       -7.46127969e-01,  1.26222035e+00, -6.59734910e-01,  1.04829675e+00,\n",
       "        4.68248694e-01,  2.88696109e-01, -2.42970033e-01,  3.70527700e-01,\n",
       "        1.02385723e+00, -1.95241683e+00, -7.90845443e-01,  8.98541112e-01,\n",
       "       -1.49860410e-01,  1.11011582e+00,  1.14814341e+00, -1.35376123e+00,\n",
       "       -3.06321537e-01,  1.36908605e-01, -1.27777814e-03, -5.14195478e-02,\n",
       "        7.44534715e-01,  1.37834382e+00, -1.14376920e+00, -6.62016938e-02,\n",
       "        1.38873160e+00, -1.22613245e+00, -7.10433658e-01, -5.01452778e-01,\n",
       "       -1.90202564e+00, -1.23557947e+00,  2.29707984e-01, -1.66265766e+00,\n",
       "        3.03661958e-01, -3.15668343e-01, -1.53440939e-01, -6.68001684e-02,\n",
       "       -2.57922219e+00, -2.01778660e-03,  1.42707187e+00,  1.08466699e+00,\n",
       "       -1.73063532e+00,  1.41295134e+00,  6.96050709e-01,  9.81540474e-01,\n",
       "       -1.10372245e+00, -2.16338810e-02, -2.45540848e-01, -1.37871953e-02,\n",
       "       -1.21052549e-01, -6.69974811e-01, -3.53465725e-01,  7.40719658e-01,\n",
       "        2.75570838e-01,  1.19543548e+00, -4.99702876e-01, -1.24330762e+00,\n",
       "        1.47796175e-01,  4.33335231e-01,  3.20555564e-01, -1.88170115e+00,\n",
       "        1.57929774e+00, -1.99791269e-01,  2.14564907e-01,  8.63663554e-01,\n",
       "       -7.58321657e-01,  8.55060191e-01, -2.77228581e-01, -2.23295861e-01,\n",
       "       -3.93254184e-01, -1.80591234e-01,  8.09954480e-01,  7.47156399e-01,\n",
       "       -4.14263532e-01,  1.68349927e+00, -1.43410926e+00, -1.25659352e+00,\n",
       "       -4.46726072e-01,  7.61578705e-01,  8.09571817e-01,  6.15076405e-01,\n",
       "       -9.94519783e-02,  1.21233909e+00, -7.43630142e-01, -1.25295091e+00,\n",
       "       -1.38341024e+00, -3.26446175e-01,  3.25537072e-01,  7.32570241e-01,\n",
       "        2.14248764e+00, -9.23420227e-01, -7.60586302e-01,  1.58585578e-01,\n",
       "       -1.28801776e+00, -1.75719393e+00, -4.86196241e-01, -4.99147912e-01,\n",
       "       -1.27119475e+00,  1.90418564e+00, -1.21905483e+00,  8.98747636e-01,\n",
       "        5.35657101e-01,  6.77064482e-02, -6.10260973e-01,  8.34312372e-01,\n",
       "       -3.85380958e-02,  8.32599885e-01,  1.77401698e+00, -6.66802049e-01,\n",
       "       -1.25735155e+00, -1.51747349e+00, -2.83360201e-02,  7.34900275e-01,\n",
       "        1.47276754e+00, -8.41071536e-01,  2.14766643e-02,  5.74608556e-01,\n",
       "       -1.23170993e+00, -1.08033976e+00,  2.03547785e-01, -1.32990526e+00,\n",
       "        3.08800283e-02,  7.36881538e-01, -9.39097879e-01, -9.39832435e-01,\n",
       "       -6.21369835e-01,  7.73293087e-01, -1.38694299e+00,  1.70062891e+00,\n",
       "        1.20252427e+00,  7.87650925e-01,  1.18819601e-01,  1.61891906e+00,\n",
       "        1.59797077e+00, -9.44035244e-01, -2.46440953e-01, -1.01837041e+00,\n",
       "        6.16407550e-01, -8.88421891e-01,  1.12446607e-01, -1.16653205e+00,\n",
       "       -1.86716517e+00, -1.75943017e+00,  7.64311614e-01, -2.09549951e+00,\n",
       "        9.99638379e-01, -6.77493938e-01, -2.07529250e+00,  1.62952516e+00,\n",
       "        6.58031801e-02,  1.20346603e+00, -1.22552377e+00, -1.51860877e+00,\n",
       "        8.65597115e-01,  5.75684989e-01,  8.45548542e-01,  5.39455773e-01,\n",
       "        6.83086344e-01, -6.03056548e-01, -9.36518728e-01, -2.16193935e+00,\n",
       "        5.06316509e-01,  6.59573281e-01,  5.67228588e-01, -4.21654907e-01,\n",
       "       -2.61490294e-01,  2.44201325e+00, -1.07533704e+00,  4.73195832e-01,\n",
       "        8.68781903e-01, -1.16813659e+00,  5.81251227e-01,  8.95125011e-01,\n",
       "       -9.52493509e-02, -8.33863185e-01,  6.46834713e-01, -5.31633634e-01,\n",
       "       -8.62880848e-01, -4.29158200e-01, -7.54894663e-01,  2.01769301e+00,\n",
       "        6.32058536e-01, -4.58433356e-01,  2.26952860e+00,  7.10601472e-01,\n",
       "        3.48157848e-01,  8.47911057e-01, -6.34267200e-01, -6.91318847e-01,\n",
       "        3.65893893e-01,  3.46982387e-01,  1.45880643e+00,  2.91060139e-01,\n",
       "        2.24155227e-01,  2.86624072e+00, -1.62095015e+00,  6.51374875e-01,\n",
       "        6.56577492e-01, -2.14241798e-02,  6.81423587e-01, -1.13968683e+00,\n",
       "       -4.53561438e-01,  5.08043017e-01, -1.94666859e+00, -3.58988132e-03,\n",
       "        1.10929961e+00,  2.24874693e-02,  1.64343152e+00, -7.97196987e-01,\n",
       "       -2.98730637e-01, -3.46431301e-01,  7.12482661e-01, -5.96834829e-01,\n",
       "        1.69859347e+00, -2.74293917e-01,  8.70133079e-02, -1.49012403e+00,\n",
       "        1.17407997e+00, -6.84317452e-01, -1.29140750e+00, -6.31139969e-02,\n",
       "       -7.27936644e-01,  2.06396148e+00,  9.44815270e-01,  1.38474785e+00,\n",
       "       -1.65567780e+00, -1.00046799e+00,  1.26884059e+00, -6.46362112e-01,\n",
       "       -1.48615221e+00, -1.63414056e+00,  2.96322894e-01,  5.72829117e-02,\n",
       "       -9.58806466e-01,  2.55509371e-01, -6.65842627e-01,  1.29933628e+00,\n",
       "       -5.57575329e-01, -1.00996811e+00,  2.89648961e-01,  2.95550463e-01,\n",
       "       -1.83612263e+00,  1.65377181e-01, -1.33180378e+00, -6.69180427e-01,\n",
       "        5.97469184e-01, -1.24267494e+00,  5.23648935e-01, -3.99131791e-01,\n",
       "        1.93031906e+00,  1.77626558e+00,  5.76625596e-01, -1.16553412e+00,\n",
       "        1.41247718e+00, -7.06458679e-01, -9.73709085e-01, -2.93965005e-01,\n",
       "        6.40808914e-01,  5.00902566e-01, -1.37180320e+00,  1.20585587e+00,\n",
       "       -1.40054149e+00, -4.14776690e-01, -7.12395096e-01, -8.86931588e-01,\n",
       "       -9.47167553e-01,  1.35133457e+00,  4.29409551e-01, -8.57317063e-02,\n",
       "        6.60064102e-01,  2.75455784e-01, -8.99039342e-01,  1.61849780e+00,\n",
       "        4.73419860e-01,  1.27649164e+00,  8.10477870e-01, -7.15602077e-01,\n",
       "        2.18088349e+00, -6.21508515e-01,  9.14711078e-01,  4.01574957e-01,\n",
       "        1.44644233e+00,  1.33414711e+00, -3.27050081e-01, -7.77679855e-01,\n",
       "       -1.07929336e+00, -1.18300091e+00, -1.18082741e+00, -7.57511289e-01,\n",
       "        4.93713781e-01, -4.92941265e-01,  7.68635084e-01, -6.77167557e-01,\n",
       "        2.18715802e-02, -2.01432178e-01,  9.06461789e-01,  9.84344498e-01,\n",
       "       -7.56182756e-01,  3.22965386e-01, -2.08151194e+00, -1.19834131e+00,\n",
       "       -1.07835209e+00, -2.27965591e-02,  8.60792592e-01,  1.55736399e-01,\n",
       "       -1.03305577e+00,  6.19756645e-01,  5.11746332e-01, -1.63443411e+00,\n",
       "       -1.12598744e+00, -5.67309499e-01,  1.57315378e+00,  5.54274829e-01,\n",
       "        2.06885003e+00,  9.33137722e-01,  2.26436877e+00,  2.13510927e+00,\n",
       "        4.35278528e-01,  9.50654342e-01, -6.96869755e-01, -1.17994839e-01,\n",
       "        2.26884739e-01, -1.95850183e-01,  3.23998532e-01,  1.10743592e+00,\n",
       "       -4.40580582e-01, -5.73965005e-01,  7.08498876e-01, -7.25733336e-01,\n",
       "        5.06169804e-01,  9.52337275e-01, -1.78203562e-01,  6.41666632e-01,\n",
       "        5.91265896e-01, -6.78792704e-02, -7.82154471e-01,  3.54045876e-01,\n",
       "       -5.49554645e-01, -1.75564939e+00,  1.00224797e+00,  1.28473941e+00,\n",
       "       -2.08226894e+00, -1.09020018e+00, -1.32946526e+00,  1.42055348e-01,\n",
       "       -4.32656106e-01, -2.24641629e-01, -1.03415552e+00,  1.79469114e+00,\n",
       "       -9.38416982e-02,  1.35468504e+00,  1.19277265e+00,  6.32585560e-02,\n",
       "        7.57635016e-03, -3.66060604e-01,  2.36718889e+00,  1.76583022e-01,\n",
       "        1.03342298e-01,  7.51719678e-01, -1.16709182e+00,  9.50141303e-01,\n",
       "       -9.95273150e-01,  4.19851618e-01,  3.82971644e-01,  7.46877549e-01,\n",
       "       -2.46096990e-01,  2.64985863e+00,  1.02321771e+00, -1.30350697e+00,\n",
       "        1.08075783e-02,  9.15155338e-01, -1.22691648e+00, -8.97538261e-02,\n",
       "       -1.00587201e+00, -1.67167721e+00,  2.22062582e+00,  1.67977228e+00,\n",
       "        1.93077971e+00, -2.22887209e+00,  1.75564043e+00, -2.99225952e-01,\n",
       "        8.05766515e-01, -5.49499029e-01,  1.81663204e+00, -6.44123411e-01,\n",
       "       -2.33944156e+00, -3.55059046e-01, -1.12369313e+00, -4.63437862e-01,\n",
       "        8.84053851e-01, -1.32510585e-01, -5.99116786e-01, -8.89630981e-01,\n",
       "        1.60301946e-01, -1.23386737e+00, -2.33550136e+00, -7.50358110e-01,\n",
       "       -6.24238392e-01,  4.92550572e-01, -5.57880697e-01, -1.12746664e+00,\n",
       "       -1.12131076e+00, -6.03327621e-01, -2.66641248e-01, -4.70585746e-01,\n",
       "       -5.13996692e-01, -7.84834198e-01,  1.07156906e+00,  1.58426893e+00,\n",
       "       -7.99107505e-01, -4.51390908e-01,  1.08953379e+00, -4.15993335e-01,\n",
       "        2.28760825e+00, -2.73411764e+00,  1.73176471e-02,  2.23490674e-02,\n",
       "        4.70767862e-01, -1.37910314e+00, -6.99576723e-02,  4.69638053e-01,\n",
       "       -1.38171911e+00, -1.68002524e+00,  3.00353672e-01,  1.80222248e-01,\n",
       "        1.92681899e+00, -1.91042930e+00, -4.81815469e-01,  7.53185539e-01,\n",
       "        1.99565572e-01, -4.52462169e-01, -1.30217939e+00,  4.85914885e-01,\n",
       "        8.30692023e-01,  1.26852486e+00,  1.25501201e+00,  4.86217859e-01,\n",
       "        6.43305252e-01, -9.91312694e-01, -6.03004337e-01,  4.79636545e-01,\n",
       "        1.17712681e+00,  6.75515716e-03, -1.18530271e+00,  9.23553802e-01,\n",
       "        2.20442833e-01, -5.57556095e-01, -4.24871605e-01, -1.01343110e-03,\n",
       "       -6.31436746e-01, -5.30963329e-01,  6.42527767e-01,  7.06991146e-02,\n",
       "       -1.16895428e+00,  6.01073445e-01, -1.41790940e+00, -5.07714514e-01,\n",
       "        8.40623902e-01,  6.02503523e-01,  5.81283140e-01,  2.59615809e-01,\n",
       "        3.71703521e-01,  2.71995983e+00,  5.79964577e-01,  2.39241933e-01,\n",
       "        8.14751598e-01,  1.39560847e+00,  8.02249625e-01, -1.18745248e+00,\n",
       "       -6.23134530e-01,  6.86535965e-01,  9.59348912e-01,  5.91910426e-01,\n",
       "        1.83556258e+00, -6.88524830e-01,  1.24700815e+00,  1.11248141e+00,\n",
       "       -4.32631199e-01, -1.15586160e-01, -1.10922904e+00, -4.19969796e-01,\n",
       "        8.38528723e-01,  1.00581224e+00,  6.87994349e-01, -1.02499535e+00,\n",
       "        1.00061019e+00, -7.10580999e-02, -2.81359139e+00,  1.39716219e-01,\n",
       "        3.04096886e-01,  5.40388910e-01, -1.25498015e+00, -1.07493217e+00,\n",
       "       -1.01192900e+00, -7.40949835e-01, -2.08706862e+00,  5.17798522e-01,\n",
       "        5.44110812e-01, -1.81013142e+00,  9.74543223e-02, -9.02071108e-01,\n",
       "        6.98586448e-01,  1.06714091e+00,  4.43225075e-01,  4.67621467e-01,\n",
       "        1.02156727e+00, -1.75145375e+00,  1.07587071e-02,  4.90144981e-01,\n",
       "       -4.39302813e-02, -2.46333116e-01,  8.19681549e-01,  5.05400715e-01,\n",
       "        5.37257188e-01, -1.38800198e-01, -1.94355704e+00,  6.18064259e-01,\n",
       "        6.74780958e-01, -1.32641443e+00,  5.37245497e-01, -8.81328805e-01,\n",
       "       -3.62930329e-01, -1.91445406e+00,  5.26062450e-01, -1.26786396e+00,\n",
       "        8.52194711e-01,  2.23822354e-01,  1.68530467e+00, -6.63989217e-01,\n",
       "       -5.31890974e-01,  1.72449296e+00, -8.64613401e-01, -9.92739461e-01,\n",
       "       -9.03395050e-01,  5.81163770e-01,  5.03833626e-01, -7.45261297e-01,\n",
       "        9.30221133e-01, -2.28246105e+00, -1.88691565e-01,  1.71991575e+00,\n",
       "        1.27591597e+00,  2.73695228e-01,  8.91467905e-01, -9.05849116e-01,\n",
       "        7.60190084e-01, -5.78880562e-01, -7.53311127e-01, -1.31064712e-01,\n",
       "       -1.23955312e-01, -2.51517164e+00, -1.21630105e+00,  8.17569151e-01,\n",
       "        7.27629872e-01, -3.52647149e-01, -8.11165646e-01, -8.26747751e-01,\n",
       "        1.25036009e+00, -5.00169432e-01, -2.51338685e-01,  5.09690241e-01,\n",
       "        2.98373159e-01,  1.70334405e+00, -1.09830384e+00,  5.96722476e-01])"
      ]
     },
     "execution_count": 21,
     "metadata": {},
     "output_type": "execute_result"
    }
   ],
   "source": [
    "data"
   ]
  },
  {
   "cell_type": "code",
   "execution_count": 22,
   "metadata": {},
   "outputs": [
    {
     "data": {
      "image/png": "[encoded data removed]",
      "text/plain": [
       "<Figure size 432x288 with 1 Axes>"
      ]
     },
     "metadata": {
      "needs_background": "light"
     },
     "output_type": "display_data"
    }
   ],
   "source": [
    "#画一个简单的密度图\n",
    "sns.kdeplot(data);"
   ]
  },
  {
   "cell_type": "code",
   "execution_count": 32,
   "metadata": {},
   "outputs": [
    {
     "data": {
      "image/png": "[encoded data removed]",
      "text/plain": [
       "<Figure size 432x288 with 1 Axes>"
      ]
     },
     "metadata": {
      "needs_background": "light"
     },
     "output_type": "display_data"
    }
   ],
   "source": [
    "#给密度图添加一些简单装饰\n",
    "sns.kdeplot(data\n",
    "#             ,shade=True       #填充曲线下阴影的控制参数\n",
    "#             ,vertical=True\n",
    "            ,color='r'   #控制颜色\n",
    "            ,alpha=0.5  #控制颜色的色彩饱和度\n",
    "            ,linewidth=3\n",
    "            ,linestyle='--'\n",
    "           );"
   ]
  },
  {
   "cell_type": "code",
   "execution_count": 33,
   "metadata": {},
   "outputs": [
    {
     "data": {
      "image/png": "[encoded data removed]",
      "text/plain": [
       "<Figure size 432x288 with 1 Axes>"
      ]
     },
     "metadata": {
      "needs_background": "light"
     },
     "output_type": "display_data"
    }
   ],
   "source": [
    "plt.hist(data);"
   ]
  },
  {
   "cell_type": "markdown",
   "metadata": {},
   "source": [
    "### 3.认识所用数据集"
   ]
  },
  {
   "cell_type": "code",
   "execution_count": 34,
   "metadata": {},
   "outputs": [],
   "source": [
    "#导入数据\n",
    "df = pd.read_csv(\"https://github.com/selva86/datasets/raw/master/mpg_ggplot2.csv\")"
   ]
  },
  {
   "cell_type": "code",
   "execution_count": 35,
   "metadata": {},
   "outputs": [
    {
     "data": {
      "text/html": [
       "<div>\n",
       "<style scoped>\n",
       "    .dataframe tbody tr th:only-of-type {\n",
       "        vertical-align: middle;\n",
       "    }\n",
       "\n",
       "    .dataframe tbody tr th {\n",
       "        vertical-align: top;\n",
       "    }\n",
       "\n",
       "    .dataframe thead th {\n",
       "        text-align: right;\n",
       "    }\n",
       "</style>\n",
       "<table border=\"1\" class=\"dataframe\">\n",
       "  <thead>\n",
       "    <tr style=\"text-align: right;\">\n",
       "      <th></th>\n",
       "      <th>manufacturer</th>\n",
       "      <th>model</th>\n",
       "      <th>displ</th>\n",
       "      <th>year</th>\n",
       "      <th>cyl</th>\n",
       "      <th>trans</th>\n",
       "      <th>drv</th>\n",
       "      <th>cty</th>\n",
       "      <th>hwy</th>\n",
       "      <th>fl</th>\n",
       "      <th>class</th>\n",
       "    </tr>\n",
       "  </thead>\n",
       "  <tbody>\n",
       "    <tr>\n",
       "      <th>0</th>\n",
       "      <td>audi</td>\n",
       "      <td>a4</td>\n",
       "      <td>1.8</td>\n",
       "      <td>1999</td>\n",
       "      <td>4</td>\n",
       "      <td>auto(l5)</td>\n",
       "      <td>f</td>\n",
       "      <td>18</td>\n",
       "      <td>29</td>\n",
       "      <td>p</td>\n",
       "      <td>compact</td>\n",
       "    </tr>\n",
       "    <tr>\n",
       "      <th>1</th>\n",
       "      <td>audi</td>\n",
       "      <td>a4</td>\n",
       "      <td>1.8</td>\n",
       "      <td>1999</td>\n",
       "      <td>4</td>\n",
       "      <td>manual(m5)</td>\n",
       "      <td>f</td>\n",
       "      <td>21</td>\n",
       "      <td>29</td>\n",
       "      <td>p</td>\n",
       "      <td>compact</td>\n",
       "    </tr>\n",
       "    <tr>\n",
       "      <th>2</th>\n",
       "      <td>audi</td>\n",
       "      <td>a4</td>\n",
       "      <td>2.0</td>\n",
       "      <td>2008</td>\n",
       "      <td>4</td>\n",
       "      <td>manual(m6)</td>\n",
       "      <td>f</td>\n",
       "      <td>20</td>\n",
       "      <td>31</td>\n",
       "      <td>p</td>\n",
       "      <td>compact</td>\n",
       "    </tr>\n",
       "    <tr>\n",
       "      <th>3</th>\n",
       "      <td>audi</td>\n",
       "      <td>a4</td>\n",
       "      <td>2.0</td>\n",
       "      <td>2008</td>\n",
       "      <td>4</td>\n",
       "      <td>auto(av)</td>\n",
       "      <td>f</td>\n",
       "      <td>21</td>\n",
       "      <td>30</td>\n",
       "      <td>p</td>\n",
       "      <td>compact</td>\n",
       "    </tr>\n",
       "    <tr>\n",
       "      <th>4</th>\n",
       "      <td>audi</td>\n",
       "      <td>a4</td>\n",
       "      <td>2.8</td>\n",
       "      <td>1999</td>\n",
       "      <td>6</td>\n",
       "      <td>auto(l5)</td>\n",
       "      <td>f</td>\n",
       "      <td>16</td>\n",
       "      <td>26</td>\n",
       "      <td>p</td>\n",
       "      <td>compact</td>\n",
       "    </tr>\n",
       "  </tbody>\n",
       "</table>\n",
       "</div>"
      ],
      "text/plain": [
       "  manufacturer model  displ  year  cyl       trans drv  cty  hwy fl    class\n",
       "0         audi    a4    1.8  1999    4    auto(l5)   f   18   29  p  compact\n",
       "1         audi    a4    1.8  1999    4  manual(m5)   f   21   29  p  compact\n",
       "2         audi    a4    2.0  2008    4  manual(m6)   f   20   31  p  compact\n",
       "3         audi    a4    2.0  2008    4    auto(av)   f   21   30  p  compact\n",
       "4         audi    a4    2.8  1999    6    auto(l5)   f   16   26  p  compact"
      ]
     },
     "execution_count": 35,
     "metadata": {},
     "output_type": "execute_result"
    }
   ],
   "source": [
    "df.head()"
   ]
  },
  {
   "cell_type": "code",
   "execution_count": 36,
   "metadata": {},
   "outputs": [
    {
     "data": {
      "text/plain": [
       "(234, 11)"
      ]
     },
     "execution_count": 36,
     "metadata": {},
     "output_type": "execute_result"
    }
   ],
   "source": [
    "df.shape"
   ]
  },
  {
   "cell_type": "code",
   "execution_count": 37,
   "metadata": {},
   "outputs": [
    {
     "data": {
      "text/plain": [
       "Index(['manufacturer', 'model', 'displ', 'year', 'cyl', 'trans', 'drv', 'cty',\n",
       "       'hwy', 'fl', 'class'],\n",
       "      dtype='object')"
      ]
     },
     "execution_count": 37,
     "metadata": {},
     "output_type": "execute_result"
    }
   ],
   "source": [
    "df.columns"
   ]
  },
  {
   "cell_type": "code",
   "execution_count": 38,
   "metadata": {},
   "outputs": [],
   "source": [
    "name = [\"汽车制造商\",\"型号名称\",\"发动机排量(L)\",\"制造年份\",\"气缸数量\",\"手动/自动\"\n",
    "              ,\"驱动类型\",\"城市里程/加仑\",\"公路里程/加仑\",\"汽油种类\",\"车辆类型\"]"
   ]
  },
  {
   "cell_type": "code",
   "execution_count": 39,
   "metadata": {},
   "outputs": [
    {
     "data": {
      "text/plain": [
       "[('manufacturer', '汽车制造商'),\n",
       " ('model', '型号名称'),\n",
       " ('displ', '发动机排量(L)'),\n",
       " ('year', '制造年份'),\n",
       " ('cyl', '气缸数量'),\n",
       " ('trans', '手动/自动'),\n",
       " ('drv', '驱动类型'),\n",
       " ('cty', '城市里程/加仑'),\n",
       " ('hwy', '公路里程/加仑'),\n",
       " ('fl', '汽油种类'),\n",
       " ('class', '车辆类型')]"
      ]
     },
     "execution_count": 39,
     "metadata": {},
     "output_type": "execute_result"
    }
   ],
   "source": [
    "[*zip(df.columns,np.array(name))]"
   ]
  },
  {
   "cell_type": "markdown",
   "metadata": {},
   "source": [
    "### 4.绘制密度图   \n",
    "今天绘制的目标图形是城市里程随气缸数变化的密度图"
   ]
  },
  {
   "cell_type": "code",
   "execution_count": 40,
   "metadata": {},
   "outputs": [
    {
     "data": {
      "text/plain": [
       "array([18, 21, 20, 21, 16, 18, 18, 18, 16, 20, 19, 15, 17, 17, 15, 15, 17,\n",
       "       16, 14, 11, 14, 13, 12, 16, 15, 16, 15, 15, 14, 11, 11, 14, 19, 22,\n",
       "       18, 18, 17, 18, 17, 16, 16, 17, 17, 11, 15, 15, 16, 16, 15, 14, 13,\n",
       "       14, 14, 14,  9, 11, 11, 13, 13,  9, 13, 11, 13, 11, 12,  9, 13, 13,\n",
       "       12,  9, 11, 11, 13, 11, 11, 11, 12, 14, 15, 14, 13, 13, 13, 14, 14,\n",
       "       13, 13, 13, 11, 13, 18, 18, 17, 16, 15, 15, 15, 15, 14, 28, 24, 25,\n",
       "       23, 24, 26, 25, 24, 21, 18, 18, 21, 21, 18, 18, 19, 19, 19, 20, 20,\n",
       "       17, 16, 17, 17, 15, 15, 14,  9, 14, 13, 11, 11, 12, 12, 11, 11, 11,\n",
       "       12, 14, 13, 13, 13, 21, 19, 23, 23, 19, 19, 18, 19, 19, 14, 15, 14,\n",
       "       12, 18, 16, 17, 18, 16, 18, 18, 20, 19, 20, 18, 21, 19, 19, 19, 20,\n",
       "       20, 19, 20, 15, 16, 15, 15, 16, 14, 21, 21, 21, 21, 18, 18, 19, 21,\n",
       "       21, 21, 22, 18, 18, 18, 24, 24, 26, 28, 26, 11, 13, 15, 16, 17, 15,\n",
       "       15, 15, 16, 21, 19, 21, 22, 17, 33, 21, 19, 22, 21, 21, 21, 16, 17,\n",
       "       35, 29, 21, 19, 20, 20, 21, 18, 19, 21, 16, 18, 17], dtype=int64)"
      ]
     },
     "execution_count": 40,
     "metadata": {},
     "output_type": "execute_result"
    }
   ],
   "source": [
    "#首先我们一起来看一下城市里程\n",
    "df.cty.values"
   ]
  },
  {
   "cell_type": "code",
   "execution_count": 41,
   "metadata": {},
   "outputs": [
    {
     "data": {
      "text/plain": [
       "4    81\n",
       "6    79\n",
       "8    70\n",
       "5     4\n",
       "Name: cyl, dtype: int64"
      ]
     },
     "execution_count": 41,
     "metadata": {},
     "output_type": "execute_result"
    }
   ],
   "source": [
    "#气缸数\n",
    "df.cyl.value_counts()  #可以看出气缸数有4种类型：4缸、5缸、6缸、8缸"
   ]
  },
  {
   "cell_type": "markdown",
   "metadata": {},
   "source": [
    "绘制气缸数为4的城市里程密度图"
   ]
  },
  {
   "cell_type": "code",
   "execution_count": 42,
   "metadata": {},
   "outputs": [
    {
     "data": {
      "text/plain": [
       "array([18, 21, 20, 21, 18, 16, 20, 19, 19, 22, 18, 28, 24, 25, 23, 24, 26,\n",
       "       25, 24, 21, 18, 18, 21, 21, 19, 19, 20, 20, 21, 19, 23, 23, 18, 18,\n",
       "       20, 19, 20, 18, 21, 19, 19, 19, 20, 20, 19, 20, 15, 16, 21, 21, 21,\n",
       "       21, 21, 21, 21, 22, 24, 24, 26, 28, 26, 15, 16, 17, 21, 19, 21, 22,\n",
       "       33, 21, 19, 22, 21, 35, 29, 21, 19, 21, 18, 19, 21], dtype=int64)"
      ]
     },
     "execution_count": 42,
     "metadata": {},
     "output_type": "execute_result"
    }
   ],
   "source": [
    "df.loc[df.cyl==4,'cty'].values"
   ]
  },
  {
   "cell_type": "code",
   "execution_count": 43,
   "metadata": {},
   "outputs": [
    {
     "data": {
      "text/plain": [
       "array([18, 21, 20, 21, 18, 16, 20, 19, 19, 22, 18, 28, 24, 25, 23, 24, 26,\n",
       "       25, 24, 21, 18, 18, 21, 21, 19, 19, 20, 20, 21, 19, 23, 23, 18, 18,\n",
       "       20, 19, 20, 18, 21, 19, 19, 19, 20, 20, 19, 20, 15, 16, 21, 21, 21,\n",
       "       21, 21, 21, 21, 22, 24, 24, 26, 28, 26, 15, 16, 17, 21, 19, 21, 22,\n",
       "       33, 21, 19, 22, 21, 35, 29, 21, 19, 21, 18, 19, 21], dtype=int64)"
      ]
     },
     "execution_count": 43,
     "metadata": {},
     "output_type": "execute_result"
    }
   ],
   "source": [
    "#筛选出气缸数为4的城市里程\n",
    "c4 = df.loc[df.cyl==4,'cty'].values\n",
    "c4"
   ]
  },
  {
   "cell_type": "code",
   "execution_count": 44,
   "metadata": {},
   "outputs": [
    {
     "data": {
      "image/png": "[encoded data removed]",
      "text/plain": [
       "<Figure size 432x288 with 1 Axes>"
      ]
     },
     "metadata": {
      "needs_background": "light"
     },
     "output_type": "display_data"
    }
   ],
   "source": [
    "#绘制图形\n",
    "sns.kdeplot(c4\n",
    "            ,shade=True\n",
    "            ,color='r'\n",
    "            ,alpha=0.3\n",
    "            ,label='Cyl=4'\n",
    "           );"
   ]
  },
  {
   "cell_type": "markdown",
   "metadata": {},
   "source": [
    "同样的方法可以依次绘制出5缸、6缸、8缸的城市里程密度图"
   ]
  },
  {
   "cell_type": "code",
   "execution_count": 48,
   "metadata": {},
   "outputs": [
    {
     "data": {
      "image/png": "[encoded data removed]",
      "text/plain": [
       "<Figure size 720x480 with 1 Axes>"
      ]
     },
     "metadata": {
      "needs_background": "light"
     },
     "output_type": "display_data"
    }
   ],
   "source": [
    "#提取绘图数据\n",
    "c4 = df.loc[df.cyl==4,'cty'].values\n",
    "c5 = df.loc[df.cyl==5,'cty'].values\n",
    "c6 = df.loc[df.cyl==6,'cty'].values\n",
    "c8 = df.loc[df.cyl==8,'cty'].values\n",
    "\n",
    "#创建画布并设定画布尺寸\n",
    "plt.figure(figsize=(12,8),dpi=60)\n",
    "\n",
    "#绘制图形\n",
    "sns.kdeplot(c4,shade=True,color='deeppink',alpha=0.6,label='Cyl = 4')\n",
    "sns.kdeplot(c5,shade=True,color='green',alpha=0.6,label='Cyl = 5')\n",
    "sns.kdeplot(c6,shade=True,color='blue',alpha=0.6,label='Cyl = 6')\n",
    "sns.kdeplot(c8,shade=True,color='orange',alpha=0.6,label='Cyl = 8')\n",
    "\n",
    "#添加装饰\n",
    "plt.title('城市里程随气缸数变化密度图',fontsize=20)#添加标题\n",
    "plt.xlabel('城市里程（cty）',fontsize=18)   #X轴标题\n",
    "plt.xticks(fontsize=15) #X轴刻度字体大小\n",
    "plt.yticks(fontsize=15) #Y轴刻度字体的大小\n",
    "plt.legend(fontsize=13,loc=0,frameon=False); #显示图例"
   ]
  },
  {
   "cell_type": "code",
   "execution_count": 49,
   "metadata": {},
   "outputs": [
    {
     "data": {
      "image/png": "[encoded data removed]",
      "text/plain": [
       "<Figure size 720x480 with 1 Axes>"
      ]
     },
     "metadata": {
      "needs_background": "light"
     },
     "output_type": "display_data"
    }
   ],
   "source": [
    "#源代码\n",
    "\n",
    "# Import Data\n",
    "df = pd.read_csv(\"https://github.com/selva86/datasets/raw/master/mpg_ggplot2.csv\") #导入数据集\n",
    "\n",
    "# Draw Plot\n",
    "plt.figure(figsize=(12,8), dpi= 60) #创建画布并设定画布大小\n",
    "sns.kdeplot(df.loc[df['cyl'] == 4, \"cty\"], shade=True, color=\"g\", label=\"Cyl=4\", alpha=.7)           #绘制气缸数为4的密度曲线\n",
    "sns.kdeplot(df.loc[df['cyl'] == 5, \"cty\"], shade=True, color=\"deeppink\", label=\"Cyl=5\", alpha=.7)    #绘制气缸数为5的密度曲线\n",
    "sns.kdeplot(df.loc[df['cyl'] == 6, \"cty\"], shade=True, color=\"dodgerblue\", label=\"Cyl=6\", alpha=.7)  #绘制气缸数为6的密度曲线\n",
    "sns.kdeplot(df.loc[df['cyl'] == 8, \"cty\"], shade=True, color=\"orange\", label=\"Cyl=8\", alpha=.7)      #绘制气缸数为8的密度曲线\n",
    "\n",
    "# Decoration\n",
    "plt.title('Density Plot of City Mileage by n_Cylinders', fontsize=22) #添加标题\n",
    "plt.legend() #添加图例\n",
    "plt.show()   #本地显示图形"
   ]
  },
  {
   "cell_type": "markdown",
   "metadata": {},
   "source": [
    "### 5. 图像解读"
   ]
  },
  {
   "cell_type": "code",
   "execution_count": null,
   "metadata": {},
   "outputs": [],
   "source": []
  },
  {
   "cell_type": "markdown",
   "metadata": {},
   "source": [
    "### <font color=bule> 23/50 直方密度曲线图（Density Curves with Histogram）"
   ]
  },
  {
   "cell_type": "markdown",
   "metadata": {},
   "source": [
    "直方密度曲线图其实就是直方图和密度图的结合，把两种图放在同一个图形里面。所以我们可以从这一个图里面同时看到直方图和密度图两个图传达出来的信息"
   ]
  },
  {
   "cell_type": "markdown",
   "metadata": {},
   "source": [
    "<img src='http://pictes.oss-cn-beijing.aliyuncs.com/microclass-virtualisation/week4%20Distribution/%E7%9B%B4%E6%96%B9%E5%AF%86%E5%BA%A6%E7%BA%BF%E5%9B%BE.png' width=500>"
   ]
  },
  {
   "cell_type": "markdown",
   "metadata": {},
   "source": [
    "横坐标：城市里程   \n",
    "纵坐标：概率密度   \n",
    "图例：汽车类型   "
   ]
  },
  {
   "cell_type": "markdown",
   "metadata": {},
   "source": [
    "### 1.导入相应的绘图包"
   ]
  },
  {
   "cell_type": "code",
   "execution_count": 1,
   "metadata": {},
   "outputs": [],
   "source": [
    "import pandas as pd\n",
    "import numpy as np\n",
    "import seaborn as sns\n",
    "import matplotlib.pyplot as plt\n",
    "%matplotlib inline\n",
    "#如果用jupyter notebook则需要这行代码让你的图像显示，如果是jupyterlab则不需要\n",
    "\n",
    "plt.rcParams['font.sans-serif']=['Simhei'] #显示中文\n",
    "plt.rcParams['axes.unicode_minus']=False   #显示负号"
   ]
  },
  {
   "cell_type": "markdown",
   "metadata": {},
   "source": [
    "### 2. 认识绘制直方密度曲线图的函数"
   ]
  },
  {
   "cell_type": "markdown",
   "metadata": {},
   "source": [
    "**sns.distplot()**\n",
    "> 重要参数   \n",
    ">> a：绘制图形的数据   \n",
    ">> bins：直方图参数,把数据分成多少个箱子   \n",
    ">> hist：控制直方图显示的参数（True/False,默认是True）   \n",
    ">> kde：控制密度曲线显示的参数（True/False,默认是True）    \n",
    ">> hist_kws：直方图控制参数  \n",
    ">> kde_kws：密度图控制参数  "
   ]
  },
  {
   "cell_type": "markdown",
   "metadata": {},
   "source": [
    "#### 绘制简单的直方密度曲线图"
   ]
  },
  {
   "cell_type": "code",
   "execution_count": 2,
   "metadata": {},
   "outputs": [],
   "source": [
    "#创建100个满足正态分布的数据\n",
    "X = np.random.randn(100)"
   ]
  },
  {
   "cell_type": "code",
   "execution_count": 3,
   "metadata": {},
   "outputs": [
    {
     "data": {
      "text/plain": [
       "array([-1.10962880e+00, -1.49209660e+00,  5.82247322e-01, -4.20827774e-01,\n",
       "       -7.10949143e-01, -5.02286573e-01, -1.63178007e+00, -1.58473573e+00,\n",
       "        7.61637628e-01, -7.14455980e-01, -1.90829536e-01, -3.51194397e-01,\n",
       "        1.35748883e+00, -7.06491540e-01,  1.14626498e+00,  8.96787253e-01,\n",
       "        1.96715362e+00,  5.22222807e-01,  1.32092923e+00,  4.88921900e-01,\n",
       "       -1.97617553e+00, -1.27858784e+00, -7.37773642e-01,  6.89128260e-01,\n",
       "        6.74780460e-01,  1.41253221e+00, -2.20976646e+00,  1.50393483e-01,\n",
       "       -6.61379539e-01,  3.94596460e-01,  2.99635484e-01, -7.25115594e-01,\n",
       "        3.87767704e-01, -5.39785149e-01,  9.48873209e-01, -5.63654118e-01,\n",
       "       -7.97836488e-01,  3.06287500e-02,  8.35951494e-01,  1.22104983e+00,\n",
       "        2.57835694e+00, -8.21227902e-01, -6.10144859e-01,  8.86223740e-01,\n",
       "       -1.58746174e+00, -4.86906930e-01,  6.68400244e-01,  3.87006115e-01,\n",
       "        5.70723549e-01,  1.22012713e+00, -1.58349872e+00, -3.18621015e-01,\n",
       "        1.31919541e+00, -1.51724708e+00,  7.27092084e-01,  5.89409699e-01,\n",
       "        1.02508612e-01,  9.09666100e-01, -6.11939409e-01,  6.77861380e-02,\n",
       "        6.01077453e-01,  5.78459368e-01,  5.14310757e-01, -2.20475664e+00,\n",
       "       -9.71844929e-01, -1.06123906e+00, -5.32843938e-01,  1.16832997e+00,\n",
       "        1.87787718e+00,  1.25486657e+00, -4.90279956e-02, -3.66238627e+00,\n",
       "        5.83288970e-01,  7.22883425e-01, -3.64204606e-01, -1.85859206e-01,\n",
       "        4.46138358e-01,  5.29537512e-01, -1.52356114e-01,  4.90693138e-01,\n",
       "       -2.34491644e+00, -4.52443562e-01,  4.62030060e-02, -9.01412874e-01,\n",
       "        1.77221518e+00,  9.33115310e-02,  8.77644026e-01, -7.96395812e-01,\n",
       "       -1.65874679e+00,  4.22460307e-01,  8.98287858e-01, -3.23738534e-03,\n",
       "        1.88128846e+00, -7.18316499e-01,  2.71089749e-01, -1.08434658e+00,\n",
       "        6.68547466e-01,  9.51310756e-01, -1.13473196e+00,  9.68730576e-02])"
      ]
     },
     "execution_count": 3,
     "metadata": {},
     "output_type": "execute_result"
    }
   ],
   "source": [
    "X"
   ]
  },
  {
   "cell_type": "code",
   "execution_count": 4,
   "metadata": {},
   "outputs": [
    {
     "name": "stderr",
     "output_type": "stream",
     "text": [
      "D:\\anaconda3\\lib\\site-packages\\scipy\\stats\\stats.py:1713: FutureWarning: Using a non-tuple sequence for multidimensional indexing is deprecated; use `arr[tuple(seq)]` instead of `arr[seq]`. In the future this will be interpreted as an array index, `arr[np.array(seq)]`, which will result either in an error or a different result.\n",
      "  return np.add.reduce(sorted[indexer] * weights, axis=axis) / sumval\n"
     ]
    },
    {
     "data": {
      "image/png": "[encoded data removed]",
      "text/plain": [
       "<Figure size 432x288 with 1 Axes>"
      ]
     },
     "metadata": {
      "needs_background": "light"
     },
     "output_type": "display_data"
    }
   ],
   "source": [
    "#绘制简单的直方密度线图\n",
    "sns.distplot(X);"
   ]
  },
  {
   "cell_type": "code",
   "execution_count": 11,
   "metadata": {},
   "outputs": [
    {
     "data": {
      "image/png": "[encoded data removed]",
      "text/plain": [
       "<Figure size 432x288 with 1 Axes>"
      ]
     },
     "metadata": {
      "needs_background": "light"
     },
     "output_type": "display_data"
    }
   ],
   "source": [
    "#尝试图形中的参数\n",
    "sns.distplot(X\n",
    "             ,bins=6\n",
    "#              ,hist=False\n",
    "#              ,kde=False\n",
    "             ,hist_kws={'color':'g','histtype':'bar','alpha':0.4} \n",
    "             ,kde_kws={'color':'r','linestyle':'-.','linewidth':3,'alpha':0.7}\n",
    "            );"
   ]
  },
  {
   "cell_type": "markdown",
   "metadata": {},
   "source": [
    "条形图的种类有四种：  \n",
    "- bar：简单的条形图（默认）\n",
    "- barstacked：堆积条形图\n",
    "- step：默认未填充的线图\n",
    "- stepfilled：默认被填充的线图"
   ]
  },
  {
   "cell_type": "markdown",
   "metadata": {},
   "source": [
    "### 3.认识绘制图形的数据集"
   ]
  },
  {
   "cell_type": "code",
   "execution_count": 12,
   "metadata": {},
   "outputs": [],
   "source": [
    "df = pd.read_csv(\"https://github.com/selva86/datasets/raw/master/mpg_ggplot2.csv\")"
   ]
  },
  {
   "cell_type": "code",
   "execution_count": 13,
   "metadata": {},
   "outputs": [
    {
     "data": {
      "text/html": [
       "<div>\n",
       "<style scoped>\n",
       "    .dataframe tbody tr th:only-of-type {\n",
       "        vertical-align: middle;\n",
       "    }\n",
       "\n",
       "    .dataframe tbody tr th {\n",
       "        vertical-align: top;\n",
       "    }\n",
       "\n",
       "    .dataframe thead th {\n",
       "        text-align: right;\n",
       "    }\n",
       "</style>\n",
       "<table border=\"1\" class=\"dataframe\">\n",
       "  <thead>\n",
       "    <tr style=\"text-align: right;\">\n",
       "      <th></th>\n",
       "      <th>manufacturer</th>\n",
       "      <th>model</th>\n",
       "      <th>displ</th>\n",
       "      <th>year</th>\n",
       "      <th>cyl</th>\n",
       "      <th>trans</th>\n",
       "      <th>drv</th>\n",
       "      <th>cty</th>\n",
       "      <th>hwy</th>\n",
       "      <th>fl</th>\n",
       "      <th>class</th>\n",
       "    </tr>\n",
       "  </thead>\n",
       "  <tbody>\n",
       "    <tr>\n",
       "      <th>0</th>\n",
       "      <td>audi</td>\n",
       "      <td>a4</td>\n",
       "      <td>1.8</td>\n",
       "      <td>1999</td>\n",
       "      <td>4</td>\n",
       "      <td>auto(l5)</td>\n",
       "      <td>f</td>\n",
       "      <td>18</td>\n",
       "      <td>29</td>\n",
       "      <td>p</td>\n",
       "      <td>compact</td>\n",
       "    </tr>\n",
       "    <tr>\n",
       "      <th>1</th>\n",
       "      <td>audi</td>\n",
       "      <td>a4</td>\n",
       "      <td>1.8</td>\n",
       "      <td>1999</td>\n",
       "      <td>4</td>\n",
       "      <td>manual(m5)</td>\n",
       "      <td>f</td>\n",
       "      <td>21</td>\n",
       "      <td>29</td>\n",
       "      <td>p</td>\n",
       "      <td>compact</td>\n",
       "    </tr>\n",
       "    <tr>\n",
       "      <th>2</th>\n",
       "      <td>audi</td>\n",
       "      <td>a4</td>\n",
       "      <td>2.0</td>\n",
       "      <td>2008</td>\n",
       "      <td>4</td>\n",
       "      <td>manual(m6)</td>\n",
       "      <td>f</td>\n",
       "      <td>20</td>\n",
       "      <td>31</td>\n",
       "      <td>p</td>\n",
       "      <td>compact</td>\n",
       "    </tr>\n",
       "    <tr>\n",
       "      <th>3</th>\n",
       "      <td>audi</td>\n",
       "      <td>a4</td>\n",
       "      <td>2.0</td>\n",
       "      <td>2008</td>\n",
       "      <td>4</td>\n",
       "      <td>auto(av)</td>\n",
       "      <td>f</td>\n",
       "      <td>21</td>\n",
       "      <td>30</td>\n",
       "      <td>p</td>\n",
       "      <td>compact</td>\n",
       "    </tr>\n",
       "    <tr>\n",
       "      <th>4</th>\n",
       "      <td>audi</td>\n",
       "      <td>a4</td>\n",
       "      <td>2.8</td>\n",
       "      <td>1999</td>\n",
       "      <td>6</td>\n",
       "      <td>auto(l5)</td>\n",
       "      <td>f</td>\n",
       "      <td>16</td>\n",
       "      <td>26</td>\n",
       "      <td>p</td>\n",
       "      <td>compact</td>\n",
       "    </tr>\n",
       "  </tbody>\n",
       "</table>\n",
       "</div>"
      ],
      "text/plain": [
       "  manufacturer model  displ  year  cyl       trans drv  cty  hwy fl    class\n",
       "0         audi    a4    1.8  1999    4    auto(l5)   f   18   29  p  compact\n",
       "1         audi    a4    1.8  1999    4  manual(m5)   f   21   29  p  compact\n",
       "2         audi    a4    2.0  2008    4  manual(m6)   f   20   31  p  compact\n",
       "3         audi    a4    2.0  2008    4    auto(av)   f   21   30  p  compact\n",
       "4         audi    a4    2.8  1999    6    auto(l5)   f   16   26  p  compact"
      ]
     },
     "execution_count": 13,
     "metadata": {},
     "output_type": "execute_result"
    }
   ],
   "source": [
    "df.head()"
   ]
  },
  {
   "cell_type": "code",
   "execution_count": 14,
   "metadata": {},
   "outputs": [
    {
     "data": {
      "text/plain": [
       "(234, 11)"
      ]
     },
     "execution_count": 14,
     "metadata": {},
     "output_type": "execute_result"
    }
   ],
   "source": [
    "df.shape"
   ]
  },
  {
   "cell_type": "code",
   "execution_count": 15,
   "metadata": {},
   "outputs": [
    {
     "data": {
      "text/plain": [
       "Index(['manufacturer', 'model', 'displ', 'year', 'cyl', 'trans', 'drv', 'cty',\n",
       "       'hwy', 'fl', 'class'],\n",
       "      dtype='object')"
      ]
     },
     "execution_count": 15,
     "metadata": {},
     "output_type": "execute_result"
    }
   ],
   "source": [
    "df.columns"
   ]
  },
  {
   "cell_type": "code",
   "execution_count": 16,
   "metadata": {},
   "outputs": [],
   "source": [
    "name = [\"汽车制造商\",\"型号名称\",\"发动机排量(L)\",\"制造年份\"\n",
    "        ,\"气缸数量\",\"手动/自动\",\"驱动类型\",\"城市里程/加仑\"\n",
    "        ,\"公路里程/加仑\",\"汽油种类\",\"车辆类型\"]"
   ]
  },
  {
   "cell_type": "code",
   "execution_count": 17,
   "metadata": {},
   "outputs": [
    {
     "data": {
      "text/plain": [
       "[('manufacturer', '汽车制造商'),\n",
       " ('model', '型号名称'),\n",
       " ('displ', '发动机排量(L)'),\n",
       " ('year', '制造年份'),\n",
       " ('cyl', '气缸数量'),\n",
       " ('trans', '手动/自动'),\n",
       " ('drv', '驱动类型'),\n",
       " ('cty', '城市里程/加仑'),\n",
       " ('hwy', '公路里程/加仑'),\n",
       " ('fl', '汽油种类'),\n",
       " ('class', '车辆类型')]"
      ]
     },
     "execution_count": 17,
     "metadata": {},
     "output_type": "execute_result"
    }
   ],
   "source": [
    "[*zip(df.columns,np.array(name))]"
   ]
  },
  {
   "cell_type": "markdown",
   "metadata": {},
   "source": [
    "### 4.绘制直方密度曲线图"
   ]
  },
  {
   "cell_type": "markdown",
   "metadata": {},
   "source": [
    "我们绘制目标图形需要的数据是：城市里程，汽车种类"
   ]
  },
  {
   "cell_type": "code",
   "execution_count": 18,
   "metadata": {},
   "outputs": [
    {
     "data": {
      "text/plain": [
       "array([18, 21, 20, 21, 16, 18, 18, 18, 16, 20, 19, 15, 17, 17, 15, 15, 17,\n",
       "       16, 14, 11, 14, 13, 12, 16, 15, 16, 15, 15, 14, 11, 11, 14, 19, 22,\n",
       "       18, 18, 17, 18, 17, 16, 16, 17, 17, 11, 15, 15, 16, 16, 15, 14, 13,\n",
       "       14, 14, 14,  9, 11, 11, 13, 13,  9, 13, 11, 13, 11, 12,  9, 13, 13,\n",
       "       12,  9, 11, 11, 13, 11, 11, 11, 12, 14, 15, 14, 13, 13, 13, 14, 14,\n",
       "       13, 13, 13, 11, 13, 18, 18, 17, 16, 15, 15, 15, 15, 14, 28, 24, 25,\n",
       "       23, 24, 26, 25, 24, 21, 18, 18, 21, 21, 18, 18, 19, 19, 19, 20, 20,\n",
       "       17, 16, 17, 17, 15, 15, 14,  9, 14, 13, 11, 11, 12, 12, 11, 11, 11,\n",
       "       12, 14, 13, 13, 13, 21, 19, 23, 23, 19, 19, 18, 19, 19, 14, 15, 14,\n",
       "       12, 18, 16, 17, 18, 16, 18, 18, 20, 19, 20, 18, 21, 19, 19, 19, 20,\n",
       "       20, 19, 20, 15, 16, 15, 15, 16, 14, 21, 21, 21, 21, 18, 18, 19, 21,\n",
       "       21, 21, 22, 18, 18, 18, 24, 24, 26, 28, 26, 11, 13, 15, 16, 17, 15,\n",
       "       15, 15, 16, 21, 19, 21, 22, 17, 33, 21, 19, 22, 21, 21, 21, 16, 17,\n",
       "       35, 29, 21, 19, 20, 20, 21, 18, 19, 21, 16, 18, 17], dtype=int64)"
      ]
     },
     "execution_count": 18,
     "metadata": {},
     "output_type": "execute_result"
    }
   ],
   "source": [
    "#查看城市里程\n",
    "df['cty'].values"
   ]
  },
  {
   "cell_type": "code",
   "execution_count": 19,
   "metadata": {},
   "outputs": [
    {
     "data": {
      "text/plain": [
       "suv           62\n",
       "compact       47\n",
       "midsize       41\n",
       "subcompact    35\n",
       "pickup        33\n",
       "minivan       11\n",
       "2seater        5\n",
       "Name: class, dtype: int64"
      ]
     },
     "execution_count": 19,
     "metadata": {},
     "output_type": "execute_result"
    }
   ],
   "source": [
    "#查看汽车类型\n",
    "df['class'].value_counts()"
   ]
  },
  {
   "cell_type": "markdown",
   "metadata": {},
   "source": [
    "汽车种类一共有7种，分别是：SUV、小型车、中型车、迷你车、皮卡、迷你卡车、2座车"
   ]
  },
  {
   "cell_type": "code",
   "execution_count": 21,
   "metadata": {},
   "outputs": [
    {
     "data": {
      "text/html": [
       "<div>\n",
       "<style scoped>\n",
       "    .dataframe tbody tr th:only-of-type {\n",
       "        vertical-align: middle;\n",
       "    }\n",
       "\n",
       "    .dataframe tbody tr th {\n",
       "        vertical-align: top;\n",
       "    }\n",
       "\n",
       "    .dataframe thead th {\n",
       "        text-align: right;\n",
       "    }\n",
       "</style>\n",
       "<table border=\"1\" class=\"dataframe\">\n",
       "  <thead>\n",
       "    <tr style=\"text-align: right;\">\n",
       "      <th></th>\n",
       "      <th>manufacturer</th>\n",
       "      <th>model</th>\n",
       "      <th>displ</th>\n",
       "      <th>year</th>\n",
       "      <th>cyl</th>\n",
       "      <th>trans</th>\n",
       "      <th>drv</th>\n",
       "      <th>cty</th>\n",
       "      <th>hwy</th>\n",
       "      <th>fl</th>\n",
       "      <th>class</th>\n",
       "    </tr>\n",
       "  </thead>\n",
       "  <tbody>\n",
       "    <tr>\n",
       "      <th>18</th>\n",
       "      <td>chevrolet</td>\n",
       "      <td>c1500 suburban 2wd</td>\n",
       "      <td>5.3</td>\n",
       "      <td>2008</td>\n",
       "      <td>8</td>\n",
       "      <td>auto(l4)</td>\n",
       "      <td>r</td>\n",
       "      <td>14</td>\n",
       "      <td>20</td>\n",
       "      <td>r</td>\n",
       "      <td>suv</td>\n",
       "    </tr>\n",
       "    <tr>\n",
       "      <th>19</th>\n",
       "      <td>chevrolet</td>\n",
       "      <td>c1500 suburban 2wd</td>\n",
       "      <td>5.3</td>\n",
       "      <td>2008</td>\n",
       "      <td>8</td>\n",
       "      <td>auto(l4)</td>\n",
       "      <td>r</td>\n",
       "      <td>11</td>\n",
       "      <td>15</td>\n",
       "      <td>e</td>\n",
       "      <td>suv</td>\n",
       "    </tr>\n",
       "    <tr>\n",
       "      <th>20</th>\n",
       "      <td>chevrolet</td>\n",
       "      <td>c1500 suburban 2wd</td>\n",
       "      <td>5.3</td>\n",
       "      <td>2008</td>\n",
       "      <td>8</td>\n",
       "      <td>auto(l4)</td>\n",
       "      <td>r</td>\n",
       "      <td>14</td>\n",
       "      <td>20</td>\n",
       "      <td>r</td>\n",
       "      <td>suv</td>\n",
       "    </tr>\n",
       "    <tr>\n",
       "      <th>21</th>\n",
       "      <td>chevrolet</td>\n",
       "      <td>c1500 suburban 2wd</td>\n",
       "      <td>5.7</td>\n",
       "      <td>1999</td>\n",
       "      <td>8</td>\n",
       "      <td>auto(l4)</td>\n",
       "      <td>r</td>\n",
       "      <td>13</td>\n",
       "      <td>17</td>\n",
       "      <td>r</td>\n",
       "      <td>suv</td>\n",
       "    </tr>\n",
       "    <tr>\n",
       "      <th>22</th>\n",
       "      <td>chevrolet</td>\n",
       "      <td>c1500 suburban 2wd</td>\n",
       "      <td>6.0</td>\n",
       "      <td>2008</td>\n",
       "      <td>8</td>\n",
       "      <td>auto(l4)</td>\n",
       "      <td>r</td>\n",
       "      <td>12</td>\n",
       "      <td>17</td>\n",
       "      <td>r</td>\n",
       "      <td>suv</td>\n",
       "    </tr>\n",
       "    <tr>\n",
       "      <th>28</th>\n",
       "      <td>chevrolet</td>\n",
       "      <td>k1500 tahoe 4wd</td>\n",
       "      <td>5.3</td>\n",
       "      <td>2008</td>\n",
       "      <td>8</td>\n",
       "      <td>auto(l4)</td>\n",
       "      <td>4</td>\n",
       "      <td>14</td>\n",
       "      <td>19</td>\n",
       "      <td>r</td>\n",
       "      <td>suv</td>\n",
       "    </tr>\n",
       "    <tr>\n",
       "      <th>29</th>\n",
       "      <td>chevrolet</td>\n",
       "      <td>k1500 tahoe 4wd</td>\n",
       "      <td>5.3</td>\n",
       "      <td>2008</td>\n",
       "      <td>8</td>\n",
       "      <td>auto(l4)</td>\n",
       "      <td>4</td>\n",
       "      <td>11</td>\n",
       "      <td>14</td>\n",
       "      <td>e</td>\n",
       "      <td>suv</td>\n",
       "    </tr>\n",
       "    <tr>\n",
       "      <th>30</th>\n",
       "      <td>chevrolet</td>\n",
       "      <td>k1500 tahoe 4wd</td>\n",
       "      <td>5.7</td>\n",
       "      <td>1999</td>\n",
       "      <td>8</td>\n",
       "      <td>auto(l4)</td>\n",
       "      <td>4</td>\n",
       "      <td>11</td>\n",
       "      <td>15</td>\n",
       "      <td>r</td>\n",
       "      <td>suv</td>\n",
       "    </tr>\n",
       "    <tr>\n",
       "      <th>31</th>\n",
       "      <td>chevrolet</td>\n",
       "      <td>k1500 tahoe 4wd</td>\n",
       "      <td>6.5</td>\n",
       "      <td>1999</td>\n",
       "      <td>8</td>\n",
       "      <td>auto(l4)</td>\n",
       "      <td>4</td>\n",
       "      <td>14</td>\n",
       "      <td>17</td>\n",
       "      <td>d</td>\n",
       "      <td>suv</td>\n",
       "    </tr>\n",
       "    <tr>\n",
       "      <th>57</th>\n",
       "      <td>dodge</td>\n",
       "      <td>durango 4wd</td>\n",
       "      <td>3.9</td>\n",
       "      <td>1999</td>\n",
       "      <td>6</td>\n",
       "      <td>auto(l4)</td>\n",
       "      <td>4</td>\n",
       "      <td>13</td>\n",
       "      <td>17</td>\n",
       "      <td>r</td>\n",
       "      <td>suv</td>\n",
       "    </tr>\n",
       "    <tr>\n",
       "      <th>58</th>\n",
       "      <td>dodge</td>\n",
       "      <td>durango 4wd</td>\n",
       "      <td>4.7</td>\n",
       "      <td>2008</td>\n",
       "      <td>8</td>\n",
       "      <td>auto(l5)</td>\n",
       "      <td>4</td>\n",
       "      <td>13</td>\n",
       "      <td>17</td>\n",
       "      <td>r</td>\n",
       "      <td>suv</td>\n",
       "    </tr>\n",
       "    <tr>\n",
       "      <th>59</th>\n",
       "      <td>dodge</td>\n",
       "      <td>durango 4wd</td>\n",
       "      <td>4.7</td>\n",
       "      <td>2008</td>\n",
       "      <td>8</td>\n",
       "      <td>auto(l5)</td>\n",
       "      <td>4</td>\n",
       "      <td>9</td>\n",
       "      <td>12</td>\n",
       "      <td>e</td>\n",
       "      <td>suv</td>\n",
       "    </tr>\n",
       "    <tr>\n",
       "      <th>60</th>\n",
       "      <td>dodge</td>\n",
       "      <td>durango 4wd</td>\n",
       "      <td>4.7</td>\n",
       "      <td>2008</td>\n",
       "      <td>8</td>\n",
       "      <td>auto(l5)</td>\n",
       "      <td>4</td>\n",
       "      <td>13</td>\n",
       "      <td>17</td>\n",
       "      <td>r</td>\n",
       "      <td>suv</td>\n",
       "    </tr>\n",
       "    <tr>\n",
       "      <th>61</th>\n",
       "      <td>dodge</td>\n",
       "      <td>durango 4wd</td>\n",
       "      <td>5.2</td>\n",
       "      <td>1999</td>\n",
       "      <td>8</td>\n",
       "      <td>auto(l4)</td>\n",
       "      <td>4</td>\n",
       "      <td>11</td>\n",
       "      <td>16</td>\n",
       "      <td>r</td>\n",
       "      <td>suv</td>\n",
       "    </tr>\n",
       "    <tr>\n",
       "      <th>62</th>\n",
       "      <td>dodge</td>\n",
       "      <td>durango 4wd</td>\n",
       "      <td>5.7</td>\n",
       "      <td>2008</td>\n",
       "      <td>8</td>\n",
       "      <td>auto(l5)</td>\n",
       "      <td>4</td>\n",
       "      <td>13</td>\n",
       "      <td>18</td>\n",
       "      <td>r</td>\n",
       "      <td>suv</td>\n",
       "    </tr>\n",
       "    <tr>\n",
       "      <th>63</th>\n",
       "      <td>dodge</td>\n",
       "      <td>durango 4wd</td>\n",
       "      <td>5.9</td>\n",
       "      <td>1999</td>\n",
       "      <td>8</td>\n",
       "      <td>auto(l4)</td>\n",
       "      <td>4</td>\n",
       "      <td>11</td>\n",
       "      <td>15</td>\n",
       "      <td>r</td>\n",
       "      <td>suv</td>\n",
       "    </tr>\n",
       "    <tr>\n",
       "      <th>74</th>\n",
       "      <td>ford</td>\n",
       "      <td>expedition 2wd</td>\n",
       "      <td>4.6</td>\n",
       "      <td>1999</td>\n",
       "      <td>8</td>\n",
       "      <td>auto(l4)</td>\n",
       "      <td>r</td>\n",
       "      <td>11</td>\n",
       "      <td>17</td>\n",
       "      <td>r</td>\n",
       "      <td>suv</td>\n",
       "    </tr>\n",
       "    <tr>\n",
       "      <th>75</th>\n",
       "      <td>ford</td>\n",
       "      <td>expedition 2wd</td>\n",
       "      <td>5.4</td>\n",
       "      <td>1999</td>\n",
       "      <td>8</td>\n",
       "      <td>auto(l4)</td>\n",
       "      <td>r</td>\n",
       "      <td>11</td>\n",
       "      <td>17</td>\n",
       "      <td>r</td>\n",
       "      <td>suv</td>\n",
       "    </tr>\n",
       "    <tr>\n",
       "      <th>76</th>\n",
       "      <td>ford</td>\n",
       "      <td>expedition 2wd</td>\n",
       "      <td>5.4</td>\n",
       "      <td>2008</td>\n",
       "      <td>8</td>\n",
       "      <td>auto(l6)</td>\n",
       "      <td>r</td>\n",
       "      <td>12</td>\n",
       "      <td>18</td>\n",
       "      <td>r</td>\n",
       "      <td>suv</td>\n",
       "    </tr>\n",
       "    <tr>\n",
       "      <th>77</th>\n",
       "      <td>ford</td>\n",
       "      <td>explorer 4wd</td>\n",
       "      <td>4.0</td>\n",
       "      <td>1999</td>\n",
       "      <td>6</td>\n",
       "      <td>auto(l5)</td>\n",
       "      <td>4</td>\n",
       "      <td>14</td>\n",
       "      <td>17</td>\n",
       "      <td>r</td>\n",
       "      <td>suv</td>\n",
       "    </tr>\n",
       "    <tr>\n",
       "      <th>78</th>\n",
       "      <td>ford</td>\n",
       "      <td>explorer 4wd</td>\n",
       "      <td>4.0</td>\n",
       "      <td>1999</td>\n",
       "      <td>6</td>\n",
       "      <td>manual(m5)</td>\n",
       "      <td>4</td>\n",
       "      <td>15</td>\n",
       "      <td>19</td>\n",
       "      <td>r</td>\n",
       "      <td>suv</td>\n",
       "    </tr>\n",
       "    <tr>\n",
       "      <th>79</th>\n",
       "      <td>ford</td>\n",
       "      <td>explorer 4wd</td>\n",
       "      <td>4.0</td>\n",
       "      <td>1999</td>\n",
       "      <td>6</td>\n",
       "      <td>auto(l5)</td>\n",
       "      <td>4</td>\n",
       "      <td>14</td>\n",
       "      <td>17</td>\n",
       "      <td>r</td>\n",
       "      <td>suv</td>\n",
       "    </tr>\n",
       "    <tr>\n",
       "      <th>80</th>\n",
       "      <td>ford</td>\n",
       "      <td>explorer 4wd</td>\n",
       "      <td>4.0</td>\n",
       "      <td>2008</td>\n",
       "      <td>6</td>\n",
       "      <td>auto(l5)</td>\n",
       "      <td>4</td>\n",
       "      <td>13</td>\n",
       "      <td>19</td>\n",
       "      <td>r</td>\n",
       "      <td>suv</td>\n",
       "    </tr>\n",
       "    <tr>\n",
       "      <th>81</th>\n",
       "      <td>ford</td>\n",
       "      <td>explorer 4wd</td>\n",
       "      <td>4.6</td>\n",
       "      <td>2008</td>\n",
       "      <td>8</td>\n",
       "      <td>auto(l6)</td>\n",
       "      <td>4</td>\n",
       "      <td>13</td>\n",
       "      <td>19</td>\n",
       "      <td>r</td>\n",
       "      <td>suv</td>\n",
       "    </tr>\n",
       "    <tr>\n",
       "      <th>82</th>\n",
       "      <td>ford</td>\n",
       "      <td>explorer 4wd</td>\n",
       "      <td>5.0</td>\n",
       "      <td>1999</td>\n",
       "      <td>8</td>\n",
       "      <td>auto(l4)</td>\n",
       "      <td>4</td>\n",
       "      <td>13</td>\n",
       "      <td>17</td>\n",
       "      <td>r</td>\n",
       "      <td>suv</td>\n",
       "    </tr>\n",
       "    <tr>\n",
       "      <th>122</th>\n",
       "      <td>jeep</td>\n",
       "      <td>grand cherokee 4wd</td>\n",
       "      <td>3.0</td>\n",
       "      <td>2008</td>\n",
       "      <td>6</td>\n",
       "      <td>auto(l5)</td>\n",
       "      <td>4</td>\n",
       "      <td>17</td>\n",
       "      <td>22</td>\n",
       "      <td>d</td>\n",
       "      <td>suv</td>\n",
       "    </tr>\n",
       "    <tr>\n",
       "      <th>123</th>\n",
       "      <td>jeep</td>\n",
       "      <td>grand cherokee 4wd</td>\n",
       "      <td>3.7</td>\n",
       "      <td>2008</td>\n",
       "      <td>6</td>\n",
       "      <td>auto(l5)</td>\n",
       "      <td>4</td>\n",
       "      <td>15</td>\n",
       "      <td>19</td>\n",
       "      <td>r</td>\n",
       "      <td>suv</td>\n",
       "    </tr>\n",
       "    <tr>\n",
       "      <th>124</th>\n",
       "      <td>jeep</td>\n",
       "      <td>grand cherokee 4wd</td>\n",
       "      <td>4.0</td>\n",
       "      <td>1999</td>\n",
       "      <td>6</td>\n",
       "      <td>auto(l4)</td>\n",
       "      <td>4</td>\n",
       "      <td>15</td>\n",
       "      <td>20</td>\n",
       "      <td>r</td>\n",
       "      <td>suv</td>\n",
       "    </tr>\n",
       "    <tr>\n",
       "      <th>125</th>\n",
       "      <td>jeep</td>\n",
       "      <td>grand cherokee 4wd</td>\n",
       "      <td>4.7</td>\n",
       "      <td>1999</td>\n",
       "      <td>8</td>\n",
       "      <td>auto(l4)</td>\n",
       "      <td>4</td>\n",
       "      <td>14</td>\n",
       "      <td>17</td>\n",
       "      <td>r</td>\n",
       "      <td>suv</td>\n",
       "    </tr>\n",
       "    <tr>\n",
       "      <th>126</th>\n",
       "      <td>jeep</td>\n",
       "      <td>grand cherokee 4wd</td>\n",
       "      <td>4.7</td>\n",
       "      <td>2008</td>\n",
       "      <td>8</td>\n",
       "      <td>auto(l5)</td>\n",
       "      <td>4</td>\n",
       "      <td>9</td>\n",
       "      <td>12</td>\n",
       "      <td>e</td>\n",
       "      <td>suv</td>\n",
       "    </tr>\n",
       "    <tr>\n",
       "      <th>...</th>\n",
       "      <td>...</td>\n",
       "      <td>...</td>\n",
       "      <td>...</td>\n",
       "      <td>...</td>\n",
       "      <td>...</td>\n",
       "      <td>...</td>\n",
       "      <td>...</td>\n",
       "      <td>...</td>\n",
       "      <td>...</td>\n",
       "      <td>...</td>\n",
       "      <td>...</td>\n",
       "    </tr>\n",
       "    <tr>\n",
       "      <th>129</th>\n",
       "      <td>jeep</td>\n",
       "      <td>grand cherokee 4wd</td>\n",
       "      <td>6.1</td>\n",
       "      <td>2008</td>\n",
       "      <td>8</td>\n",
       "      <td>auto(l5)</td>\n",
       "      <td>4</td>\n",
       "      <td>11</td>\n",
       "      <td>14</td>\n",
       "      <td>p</td>\n",
       "      <td>suv</td>\n",
       "    </tr>\n",
       "    <tr>\n",
       "      <th>130</th>\n",
       "      <td>land rover</td>\n",
       "      <td>range rover</td>\n",
       "      <td>4.0</td>\n",
       "      <td>1999</td>\n",
       "      <td>8</td>\n",
       "      <td>auto(l4)</td>\n",
       "      <td>4</td>\n",
       "      <td>11</td>\n",
       "      <td>15</td>\n",
       "      <td>p</td>\n",
       "      <td>suv</td>\n",
       "    </tr>\n",
       "    <tr>\n",
       "      <th>131</th>\n",
       "      <td>land rover</td>\n",
       "      <td>range rover</td>\n",
       "      <td>4.2</td>\n",
       "      <td>2008</td>\n",
       "      <td>8</td>\n",
       "      <td>auto(s6)</td>\n",
       "      <td>4</td>\n",
       "      <td>12</td>\n",
       "      <td>18</td>\n",
       "      <td>r</td>\n",
       "      <td>suv</td>\n",
       "    </tr>\n",
       "    <tr>\n",
       "      <th>132</th>\n",
       "      <td>land rover</td>\n",
       "      <td>range rover</td>\n",
       "      <td>4.4</td>\n",
       "      <td>2008</td>\n",
       "      <td>8</td>\n",
       "      <td>auto(s6)</td>\n",
       "      <td>4</td>\n",
       "      <td>12</td>\n",
       "      <td>18</td>\n",
       "      <td>r</td>\n",
       "      <td>suv</td>\n",
       "    </tr>\n",
       "    <tr>\n",
       "      <th>133</th>\n",
       "      <td>land rover</td>\n",
       "      <td>range rover</td>\n",
       "      <td>4.6</td>\n",
       "      <td>1999</td>\n",
       "      <td>8</td>\n",
       "      <td>auto(l4)</td>\n",
       "      <td>4</td>\n",
       "      <td>11</td>\n",
       "      <td>15</td>\n",
       "      <td>p</td>\n",
       "      <td>suv</td>\n",
       "    </tr>\n",
       "    <tr>\n",
       "      <th>134</th>\n",
       "      <td>lincoln</td>\n",
       "      <td>navigator 2wd</td>\n",
       "      <td>5.4</td>\n",
       "      <td>1999</td>\n",
       "      <td>8</td>\n",
       "      <td>auto(l4)</td>\n",
       "      <td>r</td>\n",
       "      <td>11</td>\n",
       "      <td>17</td>\n",
       "      <td>r</td>\n",
       "      <td>suv</td>\n",
       "    </tr>\n",
       "    <tr>\n",
       "      <th>135</th>\n",
       "      <td>lincoln</td>\n",
       "      <td>navigator 2wd</td>\n",
       "      <td>5.4</td>\n",
       "      <td>1999</td>\n",
       "      <td>8</td>\n",
       "      <td>auto(l4)</td>\n",
       "      <td>r</td>\n",
       "      <td>11</td>\n",
       "      <td>16</td>\n",
       "      <td>p</td>\n",
       "      <td>suv</td>\n",
       "    </tr>\n",
       "    <tr>\n",
       "      <th>136</th>\n",
       "      <td>lincoln</td>\n",
       "      <td>navigator 2wd</td>\n",
       "      <td>5.4</td>\n",
       "      <td>2008</td>\n",
       "      <td>8</td>\n",
       "      <td>auto(l6)</td>\n",
       "      <td>r</td>\n",
       "      <td>12</td>\n",
       "      <td>18</td>\n",
       "      <td>r</td>\n",
       "      <td>suv</td>\n",
       "    </tr>\n",
       "    <tr>\n",
       "      <th>137</th>\n",
       "      <td>mercury</td>\n",
       "      <td>mountaineer 4wd</td>\n",
       "      <td>4.0</td>\n",
       "      <td>1999</td>\n",
       "      <td>6</td>\n",
       "      <td>auto(l5)</td>\n",
       "      <td>4</td>\n",
       "      <td>14</td>\n",
       "      <td>17</td>\n",
       "      <td>r</td>\n",
       "      <td>suv</td>\n",
       "    </tr>\n",
       "    <tr>\n",
       "      <th>138</th>\n",
       "      <td>mercury</td>\n",
       "      <td>mountaineer 4wd</td>\n",
       "      <td>4.0</td>\n",
       "      <td>2008</td>\n",
       "      <td>6</td>\n",
       "      <td>auto(l5)</td>\n",
       "      <td>4</td>\n",
       "      <td>13</td>\n",
       "      <td>19</td>\n",
       "      <td>r</td>\n",
       "      <td>suv</td>\n",
       "    </tr>\n",
       "    <tr>\n",
       "      <th>139</th>\n",
       "      <td>mercury</td>\n",
       "      <td>mountaineer 4wd</td>\n",
       "      <td>4.6</td>\n",
       "      <td>2008</td>\n",
       "      <td>8</td>\n",
       "      <td>auto(l6)</td>\n",
       "      <td>4</td>\n",
       "      <td>13</td>\n",
       "      <td>19</td>\n",
       "      <td>r</td>\n",
       "      <td>suv</td>\n",
       "    </tr>\n",
       "    <tr>\n",
       "      <th>140</th>\n",
       "      <td>mercury</td>\n",
       "      <td>mountaineer 4wd</td>\n",
       "      <td>5.0</td>\n",
       "      <td>1999</td>\n",
       "      <td>8</td>\n",
       "      <td>auto(l4)</td>\n",
       "      <td>4</td>\n",
       "      <td>13</td>\n",
       "      <td>17</td>\n",
       "      <td>r</td>\n",
       "      <td>suv</td>\n",
       "    </tr>\n",
       "    <tr>\n",
       "      <th>150</th>\n",
       "      <td>nissan</td>\n",
       "      <td>pathfinder 4wd</td>\n",
       "      <td>3.3</td>\n",
       "      <td>1999</td>\n",
       "      <td>6</td>\n",
       "      <td>auto(l4)</td>\n",
       "      <td>4</td>\n",
       "      <td>14</td>\n",
       "      <td>17</td>\n",
       "      <td>r</td>\n",
       "      <td>suv</td>\n",
       "    </tr>\n",
       "    <tr>\n",
       "      <th>151</th>\n",
       "      <td>nissan</td>\n",
       "      <td>pathfinder 4wd</td>\n",
       "      <td>3.3</td>\n",
       "      <td>1999</td>\n",
       "      <td>6</td>\n",
       "      <td>manual(m5)</td>\n",
       "      <td>4</td>\n",
       "      <td>15</td>\n",
       "      <td>17</td>\n",
       "      <td>r</td>\n",
       "      <td>suv</td>\n",
       "    </tr>\n",
       "    <tr>\n",
       "      <th>152</th>\n",
       "      <td>nissan</td>\n",
       "      <td>pathfinder 4wd</td>\n",
       "      <td>4.0</td>\n",
       "      <td>2008</td>\n",
       "      <td>6</td>\n",
       "      <td>auto(l5)</td>\n",
       "      <td>4</td>\n",
       "      <td>14</td>\n",
       "      <td>20</td>\n",
       "      <td>p</td>\n",
       "      <td>suv</td>\n",
       "    </tr>\n",
       "    <tr>\n",
       "      <th>153</th>\n",
       "      <td>nissan</td>\n",
       "      <td>pathfinder 4wd</td>\n",
       "      <td>5.6</td>\n",
       "      <td>2008</td>\n",
       "      <td>8</td>\n",
       "      <td>auto(s5)</td>\n",
       "      <td>4</td>\n",
       "      <td>12</td>\n",
       "      <td>18</td>\n",
       "      <td>p</td>\n",
       "      <td>suv</td>\n",
       "    </tr>\n",
       "    <tr>\n",
       "      <th>159</th>\n",
       "      <td>subaru</td>\n",
       "      <td>forester awd</td>\n",
       "      <td>2.5</td>\n",
       "      <td>1999</td>\n",
       "      <td>4</td>\n",
       "      <td>manual(m5)</td>\n",
       "      <td>4</td>\n",
       "      <td>18</td>\n",
       "      <td>25</td>\n",
       "      <td>r</td>\n",
       "      <td>suv</td>\n",
       "    </tr>\n",
       "    <tr>\n",
       "      <th>160</th>\n",
       "      <td>subaru</td>\n",
       "      <td>forester awd</td>\n",
       "      <td>2.5</td>\n",
       "      <td>1999</td>\n",
       "      <td>4</td>\n",
       "      <td>auto(l4)</td>\n",
       "      <td>4</td>\n",
       "      <td>18</td>\n",
       "      <td>24</td>\n",
       "      <td>r</td>\n",
       "      <td>suv</td>\n",
       "    </tr>\n",
       "    <tr>\n",
       "      <th>161</th>\n",
       "      <td>subaru</td>\n",
       "      <td>forester awd</td>\n",
       "      <td>2.5</td>\n",
       "      <td>2008</td>\n",
       "      <td>4</td>\n",
       "      <td>manual(m5)</td>\n",
       "      <td>4</td>\n",
       "      <td>20</td>\n",
       "      <td>27</td>\n",
       "      <td>r</td>\n",
       "      <td>suv</td>\n",
       "    </tr>\n",
       "    <tr>\n",
       "      <th>162</th>\n",
       "      <td>subaru</td>\n",
       "      <td>forester awd</td>\n",
       "      <td>2.5</td>\n",
       "      <td>2008</td>\n",
       "      <td>4</td>\n",
       "      <td>manual(m5)</td>\n",
       "      <td>4</td>\n",
       "      <td>19</td>\n",
       "      <td>25</td>\n",
       "      <td>p</td>\n",
       "      <td>suv</td>\n",
       "    </tr>\n",
       "    <tr>\n",
       "      <th>163</th>\n",
       "      <td>subaru</td>\n",
       "      <td>forester awd</td>\n",
       "      <td>2.5</td>\n",
       "      <td>2008</td>\n",
       "      <td>4</td>\n",
       "      <td>auto(l4)</td>\n",
       "      <td>4</td>\n",
       "      <td>20</td>\n",
       "      <td>26</td>\n",
       "      <td>r</td>\n",
       "      <td>suv</td>\n",
       "    </tr>\n",
       "    <tr>\n",
       "      <th>164</th>\n",
       "      <td>subaru</td>\n",
       "      <td>forester awd</td>\n",
       "      <td>2.5</td>\n",
       "      <td>2008</td>\n",
       "      <td>4</td>\n",
       "      <td>auto(l4)</td>\n",
       "      <td>4</td>\n",
       "      <td>18</td>\n",
       "      <td>23</td>\n",
       "      <td>p</td>\n",
       "      <td>suv</td>\n",
       "    </tr>\n",
       "    <tr>\n",
       "      <th>173</th>\n",
       "      <td>toyota</td>\n",
       "      <td>4runner 4wd</td>\n",
       "      <td>2.7</td>\n",
       "      <td>1999</td>\n",
       "      <td>4</td>\n",
       "      <td>manual(m5)</td>\n",
       "      <td>4</td>\n",
       "      <td>15</td>\n",
       "      <td>20</td>\n",
       "      <td>r</td>\n",
       "      <td>suv</td>\n",
       "    </tr>\n",
       "    <tr>\n",
       "      <th>174</th>\n",
       "      <td>toyota</td>\n",
       "      <td>4runner 4wd</td>\n",
       "      <td>2.7</td>\n",
       "      <td>1999</td>\n",
       "      <td>4</td>\n",
       "      <td>auto(l4)</td>\n",
       "      <td>4</td>\n",
       "      <td>16</td>\n",
       "      <td>20</td>\n",
       "      <td>r</td>\n",
       "      <td>suv</td>\n",
       "    </tr>\n",
       "    <tr>\n",
       "      <th>175</th>\n",
       "      <td>toyota</td>\n",
       "      <td>4runner 4wd</td>\n",
       "      <td>3.4</td>\n",
       "      <td>1999</td>\n",
       "      <td>6</td>\n",
       "      <td>auto(l4)</td>\n",
       "      <td>4</td>\n",
       "      <td>15</td>\n",
       "      <td>19</td>\n",
       "      <td>r</td>\n",
       "      <td>suv</td>\n",
       "    </tr>\n",
       "    <tr>\n",
       "      <th>176</th>\n",
       "      <td>toyota</td>\n",
       "      <td>4runner 4wd</td>\n",
       "      <td>3.4</td>\n",
       "      <td>1999</td>\n",
       "      <td>6</td>\n",
       "      <td>manual(m5)</td>\n",
       "      <td>4</td>\n",
       "      <td>15</td>\n",
       "      <td>17</td>\n",
       "      <td>r</td>\n",
       "      <td>suv</td>\n",
       "    </tr>\n",
       "    <tr>\n",
       "      <th>177</th>\n",
       "      <td>toyota</td>\n",
       "      <td>4runner 4wd</td>\n",
       "      <td>4.0</td>\n",
       "      <td>2008</td>\n",
       "      <td>6</td>\n",
       "      <td>auto(l5)</td>\n",
       "      <td>4</td>\n",
       "      <td>16</td>\n",
       "      <td>20</td>\n",
       "      <td>r</td>\n",
       "      <td>suv</td>\n",
       "    </tr>\n",
       "    <tr>\n",
       "      <th>178</th>\n",
       "      <td>toyota</td>\n",
       "      <td>4runner 4wd</td>\n",
       "      <td>4.7</td>\n",
       "      <td>2008</td>\n",
       "      <td>8</td>\n",
       "      <td>auto(l5)</td>\n",
       "      <td>4</td>\n",
       "      <td>14</td>\n",
       "      <td>17</td>\n",
       "      <td>r</td>\n",
       "      <td>suv</td>\n",
       "    </tr>\n",
       "    <tr>\n",
       "      <th>198</th>\n",
       "      <td>toyota</td>\n",
       "      <td>land cruiser wagon 4wd</td>\n",
       "      <td>4.7</td>\n",
       "      <td>1999</td>\n",
       "      <td>8</td>\n",
       "      <td>auto(l4)</td>\n",
       "      <td>4</td>\n",
       "      <td>11</td>\n",
       "      <td>15</td>\n",
       "      <td>r</td>\n",
       "      <td>suv</td>\n",
       "    </tr>\n",
       "    <tr>\n",
       "      <th>199</th>\n",
       "      <td>toyota</td>\n",
       "      <td>land cruiser wagon 4wd</td>\n",
       "      <td>5.7</td>\n",
       "      <td>2008</td>\n",
       "      <td>8</td>\n",
       "      <td>auto(s6)</td>\n",
       "      <td>4</td>\n",
       "      <td>13</td>\n",
       "      <td>18</td>\n",
       "      <td>r</td>\n",
       "      <td>suv</td>\n",
       "    </tr>\n",
       "  </tbody>\n",
       "</table>\n",
       "<p>62 rows × 11 columns</p>\n",
       "</div>"
      ],
      "text/plain": [
       "    manufacturer                   model  displ  year  cyl       trans drv  \\\n",
       "18     chevrolet      c1500 suburban 2wd    5.3  2008    8    auto(l4)   r   \n",
       "19     chevrolet      c1500 suburban 2wd    5.3  2008    8    auto(l4)   r   \n",
       "20     chevrolet      c1500 suburban 2wd    5.3  2008    8    auto(l4)   r   \n",
       "21     chevrolet      c1500 suburban 2wd    5.7  1999    8    auto(l4)   r   \n",
       "22     chevrolet      c1500 suburban 2wd    6.0  2008    8    auto(l4)   r   \n",
       "28     chevrolet         k1500 tahoe 4wd    5.3  2008    8    auto(l4)   4   \n",
       "29     chevrolet         k1500 tahoe 4wd    5.3  2008    8    auto(l4)   4   \n",
       "30     chevrolet         k1500 tahoe 4wd    5.7  1999    8    auto(l4)   4   \n",
       "31     chevrolet         k1500 tahoe 4wd    6.5  1999    8    auto(l4)   4   \n",
       "57         dodge             durango 4wd    3.9  1999    6    auto(l4)   4   \n",
       "58         dodge             durango 4wd    4.7  2008    8    auto(l5)   4   \n",
       "59         dodge             durango 4wd    4.7  2008    8    auto(l5)   4   \n",
       "60         dodge             durango 4wd    4.7  2008    8    auto(l5)   4   \n",
       "61         dodge             durango 4wd    5.2  1999    8    auto(l4)   4   \n",
       "62         dodge             durango 4wd    5.7  2008    8    auto(l5)   4   \n",
       "63         dodge             durango 4wd    5.9  1999    8    auto(l4)   4   \n",
       "74          ford          expedition 2wd    4.6  1999    8    auto(l4)   r   \n",
       "75          ford          expedition 2wd    5.4  1999    8    auto(l4)   r   \n",
       "76          ford          expedition 2wd    5.4  2008    8    auto(l6)   r   \n",
       "77          ford            explorer 4wd    4.0  1999    6    auto(l5)   4   \n",
       "78          ford            explorer 4wd    4.0  1999    6  manual(m5)   4   \n",
       "79          ford            explorer 4wd    4.0  1999    6    auto(l5)   4   \n",
       "80          ford            explorer 4wd    4.0  2008    6    auto(l5)   4   \n",
       "81          ford            explorer 4wd    4.6  2008    8    auto(l6)   4   \n",
       "82          ford            explorer 4wd    5.0  1999    8    auto(l4)   4   \n",
       "122         jeep      grand cherokee 4wd    3.0  2008    6    auto(l5)   4   \n",
       "123         jeep      grand cherokee 4wd    3.7  2008    6    auto(l5)   4   \n",
       "124         jeep      grand cherokee 4wd    4.0  1999    6    auto(l4)   4   \n",
       "125         jeep      grand cherokee 4wd    4.7  1999    8    auto(l4)   4   \n",
       "126         jeep      grand cherokee 4wd    4.7  2008    8    auto(l5)   4   \n",
       "..           ...                     ...    ...   ...  ...         ...  ..   \n",
       "129         jeep      grand cherokee 4wd    6.1  2008    8    auto(l5)   4   \n",
       "130   land rover             range rover    4.0  1999    8    auto(l4)   4   \n",
       "131   land rover             range rover    4.2  2008    8    auto(s6)   4   \n",
       "132   land rover             range rover    4.4  2008    8    auto(s6)   4   \n",
       "133   land rover             range rover    4.6  1999    8    auto(l4)   4   \n",
       "134      lincoln           navigator 2wd    5.4  1999    8    auto(l4)   r   \n",
       "135      lincoln           navigator 2wd    5.4  1999    8    auto(l4)   r   \n",
       "136      lincoln           navigator 2wd    5.4  2008    8    auto(l6)   r   \n",
       "137      mercury         mountaineer 4wd    4.0  1999    6    auto(l5)   4   \n",
       "138      mercury         mountaineer 4wd    4.0  2008    6    auto(l5)   4   \n",
       "139      mercury         mountaineer 4wd    4.6  2008    8    auto(l6)   4   \n",
       "140      mercury         mountaineer 4wd    5.0  1999    8    auto(l4)   4   \n",
       "150       nissan          pathfinder 4wd    3.3  1999    6    auto(l4)   4   \n",
       "151       nissan          pathfinder 4wd    3.3  1999    6  manual(m5)   4   \n",
       "152       nissan          pathfinder 4wd    4.0  2008    6    auto(l5)   4   \n",
       "153       nissan          pathfinder 4wd    5.6  2008    8    auto(s5)   4   \n",
       "159       subaru            forester awd    2.5  1999    4  manual(m5)   4   \n",
       "160       subaru            forester awd    2.5  1999    4    auto(l4)   4   \n",
       "161       subaru            forester awd    2.5  2008    4  manual(m5)   4   \n",
       "162       subaru            forester awd    2.5  2008    4  manual(m5)   4   \n",
       "163       subaru            forester awd    2.5  2008    4    auto(l4)   4   \n",
       "164       subaru            forester awd    2.5  2008    4    auto(l4)   4   \n",
       "173       toyota             4runner 4wd    2.7  1999    4  manual(m5)   4   \n",
       "174       toyota             4runner 4wd    2.7  1999    4    auto(l4)   4   \n",
       "175       toyota             4runner 4wd    3.4  1999    6    auto(l4)   4   \n",
       "176       toyota             4runner 4wd    3.4  1999    6  manual(m5)   4   \n",
       "177       toyota             4runner 4wd    4.0  2008    6    auto(l5)   4   \n",
       "178       toyota             4runner 4wd    4.7  2008    8    auto(l5)   4   \n",
       "198       toyota  land cruiser wagon 4wd    4.7  1999    8    auto(l4)   4   \n",
       "199       toyota  land cruiser wagon 4wd    5.7  2008    8    auto(s6)   4   \n",
       "\n",
       "     cty  hwy fl class  \n",
       "18    14   20  r   suv  \n",
       "19    11   15  e   suv  \n",
       "20    14   20  r   suv  \n",
       "21    13   17  r   suv  \n",
       "22    12   17  r   suv  \n",
       "28    14   19  r   suv  \n",
       "29    11   14  e   suv  \n",
       "30    11   15  r   suv  \n",
       "31    14   17  d   suv  \n",
       "57    13   17  r   suv  \n",
       "58    13   17  r   suv  \n",
       "59     9   12  e   suv  \n",
       "60    13   17  r   suv  \n",
       "61    11   16  r   suv  \n",
       "62    13   18  r   suv  \n",
       "63    11   15  r   suv  \n",
       "74    11   17  r   suv  \n",
       "75    11   17  r   suv  \n",
       "76    12   18  r   suv  \n",
       "77    14   17  r   suv  \n",
       "78    15   19  r   suv  \n",
       "79    14   17  r   suv  \n",
       "80    13   19  r   suv  \n",
       "81    13   19  r   suv  \n",
       "82    13   17  r   suv  \n",
       "122   17   22  d   suv  \n",
       "123   15   19  r   suv  \n",
       "124   15   20  r   suv  \n",
       "125   14   17  r   suv  \n",
       "126    9   12  e   suv  \n",
       "..   ...  ... ..   ...  \n",
       "129   11   14  p   suv  \n",
       "130   11   15  p   suv  \n",
       "131   12   18  r   suv  \n",
       "132   12   18  r   suv  \n",
       "133   11   15  p   suv  \n",
       "134   11   17  r   suv  \n",
       "135   11   16  p   suv  \n",
       "136   12   18  r   suv  \n",
       "137   14   17  r   suv  \n",
       "138   13   19  r   suv  \n",
       "139   13   19  r   suv  \n",
       "140   13   17  r   suv  \n",
       "150   14   17  r   suv  \n",
       "151   15   17  r   suv  \n",
       "152   14   20  p   suv  \n",
       "153   12   18  p   suv  \n",
       "159   18   25  r   suv  \n",
       "160   18   24  r   suv  \n",
       "161   20   27  r   suv  \n",
       "162   19   25  p   suv  \n",
       "163   20   26  r   suv  \n",
       "164   18   23  p   suv  \n",
       "173   15   20  r   suv  \n",
       "174   16   20  r   suv  \n",
       "175   15   19  r   suv  \n",
       "176   15   17  r   suv  \n",
       "177   16   20  r   suv  \n",
       "178   14   17  r   suv  \n",
       "198   11   15  r   suv  \n",
       "199   13   18  r   suv  \n",
       "\n",
       "[62 rows x 11 columns]"
      ]
     },
     "execution_count": 21,
     "metadata": {},
     "output_type": "execute_result"
    }
   ],
   "source": [
    "df[df['class'] == 'suv']"
   ]
  },
  {
   "cell_type": "code",
   "execution_count": 22,
   "metadata": {},
   "outputs": [],
   "source": [
    "#以SUV为例，绘制直方密度图\n",
    "\n",
    "#提取SUV类型车的城市里程\n",
    "x1 = df.loc[df['class'] == 'suv','cty'].values"
   ]
  },
  {
   "cell_type": "code",
   "execution_count": 23,
   "metadata": {},
   "outputs": [
    {
     "data": {
      "text/plain": [
       "array([14, 11, 14, 13, 12, 14, 11, 11, 14, 13, 13,  9, 13, 11, 13, 11, 11,\n",
       "       11, 12, 14, 15, 14, 13, 13, 13, 17, 15, 15, 14,  9, 14, 13, 11, 11,\n",
       "       12, 12, 11, 11, 11, 12, 14, 13, 13, 13, 14, 15, 14, 12, 18, 18, 20,\n",
       "       19, 20, 18, 15, 16, 15, 15, 16, 14, 11, 13], dtype=int64)"
      ]
     },
     "execution_count": 23,
     "metadata": {},
     "output_type": "execute_result"
    }
   ],
   "source": [
    "x1"
   ]
  },
  {
   "cell_type": "code",
   "execution_count": 24,
   "metadata": {},
   "outputs": [
    {
     "data": {
      "image/png": "[encoded data removed]",
      "text/plain": [
       "<Figure size 432x288 with 1 Axes>"
      ]
     },
     "metadata": {
      "needs_background": "light"
     },
     "output_type": "display_data"
    }
   ],
   "source": [
    "#绘制图形\n",
    "sns.distplot(x1,label='suv');"
   ]
  },
  {
   "cell_type": "markdown",
   "metadata": {},
   "source": [
    "如果想要把7种类型车的城市里程全部绘制出来的话，可以尝试用循环的方式"
   ]
  },
  {
   "cell_type": "code",
   "execution_count": 25,
   "metadata": {},
   "outputs": [
    {
     "data": {
      "text/plain": [
       "array(['compact', 'compact', 'compact', 'compact', 'compact', 'compact',\n",
       "       'compact', 'compact', 'compact', 'compact', 'compact', 'compact',\n",
       "       'compact', 'compact', 'compact', 'midsize', 'midsize', 'midsize',\n",
       "       'suv', 'suv', 'suv', 'suv', 'suv', '2seater', '2seater', '2seater',\n",
       "       '2seater', '2seater', 'suv', 'suv', 'suv', 'suv', 'midsize',\n",
       "       'midsize', 'midsize', 'midsize', 'midsize', 'minivan', 'minivan',\n",
       "       'minivan', 'minivan', 'minivan', 'minivan', 'minivan', 'minivan',\n",
       "       'minivan', 'minivan', 'minivan', 'pickup', 'pickup', 'pickup',\n",
       "       'pickup', 'pickup', 'pickup', 'pickup', 'pickup', 'pickup', 'suv',\n",
       "       'suv', 'suv', 'suv', 'suv', 'suv', 'suv', 'pickup', 'pickup',\n",
       "       'pickup', 'pickup', 'pickup', 'pickup', 'pickup', 'pickup',\n",
       "       'pickup', 'pickup', 'suv', 'suv', 'suv', 'suv', 'suv', 'suv',\n",
       "       'suv', 'suv', 'suv', 'pickup', 'pickup', 'pickup', 'pickup',\n",
       "       'pickup', 'pickup', 'pickup', 'subcompact', 'subcompact',\n",
       "       'subcompact', 'subcompact', 'subcompact', 'subcompact',\n",
       "       'subcompact', 'subcompact', 'subcompact', 'subcompact',\n",
       "       'subcompact', 'subcompact', 'subcompact', 'subcompact',\n",
       "       'subcompact', 'subcompact', 'subcompact', 'subcompact', 'midsize',\n",
       "       'midsize', 'midsize', 'midsize', 'midsize', 'midsize', 'midsize',\n",
       "       'subcompact', 'subcompact', 'subcompact', 'subcompact',\n",
       "       'subcompact', 'subcompact', 'subcompact', 'suv', 'suv', 'suv',\n",
       "       'suv', 'suv', 'suv', 'suv', 'suv', 'suv', 'suv', 'suv', 'suv',\n",
       "       'suv', 'suv', 'suv', 'suv', 'suv', 'suv', 'suv', 'compact',\n",
       "       'compact', 'midsize', 'midsize', 'midsize', 'midsize', 'midsize',\n",
       "       'midsize', 'midsize', 'suv', 'suv', 'suv', 'suv', 'midsize',\n",
       "       'midsize', 'midsize', 'midsize', 'midsize', 'suv', 'suv', 'suv',\n",
       "       'suv', 'suv', 'suv', 'subcompact', 'subcompact', 'subcompact',\n",
       "       'subcompact', 'compact', 'compact', 'compact', 'compact', 'suv',\n",
       "       'suv', 'suv', 'suv', 'suv', 'suv', 'midsize', 'midsize', 'midsize',\n",
       "       'midsize', 'midsize', 'midsize', 'midsize', 'compact', 'compact',\n",
       "       'compact', 'compact', 'compact', 'compact', 'compact', 'compact',\n",
       "       'compact', 'compact', 'compact', 'compact', 'suv', 'suv', 'pickup',\n",
       "       'pickup', 'pickup', 'pickup', 'pickup', 'pickup', 'pickup',\n",
       "       'compact', 'compact', 'compact', 'compact', 'compact', 'compact',\n",
       "       'compact', 'compact', 'compact', 'compact', 'compact', 'compact',\n",
       "       'compact', 'compact', 'subcompact', 'subcompact', 'subcompact',\n",
       "       'subcompact', 'subcompact', 'subcompact', 'midsize', 'midsize',\n",
       "       'midsize', 'midsize', 'midsize', 'midsize', 'midsize'],\n",
       "      dtype=object)"
      ]
     },
     "execution_count": 25,
     "metadata": {},
     "output_type": "execute_result"
    }
   ],
   "source": [
    "df['class'].values"
   ]
  },
  {
   "cell_type": "code",
   "execution_count": 26,
   "metadata": {},
   "outputs": [
    {
     "data": {
      "text/plain": [
       "{'2seater', 'compact', 'midsize', 'minivan', 'pickup', 'subcompact', 'suv'}"
      ]
     },
     "execution_count": 26,
     "metadata": {},
     "output_type": "execute_result"
    }
   ],
   "source": [
    "set(df['class'].values)"
   ]
  },
  {
   "cell_type": "code",
   "execution_count": 28,
   "metadata": {},
   "outputs": [
    {
     "data": {
      "text/plain": [
       "['midsize', 'subcompact', 'pickup', 'suv', 'compact', '2seater', 'minivan']"
      ]
     },
     "execution_count": 28,
     "metadata": {},
     "output_type": "execute_result"
    }
   ],
   "source": [
    "#将所有类型放到一个列表中\n",
    "clas = list(set(df['class'].values))\n",
    "clas"
   ]
  },
  {
   "cell_type": "code",
   "execution_count": 30,
   "metadata": {},
   "outputs": [
    {
     "data": {
      "image/png": "[encoded data removed]",
      "text/plain": [
       "<Figure size 840x480 with 1 Axes>"
      ]
     },
     "metadata": {
      "needs_background": "light"
     },
     "output_type": "display_data"
    }
   ],
   "source": [
    "#创建画布\n",
    "plt.figure(figsize = (14,8),dpi = 60)\n",
    "\n",
    "#对每一种类型的车进行绘图\n",
    "for i in clas:\n",
    "    sns.distplot(df.loc[df['class'] == i,'cty'].values,label=i\n",
    "                 ,hist=False\n",
    "                )\n",
    "\n",
    "#添加装饰\n",
    "plt.title('城市里程随车类型变化的分布图',fontsize=20) #添加标题\n",
    "plt.ylim(0,0.65) #Y轴的刻度范围\n",
    "plt.xlim(5,30) #X轴刻度范围\n",
    "plt.legend(fontsize=15); #显示图例"
   ]
  },
  {
   "cell_type": "markdown",
   "metadata": {},
   "source": [
    "如果分类特别多的话，各种图形的交错就会更加复杂，那这样的绘图就不是很合适了    \n",
    "而实际应用中，我们也不会将特别多的种类放到一起进行比较    \n",
    "通常来说，会选择几个比较重要的分类来进行对比"
   ]
  },
  {
   "cell_type": "markdown",
   "metadata": {},
   "source": [
    "### **绘制compact/suv/minivan这三种车的城市里程分布**"
   ]
  },
  {
   "cell_type": "code",
   "execution_count": 32,
   "metadata": {},
   "outputs": [
    {
     "data": {
      "image/png": "[encoded data removed]",
      "text/plain": [
       "<Figure size 840x480 with 1 Axes>"
      ]
     },
     "metadata": {
      "needs_background": "light"
     },
     "output_type": "display_data"
    }
   ],
   "source": [
    "#提取出compact/suv/minivan这三种车的城市里程\n",
    "compact = df.loc[df['class'] == 'compact', 'cty'].values\n",
    "suv = df.loc[df['class'] == 'suv', 'cty'].values\n",
    "minivan = df.loc[df['class'] == 'minivan', 'cty'].values\n",
    "\n",
    "#创建画布\n",
    "plt.figure(figsize = (14,8),dpi = 60)\n",
    "\n",
    "#绘制图形\n",
    "sns.distplot(compact,color='b',label='compact', hist_kws={'alpha':.4},kde_kws={'linewidth':3,'alpha':.7})\n",
    "sns.distplot(suv,color='r',label='suv', hist_kws={'alpha':.4},kde_kws={'linewidth':3,'alpha':.7})\n",
    "sns.distplot(minivan,color='g',label='minivan', hist_kws={'alpha':.4},kde_kws={'linewidth':3,'alpha':.7})\n",
    "\n",
    "#装饰图形\n",
    "plt.title('compact/suv/minivan三种车的城市里程分布',fontsize=20) #添加标题\n",
    "plt.xlabel('城市里程（cty）',fontsize=15) #添加X轴标题\n",
    "plt.xticks(fontsize=12) #设定X轴刻度的大小\n",
    "plt.yticks(fontsize=12) #设定Y轴刻度的大小\n",
    "plt.legend(fontsize=15,frameon=False); #显示图例"
   ]
  },
  {
   "cell_type": "code",
   "execution_count": 33,
   "metadata": {},
   "outputs": [
    {
     "data": {
      "image/png": "[encoded data removed]",
      "text/plain": [
       "<Figure size 780x480 with 1 Axes>"
      ]
     },
     "metadata": {
      "needs_background": "light"
     },
     "output_type": "display_data"
    }
   ],
   "source": [
    "#源代码\n",
    "\n",
    "# Import Data\n",
    "df = pd.read_csv(\"https://github.com/selva86/datasets/raw/master/mpg_ggplot2.csv\") #导入数据集\n",
    "\n",
    "# Draw Plot\n",
    "plt.figure(figsize=(13,8), dpi= 60) #创建画布\n",
    "sns.distplot(df.loc[df['class'] == 'compact', \"cty\"], color=\"dodgerblue\", label=\"Compact\", hist_kws={'alpha':.7}, kde_kws={'linewidth':3})\n",
    "sns.distplot(df.loc[df['class'] == 'suv', \"cty\"], color=\"orange\", label=\"SUV\", hist_kws={'alpha':.7}, kde_kws={'linewidth':3})\n",
    "sns.distplot(df.loc[df['class'] == 'minivan', \"cty\"], color=\"g\", label=\"minivan\", hist_kws={'alpha':.7}, kde_kws={'linewidth':3})\n",
    "plt.ylim(0, 0.35)#设定Y轴刻度范围\n",
    "\n",
    "# Decoration\n",
    "plt.title('Density Plot of City Mileage by Vehicle Type', fontsize=22) #添加标题\n",
    "plt.legend() #添加图例\n",
    "plt.show() #本地显示图形"
   ]
  },
  {
   "cell_type": "markdown",
   "metadata": {},
   "source": [
    "### 5.图像解读"
   ]
  },
  {
   "cell_type": "code",
   "execution_count": null,
   "metadata": {},
   "outputs": [],
   "source": []
  },
  {
   "cell_type": "code",
   "execution_count": null,
   "metadata": {},
   "outputs": [],
   "source": []
  }
 ],
 "metadata": {
  "kernelspec": {
   "display_name": "Python 3",
   "language": "python",
   "name": "python3"
  },
  "language_info": {
   "codemirror_mode": {
    "name": "ipython",
    "version": 3
   },
   "file_extension": ".py",
   "mimetype": "text/x-python",
   "name": "python",
   "nbconvert_exporter": "python",
   "pygments_lexer": "ipython3",
   "version": "3.7.1"
  }
 },
 "nbformat": 4,
 "nbformat_minor": 2
}
