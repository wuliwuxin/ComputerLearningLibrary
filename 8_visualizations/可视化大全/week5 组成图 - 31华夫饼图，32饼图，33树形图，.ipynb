{
 "cells": [
  {
   "cell_type": "markdown",
   "metadata": {},
   "source": [
    "# **菊安酱与菜菜的Python机器学习可视化**"
   ]
  },
  {
   "cell_type": "markdown",
   "metadata": {},
   "source": [
    "## 第五期 组成图"
   ]
  },
  {
   "cell_type": "markdown",
   "metadata": {},
   "source": [
    "<img src=\"https://pictes.oss-cn-beijing.aliyuncs.com/microclass-virtualisation/week1correlation/line4.png\" align=\"center\" />"
   ]
  },
  {
   "cell_type": "markdown",
   "metadata": {},
   "source": [
    "## <center>每周三晚上8点直播1小时，完整版2小时周日上线~</center>\n",
    "## <center>单数周菜菜直播，双数周菊安酱直播，哔哩哔哩与peixun.net同步开启</center>"
   ]
  },
  {
   "cell_type": "markdown",
   "metadata": {},
   "source": [
    "<img src=\"https://pictes.oss-cn-beijing.aliyuncs.com/microclass-virtualisation/week1correlation/line4.png\" align=\"center\" />"
   ]
  },
  {
   "cell_type": "markdown",
   "metadata": {},
   "source": [
    "**注意：本篇中可能遇见无法在matpotlib和seaborn中显示中文或者负号的问题**  \n",
    "如果你遇见了，请参考链接，可永久解决中文和负号问题：https://www.jianshu.com/p/914b5f4ce6bf  \n",
    "或者你也可以在每次需要负号和中文的时候执行下面的代码来避免中文或负号显示不出来："
   ]
  },
  {
   "cell_type": "code",
   "execution_count": 9,
   "metadata": {},
   "outputs": [],
   "source": [
    "import matplotlib.pyplot as plt\n",
    "plt.rcParams['font.sans-serif']=['Simhei'] \n",
    "plt.rcParams['axes.unicode_minus']=False"
   ]
  },
  {
   "cell_type": "markdown",
   "metadata": {},
   "source": [
    "<img src=\"https://pictes.oss-cn-beijing.aliyuncs.com/microclass-virtualisation/week1correlation/line4.png\" align=\"center\" />"
   ]
  },
  {
   "cell_type": "markdown",
   "metadata": {},
   "source": [
    "## **第五章 组成图 Composition**"
   ]
  },
  {
   "cell_type": "markdown",
   "metadata": {},
   "source": [
    "组成图是描述样本类别组成的图像，它能够直观表达一组数据集中有什么样的类别，并展现出不同类别所占的比例<br>\n",
    "组成图往往有绚丽的色彩，在某一类别占比很大的时候能够让该类别非常显眼，所以是商业报告&PPT最佳伴侣！<br>\n",
    "典型的组成图有：人民群众最熟悉的饼图，树形图和华夫饼图"
   ]
  },
  {
   "cell_type": "markdown",
   "metadata": {},
   "source": [
    "<img src=\"http://pictes.oss-cn-beijing.aliyuncs.com/microclass-virtualisation/week5%20Composition/%E7%BB%84%E6%88%90%E5%9B%BE.PNG\" align=\"center\" />"
   ]
  },
  {
   "cell_type": "markdown",
   "metadata": {},
   "source": [
    "<img src=\"https://pictes.oss-cn-beijing.aliyuncs.com/microclass-virtualisation/week1correlation/line4.png\" align=\"center\" />"
   ]
  },
  {
   "cell_type": "markdown",
   "metadata": {},
   "source": [
    "### 31/50 华夫饼图"
   ]
  },
  {
   "cell_type": "markdown",
   "metadata": {},
   "source": [
    "华夫饼图又叫做方形饼图(square chart)，是一种以方形饼图展示不同类别占比的组成图，通常为10x10网格，其中每个单元格代表1％的占比。 "
   ]
  },
  {
   "cell_type": "markdown",
   "metadata": {},
   "source": [
    "<img src=\"http://pictes.oss-cn-beijing.aliyuncs.com/microclass-virtualisation/week5%20Composition/31%20%E5%8D%8E%E5%A4%AB%E9%A5%BC%E5%9B%BE.PNG\" align=\"center\" />"
   ]
  },
  {
   "cell_type": "markdown",
   "metadata": {},
   "source": [
    "没有横坐标和纵坐标  \n",
    "只有标题和图例，从图例中可以看出，一种颜色一种类别  \n",
    "三张图的类别分别是：Class(车辆类型)，Cyl(气缸数量)，Make(汽车制造商)  "
   ]
  },
  {
   "cell_type": "markdown",
   "metadata": {},
   "source": [
    "### 1. 导入需要的绘图库&基本设置"
   ]
  },
  {
   "cell_type": "code",
   "execution_count": 1,
   "metadata": {},
   "outputs": [],
   "source": [
    "import numpy as np\n",
    "import pandas as pd\n",
    "import matplotlib as mpl\n",
    "import matplotlib.pyplot as plt\n",
    "import seaborn as sns\n",
    "import warnings; warnings.filterwarnings(action='once')\n",
    "\n",
    "large = 22; med = 16; small = 12\n",
    "params = {'axes.titlesize': large,\n",
    "          'legend.fontsize': med,\n",
    "          'figure.figsize': (16, 10),\n",
    "          'axes.labelsize': med,\n",
    "          'axes.titlesize': med,\n",
    "          'xtick.labelsize': med,\n",
    "          'ytick.labelsize': med,\n",
    "          'figure.titlesize': large}\n",
    "plt.rcParams.update(params)\n",
    "plt.style.use('seaborn-whitegrid')\n",
    "sns.set_style(\"white\")\n",
    "%matplotlib inline"
   ]
  },
  {
   "cell_type": "markdown",
   "metadata": {},
   "source": [
    "### 2. 认识绘制华夫饼的库"
   ]
  },
  {
   "cell_type": "markdown",
   "metadata": {},
   "source": [
    "#### **pywaffle.waffle.Waffle**  \n",
    "Python + 华夫饼的英文单词waffle形成的库pywaffle，是专门为matplotlib设计的，用来绘制一系列饼图的库  \n",
    "其中的Waffle模块是专门绘制华夫饼图的，但神奇的是，我们不通过任何函数来实现这个功能  \n",
    "这个库需要单独安装，大家可以运行以下代码进行安装："
   ]
  },
  {
   "cell_type": "code",
   "execution_count": 77,
   "metadata": {},
   "outputs": [
    {
     "name": "stdout",
     "output_type": "stream",
     "text": [
      "Microsoft Windows [Version 10.0.17134.648]\n",
      "(c) 2018 Microsoft Corporation. All rights reserved.\n",
      "\n",
      "C:\\Pythonwork\\micro-class 2 - virtualization\\week5>pip install pywaffle\n",
      "Requirement already satisfied: pywaffle in c:\\python\\lib\\site-packages (0.2.1)\n",
      "Requirement already satisfied: matplotlib in c:\\python\\lib\\site-packages (from pywaffle) (3.0.3)\n",
      "Requirement already satisfied: numpy>=1.10.0 in c:\\python\\lib\\site-packages (from matplotlib->pywaffle) (1.16.2)\n",
      "Requirement already satisfied: cycler>=0.10 in c:\\python\\lib\\site-packages (from matplotlib->pywaffle) (0.10.0)\n",
      "Requirement already satisfied: kiwisolver>=1.0.1 in c:\\python\\lib\\site-packages (from matplotlib->pywaffle) (1.0.1)\n",
      "Requirement already satisfied: pyparsing!=2.0.4,!=2.1.2,!=2.1.6,>=2.0.1 in c:\\python\\lib\\site-packages (from matplotlib->pywaffle) (2.3.1)\n",
      "Requirement already satisfied: python-dateutil>=2.1 in c:\\python\\lib\\site-packages (from matplotlib->pywaffle) (2.8.0)\n",
      "Requirement already satisfied: six in c:\\python\\lib\\site-packages (from cycler>=0.10->matplotlib->pywaffle) (1.12.0)\n",
      "Requirement already satisfied: setuptools in c:\\python\\lib\\site-packages (from kiwisolver>=1.0.1->matplotlib->pywaffle) (40.8.0)\n",
      "\n",
      "C:\\Pythonwork\\micro-class 2 - virtualization\\week5>"
     ]
    }
   ],
   "source": [
    "%%cmd\n",
    "pip install pywaffle"
   ]
  },
  {
   "cell_type": "code",
   "execution_count": 2,
   "metadata": {},
   "outputs": [],
   "source": [
    "#导入华夫饼库中的华夫饼图像类型\n",
    "from pywaffle import Waffle"
   ]
  },
  {
   "cell_type": "code",
   "execution_count": 3,
   "metadata": {},
   "outputs": [
    {
     "data": {
      "text/plain": [
       "pywaffle.waffle.Waffle"
      ]
     },
     "execution_count": 3,
     "metadata": {},
     "output_type": "execute_result"
    }
   ],
   "source": [
    "Waffle #pywaffle库，waffle模块中的Waffle图像类型"
   ]
  },
  {
   "cell_type": "code",
   "execution_count": 4,
   "metadata": {},
   "outputs": [
    {
     "data": {
      "text/plain": [
       "type"
      ]
     },
     "execution_count": 4,
     "metadata": {},
     "output_type": "execute_result"
    }
   ],
   "source": [
    "type(Waffle) #本身就是一种类型"
   ]
  },
  {
   "cell_type": "markdown",
   "metadata": {},
   "source": [
    "> **重要参数**\n",
    ">> **FigureClass**：图像的类型，绘制华夫饼时我们在这里输入Waffle，这是我们导入后的Waffle图像类型  \n",
    ">> **rows**：条形图在y轴上的起点，也就是长条的最下边  \n",
    ">> **values**：条形图在y轴上的终点，也就是长条的最上边  \n",
    ">> **loc**：图例的位置  \n",
    ">> **bbox_to_anchor**：一种更加精确地显示图例位置的方式，当bbox_to_anchor参数存在时，会以参数中输入的坐标为参考点，再考虑loc来设置图图例的位置"
   ]
  },
  {
   "cell_type": "code",
   "execution_count": 108,
   "metadata": {},
   "outputs": [
    {
     "data": {
      "image/png": "[encoded data removed]",
      "text/plain": [
       "<Waffle size 576x216 with 1 Axes>"
      ]
     },
     "metadata": {
      "needs_background": "light"
     },
     "output_type": "display_data"
    }
   ],
   "source": [
    "#先画一块饼看看吧\n",
    "\n",
    "data = {'Democratic': 50, 'Republican': 50, 'Libertarian': 10} #数据集以字典的形式表示，这里表示三种类别\n",
    "\n",
    "fig = plt.figure(\n",
    "    figsize=(8,3), #画布的尺寸\n",
    "    values=data, #数据\n",
    "    FigureClass=Waffle,  #画布的类型：华夫饼图 - 没有横纵坐标，只有格子\n",
    "    rows=5, #华夫饼图要有多少行\n",
    "    colors=(\"#E22882\", \"#983D3D\", \"#DCB732\"), #颜色的数量必须要与数据中的类别数量一致，否则报错\n",
    "    legend={'loc': 'upper left' #图例输入loc，可以控制图例所在的位置\n",
    "            , 'bbox_to_anchor': (1, 1) #元组\n",
    "           },\n",
    "    icons='child', icon_size=16, \n",
    "    icon_legend=True\n",
    ")\n",
    "\n",
    "#loc与bbox_to_anchor用法梳理\n",
    "#plt.scatter([1],[1]\n",
    "#            ,zorder=2 #图层的位置\n",
    "#            ,c=\"k\");"
   ]
  },
  {
   "cell_type": "markdown",
   "metadata": {},
   "source": [
    "### bbox_to_anchor用法梳理"
   ]
  },
  {
   "cell_type": "markdown",
   "metadata": {},
   "source": [
    "bbox_to_anchor = (0.5, 0.5)"
   ]
  },
  {
   "cell_type": "markdown",
   "metadata": {},
   "source": [
    "<img src=\"http://pictes.oss-cn-beijing.aliyuncs.com/microclass-virtualisation/week5%20Composition/bbox_to_anchor%E7%94%A8%E6%B3%952.png\" align=\"center\" />"
   ]
  },
  {
   "cell_type": "markdown",
   "metadata": {},
   "source": [
    "bbox_to_anchor = (0.5, 0.5, 0.1, 0.4)"
   ]
  },
  {
   "cell_type": "markdown",
   "metadata": {},
   "source": [
    "<img src=\"http://pictes.oss-cn-beijing.aliyuncs.com/microclass-virtualisation/week5%20Composition/bbox_to_anchor%E7%94%A8%E6%B3%951.png\" align=\"center\" />"
   ]
  },
  {
   "cell_type": "markdown",
   "metadata": {},
   "source": [
    "华夫饼图的数据一定得输入百分比吗？其实不一定~"
   ]
  },
  {
   "cell_type": "markdown",
   "metadata": {},
   "source": [
    "### 3. 处理绘图用的数据"
   ]
  },
  {
   "cell_type": "code",
   "execution_count": 77,
   "metadata": {},
   "outputs": [],
   "source": [
    "#导入数据\n",
    "df_raw = pd.read_csv(\"https://github.com/selva86/datasets/raw/master/mpg_ggplot2.csv\")"
   ]
  },
  {
   "cell_type": "code",
   "execution_count": 78,
   "metadata": {},
   "outputs": [
    {
     "data": {
      "text/html": [
       "<div>\n",
       "<style scoped>\n",
       "    .dataframe tbody tr th:only-of-type {\n",
       "        vertical-align: middle;\n",
       "    }\n",
       "\n",
       "    .dataframe tbody tr th {\n",
       "        vertical-align: top;\n",
       "    }\n",
       "\n",
       "    .dataframe thead th {\n",
       "        text-align: right;\n",
       "    }\n",
       "</style>\n",
       "<table border=\"1\" class=\"dataframe\">\n",
       "  <thead>\n",
       "    <tr style=\"text-align: right;\">\n",
       "      <th></th>\n",
       "      <th>manufacturer</th>\n",
       "      <th>model</th>\n",
       "      <th>displ</th>\n",
       "      <th>year</th>\n",
       "      <th>cyl</th>\n",
       "      <th>trans</th>\n",
       "      <th>drv</th>\n",
       "      <th>cty</th>\n",
       "      <th>hwy</th>\n",
       "      <th>fl</th>\n",
       "      <th>class</th>\n",
       "    </tr>\n",
       "  </thead>\n",
       "  <tbody>\n",
       "    <tr>\n",
       "      <th>0</th>\n",
       "      <td>audi</td>\n",
       "      <td>a4</td>\n",
       "      <td>1.8</td>\n",
       "      <td>1999</td>\n",
       "      <td>4</td>\n",
       "      <td>auto(l5)</td>\n",
       "      <td>f</td>\n",
       "      <td>18</td>\n",
       "      <td>29</td>\n",
       "      <td>p</td>\n",
       "      <td>compact</td>\n",
       "    </tr>\n",
       "    <tr>\n",
       "      <th>1</th>\n",
       "      <td>audi</td>\n",
       "      <td>a4</td>\n",
       "      <td>1.8</td>\n",
       "      <td>1999</td>\n",
       "      <td>4</td>\n",
       "      <td>manual(m5)</td>\n",
       "      <td>f</td>\n",
       "      <td>21</td>\n",
       "      <td>29</td>\n",
       "      <td>p</td>\n",
       "      <td>compact</td>\n",
       "    </tr>\n",
       "    <tr>\n",
       "      <th>2</th>\n",
       "      <td>audi</td>\n",
       "      <td>a4</td>\n",
       "      <td>2.0</td>\n",
       "      <td>2008</td>\n",
       "      <td>4</td>\n",
       "      <td>manual(m6)</td>\n",
       "      <td>f</td>\n",
       "      <td>20</td>\n",
       "      <td>31</td>\n",
       "      <td>p</td>\n",
       "      <td>compact</td>\n",
       "    </tr>\n",
       "    <tr>\n",
       "      <th>3</th>\n",
       "      <td>audi</td>\n",
       "      <td>a4</td>\n",
       "      <td>2.0</td>\n",
       "      <td>2008</td>\n",
       "      <td>4</td>\n",
       "      <td>auto(av)</td>\n",
       "      <td>f</td>\n",
       "      <td>21</td>\n",
       "      <td>30</td>\n",
       "      <td>p</td>\n",
       "      <td>compact</td>\n",
       "    </tr>\n",
       "    <tr>\n",
       "      <th>4</th>\n",
       "      <td>audi</td>\n",
       "      <td>a4</td>\n",
       "      <td>2.8</td>\n",
       "      <td>1999</td>\n",
       "      <td>6</td>\n",
       "      <td>auto(l5)</td>\n",
       "      <td>f</td>\n",
       "      <td>16</td>\n",
       "      <td>26</td>\n",
       "      <td>p</td>\n",
       "      <td>compact</td>\n",
       "    </tr>\n",
       "  </tbody>\n",
       "</table>\n",
       "</div>"
      ],
      "text/plain": [
       "  manufacturer model  displ  year  cyl       trans drv  cty  hwy fl    class\n",
       "0         audi    a4    1.8  1999    4    auto(l5)   f   18   29  p  compact\n",
       "1         audi    a4    1.8  1999    4  manual(m5)   f   21   29  p  compact\n",
       "2         audi    a4    2.0  2008    4  manual(m6)   f   20   31  p  compact\n",
       "3         audi    a4    2.0  2008    4    auto(av)   f   21   30  p  compact\n",
       "4         audi    a4    2.8  1999    6    auto(l5)   f   16   26  p  compact"
      ]
     },
     "execution_count": 78,
     "metadata": {},
     "output_type": "execute_result"
    }
   ],
   "source": [
    "df_raw.head()"
   ]
  },
  {
   "cell_type": "code",
   "execution_count": 22,
   "metadata": {},
   "outputs": [],
   "source": [
    "name = [\"汽车制造商\",\"型号名称\",\"发动机排量(L)\",\"制造年份\",\"气缸数量\",\"手动/自动\"\n",
    "        ,\"驱动类型\",\"城市里程/加仑\",\"公路里程/加仑\",\"汽油种类\",\"车辆种类\"]\n",
    "\n",
    "#驱动类型：四轮，前轮，后轮\n",
    "#能源种类：汽油，柴油，用电等等\n",
    "#车辆种类：皮卡，SUV，小型，中型等等\n",
    "#城市里程/加仑，公路里程/加仑：表示使用每加仑汽油能够跑的英里数，所以这个数值越大代表汽车越节能"
   ]
  },
  {
   "cell_type": "markdown",
   "metadata": {},
   "source": [
    "我们需要向华夫饼图输入类别和类别对应的数量  \n",
    "df_class = df_raw.groupby('class').size().reset_index(name='counts')"
   ]
  },
  {
   "cell_type": "code",
   "execution_count": 83,
   "metadata": {},
   "outputs": [
    {
     "data": {
      "text/plain": [
       "class\n",
       "2seater        5\n",
       "compact       47\n",
       "midsize       41\n",
       "minivan       11\n",
       "pickup        33\n",
       "subcompact    35\n",
       "suv           62\n",
       "dtype: int64"
      ]
     },
     "execution_count": 83,
     "metadata": {},
     "output_type": "execute_result"
    }
   ],
   "source": [
    "df_raw.groupby(\"class\").size() #提取出按照class来聚合之后每个类别下的样本数量"
   ]
  },
  {
   "cell_type": "code",
   "execution_count": 84,
   "metadata": {},
   "outputs": [
    {
     "data": {
      "text/html": [
       "<div>\n",
       "<style scoped>\n",
       "    .dataframe tbody tr th:only-of-type {\n",
       "        vertical-align: middle;\n",
       "    }\n",
       "\n",
       "    .dataframe tbody tr th {\n",
       "        vertical-align: top;\n",
       "    }\n",
       "\n",
       "    .dataframe thead th {\n",
       "        text-align: right;\n",
       "    }\n",
       "</style>\n",
       "<table border=\"1\" class=\"dataframe\">\n",
       "  <thead>\n",
       "    <tr style=\"text-align: right;\">\n",
       "      <th></th>\n",
       "      <th>class</th>\n",
       "      <th>0</th>\n",
       "    </tr>\n",
       "  </thead>\n",
       "  <tbody>\n",
       "    <tr>\n",
       "      <th>0</th>\n",
       "      <td>2seater</td>\n",
       "      <td>5</td>\n",
       "    </tr>\n",
       "    <tr>\n",
       "      <th>1</th>\n",
       "      <td>compact</td>\n",
       "      <td>47</td>\n",
       "    </tr>\n",
       "    <tr>\n",
       "      <th>2</th>\n",
       "      <td>midsize</td>\n",
       "      <td>41</td>\n",
       "    </tr>\n",
       "    <tr>\n",
       "      <th>3</th>\n",
       "      <td>minivan</td>\n",
       "      <td>11</td>\n",
       "    </tr>\n",
       "    <tr>\n",
       "      <th>4</th>\n",
       "      <td>pickup</td>\n",
       "      <td>33</td>\n",
       "    </tr>\n",
       "    <tr>\n",
       "      <th>5</th>\n",
       "      <td>subcompact</td>\n",
       "      <td>35</td>\n",
       "    </tr>\n",
       "    <tr>\n",
       "      <th>6</th>\n",
       "      <td>suv</td>\n",
       "      <td>62</td>\n",
       "    </tr>\n",
       "  </tbody>\n",
       "</table>\n",
       "</div>"
      ],
      "text/plain": [
       "        class   0\n",
       "0     2seater   5\n",
       "1     compact  47\n",
       "2     midsize  41\n",
       "3     minivan  11\n",
       "4      pickup  33\n",
       "5  subcompact  35\n",
       "6         suv  62"
      ]
     },
     "execution_count": 84,
     "metadata": {},
     "output_type": "execute_result"
    }
   ],
   "source": [
    "df_raw.groupby(\"class\").size().reset_index() #重新设立索引，并且将原来为索引的内容当作另一个特征放到DataFrame"
   ]
  },
  {
   "cell_type": "code",
   "execution_count": 85,
   "metadata": {},
   "outputs": [],
   "source": [
    "df_class = df_raw.groupby('class').size().reset_index(name='counts')"
   ]
  },
  {
   "cell_type": "code",
   "execution_count": 86,
   "metadata": {},
   "outputs": [
    {
     "data": {
      "text/html": [
       "<div>\n",
       "<style scoped>\n",
       "    .dataframe tbody tr th:only-of-type {\n",
       "        vertical-align: middle;\n",
       "    }\n",
       "\n",
       "    .dataframe tbody tr th {\n",
       "        vertical-align: top;\n",
       "    }\n",
       "\n",
       "    .dataframe thead th {\n",
       "        text-align: right;\n",
       "    }\n",
       "</style>\n",
       "<table border=\"1\" class=\"dataframe\">\n",
       "  <thead>\n",
       "    <tr style=\"text-align: right;\">\n",
       "      <th></th>\n",
       "      <th>class</th>\n",
       "      <th>counts</th>\n",
       "    </tr>\n",
       "  </thead>\n",
       "  <tbody>\n",
       "    <tr>\n",
       "      <th>0</th>\n",
       "      <td>2seater</td>\n",
       "      <td>5</td>\n",
       "    </tr>\n",
       "    <tr>\n",
       "      <th>1</th>\n",
       "      <td>compact</td>\n",
       "      <td>47</td>\n",
       "    </tr>\n",
       "    <tr>\n",
       "      <th>2</th>\n",
       "      <td>midsize</td>\n",
       "      <td>41</td>\n",
       "    </tr>\n",
       "    <tr>\n",
       "      <th>3</th>\n",
       "      <td>minivan</td>\n",
       "      <td>11</td>\n",
       "    </tr>\n",
       "    <tr>\n",
       "      <th>4</th>\n",
       "      <td>pickup</td>\n",
       "      <td>33</td>\n",
       "    </tr>\n",
       "    <tr>\n",
       "      <th>5</th>\n",
       "      <td>subcompact</td>\n",
       "      <td>35</td>\n",
       "    </tr>\n",
       "    <tr>\n",
       "      <th>6</th>\n",
       "      <td>suv</td>\n",
       "      <td>62</td>\n",
       "    </tr>\n",
       "  </tbody>\n",
       "</table>\n",
       "</div>"
      ],
      "text/plain": [
       "        class  counts\n",
       "0     2seater       5\n",
       "1     compact      47\n",
       "2     midsize      41\n",
       "3     minivan      11\n",
       "4      pickup      33\n",
       "5  subcompact      35\n",
       "6         suv      62"
      ]
     },
     "execution_count": 86,
     "metadata": {},
     "output_type": "execute_result"
    }
   ],
   "source": [
    "df_class #按照车辆的类型聚合出来的全部数据，每个车辆类型下的样本计数"
   ]
  },
  {
   "cell_type": "markdown",
   "metadata": {},
   "source": [
    "使用光谱和列表推倒式准备颜色  \n",
    "colors = [plt.cm.inferno_r(i/float(n_categories)) for i in range(n_categories)]"
   ]
  },
  {
   "cell_type": "code",
   "execution_count": 87,
   "metadata": {},
   "outputs": [
    {
     "data": {
      "text/plain": [
       "(0.729909, 0.212759, 0.333861, 1.0)"
      ]
     },
     "execution_count": 87,
     "metadata": {},
     "output_type": "execute_result"
    }
   ],
   "source": [
    "plt.cm.inferno_r(0.5) #RGBA"
   ]
  },
  {
   "cell_type": "code",
   "execution_count": 88,
   "metadata": {},
   "outputs": [
    {
     "data": {
      "text/plain": [
       "7"
      ]
     },
     "execution_count": 88,
     "metadata": {},
     "output_type": "execute_result"
    }
   ],
   "source": [
    "n_categories = df_class.shape[0]\n",
    "n_categories #车辆有7种类型"
   ]
  },
  {
   "cell_type": "code",
   "execution_count": 57,
   "metadata": {},
   "outputs": [
    {
     "name": "stdout",
     "output_type": "stream",
     "text": [
      "(0.988362, 0.998364, 0.644924, 1.0)\n",
      "(0.981173, 0.759135, 0.156863, 1.0)\n",
      "(0.961293, 0.488716, 0.084289, 1.0)\n",
      "(0.832299, 0.283913, 0.257383, 1.0)\n",
      "(0.621685, 0.164184, 0.388781, 1.0)\n",
      "(0.397674, 0.083257, 0.433183, 1.0)\n",
      "(0.15585, 0.044559, 0.325338, 1.0)\n"
     ]
    }
   ],
   "source": [
    "for i in range(n_categories):\n",
    "    print(plt.cm.inferno_r(i/float(n_categories)))"
   ]
  },
  {
   "cell_type": "code",
   "execution_count": 89,
   "metadata": {},
   "outputs": [
    {
     "data": {
      "text/plain": [
       "[(0.988362, 0.998364, 0.644924, 1.0),\n",
       " (0.981173, 0.759135, 0.156863, 1.0),\n",
       " (0.961293, 0.488716, 0.084289, 1.0),\n",
       " (0.832299, 0.283913, 0.257383, 1.0),\n",
       " (0.621685, 0.164184, 0.388781, 1.0),\n",
       " (0.397674, 0.083257, 0.433183, 1.0),\n",
       " (0.15585, 0.044559, 0.325338, 1.0)]"
      ]
     },
     "execution_count": 89,
     "metadata": {},
     "output_type": "execute_result"
    }
   ],
   "source": [
    "colors = [plt.cm.inferno_r(i/float(n_categories)) for i in range(n_categories)]\n",
    "colors"
   ]
  },
  {
   "cell_type": "markdown",
   "metadata": {},
   "source": [
    "依然列表推倒式，准备图例  \n",
    "[n[1] for n in df_class.itertuples()]"
   ]
  },
  {
   "cell_type": "code",
   "execution_count": 92,
   "metadata": {},
   "outputs": [
    {
     "data": {
      "text/plain": [
       "['2seater', 'compact', 'midsize', 'minivan', 'pickup', 'subcompact', 'suv']"
      ]
     },
     "execution_count": 92,
     "metadata": {},
     "output_type": "execute_result"
    }
   ],
   "source": [
    "df_class[\"class\"].values.tolist()"
   ]
  },
  {
   "cell_type": "code",
   "execution_count": 61,
   "metadata": {},
   "outputs": [
    {
     "data": {
      "text/html": [
       "<div>\n",
       "<style scoped>\n",
       "    .dataframe tbody tr th:only-of-type {\n",
       "        vertical-align: middle;\n",
       "    }\n",
       "\n",
       "    .dataframe tbody tr th {\n",
       "        vertical-align: top;\n",
       "    }\n",
       "\n",
       "    .dataframe thead th {\n",
       "        text-align: right;\n",
       "    }\n",
       "</style>\n",
       "<table border=\"1\" class=\"dataframe\">\n",
       "  <thead>\n",
       "    <tr style=\"text-align: right;\">\n",
       "      <th></th>\n",
       "      <th>class</th>\n",
       "      <th>counts</th>\n",
       "    </tr>\n",
       "  </thead>\n",
       "  <tbody>\n",
       "    <tr>\n",
       "      <th>0</th>\n",
       "      <td>2seater</td>\n",
       "      <td>5</td>\n",
       "    </tr>\n",
       "    <tr>\n",
       "      <th>1</th>\n",
       "      <td>compact</td>\n",
       "      <td>47</td>\n",
       "    </tr>\n",
       "    <tr>\n",
       "      <th>2</th>\n",
       "      <td>midsize</td>\n",
       "      <td>41</td>\n",
       "    </tr>\n",
       "    <tr>\n",
       "      <th>3</th>\n",
       "      <td>minivan</td>\n",
       "      <td>11</td>\n",
       "    </tr>\n",
       "    <tr>\n",
       "      <th>4</th>\n",
       "      <td>pickup</td>\n",
       "      <td>33</td>\n",
       "    </tr>\n",
       "    <tr>\n",
       "      <th>5</th>\n",
       "      <td>subcompact</td>\n",
       "      <td>35</td>\n",
       "    </tr>\n",
       "    <tr>\n",
       "      <th>6</th>\n",
       "      <td>suv</td>\n",
       "      <td>62</td>\n",
       "    </tr>\n",
       "  </tbody>\n",
       "</table>\n",
       "</div>"
      ],
      "text/plain": [
       "        class  counts\n",
       "0     2seater       5\n",
       "1     compact      47\n",
       "2     midsize      41\n",
       "3     minivan      11\n",
       "4      pickup      33\n",
       "5  subcompact      35\n",
       "6         suv      62"
      ]
     },
     "execution_count": 61,
     "metadata": {},
     "output_type": "execute_result"
    }
   ],
   "source": [
    "df_class"
   ]
  },
  {
   "cell_type": "code",
   "execution_count": 94,
   "metadata": {},
   "outputs": [
    {
     "data": {
      "text/plain": [
       "[Pandas(Index=0, _1='2seater', counts=5),\n",
       " Pandas(Index=1, _1='compact', counts=47),\n",
       " Pandas(Index=2, _1='midsize', counts=41),\n",
       " Pandas(Index=3, _1='minivan', counts=11),\n",
       " Pandas(Index=4, _1='pickup', counts=33),\n",
       " Pandas(Index=5, _1='subcompact', counts=35),\n",
       " Pandas(Index=6, _1='suv', counts=62)]"
      ]
     },
     "execution_count": 94,
     "metadata": {},
     "output_type": "execute_result"
    }
   ],
   "source": [
    "#itertuples：将一个dataframe的行当作元祖来进行循环的函数，有点类似与lambda，都是对DataFrame中的每行/每列中的对象进行操作\n",
    "[*df_class.itertuples()]"
   ]
  },
  {
   "cell_type": "code",
   "execution_count": 95,
   "metadata": {},
   "outputs": [
    {
     "name": "stdout",
     "output_type": "stream",
     "text": [
      "Pandas(Index=0, _1='2seater', counts=5)\n",
      "Pandas(Index=1, _1='compact', counts=47)\n",
      "Pandas(Index=2, _1='midsize', counts=41)\n",
      "Pandas(Index=3, _1='minivan', counts=11)\n",
      "Pandas(Index=4, _1='pickup', counts=33)\n",
      "Pandas(Index=5, _1='subcompact', counts=35)\n",
      "Pandas(Index=6, _1='suv', counts=62)\n"
     ]
    }
   ],
   "source": [
    "for n in df_class.itertuples():\n",
    "    print(n)\n",
    "#元祖中有三个对象：索引，第一列“车辆类型”，第二列“计数”"
   ]
  },
  {
   "cell_type": "code",
   "execution_count": 96,
   "metadata": {},
   "outputs": [
    {
     "data": {
      "text/plain": [
       "Pandas(Index=6, _1='suv', counts=62)"
      ]
     },
     "execution_count": 96,
     "metadata": {},
     "output_type": "execute_result"
    }
   ],
   "source": [
    "n"
   ]
  },
  {
   "cell_type": "code",
   "execution_count": 97,
   "metadata": {},
   "outputs": [
    {
     "data": {
      "text/plain": [
       "6"
      ]
     },
     "execution_count": 97,
     "metadata": {},
     "output_type": "execute_result"
    }
   ],
   "source": [
    "n[0]"
   ]
  },
  {
   "cell_type": "code",
   "execution_count": 98,
   "metadata": {},
   "outputs": [
    {
     "data": {
      "text/plain": [
       "'suv'"
      ]
     },
     "execution_count": 98,
     "metadata": {},
     "output_type": "execute_result"
    }
   ],
   "source": [
    "n[1]"
   ]
  },
  {
   "cell_type": "code",
   "execution_count": 99,
   "metadata": {},
   "outputs": [
    {
     "data": {
      "text/plain": [
       "62"
      ]
     },
     "execution_count": 99,
     "metadata": {},
     "output_type": "execute_result"
    }
   ],
   "source": [
    "n[2]"
   ]
  },
  {
   "cell_type": "code",
   "execution_count": 100,
   "metadata": {},
   "outputs": [
    {
     "data": {
      "text/plain": [
       "['2seater', 'compact', 'midsize', 'minivan', 'pickup', 'subcompact', 'suv']"
      ]
     },
     "execution_count": 100,
     "metadata": {},
     "output_type": "execute_result"
    }
   ],
   "source": [
    "[n[1] for n in df_class.itertuples()]"
   ]
  },
  {
   "cell_type": "code",
   "execution_count": 73,
   "metadata": {},
   "outputs": [
    {
     "data": {
      "text/plain": [
       "['2seater', 'compact', 'midsize', 'minivan', 'pickup', 'subcompact', 'suv']"
      ]
     },
     "execution_count": 73,
     "metadata": {},
     "output_type": "execute_result"
    }
   ],
   "source": [
    "#其实完全没必要\n",
    "df_class[\"class\"].values.tolist()"
   ]
  },
  {
   "cell_type": "code",
   "execution_count": 110,
   "metadata": {},
   "outputs": [],
   "source": [
    "#数据准备（占比，颜色以及标签）\n",
    "\n",
    "#按车辆类型\n",
    "df_class = df_raw.groupby('class').size().reset_index(name='counts_class')\n",
    "n_categories = df_class.shape[0]\n",
    "#colors_class = [plt.cm.Set3(i/float(n_categories)) for i in range(n_categories)]\n",
    "colors_class = [plt.cm.nipy_spectral(i/float(n_categories)) for i in range(n_categories)] #更换成了更容易查看的颜色\n",
    "labels_class = [n[1] for n in df_class.itertuples()] #更加简单的写法\n",
    "\n",
    "#按气缸数量\n",
    "df_cyl = df_raw.groupby('cyl').size().reset_index(name='counts_cyl')\n",
    "n_categories = df_cyl.shape[0]\n",
    "#colors_cyl = [plt.cm.Spectral(i/float(n_categories)) for i in range(n_categories)]\n",
    "colors_cyl = [plt.cm.nipy_spectral(i/float(n_categories)) for i in range(n_categories)]\n",
    "labels_cyl = [n[1] for n in df_cyl.itertuples()]\n",
    "\n",
    "#按制造商\n",
    "df_make = df_raw.groupby('manufacturer').size().reset_index(name='counts_make')\n",
    "n_categories = df_make.shape[0]\n",
    "#colors_make = [plt.cm.tab20b(i/float(n_categories)) for i in range(n_categories)]\n",
    "colors_make = [plt.cm.nipy_spectral(i/float(n_categories)) for i in range(n_categories)]\n",
    "labels_make = [n[1] for n in df_make.itertuples()]"
   ]
  },
  {
   "cell_type": "markdown",
   "metadata": {},
   "source": [
    "### 4. 绘制华夫饼图"
   ]
  },
  {
   "cell_type": "markdown",
   "metadata": {},
   "source": [
    "plots = {\"图像位置\":{\"每一个和华夫饼有关的参数\":参数的值}}"
   ]
  },
  {
   "cell_type": "code",
   "execution_count": 119,
   "metadata": {},
   "outputs": [
    {
     "data": {
      "image/png": "[encoded data removed]",
      "text/plain": [
       "<Waffle size 1152x1008 with 3 Axes>"
      ]
     },
     "metadata": {
      "needs_background": "light"
     },
     "output_type": "display_data"
    }
   ],
   "source": [
    "#绘图\n",
    "fig = plt.figure(\n",
    "    FigureClass=Waffle, #绘制华夫饼图\n",
    "    plots={ #绘制多个图像\n",
    "        '311': #这里的数字表示，3行，1列，索引为1的图\n",
    "        {'values': df_class['counts_class'], #数据集\n",
    "         'labels': labels_class, #标签\n",
    "         'legend': {'loc': 'upper left', 'bbox_to_anchor': (1.05, 1), 'fontsize': 12, 'title':'Class'},\n",
    "         'title': {'label': '# Vehicles by Class', 'loc': 'center', 'fontsize':18},\n",
    "         'colors': colors_class\n",
    "        },\n",
    "        '312': {\n",
    "            'values': df_cyl['counts_cyl'],\n",
    "            'labels': labels_cyl,\n",
    "            'legend': {'loc': 'upper left', 'bbox_to_anchor': (1.05, 1), 'fontsize': 12, 'title':'Cyl'},\n",
    "            'title': {'label': '# Vehicles by Cyl', 'loc': 'center', 'fontsize':18},\n",
    "            'colors': colors_cyl\n",
    "        },\n",
    "        '313': {\n",
    "            'values': df_make['counts_make'],\n",
    "            'labels': labels_make,\n",
    "            'legend': {'loc': 'upper left', 'bbox_to_anchor': (1.05, 1), 'fontsize': 12, 'title':'Manufacturer'},\n",
    "            'title': {'label': '# Vehicles by Make', 'loc': 'center', 'fontsize':18},\n",
    "            'colors': colors_make,    \n",
    "        }\n",
    "    },\n",
    "    rows=9, #华夫饼图有多少行\n",
    "    figsize=(16, 14),\n",
    "    icons='star', icon_size=25, \n",
    "    icon_legend=True\n",
    ")"
   ]
  },
  {
   "cell_type": "markdown",
   "metadata": {},
   "source": [
    "<img src=\"https://pictes.oss-cn-beijing.aliyuncs.com/microclass-virtualisation/week1correlation/line4.png\" align=\"center\" />"
   ]
  },
  {
   "cell_type": "markdown",
   "metadata": {},
   "source": [
    "在使用icon时，你可能会遇见报错的情况："
   ]
  },
  {
   "cell_type": "markdown",
   "metadata": {},
   "source": [
    "<img src=\"http://pictes.oss-cn-beijing.aliyuncs.com/microclass-virtualisation/week5%20Composition/mistake.PNG\" align=\"center\" />"
   ]
  },
  {
   "cell_type": "markdown",
   "metadata": {},
   "source": [
    "<img src=\"http://pictes.oss-cn-beijing.aliyuncs.com/microclass-virtualisation/week5%20Composition/mistake2.PNG\" align=\"center\" />"
   ]
  },
  {
   "cell_type": "markdown",
   "metadata": {},
   "source": [
    "**如果你出现类似的报错，请参考下面的步骤解决问题：**  \n",
    "  \n",
    "**1. 进入网址：https://fontawesome.com/download**  \n",
    "**2. 点击Free for Desktop进行下载**"
   ]
  },
  {
   "cell_type": "markdown",
   "metadata": {},
   "source": [
    "<img src=\"http://pictes.oss-cn-beijing.aliyuncs.com/microclass-virtualisation/week5%20Composition/Sketch001.jpg\" align=\"center\" />"
   ]
  },
  {
   "cell_type": "markdown",
   "metadata": {},
   "source": [
    "**3. 找到fontawesome-free-5.8.1-desktop文件夹，点击进入，找到文件夹otfs中的文件：**"
   ]
  },
  {
   "cell_type": "markdown",
   "metadata": {},
   "source": [
    "<img src=\"http://pictes.oss-cn-beijing.aliyuncs.com/microclass-virtualisation/week5%20Composition/%E4%B8%89%E4%B8%AA%E6%96%87%E4%BB%B6.PNG\" align=\"center\" />"
   ]
  },
  {
   "cell_type": "markdown",
   "metadata": {},
   "source": [
    "**4. 把三个otf文件复制到你的Python安装目录的字体文件夹下：C:\\Python\\Lib\\site-packages\\font**"
   ]
  },
  {
   "cell_type": "markdown",
   "metadata": {},
   "source": [
    "<img src=\"http://pictes.oss-cn-beijing.aliyuncs.com/microclass-virtualisation/week5%20Composition/%E7%BB%93%E6%9E%9C.PNG\" align=\"center\" />"
   ]
  },
  {
   "cell_type": "markdown",
   "metadata": {},
   "source": [
    "<img src=\"https://pictes.oss-cn-beijing.aliyuncs.com/microclass-virtualisation/week1correlation/line4.png\" align=\"center\" />"
   ]
  },
  {
   "cell_type": "markdown",
   "metadata": {},
   "source": [
    "### 5. 解读图像 & 华夫饼图展开"
   ]
  },
  {
   "cell_type": "markdown",
   "metadata": {},
   "source": [
    "二分类的华夫饼：常用于企业KPI数据，完成任务了么？完成了多少？"
   ]
  },
  {
   "cell_type": "markdown",
   "metadata": {},
   "source": [
    "<img src=\"http://pictes.oss-cn-beijing.aliyuncs.com/microclass-virtualisation/week5%20Composition/Waffle-Chart-in-Excel-Example.png\" align=\"center\" />"
   ]
  },
  {
   "cell_type": "markdown",
   "metadata": {},
   "source": [
    ">华夫饼适合什么时候用呢？\n",
    ">> 比较许多同一层级的不同类型，并探索这些类型如何对整体做出贡献  \n",
    ">> 整体中的某一部分占比巨大  \n",
    ">> 使用KPI图表作为总数的百分比  "
   ]
  },
  {
   "cell_type": "markdown",
   "metadata": {},
   "source": [
    "> 什么时候不应该用华夫饼？\n",
    ">> 当对整体有贡献的类别太多的时候，华夫饼图能够展现的组成情况有限  \n",
    ">> 测量的KPI或者总贡献可以超过100%时  \n",
    ">> 华夫饼展现出“大概的比例”，当精确的占比（比如百分比数量）非常重要的时候，必须借助文字帮助"
   ]
  },
  {
   "cell_type": "markdown",
   "metadata": {},
   "source": [
    "<img src=\"https://pictes.oss-cn-beijing.aliyuncs.com/microclass-virtualisation/week1correlation/line4.png\" align=\"center\" />"
   ]
  },
  {
   "cell_type": "markdown",
   "metadata": {},
   "source": [
    "### 32/50 饼图"
   ]
  },
  {
   "cell_type": "markdown",
   "metadata": {},
   "source": [
    "饼图是最典型的组成图，是我们可能除了条形图、折线图之外最熟悉的图像——没有横纵坐标，只有饼和图例文字"
   ]
  },
  {
   "cell_type": "markdown",
   "metadata": {},
   "source": [
    "<img src=\"http://pictes.oss-cn-beijing.aliyuncs.com/microclass-virtualisation/week5%20Composition/Pie%20Chart.PNG\" align=\"center\" />"
   ]
  },
  {
   "cell_type": "markdown",
   "metadata": {},
   "source": [
    "思考：你会怎样绘制这样一张图呢？"
   ]
  },
  {
   "cell_type": "markdown",
   "metadata": {},
   "source": [
    "### 1. 导入需要的库"
   ]
  },
  {
   "cell_type": "code",
   "execution_count": 1,
   "metadata": {},
   "outputs": [],
   "source": [
    "import numpy as np\n",
    "import pandas as pd\n",
    "import matplotlib as mpl\n",
    "import matplotlib.pyplot as plt\n",
    "import seaborn as sns\n",
    "import warnings; warnings.filterwarnings(action='once')\n",
    "\n",
    "large = 22; med = 16; small = 12\n",
    "params = {'axes.titlesize': large,\n",
    "          'legend.fontsize': med,\n",
    "          'figure.figsize': (16, 10),\n",
    "          'axes.labelsize': med,\n",
    "          'axes.titlesize': med,\n",
    "          'xtick.labelsize': med,\n",
    "          'ytick.labelsize': med,\n",
    "          'figure.titlesize': large}\n",
    "plt.rcParams.update(params)\n",
    "plt.style.use('seaborn-whitegrid')\n",
    "sns.set_style(\"white\")\n",
    "%matplotlib inline"
   ]
  },
  {
   "cell_type": "markdown",
   "metadata": {},
   "source": [
    "### 2. 导入数据，准备数据"
   ]
  },
  {
   "cell_type": "code",
   "execution_count": 2,
   "metadata": {},
   "outputs": [],
   "source": [
    "df_raw = pd.read_csv(\"https://github.com/selva86/datasets/raw/master/mpg_ggplot2.csv\")"
   ]
  },
  {
   "cell_type": "markdown",
   "metadata": {},
   "source": [
    "输入的数据"
   ]
  },
  {
   "cell_type": "code",
   "execution_count": 3,
   "metadata": {},
   "outputs": [
    {
     "data": {
      "text/html": [
       "<div>\n",
       "<style scoped>\n",
       "    .dataframe tbody tr th:only-of-type {\n",
       "        vertical-align: middle;\n",
       "    }\n",
       "\n",
       "    .dataframe tbody tr th {\n",
       "        vertical-align: top;\n",
       "    }\n",
       "\n",
       "    .dataframe thead th {\n",
       "        text-align: right;\n",
       "    }\n",
       "</style>\n",
       "<table border=\"1\" class=\"dataframe\">\n",
       "  <thead>\n",
       "    <tr style=\"text-align: right;\">\n",
       "      <th></th>\n",
       "      <th>manufacturer</th>\n",
       "      <th>model</th>\n",
       "      <th>displ</th>\n",
       "      <th>year</th>\n",
       "      <th>cyl</th>\n",
       "      <th>trans</th>\n",
       "      <th>drv</th>\n",
       "      <th>cty</th>\n",
       "      <th>hwy</th>\n",
       "      <th>fl</th>\n",
       "      <th>class</th>\n",
       "    </tr>\n",
       "  </thead>\n",
       "  <tbody>\n",
       "    <tr>\n",
       "      <th>0</th>\n",
       "      <td>audi</td>\n",
       "      <td>a4</td>\n",
       "      <td>1.8</td>\n",
       "      <td>1999</td>\n",
       "      <td>4</td>\n",
       "      <td>auto(l5)</td>\n",
       "      <td>f</td>\n",
       "      <td>18</td>\n",
       "      <td>29</td>\n",
       "      <td>p</td>\n",
       "      <td>compact</td>\n",
       "    </tr>\n",
       "    <tr>\n",
       "      <th>1</th>\n",
       "      <td>audi</td>\n",
       "      <td>a4</td>\n",
       "      <td>1.8</td>\n",
       "      <td>1999</td>\n",
       "      <td>4</td>\n",
       "      <td>manual(m5)</td>\n",
       "      <td>f</td>\n",
       "      <td>21</td>\n",
       "      <td>29</td>\n",
       "      <td>p</td>\n",
       "      <td>compact</td>\n",
       "    </tr>\n",
       "    <tr>\n",
       "      <th>2</th>\n",
       "      <td>audi</td>\n",
       "      <td>a4</td>\n",
       "      <td>2.0</td>\n",
       "      <td>2008</td>\n",
       "      <td>4</td>\n",
       "      <td>manual(m6)</td>\n",
       "      <td>f</td>\n",
       "      <td>20</td>\n",
       "      <td>31</td>\n",
       "      <td>p</td>\n",
       "      <td>compact</td>\n",
       "    </tr>\n",
       "    <tr>\n",
       "      <th>3</th>\n",
       "      <td>audi</td>\n",
       "      <td>a4</td>\n",
       "      <td>2.0</td>\n",
       "      <td>2008</td>\n",
       "      <td>4</td>\n",
       "      <td>auto(av)</td>\n",
       "      <td>f</td>\n",
       "      <td>21</td>\n",
       "      <td>30</td>\n",
       "      <td>p</td>\n",
       "      <td>compact</td>\n",
       "    </tr>\n",
       "    <tr>\n",
       "      <th>4</th>\n",
       "      <td>audi</td>\n",
       "      <td>a4</td>\n",
       "      <td>2.8</td>\n",
       "      <td>1999</td>\n",
       "      <td>6</td>\n",
       "      <td>auto(l5)</td>\n",
       "      <td>f</td>\n",
       "      <td>16</td>\n",
       "      <td>26</td>\n",
       "      <td>p</td>\n",
       "      <td>compact</td>\n",
       "    </tr>\n",
       "  </tbody>\n",
       "</table>\n",
       "</div>"
      ],
      "text/plain": [
       "  manufacturer model  displ  year  cyl       trans drv  cty  hwy fl    class\n",
       "0         audi    a4    1.8  1999    4    auto(l5)   f   18   29  p  compact\n",
       "1         audi    a4    1.8  1999    4  manual(m5)   f   21   29  p  compact\n",
       "2         audi    a4    2.0  2008    4  manual(m6)   f   20   31  p  compact\n",
       "3         audi    a4    2.0  2008    4    auto(av)   f   21   30  p  compact\n",
       "4         audi    a4    2.8  1999    6    auto(l5)   f   16   26  p  compact"
      ]
     },
     "execution_count": 3,
     "metadata": {},
     "output_type": "execute_result"
    }
   ],
   "source": [
    "df_raw.head()"
   ]
  },
  {
   "cell_type": "code",
   "execution_count": 4,
   "metadata": {},
   "outputs": [
    {
     "data": {
      "text/html": [
       "<div>\n",
       "<style scoped>\n",
       "    .dataframe tbody tr th:only-of-type {\n",
       "        vertical-align: middle;\n",
       "    }\n",
       "\n",
       "    .dataframe tbody tr th {\n",
       "        vertical-align: top;\n",
       "    }\n",
       "\n",
       "    .dataframe thead th {\n",
       "        text-align: right;\n",
       "    }\n",
       "</style>\n",
       "<table border=\"1\" class=\"dataframe\">\n",
       "  <thead>\n",
       "    <tr style=\"text-align: right;\">\n",
       "      <th></th>\n",
       "      <th>class</th>\n",
       "      <th>counts</th>\n",
       "    </tr>\n",
       "  </thead>\n",
       "  <tbody>\n",
       "    <tr>\n",
       "      <th>0</th>\n",
       "      <td>2seater</td>\n",
       "      <td>5</td>\n",
       "    </tr>\n",
       "    <tr>\n",
       "      <th>1</th>\n",
       "      <td>compact</td>\n",
       "      <td>47</td>\n",
       "    </tr>\n",
       "    <tr>\n",
       "      <th>2</th>\n",
       "      <td>midsize</td>\n",
       "      <td>41</td>\n",
       "    </tr>\n",
       "    <tr>\n",
       "      <th>3</th>\n",
       "      <td>minivan</td>\n",
       "      <td>11</td>\n",
       "    </tr>\n",
       "    <tr>\n",
       "      <th>4</th>\n",
       "      <td>pickup</td>\n",
       "      <td>33</td>\n",
       "    </tr>\n",
       "    <tr>\n",
       "      <th>5</th>\n",
       "      <td>subcompact</td>\n",
       "      <td>35</td>\n",
       "    </tr>\n",
       "    <tr>\n",
       "      <th>6</th>\n",
       "      <td>suv</td>\n",
       "      <td>62</td>\n",
       "    </tr>\n",
       "  </tbody>\n",
       "</table>\n",
       "</div>"
      ],
      "text/plain": [
       "        class  counts\n",
       "0     2seater       5\n",
       "1     compact      47\n",
       "2     midsize      41\n",
       "3     minivan      11\n",
       "4      pickup      33\n",
       "5  subcompact      35\n",
       "6         suv      62"
      ]
     },
     "execution_count": 4,
     "metadata": {},
     "output_type": "execute_result"
    }
   ],
   "source": [
    "df = df_raw.groupby('class').size().reset_index(name='counts')\n",
    "df"
   ]
  },
  {
   "cell_type": "markdown",
   "metadata": {},
   "source": [
    "### 3. 认识绘制饼图的函数"
   ]
  },
  {
   "cell_type": "markdown",
   "metadata": {},
   "source": [
    "#### ax.pie/plt.pie"
   ]
  },
  {
   "cell_type": "markdown",
   "metadata": {},
   "source": [
    "> x：pie函数中唯一的必填参数，每个类别的计数  \n",
    "> autopct：设定写在扇叶上的百分比，默认None，可以输入None或者format函数表示的字符串"
   ]
  },
  {
   "cell_type": "code",
   "execution_count": 55,
   "metadata": {},
   "outputs": [],
   "source": [
    "data = df['counts'] #需要输入的数据集"
   ]
  },
  {
   "cell_type": "code",
   "execution_count": 56,
   "metadata": {},
   "outputs": [
    {
     "data": {
      "image/png": "[encoded data removed]",
      "text/plain": [
       "<Figure size 400x400 with 1 Axes>"
      ]
     },
     "metadata": {},
     "output_type": "display_data"
    }
   ],
   "source": [
    "fig, ax = plt.subplots(figsize=(5, 5), dpi= 80)\n",
    "ax.pie(data); #autopct=None"
   ]
  },
  {
   "cell_type": "code",
   "execution_count": 66,
   "metadata": {},
   "outputs": [
    {
     "ename": "TypeError",
     "evalue": "autopct must be callable or a format string",
     "output_type": "error",
     "traceback": [
      "\u001b[1;31m---------------------------------------------------------------------------\u001b[0m",
      "\u001b[1;31mTypeError\u001b[0m                                 Traceback (most recent call last)",
      "\u001b[1;32m<ipython-input-66-ffd484af16fd>\u001b[0m in \u001b[0;36m<module>\u001b[1;34m\u001b[0m\n\u001b[0;32m      1\u001b[0m \u001b[0mfig\u001b[0m\u001b[1;33m,\u001b[0m \u001b[0max\u001b[0m \u001b[1;33m=\u001b[0m \u001b[0mplt\u001b[0m\u001b[1;33m.\u001b[0m\u001b[0msubplots\u001b[0m\u001b[1;33m(\u001b[0m\u001b[0mfigsize\u001b[0m\u001b[1;33m=\u001b[0m\u001b[1;33m(\u001b[0m\u001b[1;36m5\u001b[0m\u001b[1;33m,\u001b[0m \u001b[1;36m5\u001b[0m\u001b[1;33m)\u001b[0m\u001b[1;33m,\u001b[0m \u001b[0mdpi\u001b[0m\u001b[1;33m=\u001b[0m \u001b[1;36m80\u001b[0m\u001b[1;33m)\u001b[0m\u001b[1;33m\u001b[0m\u001b[1;33m\u001b[0m\u001b[0m\n\u001b[1;32m----> 2\u001b[1;33m \u001b[0max\u001b[0m\u001b[1;33m.\u001b[0m\u001b[0mpie\u001b[0m\u001b[1;33m(\u001b[0m\u001b[0mdata\u001b[0m\u001b[1;33m,\u001b[0m \u001b[0mautopct\u001b[0m\u001b[1;33m=\u001b[0m\u001b[1;33m[\u001b[0m\u001b[1;36m1\u001b[0m\u001b[1;33m,\u001b[0m\u001b[1;36m2\u001b[0m\u001b[1;33m,\u001b[0m\u001b[1;36m3\u001b[0m\u001b[1;33m,\u001b[0m\u001b[1;36m4\u001b[0m\u001b[1;33m,\u001b[0m\u001b[1;36m5\u001b[0m\u001b[1;33m,\u001b[0m\u001b[1;36m6\u001b[0m\u001b[1;33m,\u001b[0m\u001b[1;36m7\u001b[0m\u001b[1;33m]\u001b[0m\u001b[1;33m)\u001b[0m\u001b[1;33m;\u001b[0m\u001b[1;33m\u001b[0m\u001b[1;33m\u001b[0m\u001b[0m\n\u001b[0m",
      "\u001b[1;32mC:\\Python\\lib\\site-packages\\matplotlib\\__init__.py\u001b[0m in \u001b[0;36minner\u001b[1;34m(ax, data, *args, **kwargs)\u001b[0m\n\u001b[0;32m   1808\u001b[0m                         \u001b[1;34m\"the Matplotlib list!)\"\u001b[0m \u001b[1;33m%\u001b[0m \u001b[1;33m(\u001b[0m\u001b[0mlabel_namer\u001b[0m\u001b[1;33m,\u001b[0m \u001b[0mfunc\u001b[0m\u001b[1;33m.\u001b[0m\u001b[0m__name__\u001b[0m\u001b[1;33m)\u001b[0m\u001b[1;33m,\u001b[0m\u001b[1;33m\u001b[0m\u001b[1;33m\u001b[0m\u001b[0m\n\u001b[0;32m   1809\u001b[0m                         RuntimeWarning, stacklevel=2)\n\u001b[1;32m-> 1810\u001b[1;33m             \u001b[1;32mreturn\u001b[0m \u001b[0mfunc\u001b[0m\u001b[1;33m(\u001b[0m\u001b[0max\u001b[0m\u001b[1;33m,\u001b[0m \u001b[1;33m*\u001b[0m\u001b[0margs\u001b[0m\u001b[1;33m,\u001b[0m \u001b[1;33m**\u001b[0m\u001b[0mkwargs\u001b[0m\u001b[1;33m)\u001b[0m\u001b[1;33m\u001b[0m\u001b[1;33m\u001b[0m\u001b[0m\n\u001b[0m\u001b[0;32m   1811\u001b[0m \u001b[1;33m\u001b[0m\u001b[0m\n\u001b[0;32m   1812\u001b[0m         inner.__doc__ = _add_data_doc(inner.__doc__,\n",
      "\u001b[1;32mC:\\Python\\lib\\site-packages\\matplotlib\\axes\\_axes.py\u001b[0m in \u001b[0;36mpie\u001b[1;34m(self, x, explode, labels, colors, autopct, pctdistance, shadow, labeldistance, startangle, radius, counterclock, wedgeprops, textprops, center, frame, rotatelabels)\u001b[0m\n\u001b[0;32m   2893\u001b[0m                 \u001b[1;32melse\u001b[0m\u001b[1;33m:\u001b[0m\u001b[1;33m\u001b[0m\u001b[1;33m\u001b[0m\u001b[0m\n\u001b[0;32m   2894\u001b[0m                     raise TypeError(\n\u001b[1;32m-> 2895\u001b[1;33m                         'autopct must be callable or a format string')\n\u001b[0m\u001b[0;32m   2896\u001b[0m \u001b[1;33m\u001b[0m\u001b[0m\n\u001b[0;32m   2897\u001b[0m                 props = dict(horizontalalignment='center',\n",
      "\u001b[1;31mTypeError\u001b[0m: autopct must be callable or a format string"
     ]
    },
    {
     "data": {
      "image/png": "[encoded data removed]",
      "text/plain": [
       "<Figure size 400x400 with 1 Axes>"
      ]
     },
     "metadata": {
      "needs_background": "light"
     },
     "output_type": "display_data"
    }
   ],
   "source": [
    "fig, ax = plt.subplots(figsize=(5, 5), dpi= 80)\n",
    "ax.pie(data, autopct=[1,2,3,4,5,6,7]);"
   ]
  },
  {
   "cell_type": "code",
   "execution_count": 63,
   "metadata": {},
   "outputs": [
    {
     "data": {
      "text/plain": [
       "'我想显示的格式53'"
      ]
     },
     "execution_count": 63,
     "metadata": {},
     "output_type": "execute_result"
    }
   ],
   "source": [
    "\"我想显示的格式{}\".format(53)"
   ]
  },
  {
   "cell_type": "code",
   "execution_count": 64,
   "metadata": {},
   "outputs": [
    {
     "data": {
      "text/plain": [
       "'The amount is:26'"
      ]
     },
     "execution_count": 64,
     "metadata": {},
     "output_type": "execute_result"
    }
   ],
   "source": [
    "\"The amount is:{}\".format(26)"
   ]
  },
  {
   "cell_type": "code",
   "execution_count": 65,
   "metadata": {},
   "outputs": [
    {
     "data": {
      "image/png": "[encoded data removed]",
      "text/plain": [
       "<Figure size 400x400 with 1 Axes>"
      ]
     },
     "metadata": {},
     "output_type": "display_data"
    }
   ],
   "source": [
    "fig, ax = plt.subplots(figsize=(5, 5), dpi= 80)\n",
    "ax.pie(data, autopct=\"The amount is:{}\".format(5));"
   ]
  },
  {
   "cell_type": "code",
   "execution_count": null,
   "metadata": {},
   "outputs": [],
   "source": [
    "#lambda x: 在一个序列当中，对每一个元素分别进行操作"
   ]
  },
  {
   "cell_type": "code",
   "execution_count": 85,
   "metadata": {},
   "outputs": [
    {
     "data": {
      "text/plain": [
       "0     5\n",
       "1    47\n",
       "2    41\n",
       "3    11\n",
       "4    33\n",
       "5    35\n",
       "6    62\n",
       "Name: counts, dtype: int64"
      ]
     },
     "execution_count": 85,
     "metadata": {},
     "output_type": "execute_result"
    }
   ],
   "source": [
    "df.counts"
   ]
  },
  {
   "cell_type": "code",
   "execution_count": 97,
   "metadata": {},
   "outputs": [
    {
     "data": {
      "image/png": "[encoded data removed]",
      "text/plain": [
       "<Figure size 400x400 with 1 Axes>"
      ]
     },
     "metadata": {},
     "output_type": "display_data"
    }
   ],
   "source": [
    "fig, ax = plt.subplots(figsize=(5, 5), dpi= 80)\n",
    "ax.pie(data, autopct=lambda x:\"{:.2f}% ({} )\".format(x,int(x/100*df.counts.sum())));"
   ]
  },
  {
   "cell_type": "code",
   "execution_count": 52,
   "metadata": {},
   "outputs": [],
   "source": [
    "#你注意到如果使用匿名函数，每个x是什么了吗？"
   ]
  },
  {
   "cell_type": "code",
   "execution_count": 73,
   "metadata": {},
   "outputs": [
    {
     "data": {
      "text/html": [
       "<div>\n",
       "<style scoped>\n",
       "    .dataframe tbody tr th:only-of-type {\n",
       "        vertical-align: middle;\n",
       "    }\n",
       "\n",
       "    .dataframe tbody tr th {\n",
       "        vertical-align: top;\n",
       "    }\n",
       "\n",
       "    .dataframe thead th {\n",
       "        text-align: right;\n",
       "    }\n",
       "</style>\n",
       "<table border=\"1\" class=\"dataframe\">\n",
       "  <thead>\n",
       "    <tr style=\"text-align: right;\">\n",
       "      <th></th>\n",
       "      <th>class</th>\n",
       "      <th>counts</th>\n",
       "    </tr>\n",
       "  </thead>\n",
       "  <tbody>\n",
       "    <tr>\n",
       "      <th>0</th>\n",
       "      <td>2seater</td>\n",
       "      <td>5</td>\n",
       "    </tr>\n",
       "    <tr>\n",
       "      <th>1</th>\n",
       "      <td>compact</td>\n",
       "      <td>47</td>\n",
       "    </tr>\n",
       "    <tr>\n",
       "      <th>2</th>\n",
       "      <td>midsize</td>\n",
       "      <td>41</td>\n",
       "    </tr>\n",
       "    <tr>\n",
       "      <th>3</th>\n",
       "      <td>minivan</td>\n",
       "      <td>11</td>\n",
       "    </tr>\n",
       "    <tr>\n",
       "      <th>4</th>\n",
       "      <td>pickup</td>\n",
       "      <td>33</td>\n",
       "    </tr>\n",
       "    <tr>\n",
       "      <th>5</th>\n",
       "      <td>subcompact</td>\n",
       "      <td>35</td>\n",
       "    </tr>\n",
       "    <tr>\n",
       "      <th>6</th>\n",
       "      <td>suv</td>\n",
       "      <td>62</td>\n",
       "    </tr>\n",
       "  </tbody>\n",
       "</table>\n",
       "</div>"
      ],
      "text/plain": [
       "        class  counts\n",
       "0     2seater       5\n",
       "1     compact      47\n",
       "2     midsize      41\n",
       "3     minivan      11\n",
       "4      pickup      33\n",
       "5  subcompact      35\n",
       "6         suv      62"
      ]
     },
     "execution_count": 73,
     "metadata": {},
     "output_type": "execute_result"
    }
   ],
   "source": [
    "df"
   ]
  },
  {
   "cell_type": "code",
   "execution_count": 91,
   "metadata": {},
   "outputs": [],
   "source": [
    "ratio = df.loc[0,\"counts\"]*100/df.counts.sum()"
   ]
  },
  {
   "cell_type": "code",
   "execution_count": 75,
   "metadata": {},
   "outputs": [],
   "source": [
    "#ratio = 每个类别下的计数/所有类别下的样本总数\n",
    "ratio = df.loc[0,\"counts\"]*100/(df.counts.sum())"
   ]
  },
  {
   "cell_type": "code",
   "execution_count": 93,
   "metadata": {},
   "outputs": [
    {
     "data": {
      "text/plain": [
       "5"
      ]
     },
     "execution_count": 93,
     "metadata": {},
     "output_type": "execute_result"
    }
   ],
   "source": [
    "int(ratio/100 * df.counts.sum())"
   ]
  },
  {
   "cell_type": "code",
   "execution_count": null,
   "metadata": {},
   "outputs": [],
   "source": [
    "#\"{比例}({计数})\".format(比例，比例*样本总数/100)\n",
    "\"{:.1f}% ({:d})\".format(ratio,int(ratio/100*(df.counts.sum())"
   ]
  },
  {
   "cell_type": "code",
   "execution_count": null,
   "metadata": {},
   "outputs": [],
   "source": [
    "#在我们绘制饼图的函数中，参数autopct帮助我们计算各类的比例，我们可以使用lambda函数来替代索引\n",
    "#autopct=lambda x: \"{:.2f}% ({:d})\".format(x,int(x/100.*np.sum(data)))"
   ]
  },
  {
   "cell_type": "markdown",
   "metadata": {},
   "source": [
    "#### 为什么说绘制饼图是处于使用函数和使用对象之间？"
   ]
  },
  {
   "cell_type": "code",
   "execution_count": 99,
   "metadata": {},
   "outputs": [
    {
     "data": {
      "image/png": "[encoded data removed]",
      "text/plain": [
       "<Figure size 400x400 with 1 Axes>"
      ]
     },
     "metadata": {},
     "output_type": "display_data"
    }
   ],
   "source": [
    "fig, ax = plt.subplots(figsize=(5, 5), dpi= 80)\n",
    "wedges, texts, autotexts = ax.pie(x=data,\n",
    "                                  autopct=lambda x: \"{:.2f}% ({:d})\".format(x,int(x/100.*np.sum(data))))"
   ]
  },
  {
   "cell_type": "code",
   "execution_count": 59,
   "metadata": {},
   "outputs": [],
   "source": [
    "#### 生成的wedges，texts和autotexts都是什么？"
   ]
  },
  {
   "cell_type": "code",
   "execution_count": 100,
   "metadata": {},
   "outputs": [
    {
     "data": {
      "text/plain": [
       "[<matplotlib.patches.Wedge at 0x26149a2f470>,\n",
       " <matplotlib.patches.Wedge at 0x26149a2fb38>,\n",
       " <matplotlib.patches.Wedge at 0x26149a36240>,\n",
       " <matplotlib.patches.Wedge at 0x26149a36908>,\n",
       " <matplotlib.patches.Wedge at 0x26149a36fd0>,\n",
       " <matplotlib.patches.Wedge at 0x26149a426d8>,\n",
       " <matplotlib.patches.Wedge at 0x26149a42da0>]"
      ]
     },
     "execution_count": 100,
     "metadata": {},
     "output_type": "execute_result"
    }
   ],
   "source": [
    "wedges #七个扇叶，每个都是一个补丁对象"
   ]
  },
  {
   "cell_type": "code",
   "execution_count": 101,
   "metadata": {},
   "outputs": [
    {
     "data": {
      "text/plain": [
       "[Text(1.0975225342306456, 0.07378541086109972, ''),\n",
       " Text(0.7933226822456274, 0.7619967990973475, ''),\n",
       " Text(-0.40383832372764283, 1.023188451991542, ''),\n",
       " Text(-0.9670509719865016, 0.5242255407550863, ''),\n",
       " Text(-1.0951459098588818, -0.10322517192701731, ''),\n",
       " Text(-0.5879123013284802, -0.9297091620214627, ''),\n",
       " Text(0.7404231332579032, -0.8134946734530898, '')]"
      ]
     },
     "execution_count": 101,
     "metadata": {},
     "output_type": "execute_result"
    }
   ],
   "source": [
    "texts #七个扇叶分别的位置"
   ]
  },
  {
   "cell_type": "code",
   "execution_count": 102,
   "metadata": {},
   "outputs": [
    {
     "data": {
      "text/plain": [
       "[Text(0.5986486550348976, 0.04024658774241802, '2.14% (5)'),\n",
       " Text(0.43272146304306947, 0.41563461768946225, '20.09% (47)'),\n",
       " Text(-0.22027544930598697, 0.5581027919953864, '17.52% (41)'),\n",
       " Text(-0.5274823483562735, 0.28594120404822887, '4.70% (11)'),\n",
       " Text(-0.5973523144684809, -0.05630463923291852, '14.10% (33)'),\n",
       " Text(-0.3206794370882619, -0.5071140883753432, '14.96% (35)'),\n",
       " Text(0.4038671635952199, -0.44372436733804893, '26.50% (62)')]"
      ]
     },
     "execution_count": 102,
     "metadata": {},
     "output_type": "execute_result"
    }
   ],
   "source": [
    "autotexts #七个扇叶所对应的文字"
   ]
  },
  {
   "cell_type": "code",
   "execution_count": 104,
   "metadata": {},
   "outputs": [
    {
     "data": {
      "image/png": "[encoded data removed]",
      "text/plain": [
       "<Figure size 400x400 with 1 Axes>"
      ]
     },
     "metadata": {},
     "output_type": "display_data"
    }
   ],
   "source": [
    "#当参数autopct等于None的时候\n",
    "fig, ax = plt.subplots(figsize=(5, 5), dpi= 80)\n",
    "wedges, texts = ax.pie(data);"
   ]
  },
  {
   "cell_type": "markdown",
   "metadata": {},
   "source": [
    "### 4. 代码解读"
   ]
  },
  {
   "cell_type": "code",
   "execution_count": 121,
   "metadata": {},
   "outputs": [
    {
     "data": {
      "image/png": "[encoded data removed]",
      "text/plain": [
       "<Figure size 560x560 with 1 Axes>"
      ]
     },
     "metadata": {},
     "output_type": "display_data"
    }
   ],
   "source": [
    "#数据准备\n",
    "data = df['counts'] #需要输入的数据集\n",
    "explode = [0,0,0,0,0,0.1,0]\n",
    "\n",
    "#绘制图像\n",
    "fig, ax = plt.subplots(figsize=(7, 7), dpi= 80)\n",
    "\n",
    "wedges, texts, autotexts = ax.pie(x=data,\n",
    "                                   autopct=lambda x: \"{:.2f}% ({:d})\".format(x,int(x/100.*np.sum(data))),\n",
    "                                   colors=plt.cm.Dark2.colors, #图形的颜色\n",
    "                                   startangle=150, #第一瓣扇叶从什么角度开始\n",
    "                                   explode=explode #扇叶与扇叶之间的距离\n",
    "                                  )\n",
    "\n",
    "#装饰图像\n",
    "categories = df['class'] #选取图例\n",
    "ax.legend(categories #输入数据\n",
    "          , title=\"Vehicle Class\" #图例的标题\n",
    "          , loc=\"center left\"\n",
    "          , bbox_to_anchor=(1, 0, 0.5, 1) #还记得bbox_to_anchor的用法么？\n",
    "         ) \n",
    "ax.set_title(\"Class of Vehicles: Pie Chart\")\n",
    "plt.setp(autotexts, size=12, weight=700, color=\"w\"\n",
    "        ) #设置某个对象(Artist)的属性(Property)\n",
    "plt.show()"
   ]
  },
  {
   "cell_type": "markdown",
   "metadata": {},
   "source": [
    "#### **颜色**"
   ]
  },
  {
   "cell_type": "code",
   "execution_count": 110,
   "metadata": {},
   "outputs": [
    {
     "data": {
      "text/plain": [
       "((0.10588235294117647, 0.6196078431372549, 0.4666666666666667),\n",
       " (0.8509803921568627, 0.37254901960784315, 0.00784313725490196),\n",
       " (0.4588235294117647, 0.4392156862745098, 0.7019607843137254),\n",
       " (0.9058823529411765, 0.1607843137254902, 0.5411764705882353),\n",
       " (0.4, 0.6509803921568628, 0.11764705882352941),\n",
       " (0.9019607843137255, 0.6705882352941176, 0.00784313725490196),\n",
       " (0.6509803921568628, 0.4627450980392157, 0.11372549019607843),\n",
       " (0.4, 0.4, 0.4))"
      ]
     },
     "execution_count": 110,
     "metadata": {},
     "output_type": "execute_result"
    }
   ],
   "source": [
    "colors=plt.cm.Dark2.colors\n",
    "colors #RGB"
   ]
  },
  {
   "cell_type": "markdown",
   "metadata": {},
   "source": [
    "<img src=\"https://pictes.oss-cn-beijing.aliyuncs.com/microclass-virtualisation/week1correlation/line4.png\" align=\"center\" />"
   ]
  },
  {
   "cell_type": "markdown",
   "metadata": {},
   "source": [
    "### 33/50 树型图"
   ]
  },
  {
   "cell_type": "markdown",
   "metadata": {},
   "source": [
    "树形图是使用一个矩形中的区域来表示类别组成的图像，它与饼图，华夫饼图非常相似，没有横纵坐标，只有色块和文字。  \n",
    "树形图中，一个色块代表一种类别，我们需要提供给树形图函数的信息是：类别，类别的数量，类别的颜色。"
   ]
  },
  {
   "cell_type": "markdown",
   "metadata": {},
   "source": [
    "<img src=\"http://pictes.oss-cn-beijing.aliyuncs.com/microclass-virtualisation/week5%20Composition/%E6%A0%91%E5%BD%A2%E5%9B%BE.PNG\" align=\"center\" />"
   ]
  },
  {
   "cell_type": "code",
   "execution_count": 13,
   "metadata": {},
   "outputs": [],
   "source": [
    "import numpy as np\n",
    "import pandas as pd\n",
    "import matplotlib as mpl\n",
    "import matplotlib.pyplot as plt\n",
    "import seaborn as sns\n",
    "import warnings; warnings.filterwarnings(action='once')\n",
    "\n",
    "large = 22; med = 16; small = 12\n",
    "params = {'axes.titlesize': large,\n",
    "          'legend.fontsize': med,\n",
    "          'figure.figsize': (16, 10),\n",
    "          'axes.labelsize': med,\n",
    "          'axes.titlesize': med,\n",
    "          'xtick.labelsize': med,\n",
    "          'ytick.labelsize': med,\n",
    "          'figure.titlesize': large}\n",
    "plt.rcParams.update(params)\n",
    "plt.style.use('seaborn-whitegrid')\n",
    "sns.set_style(\"white\")\n",
    "%matplotlib inline"
   ]
  },
  {
   "cell_type": "code",
   "execution_count": 2,
   "metadata": {},
   "outputs": [
    {
     "name": "stdout",
     "output_type": "stream",
     "text": [
      "Microsoft Windows [Version 10.0.17134.706]\n",
      "(c) 2018 Microsoft Corporation. All rights reserved.\n",
      "\n",
      "C:\\Pythonwork\\micro-class 2 - virtualization\\week5>pip install squarify\n",
      "Requirement already satisfied: squarify in c:\\python\\lib\\site-packages (0.4.2)\n",
      "\n",
      "C:\\Pythonwork\\micro-class 2 - virtualization\\week5>"
     ]
    }
   ],
   "source": [
    "%%cmd\n",
    "pip install squarify"
   ]
  },
  {
   "cell_type": "code",
   "execution_count": 3,
   "metadata": {},
   "outputs": [],
   "source": [
    "import squarify #专业绘制树形图"
   ]
  },
  {
   "cell_type": "code",
   "execution_count": 4,
   "metadata": {},
   "outputs": [],
   "source": [
    "#导入数据，准备数据\n",
    "df_raw = pd.read_csv(\"https://github.com/selva86/datasets/raw/master/mpg_ggplot2.csv\")\n",
    "df = df_raw.groupby('class').size().reset_index(name='counts')"
   ]
  },
  {
   "cell_type": "code",
   "execution_count": 24,
   "metadata": {},
   "outputs": [
    {
     "data": {
      "text/html": [
       "<div>\n",
       "<style scoped>\n",
       "    .dataframe tbody tr th:only-of-type {\n",
       "        vertical-align: middle;\n",
       "    }\n",
       "\n",
       "    .dataframe tbody tr th {\n",
       "        vertical-align: top;\n",
       "    }\n",
       "\n",
       "    .dataframe thead th {\n",
       "        text-align: right;\n",
       "    }\n",
       "</style>\n",
       "<table border=\"1\" class=\"dataframe\">\n",
       "  <thead>\n",
       "    <tr style=\"text-align: right;\">\n",
       "      <th></th>\n",
       "      <th>class</th>\n",
       "      <th>counts</th>\n",
       "    </tr>\n",
       "  </thead>\n",
       "  <tbody>\n",
       "    <tr>\n",
       "      <th>0</th>\n",
       "      <td>2seater</td>\n",
       "      <td>5</td>\n",
       "    </tr>\n",
       "    <tr>\n",
       "      <th>1</th>\n",
       "      <td>compact</td>\n",
       "      <td>47</td>\n",
       "    </tr>\n",
       "    <tr>\n",
       "      <th>2</th>\n",
       "      <td>midsize</td>\n",
       "      <td>41</td>\n",
       "    </tr>\n",
       "    <tr>\n",
       "      <th>3</th>\n",
       "      <td>minivan</td>\n",
       "      <td>11</td>\n",
       "    </tr>\n",
       "    <tr>\n",
       "      <th>4</th>\n",
       "      <td>pickup</td>\n",
       "      <td>33</td>\n",
       "    </tr>\n",
       "    <tr>\n",
       "      <th>5</th>\n",
       "      <td>subcompact</td>\n",
       "      <td>35</td>\n",
       "    </tr>\n",
       "    <tr>\n",
       "      <th>6</th>\n",
       "      <td>suv</td>\n",
       "      <td>62</td>\n",
       "    </tr>\n",
       "  </tbody>\n",
       "</table>\n",
       "</div>"
      ],
      "text/plain": [
       "        class  counts\n",
       "0     2seater       5\n",
       "1     compact      47\n",
       "2     midsize      41\n",
       "3     minivan      11\n",
       "4      pickup      33\n",
       "5  subcompact      35\n",
       "6         suv      62"
      ]
     },
     "execution_count": 24,
     "metadata": {},
     "output_type": "execute_result"
    }
   ],
   "source": [
    "df"
   ]
  },
  {
   "cell_type": "code",
   "execution_count": 20,
   "metadata": {},
   "outputs": [
    {
     "data": {
      "text/plain": [
       "'ab'"
      ]
     },
     "execution_count": 20,
     "metadata": {},
     "output_type": "execute_result"
    }
   ],
   "source": [
    "\"a\" + \"b\""
   ]
  },
  {
   "cell_type": "code",
   "execution_count": 22,
   "metadata": {},
   "outputs": [
    {
     "data": {
      "text/plain": [
       "'2seater\\n (5)'"
      ]
     },
     "execution_count": 22,
     "metadata": {},
     "output_type": "execute_result"
    }
   ],
   "source": [
    "#车辆类型 + 转行符 ( + 车辆类型所对应的样本数量 + )\n",
    "str(df.iloc[0,:][0]) + \"\\n (\" + str(df.iloc[0,:][1]) + \")\""
   ]
  },
  {
   "cell_type": "code",
   "execution_count": 18,
   "metadata": {},
   "outputs": [
    {
     "data": {
      "text/plain": [
       "5"
      ]
     },
     "execution_count": 18,
     "metadata": {},
     "output_type": "execute_result"
    }
   ],
   "source": [
    "df.iloc[0,:][1]"
   ]
  },
  {
   "cell_type": "code",
   "execution_count": 25,
   "metadata": {},
   "outputs": [
    {
     "data": {
      "text/plain": [
       "0        2seater\\n (5)\n",
       "1       compact\\n (47)\n",
       "2       midsize\\n (41)\n",
       "3       minivan\\n (11)\n",
       "4        pickup\\n (33)\n",
       "5    subcompact\\n (35)\n",
       "6           suv\\n (62)\n",
       "dtype: object"
      ]
     },
     "execution_count": 25,
     "metadata": {},
     "output_type": "execute_result"
    }
   ],
   "source": [
    "df.apply(lambda x: str(x[0]) + \"\\n (\" + str(x[1]) + \")\"\n",
    "         ,axis=1) #对每一行进行操作"
   ]
  },
  {
   "cell_type": "code",
   "execution_count": 26,
   "metadata": {},
   "outputs": [
    {
     "data": {
      "text/plain": [
       "7"
      ]
     },
     "execution_count": 26,
     "metadata": {},
     "output_type": "execute_result"
    }
   ],
   "source": [
    "df.shape[0]"
   ]
  },
  {
   "cell_type": "code",
   "execution_count": 27,
   "metadata": {},
   "outputs": [
    {
     "data": {
      "text/plain": [
       "[(0.6196078431372549, 0.00392156862745098, 0.25882352941176473, 1.0),\n",
       " (0.8853517877739331, 0.3190311418685121, 0.29042675893886966, 1.0),\n",
       " (0.9873125720876587, 0.6473663975394078, 0.3642445213379469, 1.0),\n",
       " (0.9971549404075356, 0.9118031526336025, 0.6010765090349866, 1.0),\n",
       " (0.9288735101883892, 0.9715494040753557, 0.6380622837370243, 1.0),\n",
       " (0.6334486735870821, 0.8521337946943485, 0.6436755094194541, 1.0),\n",
       " (0.2800461361014994, 0.6269896193771626, 0.7024221453287197, 1.0)]"
      ]
     },
     "execution_count": 27,
     "metadata": {},
     "output_type": "execute_result"
    }
   ],
   "source": [
    "[plt.cm.Spectral(i/float(df.shape[0])) for i in range(df.shape[0])]"
   ]
  },
  {
   "cell_type": "code",
   "execution_count": 29,
   "metadata": {},
   "outputs": [
    {
     "data": {
      "image/png": "[encoded data removed]",
      "text/plain": [
       "<Figure size 960x640 with 1 Axes>"
      ]
     },
     "metadata": {
      "needs_background": "light"
     },
     "output_type": "display_data"
    }
   ],
   "source": [
    "#绘制图像\n",
    "plt.figure(figsize=(12,8), dpi= 80) #建立画布\n",
    "squarify.plot(sizes=df.counts #输入图像的值（占比,数量）\n",
    "              , label=df.apply(lambda x: str(x[0]) + \"\\n (\" + str(x[1]) + \")\",axis=1) #图像中的注解\n",
    "              , color=[plt.cm.Spectral(i/float(df.shape[0])) for i in range(df.shape[0])]\n",
    "              , alpha=.8 #透明度\n",
    "             )\n",
    "\n",
    "#装饰图像\n",
    "plt.title('Treemap of Vechile Class')\n",
    "plt.axis('off') #不显示坐标轴，还记得我们在绘制坡度图的时候如何设置不显示坐标轴么？当时我们全程是fig + ax的操作。\n",
    "plt.show()"
   ]
  },
  {
   "cell_type": "markdown",
   "metadata": {},
   "source": [
    "<img src=\"https://pictes.oss-cn-beijing.aliyuncs.com/microclass-virtualisation/week1correlation/line4.png\" align=\"center\" />"
   ]
  },
  {
   "cell_type": "markdown",
   "metadata": {},
   "source": [
    "### 34/50 条形图"
   ]
  },
  {
   "cell_type": "markdown",
   "metadata": {},
   "source": [
    "条形图是最常见的图像之一。通常我们使用条形图，我们会考虑两个特征，以表达趋势，进行对比（就像我们在排序图中做的那样）。  \n",
    "但事实上，条形图作为一种简单的几何图像，也可以表示为组成图像。  \n",
    "当我们以不同车辆名称为横坐标，不同车辆名称下的样本数量为纵坐标，即可看出整个数据集中，每个车辆品牌所占的样本数量。  \n",
    "比起饼图或者华夫饼图，条形图在类别很多的时候有天生的优势——即便有很多类别，也能够显示得非常清楚。"
   ]
  },
  {
   "cell_type": "markdown",
   "metadata": {},
   "source": [
    "<img src=\"http://pictes.oss-cn-beijing.aliyuncs.com/microclass-virtualisation/week5%20Composition/%E6%9D%A1%E5%BD%A2%E5%9B%BE.PNG\" align=\"center\" />"
   ]
  },
  {
   "cell_type": "markdown",
   "metadata": {},
   "source": [
    "### 1. 导入需要的库"
   ]
  },
  {
   "cell_type": "code",
   "execution_count": 1,
   "metadata": {},
   "outputs": [],
   "source": [
    "import numpy as np\n",
    "import pandas as pd\n",
    "import matplotlib as mpl\n",
    "import matplotlib.pyplot as plt\n",
    "import seaborn as sns\n",
    "import warnings; warnings.filterwarnings(action='once')\n",
    "\n",
    "large = 22; med = 16; small = 12\n",
    "params = {'axes.titlesize': large,\n",
    "          'legend.fontsize': med,\n",
    "          'figure.figsize': (16, 10),\n",
    "          'axes.labelsize': med,\n",
    "          'axes.titlesize': med,\n",
    "          'xtick.labelsize': med,\n",
    "          'ytick.labelsize': med,\n",
    "          'figure.titlesize': large}\n",
    "plt.rcParams.update(params)\n",
    "plt.style.use('seaborn-whitegrid')\n",
    "sns.set_style(\"white\")\n",
    "%matplotlib inline"
   ]
  },
  {
   "cell_type": "markdown",
   "metadata": {},
   "source": [
    "### 2. 导入数据，准备数据"
   ]
  },
  {
   "cell_type": "code",
   "execution_count": 2,
   "metadata": {},
   "outputs": [],
   "source": [
    "#导入数据，准备数据\n",
    "df_raw = pd.read_csv(\"https://github.com/selva86/datasets/raw/master/mpg_ggplot2.csv\")"
   ]
  },
  {
   "cell_type": "code",
   "execution_count": 3,
   "metadata": {},
   "outputs": [
    {
     "data": {
      "text/html": [
       "<div>\n",
       "<style scoped>\n",
       "    .dataframe tbody tr th:only-of-type {\n",
       "        vertical-align: middle;\n",
       "    }\n",
       "\n",
       "    .dataframe tbody tr th {\n",
       "        vertical-align: top;\n",
       "    }\n",
       "\n",
       "    .dataframe thead th {\n",
       "        text-align: right;\n",
       "    }\n",
       "</style>\n",
       "<table border=\"1\" class=\"dataframe\">\n",
       "  <thead>\n",
       "    <tr style=\"text-align: right;\">\n",
       "      <th></th>\n",
       "      <th>manufacturer</th>\n",
       "      <th>model</th>\n",
       "      <th>displ</th>\n",
       "      <th>year</th>\n",
       "      <th>cyl</th>\n",
       "      <th>trans</th>\n",
       "      <th>drv</th>\n",
       "      <th>cty</th>\n",
       "      <th>hwy</th>\n",
       "      <th>fl</th>\n",
       "      <th>class</th>\n",
       "    </tr>\n",
       "  </thead>\n",
       "  <tbody>\n",
       "    <tr>\n",
       "      <th>0</th>\n",
       "      <td>audi</td>\n",
       "      <td>a4</td>\n",
       "      <td>1.8</td>\n",
       "      <td>1999</td>\n",
       "      <td>4</td>\n",
       "      <td>auto(l5)</td>\n",
       "      <td>f</td>\n",
       "      <td>18</td>\n",
       "      <td>29</td>\n",
       "      <td>p</td>\n",
       "      <td>compact</td>\n",
       "    </tr>\n",
       "    <tr>\n",
       "      <th>1</th>\n",
       "      <td>audi</td>\n",
       "      <td>a4</td>\n",
       "      <td>1.8</td>\n",
       "      <td>1999</td>\n",
       "      <td>4</td>\n",
       "      <td>manual(m5)</td>\n",
       "      <td>f</td>\n",
       "      <td>21</td>\n",
       "      <td>29</td>\n",
       "      <td>p</td>\n",
       "      <td>compact</td>\n",
       "    </tr>\n",
       "    <tr>\n",
       "      <th>2</th>\n",
       "      <td>audi</td>\n",
       "      <td>a4</td>\n",
       "      <td>2.0</td>\n",
       "      <td>2008</td>\n",
       "      <td>4</td>\n",
       "      <td>manual(m6)</td>\n",
       "      <td>f</td>\n",
       "      <td>20</td>\n",
       "      <td>31</td>\n",
       "      <td>p</td>\n",
       "      <td>compact</td>\n",
       "    </tr>\n",
       "    <tr>\n",
       "      <th>3</th>\n",
       "      <td>audi</td>\n",
       "      <td>a4</td>\n",
       "      <td>2.0</td>\n",
       "      <td>2008</td>\n",
       "      <td>4</td>\n",
       "      <td>auto(av)</td>\n",
       "      <td>f</td>\n",
       "      <td>21</td>\n",
       "      <td>30</td>\n",
       "      <td>p</td>\n",
       "      <td>compact</td>\n",
       "    </tr>\n",
       "    <tr>\n",
       "      <th>4</th>\n",
       "      <td>audi</td>\n",
       "      <td>a4</td>\n",
       "      <td>2.8</td>\n",
       "      <td>1999</td>\n",
       "      <td>6</td>\n",
       "      <td>auto(l5)</td>\n",
       "      <td>f</td>\n",
       "      <td>16</td>\n",
       "      <td>26</td>\n",
       "      <td>p</td>\n",
       "      <td>compact</td>\n",
       "    </tr>\n",
       "  </tbody>\n",
       "</table>\n",
       "</div>"
      ],
      "text/plain": [
       "  manufacturer model  displ  year  cyl       trans drv  cty  hwy fl    class\n",
       "0         audi    a4    1.8  1999    4    auto(l5)   f   18   29  p  compact\n",
       "1         audi    a4    1.8  1999    4  manual(m5)   f   21   29  p  compact\n",
       "2         audi    a4    2.0  2008    4  manual(m6)   f   20   31  p  compact\n",
       "3         audi    a4    2.0  2008    4    auto(av)   f   21   30  p  compact\n",
       "4         audi    a4    2.8  1999    6    auto(l5)   f   16   26  p  compact"
      ]
     },
     "execution_count": 3,
     "metadata": {},
     "output_type": "execute_result"
    }
   ],
   "source": [
    "df_raw.head()"
   ]
  },
  {
   "cell_type": "code",
   "execution_count": 4,
   "metadata": {},
   "outputs": [],
   "source": [
    "df = df_raw.groupby('manufacturer').size().reset_index(name='counts')"
   ]
  },
  {
   "cell_type": "code",
   "execution_count": 5,
   "metadata": {},
   "outputs": [
    {
     "data": {
      "text/html": [
       "<div>\n",
       "<style scoped>\n",
       "    .dataframe tbody tr th:only-of-type {\n",
       "        vertical-align: middle;\n",
       "    }\n",
       "\n",
       "    .dataframe tbody tr th {\n",
       "        vertical-align: top;\n",
       "    }\n",
       "\n",
       "    .dataframe thead th {\n",
       "        text-align: right;\n",
       "    }\n",
       "</style>\n",
       "<table border=\"1\" class=\"dataframe\">\n",
       "  <thead>\n",
       "    <tr style=\"text-align: right;\">\n",
       "      <th></th>\n",
       "      <th>manufacturer</th>\n",
       "      <th>counts</th>\n",
       "    </tr>\n",
       "  </thead>\n",
       "  <tbody>\n",
       "    <tr>\n",
       "      <th>0</th>\n",
       "      <td>audi</td>\n",
       "      <td>18</td>\n",
       "    </tr>\n",
       "    <tr>\n",
       "      <th>1</th>\n",
       "      <td>chevrolet</td>\n",
       "      <td>19</td>\n",
       "    </tr>\n",
       "    <tr>\n",
       "      <th>2</th>\n",
       "      <td>dodge</td>\n",
       "      <td>37</td>\n",
       "    </tr>\n",
       "    <tr>\n",
       "      <th>3</th>\n",
       "      <td>ford</td>\n",
       "      <td>25</td>\n",
       "    </tr>\n",
       "    <tr>\n",
       "      <th>4</th>\n",
       "      <td>honda</td>\n",
       "      <td>9</td>\n",
       "    </tr>\n",
       "    <tr>\n",
       "      <th>5</th>\n",
       "      <td>hyundai</td>\n",
       "      <td>14</td>\n",
       "    </tr>\n",
       "    <tr>\n",
       "      <th>6</th>\n",
       "      <td>jeep</td>\n",
       "      <td>8</td>\n",
       "    </tr>\n",
       "    <tr>\n",
       "      <th>7</th>\n",
       "      <td>land rover</td>\n",
       "      <td>4</td>\n",
       "    </tr>\n",
       "    <tr>\n",
       "      <th>8</th>\n",
       "      <td>lincoln</td>\n",
       "      <td>3</td>\n",
       "    </tr>\n",
       "    <tr>\n",
       "      <th>9</th>\n",
       "      <td>mercury</td>\n",
       "      <td>4</td>\n",
       "    </tr>\n",
       "    <tr>\n",
       "      <th>10</th>\n",
       "      <td>nissan</td>\n",
       "      <td>13</td>\n",
       "    </tr>\n",
       "    <tr>\n",
       "      <th>11</th>\n",
       "      <td>pontiac</td>\n",
       "      <td>5</td>\n",
       "    </tr>\n",
       "    <tr>\n",
       "      <th>12</th>\n",
       "      <td>subaru</td>\n",
       "      <td>14</td>\n",
       "    </tr>\n",
       "    <tr>\n",
       "      <th>13</th>\n",
       "      <td>toyota</td>\n",
       "      <td>34</td>\n",
       "    </tr>\n",
       "    <tr>\n",
       "      <th>14</th>\n",
       "      <td>volkswagen</td>\n",
       "      <td>27</td>\n",
       "    </tr>\n",
       "  </tbody>\n",
       "</table>\n",
       "</div>"
      ],
      "text/plain": [
       "   manufacturer  counts\n",
       "0          audi      18\n",
       "1     chevrolet      19\n",
       "2         dodge      37\n",
       "3          ford      25\n",
       "4         honda       9\n",
       "5       hyundai      14\n",
       "6          jeep       8\n",
       "7    land rover       4\n",
       "8       lincoln       3\n",
       "9       mercury       4\n",
       "10       nissan      13\n",
       "11      pontiac       5\n",
       "12       subaru      14\n",
       "13       toyota      34\n",
       "14   volkswagen      27"
      ]
     },
     "execution_count": 5,
     "metadata": {},
     "output_type": "execute_result"
    }
   ],
   "source": [
    "df"
   ]
  },
  {
   "cell_type": "markdown",
   "metadata": {},
   "source": [
    "#### **建立颜色列表的新方式**"
   ]
  },
  {
   "cell_type": "code",
   "execution_count": 6,
   "metadata": {},
   "outputs": [],
   "source": [
    "#我们一直以来都使用光谱来进行取色，或者输入颜色的名字，还有其他方法么？\n",
    "\n",
    "import random #控制随机模式的模块"
   ]
  },
  {
   "cell_type": "code",
   "execution_count": 8,
   "metadata": {},
   "outputs": [],
   "source": [
    "all_colors = list(plt.cm.colors.cnames.keys())"
   ]
  },
  {
   "cell_type": "code",
   "execution_count": 9,
   "metadata": {},
   "outputs": [
    {
     "data": {
      "text/plain": [
       "['aliceblue',\n",
       " 'antiquewhite',\n",
       " 'aqua',\n",
       " 'aquamarine',\n",
       " 'azure',\n",
       " 'beige',\n",
       " 'bisque',\n",
       " 'black',\n",
       " 'blanchedalmond',\n",
       " 'blue',\n",
       " 'blueviolet',\n",
       " 'brown',\n",
       " 'burlywood',\n",
       " 'cadetblue',\n",
       " 'chartreuse',\n",
       " 'chocolate',\n",
       " 'coral',\n",
       " 'cornflowerblue',\n",
       " 'cornsilk',\n",
       " 'crimson',\n",
       " 'cyan',\n",
       " 'darkblue',\n",
       " 'darkcyan',\n",
       " 'darkgoldenrod',\n",
       " 'darkgray',\n",
       " 'darkgreen',\n",
       " 'darkgrey',\n",
       " 'darkkhaki',\n",
       " 'darkmagenta',\n",
       " 'darkolivegreen',\n",
       " 'darkorange',\n",
       " 'darkorchid',\n",
       " 'darkred',\n",
       " 'darksalmon',\n",
       " 'darkseagreen',\n",
       " 'darkslateblue',\n",
       " 'darkslategray',\n",
       " 'darkslategrey',\n",
       " 'darkturquoise',\n",
       " 'darkviolet',\n",
       " 'deeppink',\n",
       " 'deepskyblue',\n",
       " 'dimgray',\n",
       " 'dimgrey',\n",
       " 'dodgerblue',\n",
       " 'firebrick',\n",
       " 'floralwhite',\n",
       " 'forestgreen',\n",
       " 'fuchsia',\n",
       " 'gainsboro',\n",
       " 'ghostwhite',\n",
       " 'gold',\n",
       " 'goldenrod',\n",
       " 'gray',\n",
       " 'green',\n",
       " 'greenyellow',\n",
       " 'grey',\n",
       " 'honeydew',\n",
       " 'hotpink',\n",
       " 'indianred',\n",
       " 'indigo',\n",
       " 'ivory',\n",
       " 'khaki',\n",
       " 'lavender',\n",
       " 'lavenderblush',\n",
       " 'lawngreen',\n",
       " 'lemonchiffon',\n",
       " 'lightblue',\n",
       " 'lightcoral',\n",
       " 'lightcyan',\n",
       " 'lightgoldenrodyellow',\n",
       " 'lightgray',\n",
       " 'lightgreen',\n",
       " 'lightgrey',\n",
       " 'lightpink',\n",
       " 'lightsalmon',\n",
       " 'lightseagreen',\n",
       " 'lightskyblue',\n",
       " 'lightslategray',\n",
       " 'lightslategrey',\n",
       " 'lightsteelblue',\n",
       " 'lightyellow',\n",
       " 'lime',\n",
       " 'limegreen',\n",
       " 'linen',\n",
       " 'magenta',\n",
       " 'maroon',\n",
       " 'mediumaquamarine',\n",
       " 'mediumblue',\n",
       " 'mediumorchid',\n",
       " 'mediumpurple',\n",
       " 'mediumseagreen',\n",
       " 'mediumslateblue',\n",
       " 'mediumspringgreen',\n",
       " 'mediumturquoise',\n",
       " 'mediumvioletred',\n",
       " 'midnightblue',\n",
       " 'mintcream',\n",
       " 'mistyrose',\n",
       " 'moccasin',\n",
       " 'navajowhite',\n",
       " 'navy',\n",
       " 'oldlace',\n",
       " 'olive',\n",
       " 'olivedrab',\n",
       " 'orange',\n",
       " 'orangered',\n",
       " 'orchid',\n",
       " 'palegoldenrod',\n",
       " 'palegreen',\n",
       " 'paleturquoise',\n",
       " 'palevioletred',\n",
       " 'papayawhip',\n",
       " 'peachpuff',\n",
       " 'peru',\n",
       " 'pink',\n",
       " 'plum',\n",
       " 'powderblue',\n",
       " 'purple',\n",
       " 'rebeccapurple',\n",
       " 'red',\n",
       " 'rosybrown',\n",
       " 'royalblue',\n",
       " 'saddlebrown',\n",
       " 'salmon',\n",
       " 'sandybrown',\n",
       " 'seagreen',\n",
       " 'seashell',\n",
       " 'sienna',\n",
       " 'silver',\n",
       " 'skyblue',\n",
       " 'slateblue',\n",
       " 'slategray',\n",
       " 'slategrey',\n",
       " 'snow',\n",
       " 'springgreen',\n",
       " 'steelblue',\n",
       " 'tan',\n",
       " 'teal',\n",
       " 'thistle',\n",
       " 'tomato',\n",
       " 'turquoise',\n",
       " 'violet',\n",
       " 'wheat',\n",
       " 'white',\n",
       " 'whitesmoke',\n",
       " 'yellow',\n",
       " 'yellowgreen']"
      ]
     },
     "execution_count": 9,
     "metadata": {},
     "output_type": "execute_result"
    }
   ],
   "source": [
    "all_colors"
   ]
  },
  {
   "cell_type": "code",
   "execution_count": 64,
   "metadata": {},
   "outputs": [
    {
     "data": {
      "text/plain": [
       "15"
      ]
     },
     "execution_count": 64,
     "metadata": {},
     "output_type": "execute_result"
    }
   ],
   "source": [
    "df['manufacturer'].unique().__len__()"
   ]
  },
  {
   "cell_type": "code",
   "execution_count": 65,
   "metadata": {},
   "outputs": [
    {
     "data": {
      "text/plain": [
       "15"
      ]
     },
     "execution_count": 65,
     "metadata": {},
     "output_type": "execute_result"
    }
   ],
   "source": [
    "df.shape[0]"
   ]
  },
  {
   "cell_type": "code",
   "execution_count": 20,
   "metadata": {},
   "outputs": [],
   "source": [
    "random.seed(100) #设置随机数种子\n",
    "n = df['manufacturer'].unique().__len__() #需要取出多少种颜色？\n",
    "c = random.choices(all_colors, k=n) #random.choice，从一个列表中取出k个值"
   ]
  },
  {
   "cell_type": "code",
   "execution_count": 59,
   "metadata": {},
   "outputs": [
    {
     "data": {
      "text/plain": [
       "dict_keys(['aliceblue', 'antiquewhite', 'aqua', 'aquamarine', 'azure', 'beige', 'bisque', 'black', 'blanchedalmond', 'blue', 'blueviolet', 'brown', 'burlywood', 'cadetblue', 'chartreuse', 'chocolate', 'coral', 'cornflowerblue', 'cornsilk', 'crimson', 'cyan', 'darkblue', 'darkcyan', 'darkgoldenrod', 'darkgray', 'darkgreen', 'darkgrey', 'darkkhaki', 'darkmagenta', 'darkolivegreen', 'darkorange', 'darkorchid', 'darkred', 'darksalmon', 'darkseagreen', 'darkslateblue', 'darkslategray', 'darkslategrey', 'darkturquoise', 'darkviolet', 'deeppink', 'deepskyblue', 'dimgray', 'dimgrey', 'dodgerblue', 'firebrick', 'floralwhite', 'forestgreen', 'fuchsia', 'gainsboro', 'ghostwhite', 'gold', 'goldenrod', 'gray', 'green', 'greenyellow', 'grey', 'honeydew', 'hotpink', 'indianred', 'indigo', 'ivory', 'khaki', 'lavender', 'lavenderblush', 'lawngreen', 'lemonchiffon', 'lightblue', 'lightcoral', 'lightcyan', 'lightgoldenrodyellow', 'lightgray', 'lightgreen', 'lightgrey', 'lightpink', 'lightsalmon', 'lightseagreen', 'lightskyblue', 'lightslategray', 'lightslategrey', 'lightsteelblue', 'lightyellow', 'lime', 'limegreen', 'linen', 'magenta', 'maroon', 'mediumaquamarine', 'mediumblue', 'mediumorchid', 'mediumpurple', 'mediumseagreen', 'mediumslateblue', 'mediumspringgreen', 'mediumturquoise', 'mediumvioletred', 'midnightblue', 'mintcream', 'mistyrose', 'moccasin', 'navajowhite', 'navy', 'oldlace', 'olive', 'olivedrab', 'orange', 'orangered', 'orchid', 'palegoldenrod', 'palegreen', 'paleturquoise', 'palevioletred', 'papayawhip', 'peachpuff', 'peru', 'pink', 'plum', 'powderblue', 'purple', 'rebeccapurple', 'red', 'rosybrown', 'royalblue', 'saddlebrown', 'salmon', 'sandybrown', 'seagreen', 'seashell', 'sienna', 'silver', 'skyblue', 'slateblue', 'slategray', 'slategrey', 'snow', 'springgreen', 'steelblue', 'tan', 'teal', 'thistle', 'tomato', 'turquoise', 'violet', 'wheat', 'white', 'whitesmoke', 'yellow', 'yellowgreen'])"
      ]
     },
     "execution_count": 59,
     "metadata": {},
     "output_type": "execute_result"
    }
   ],
   "source": [
    "plt.cm.colors.cnames.keys() #显示所有可能使用到的颜色的名字"
   ]
  },
  {
   "cell_type": "code",
   "execution_count": 21,
   "metadata": {},
   "outputs": [
    {
     "data": {
      "text/plain": [
       "['darkblue',\n",
       " 'lightblue',\n",
       " 'peru',\n",
       " 'olivedrab',\n",
       " 'palegoldenrod',\n",
       " 'lavenderblush',\n",
       " 'purple',\n",
       " 'lightslategray',\n",
       " 'brown',\n",
       " 'lightblue',\n",
       " 'black',\n",
       " 'teal',\n",
       " 'tomato',\n",
       " 'gainsboro',\n",
       " 'firebrick']"
      ]
     },
     "execution_count": 21,
     "metadata": {},
     "output_type": "execute_result"
    }
   ],
   "source": [
    "c"
   ]
  },
  {
   "cell_type": "markdown",
   "metadata": {},
   "source": [
    "### 3. 代码解析&图像解读"
   ]
  },
  {
   "cell_type": "code",
   "execution_count": 41,
   "metadata": {},
   "outputs": [
    {
     "data": {
      "text/html": [
       "<div>\n",
       "<style scoped>\n",
       "    .dataframe tbody tr th:only-of-type {\n",
       "        vertical-align: middle;\n",
       "    }\n",
       "\n",
       "    .dataframe tbody tr th {\n",
       "        vertical-align: top;\n",
       "    }\n",
       "\n",
       "    .dataframe thead th {\n",
       "        text-align: right;\n",
       "    }\n",
       "</style>\n",
       "<table border=\"1\" class=\"dataframe\">\n",
       "  <thead>\n",
       "    <tr style=\"text-align: right;\">\n",
       "      <th></th>\n",
       "      <th>manufacturer</th>\n",
       "      <th>counts</th>\n",
       "    </tr>\n",
       "  </thead>\n",
       "  <tbody>\n",
       "    <tr>\n",
       "      <th>0</th>\n",
       "      <td>audi</td>\n",
       "      <td>18</td>\n",
       "    </tr>\n",
       "    <tr>\n",
       "      <th>1</th>\n",
       "      <td>chevrolet</td>\n",
       "      <td>19</td>\n",
       "    </tr>\n",
       "    <tr>\n",
       "      <th>2</th>\n",
       "      <td>dodge</td>\n",
       "      <td>37</td>\n",
       "    </tr>\n",
       "    <tr>\n",
       "      <th>3</th>\n",
       "      <td>ford</td>\n",
       "      <td>25</td>\n",
       "    </tr>\n",
       "    <tr>\n",
       "      <th>4</th>\n",
       "      <td>honda</td>\n",
       "      <td>9</td>\n",
       "    </tr>\n",
       "    <tr>\n",
       "      <th>5</th>\n",
       "      <td>hyundai</td>\n",
       "      <td>14</td>\n",
       "    </tr>\n",
       "    <tr>\n",
       "      <th>6</th>\n",
       "      <td>jeep</td>\n",
       "      <td>8</td>\n",
       "    </tr>\n",
       "    <tr>\n",
       "      <th>7</th>\n",
       "      <td>land rover</td>\n",
       "      <td>4</td>\n",
       "    </tr>\n",
       "    <tr>\n",
       "      <th>8</th>\n",
       "      <td>lincoln</td>\n",
       "      <td>3</td>\n",
       "    </tr>\n",
       "    <tr>\n",
       "      <th>9</th>\n",
       "      <td>mercury</td>\n",
       "      <td>4</td>\n",
       "    </tr>\n",
       "    <tr>\n",
       "      <th>10</th>\n",
       "      <td>nissan</td>\n",
       "      <td>13</td>\n",
       "    </tr>\n",
       "    <tr>\n",
       "      <th>11</th>\n",
       "      <td>pontiac</td>\n",
       "      <td>5</td>\n",
       "    </tr>\n",
       "    <tr>\n",
       "      <th>12</th>\n",
       "      <td>subaru</td>\n",
       "      <td>14</td>\n",
       "    </tr>\n",
       "    <tr>\n",
       "      <th>13</th>\n",
       "      <td>toyota</td>\n",
       "      <td>34</td>\n",
       "    </tr>\n",
       "    <tr>\n",
       "      <th>14</th>\n",
       "      <td>volkswagen</td>\n",
       "      <td>27</td>\n",
       "    </tr>\n",
       "  </tbody>\n",
       "</table>\n",
       "</div>"
      ],
      "text/plain": [
       "   manufacturer  counts\n",
       "0          audi      18\n",
       "1     chevrolet      19\n",
       "2         dodge      37\n",
       "3          ford      25\n",
       "4         honda       9\n",
       "5       hyundai      14\n",
       "6          jeep       8\n",
       "7    land rover       4\n",
       "8       lincoln       3\n",
       "9       mercury       4\n",
       "10       nissan      13\n",
       "11      pontiac       5\n",
       "12       subaru      14\n",
       "13       toyota      34\n",
       "14   volkswagen      27"
      ]
     },
     "execution_count": 41,
     "metadata": {},
     "output_type": "execute_result"
    }
   ],
   "source": [
    "df"
   ]
  },
  {
   "cell_type": "code",
   "execution_count": 32,
   "metadata": {},
   "outputs": [
    {
     "data": {
      "image/png": "[encoded data removed]",
      "text/plain": [
       "<Figure size 960x600 with 1 Axes>"
      ]
     },
     "metadata": {
      "needs_background": "light"
     },
     "output_type": "display_data"
    }
   ],
   "source": [
    "#绘制图像\n",
    "plt.figure(figsize=(16,10), dpi= 60)\n",
    "plt.bar(df['manufacturer'] #横坐标\n",
    "        , df['counts'] #纵坐标\n",
    "        , color=c\n",
    "        , width=0.5)\n",
    "\n",
    "#柱状图上写上文字\n",
    "for i, val in enumerate(df['counts'].values):\n",
    "    plt.text(i, val #横纵坐标定义位置\n",
    "             , float(val) #在这个位置显示的文字内容\n",
    "             , horizontalalignment='center' #定义的位置在文字的左右哪边\n",
    "             , verticalalignment='bottom' #定义的位置在文字的上下什么方位\n",
    "             , fontdict={'fontweight':500, 'size':12})\n",
    "\n",
    "#装饰图像\n",
    "plt.gca().set_xticklabels(df['manufacturer'], rotation=60, horizontalalignment= 'right')\n",
    "plt.title(\"Number of Vehicles by Manaufacturers\", fontsize=22)\n",
    "plt.ylabel('# Vehicles')\n",
    "plt.ylim(0, 45)\n",
    "plt.show()"
   ]
  },
  {
   "cell_type": "code",
   "execution_count": 25,
   "metadata": {},
   "outputs": [
    {
     "data": {
      "text/plain": [
       "[(0, 18),\n",
       " (1, 19),\n",
       " (2, 37),\n",
       " (3, 25),\n",
       " (4, 9),\n",
       " (5, 14),\n",
       " (6, 8),\n",
       " (7, 4),\n",
       " (8, 3),\n",
       " (9, 4),\n",
       " (10, 13),\n",
       " (11, 5),\n",
       " (12, 14),\n",
       " (13, 34),\n",
       " (14, 27)]"
      ]
     },
     "execution_count": 25,
     "metadata": {},
     "output_type": "execute_result"
    }
   ],
   "source": [
    "[*enumerate(df['counts'].values)]"
   ]
  },
  {
   "cell_type": "markdown",
   "metadata": {},
   "source": [
    "<img src=\"https://pictes.oss-cn-beijing.aliyuncs.com/microclass-virtualisation/week1correlation/line4.png\" align=\"center\" />"
   ]
  }
 ],
 "metadata": {
  "kernelspec": {
   "display_name": "Python 3",
   "language": "python",
   "name": "python3"
  },
  "language_info": {
   "codemirror_mode": {
    "name": "ipython",
    "version": 3
   },
   "file_extension": ".py",
   "mimetype": "text/x-python",
   "name": "python",
   "nbconvert_exporter": "python",
   "pygments_lexer": "ipython3",
   "version": "3.7.2"
  }
 },
 "nbformat": 4,
 "nbformat_minor": 2
}
